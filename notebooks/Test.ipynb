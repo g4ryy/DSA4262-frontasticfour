{
 "cells": [
  {
   "cell_type": "code",
   "execution_count": 1,
   "id": "7e40e7fc",
   "metadata": {
    "ExecuteTime": {
     "end_time": "2022-10-30T09:28:54.890134Z",
     "start_time": "2022-10-30T09:28:54.358814Z"
    }
   },
   "outputs": [],
   "source": [
    "import pandas as pd\n"
   ]
  },
  {
   "cell_type": "code",
   "execution_count": 2,
   "id": "de1be247",
   "metadata": {
    "ExecuteTime": {
     "end_time": "2022-10-30T09:28:54.895955Z",
     "start_time": "2022-10-30T09:28:54.893566Z"
    }
   },
   "outputs": [],
   "source": [
    "import os"
   ]
  },
  {
   "cell_type": "code",
   "execution_count": 5,
   "id": "130a3deb",
   "metadata": {
    "ExecuteTime": {
     "end_time": "2022-10-30T08:57:20.152964Z",
     "start_time": "2022-10-30T08:57:20.146383Z"
    }
   },
   "outputs": [
    {
     "data": {
      "text/plain": [
       "[('../../A549/', ['sub1', 'sub2'], ['.DS_Store']),\n",
       " ('../../A549/sub1', [], ['data.index', 'results.csv']),\n",
       " ('../../A549/sub2', [], ['data.index', 'results.csv'])]"
      ]
     },
     "execution_count": 5,
     "metadata": {},
     "output_type": "execute_result"
    }
   ],
   "source": [
    "list(os.walk(\"../../A549/\"))"
   ]
  },
  {
   "cell_type": "code",
   "execution_count": 9,
   "id": "2f25e28c",
   "metadata": {
    "ExecuteTime": {
     "end_time": "2022-10-30T08:59:25.801382Z",
     "start_time": "2022-10-30T08:59:25.797683Z"
    }
   },
   "outputs": [
    {
     "data": {
      "text/plain": [
       "True"
      ]
     },
     "execution_count": 9,
     "metadata": {},
     "output_type": "execute_result"
    }
   ],
   "source": [
    "\"results\" in 'results.csv'"
   ]
  },
  {
   "cell_type": "code",
   "execution_count": 10,
   "id": "738acb52",
   "metadata": {
    "ExecuteTime": {
     "end_time": "2022-10-30T09:00:35.869723Z",
     "start_time": "2022-10-30T09:00:35.865099Z"
    }
   },
   "outputs": [
    {
     "data": {
      "text/plain": [
       "'carel/chay'"
      ]
     },
     "execution_count": 10,
     "metadata": {},
     "output_type": "execute_result"
    }
   ],
   "source": [
    "os.path.join('carel', 'chay')"
   ]
  },
  {
   "cell_type": "code",
   "execution_count": 20,
   "id": "0a42d00a",
   "metadata": {
    "ExecuteTime": {
     "end_time": "2022-10-30T09:37:01.407658Z",
     "start_time": "2022-10-30T09:37:01.402767Z"
    }
   },
   "outputs": [
    {
     "data": {
      "text/plain": [
       "'A549'"
      ]
     },
     "execution_count": 20,
     "metadata": {},
     "output_type": "execute_result"
    }
   ],
   "source": [
    "folder_name = \"../../A549/\"\n",
    "folder_name = folder_name.strip(\"/\")\n",
    "cell_line = os.path.basename(folder_name)\n",
    "cell_line"
   ]
  },
  {
   "cell_type": "code",
   "execution_count": 21,
   "id": "2fc1c01a",
   "metadata": {
    "ExecuteTime": {
     "end_time": "2022-10-30T09:37:05.271651Z",
     "start_time": "2022-10-30T09:37:05.261214Z"
    }
   },
   "outputs": [
    {
     "name": "stdout",
     "output_type": "stream",
     "text": [
      "['../../A549/sub1/results.csv', '../../A549/sub2/results.csv']\n"
     ]
    }
   ],
   "source": [
    "\n",
    "# Get list of results files\n",
    "r = []\n",
    "for dirpath, subdir, filenames in os.walk(folder_name):\n",
    "    results = [fname for fname in filenames if 'results' in fname]\n",
    "    results = [os.path.join(dirpath, fname) for fname in results]\n",
    "    r.extend(results)\n",
    "\n",
    "print(r)"
   ]
  },
  {
   "cell_type": "code",
   "execution_count": 22,
   "id": "48182e9d",
   "metadata": {
    "ExecuteTime": {
     "end_time": "2022-10-30T09:37:07.310008Z",
     "start_time": "2022-10-30T09:37:07.108413Z"
    }
   },
   "outputs": [],
   "source": [
    "# Filename\n",
    "fname = r[0]\n",
    "# Directory name (replicate name)\n",
    "dirname = os.path.basename(os.path.dirname(fname))\n",
    "# Read in csv file\n",
    "df = pd.read_csv(fname)\n",
    "# Convert column name score\n",
    "df.rename(columns={'score' : dirname}, inplace=True)\n",
    "\n",
    "# Join rest of result files\n",
    "for fname in r[1:]:\n",
    "    # Directory name (replicate name)\n",
    "    dirname = os.path.basename(os.path.dirname(fname))\n",
    "    # Read in csv file\n",
    "    tdf = pd.read_csv(fname)\n",
    "    # Convert column name score\n",
    "    tdf.rename(columns={'score' : dirname}, inplace=True)\n",
    "    # Join with main dataframe\n",
    "    df = pd.merge(df, tdf, how = 'outer', on = ('transcript_id', 'transcript_position'))\n",
    "    \n",
    "# Columns with scores\n",
    "score_cols = df.columns.difference(['transcript_id', 'transcript_position'])\n",
    "score_cols = list(score_cols)\n",
    "\n",
    "# Additional Columns\n",
    "df['mean_score'] = df[score_cols].mean(axis=1)\n",
    "df['sdev'] = df[score_cols].std(axis=1)\n",
    "df['n_counts'] = df[score_cols].count(axis=1)\n"
   ]
  },
  {
   "cell_type": "code",
   "execution_count": 25,
   "id": "6befbb13",
   "metadata": {
    "ExecuteTime": {
     "end_time": "2022-10-30T09:42:18.797778Z",
     "start_time": "2022-10-30T09:42:18.647073Z"
    }
   },
   "outputs": [],
   "source": [
    "q = pd.read_csv(\"../../A549/A549_consolidated_results.csv\")"
   ]
  },
  {
   "cell_type": "code",
   "execution_count": 28,
   "id": "24b82414",
   "metadata": {
    "ExecuteTime": {
     "end_time": "2022-10-30T09:58:26.036760Z",
     "start_time": "2022-10-30T09:58:25.805650Z"
    }
   },
   "outputs": [],
   "source": [
    "df_Hct = pd.read_csv(\"../../data/results/Hct116_consolidated_results.csv\")"
   ]
  },
  {
   "cell_type": "code",
   "execution_count": 32,
   "id": "37306fa5",
   "metadata": {
    "ExecuteTime": {
     "end_time": "2022-10-30T10:05:51.350686Z",
     "start_time": "2022-10-30T10:05:51.324632Z"
    }
   },
   "outputs": [
    {
     "data": {
      "text/html": [
       "<div>\n",
       "<style scoped>\n",
       "    .dataframe tbody tr th:only-of-type {\n",
       "        vertical-align: middle;\n",
       "    }\n",
       "\n",
       "    .dataframe tbody tr th {\n",
       "        vertical-align: top;\n",
       "    }\n",
       "\n",
       "    .dataframe thead th {\n",
       "        text-align: right;\n",
       "    }\n",
       "</style>\n",
       "<table border=\"1\" class=\"dataframe\">\n",
       "  <thead>\n",
       "    <tr style=\"text-align: right;\">\n",
       "      <th></th>\n",
       "      <th>transcript_id</th>\n",
       "      <th>transcript_position</th>\n",
       "      <th>replicate3_run1</th>\n",
       "      <th>replicate3_run4</th>\n",
       "      <th>replicate4_run3</th>\n",
       "      <th>mean_score</th>\n",
       "      <th>sdev</th>\n",
       "      <th>n_counts</th>\n",
       "    </tr>\n",
       "  </thead>\n",
       "  <tbody>\n",
       "    <tr>\n",
       "      <th>0</th>\n",
       "      <td>R2_55_3</td>\n",
       "      <td>262</td>\n",
       "      <td>0.058109</td>\n",
       "      <td>NaN</td>\n",
       "      <td>NaN</td>\n",
       "      <td>0.058109</td>\n",
       "      <td>NaN</td>\n",
       "      <td>1</td>\n",
       "    </tr>\n",
       "    <tr>\n",
       "      <th>1</th>\n",
       "      <td>R2_55_3</td>\n",
       "      <td>279</td>\n",
       "      <td>0.047117</td>\n",
       "      <td>NaN</td>\n",
       "      <td>NaN</td>\n",
       "      <td>0.047117</td>\n",
       "      <td>NaN</td>\n",
       "      <td>1</td>\n",
       "    </tr>\n",
       "    <tr>\n",
       "      <th>2</th>\n",
       "      <td>R2_55_3</td>\n",
       "      <td>291</td>\n",
       "      <td>0.016828</td>\n",
       "      <td>NaN</td>\n",
       "      <td>NaN</td>\n",
       "      <td>0.016828</td>\n",
       "      <td>NaN</td>\n",
       "      <td>1</td>\n",
       "    </tr>\n",
       "    <tr>\n",
       "      <th>3</th>\n",
       "      <td>R2_55_3</td>\n",
       "      <td>300</td>\n",
       "      <td>0.033934</td>\n",
       "      <td>NaN</td>\n",
       "      <td>NaN</td>\n",
       "      <td>0.033934</td>\n",
       "      <td>NaN</td>\n",
       "      <td>1</td>\n",
       "    </tr>\n",
       "    <tr>\n",
       "      <th>4</th>\n",
       "      <td>R2_55_3</td>\n",
       "      <td>628</td>\n",
       "      <td>0.018963</td>\n",
       "      <td>NaN</td>\n",
       "      <td>NaN</td>\n",
       "      <td>0.018963</td>\n",
       "      <td>NaN</td>\n",
       "      <td>1</td>\n",
       "    </tr>\n",
       "    <tr>\n",
       "      <th>...</th>\n",
       "      <td>...</td>\n",
       "      <td>...</td>\n",
       "      <td>...</td>\n",
       "      <td>...</td>\n",
       "      <td>...</td>\n",
       "      <td>...</td>\n",
       "      <td>...</td>\n",
       "      <td>...</td>\n",
       "    </tr>\n",
       "    <tr>\n",
       "      <th>232354</th>\n",
       "      <td>ENST00000413293</td>\n",
       "      <td>560</td>\n",
       "      <td>NaN</td>\n",
       "      <td>NaN</td>\n",
       "      <td>0.008453</td>\n",
       "      <td>0.008453</td>\n",
       "      <td>NaN</td>\n",
       "      <td>1</td>\n",
       "    </tr>\n",
       "    <tr>\n",
       "      <th>232355</th>\n",
       "      <td>ENST00000414273</td>\n",
       "      <td>17</td>\n",
       "      <td>NaN</td>\n",
       "      <td>NaN</td>\n",
       "      <td>0.021282</td>\n",
       "      <td>0.021282</td>\n",
       "      <td>NaN</td>\n",
       "      <td>1</td>\n",
       "    </tr>\n",
       "    <tr>\n",
       "      <th>232356</th>\n",
       "      <td>ENST00000414273</td>\n",
       "      <td>31</td>\n",
       "      <td>NaN</td>\n",
       "      <td>NaN</td>\n",
       "      <td>0.086428</td>\n",
       "      <td>0.086428</td>\n",
       "      <td>NaN</td>\n",
       "      <td>1</td>\n",
       "    </tr>\n",
       "    <tr>\n",
       "      <th>232357</th>\n",
       "      <td>ENST00000414273</td>\n",
       "      <td>40</td>\n",
       "      <td>NaN</td>\n",
       "      <td>NaN</td>\n",
       "      <td>0.139009</td>\n",
       "      <td>0.139009</td>\n",
       "      <td>NaN</td>\n",
       "      <td>1</td>\n",
       "    </tr>\n",
       "    <tr>\n",
       "      <th>232358</th>\n",
       "      <td>ENST00000414273</td>\n",
       "      <td>48</td>\n",
       "      <td>NaN</td>\n",
       "      <td>NaN</td>\n",
       "      <td>0.577688</td>\n",
       "      <td>0.577688</td>\n",
       "      <td>NaN</td>\n",
       "      <td>1</td>\n",
       "    </tr>\n",
       "  </tbody>\n",
       "</table>\n",
       "<p>232359 rows × 8 columns</p>\n",
       "</div>"
      ],
      "text/plain": [
       "          transcript_id  transcript_position  replicate3_run1  \\\n",
       "0               R2_55_3                  262         0.058109   \n",
       "1               R2_55_3                  279         0.047117   \n",
       "2               R2_55_3                  291         0.016828   \n",
       "3               R2_55_3                  300         0.033934   \n",
       "4               R2_55_3                  628         0.018963   \n",
       "...                 ...                  ...              ...   \n",
       "232354  ENST00000413293                  560              NaN   \n",
       "232355  ENST00000414273                   17              NaN   \n",
       "232356  ENST00000414273                   31              NaN   \n",
       "232357  ENST00000414273                   40              NaN   \n",
       "232358  ENST00000414273                   48              NaN   \n",
       "\n",
       "        replicate3_run4  replicate4_run3  mean_score  sdev  n_counts  \n",
       "0                   NaN              NaN    0.058109   NaN         1  \n",
       "1                   NaN              NaN    0.047117   NaN         1  \n",
       "2                   NaN              NaN    0.016828   NaN         1  \n",
       "3                   NaN              NaN    0.033934   NaN         1  \n",
       "4                   NaN              NaN    0.018963   NaN         1  \n",
       "...                 ...              ...         ...   ...       ...  \n",
       "232354              NaN         0.008453    0.008453   NaN         1  \n",
       "232355              NaN         0.021282    0.021282   NaN         1  \n",
       "232356              NaN         0.086428    0.086428   NaN         1  \n",
       "232357              NaN         0.139009    0.139009   NaN         1  \n",
       "232358              NaN         0.577688    0.577688   NaN         1  \n",
       "\n",
       "[232359 rows x 8 columns]"
      ]
     },
     "execution_count": 32,
     "metadata": {},
     "output_type": "execute_result"
    }
   ],
   "source": [
    "df_Hct"
   ]
  },
  {
   "cell_type": "code",
   "execution_count": 30,
   "id": "88a8168b",
   "metadata": {
    "ExecuteTime": {
     "end_time": "2022-10-30T10:00:27.260004Z",
     "start_time": "2022-10-30T10:00:27.227877Z"
    }
   },
   "outputs": [
    {
     "data": {
      "text/html": [
       "<div>\n",
       "<style scoped>\n",
       "    .dataframe tbody tr th:only-of-type {\n",
       "        vertical-align: middle;\n",
       "    }\n",
       "\n",
       "    .dataframe tbody tr th {\n",
       "        vertical-align: top;\n",
       "    }\n",
       "\n",
       "    .dataframe thead th {\n",
       "        text-align: right;\n",
       "    }\n",
       "</style>\n",
       "<table border=\"1\" class=\"dataframe\">\n",
       "  <thead>\n",
       "    <tr style=\"text-align: right;\">\n",
       "      <th></th>\n",
       "      <th>transcript_id</th>\n",
       "      <th>transcript_position</th>\n",
       "      <th>replicate3_run1</th>\n",
       "      <th>replicate3_run4</th>\n",
       "      <th>replicate4_run3</th>\n",
       "      <th>mean_score</th>\n",
       "      <th>sdev</th>\n",
       "      <th>n_counts</th>\n",
       "    </tr>\n",
       "  </thead>\n",
       "  <tbody>\n",
       "    <tr>\n",
       "      <th>6</th>\n",
       "      <td>ENST00000389680</td>\n",
       "      <td>103</td>\n",
       "      <td>0.974637</td>\n",
       "      <td>0.968361</td>\n",
       "      <td>0.968499</td>\n",
       "      <td>0.970499</td>\n",
       "      <td>0.003584</td>\n",
       "      <td>3</td>\n",
       "    </tr>\n",
       "    <tr>\n",
       "      <th>7</th>\n",
       "      <td>ENST00000389680</td>\n",
       "      <td>166</td>\n",
       "      <td>0.054962</td>\n",
       "      <td>0.038940</td>\n",
       "      <td>0.043570</td>\n",
       "      <td>0.045824</td>\n",
       "      <td>0.008245</td>\n",
       "      <td>3</td>\n",
       "    </tr>\n",
       "    <tr>\n",
       "      <th>8</th>\n",
       "      <td>ENST00000389680</td>\n",
       "      <td>179</td>\n",
       "      <td>0.001122</td>\n",
       "      <td>0.000612</td>\n",
       "      <td>0.000780</td>\n",
       "      <td>0.000838</td>\n",
       "      <td>0.000260</td>\n",
       "      <td>3</td>\n",
       "    </tr>\n",
       "    <tr>\n",
       "      <th>9</th>\n",
       "      <td>ENST00000389680</td>\n",
       "      <td>204</td>\n",
       "      <td>0.029560</td>\n",
       "      <td>0.069136</td>\n",
       "      <td>0.028031</td>\n",
       "      <td>0.042243</td>\n",
       "      <td>0.023303</td>\n",
       "      <td>3</td>\n",
       "    </tr>\n",
       "    <tr>\n",
       "      <th>10</th>\n",
       "      <td>ENST00000389680</td>\n",
       "      <td>218</td>\n",
       "      <td>0.079927</td>\n",
       "      <td>0.067950</td>\n",
       "      <td>0.089793</td>\n",
       "      <td>0.079223</td>\n",
       "      <td>0.010938</td>\n",
       "      <td>3</td>\n",
       "    </tr>\n",
       "    <tr>\n",
       "      <th>...</th>\n",
       "      <td>...</td>\n",
       "      <td>...</td>\n",
       "      <td>...</td>\n",
       "      <td>...</td>\n",
       "      <td>...</td>\n",
       "      <td>...</td>\n",
       "      <td>...</td>\n",
       "      <td>...</td>\n",
       "    </tr>\n",
       "    <tr>\n",
       "      <th>148247</th>\n",
       "      <td>ENST00000457540</td>\n",
       "      <td>132</td>\n",
       "      <td>0.050132</td>\n",
       "      <td>0.021549</td>\n",
       "      <td>0.030487</td>\n",
       "      <td>0.034056</td>\n",
       "      <td>0.014622</td>\n",
       "      <td>3</td>\n",
       "    </tr>\n",
       "    <tr>\n",
       "      <th>148248</th>\n",
       "      <td>ENST00000457540</td>\n",
       "      <td>145</td>\n",
       "      <td>0.057168</td>\n",
       "      <td>0.032728</td>\n",
       "      <td>0.368752</td>\n",
       "      <td>0.152883</td>\n",
       "      <td>0.187348</td>\n",
       "      <td>3</td>\n",
       "    </tr>\n",
       "    <tr>\n",
       "      <th>148249</th>\n",
       "      <td>ENST00000457540</td>\n",
       "      <td>245</td>\n",
       "      <td>0.275307</td>\n",
       "      <td>0.200931</td>\n",
       "      <td>0.145016</td>\n",
       "      <td>0.207085</td>\n",
       "      <td>0.065363</td>\n",
       "      <td>3</td>\n",
       "    </tr>\n",
       "    <tr>\n",
       "      <th>148250</th>\n",
       "      <td>ENST00000457540</td>\n",
       "      <td>252</td>\n",
       "      <td>0.260982</td>\n",
       "      <td>0.278081</td>\n",
       "      <td>0.126869</td>\n",
       "      <td>0.221977</td>\n",
       "      <td>0.082809</td>\n",
       "      <td>3</td>\n",
       "    </tr>\n",
       "    <tr>\n",
       "      <th>148251</th>\n",
       "      <td>ENST00000457540</td>\n",
       "      <td>258</td>\n",
       "      <td>0.000079</td>\n",
       "      <td>0.000029</td>\n",
       "      <td>0.000013</td>\n",
       "      <td>0.000040</td>\n",
       "      <td>0.000034</td>\n",
       "      <td>3</td>\n",
       "    </tr>\n",
       "  </tbody>\n",
       "</table>\n",
       "<p>116185 rows × 8 columns</p>\n",
       "</div>"
      ],
      "text/plain": [
       "          transcript_id  transcript_position  replicate3_run1  \\\n",
       "6       ENST00000389680                  103         0.974637   \n",
       "7       ENST00000389680                  166         0.054962   \n",
       "8       ENST00000389680                  179         0.001122   \n",
       "9       ENST00000389680                  204         0.029560   \n",
       "10      ENST00000389680                  218         0.079927   \n",
       "...                 ...                  ...              ...   \n",
       "148247  ENST00000457540                  132         0.050132   \n",
       "148248  ENST00000457540                  145         0.057168   \n",
       "148249  ENST00000457540                  245         0.275307   \n",
       "148250  ENST00000457540                  252         0.260982   \n",
       "148251  ENST00000457540                  258         0.000079   \n",
       "\n",
       "        replicate3_run4  replicate4_run3  mean_score      sdev  n_counts  \n",
       "6              0.968361         0.968499    0.970499  0.003584         3  \n",
       "7              0.038940         0.043570    0.045824  0.008245         3  \n",
       "8              0.000612         0.000780    0.000838  0.000260         3  \n",
       "9              0.069136         0.028031    0.042243  0.023303         3  \n",
       "10             0.067950         0.089793    0.079223  0.010938         3  \n",
       "...                 ...              ...         ...       ...       ...  \n",
       "148247         0.021549         0.030487    0.034056  0.014622         3  \n",
       "148248         0.032728         0.368752    0.152883  0.187348         3  \n",
       "148249         0.200931         0.145016    0.207085  0.065363         3  \n",
       "148250         0.278081         0.126869    0.221977  0.082809         3  \n",
       "148251         0.000029         0.000013    0.000040  0.000034         3  \n",
       "\n",
       "[116185 rows x 8 columns]"
      ]
     },
     "execution_count": 30,
     "metadata": {},
     "output_type": "execute_result"
    }
   ],
   "source": [
    "df_Hct.loc[(~df_Hct['replicate3_run1'].isna()) & (~df_Hct['replicate3_run4'].isna()) & (~df_Hct['replicate4_run3'].isna())]"
   ]
  },
  {
   "cell_type": "code",
   "execution_count": 31,
   "id": "083fabd1",
   "metadata": {
    "ExecuteTime": {
     "end_time": "2022-10-30T10:04:27.474827Z",
     "start_time": "2022-10-30T10:04:27.456367Z"
    }
   },
   "outputs": [
    {
     "data": {
      "text/html": [
       "<div>\n",
       "<style scoped>\n",
       "    .dataframe tbody tr th:only-of-type {\n",
       "        vertical-align: middle;\n",
       "    }\n",
       "\n",
       "    .dataframe tbody tr th {\n",
       "        vertical-align: top;\n",
       "    }\n",
       "\n",
       "    .dataframe thead th {\n",
       "        text-align: right;\n",
       "    }\n",
       "</style>\n",
       "<table border=\"1\" class=\"dataframe\">\n",
       "  <thead>\n",
       "    <tr style=\"text-align: right;\">\n",
       "      <th></th>\n",
       "      <th>transcript_id</th>\n",
       "      <th>transcript_position</th>\n",
       "      <th>replicate3_run1</th>\n",
       "      <th>replicate3_run4</th>\n",
       "      <th>replicate4_run3</th>\n",
       "      <th>mean_score</th>\n",
       "      <th>sdev</th>\n",
       "      <th>n_counts</th>\n",
       "    </tr>\n",
       "  </thead>\n",
       "  <tbody>\n",
       "    <tr>\n",
       "      <th>0</th>\n",
       "      <td>R2_55_3</td>\n",
       "      <td>262</td>\n",
       "      <td>0.058109</td>\n",
       "      <td>NaN</td>\n",
       "      <td>NaN</td>\n",
       "      <td>0.058109</td>\n",
       "      <td>NaN</td>\n",
       "      <td>1</td>\n",
       "    </tr>\n",
       "    <tr>\n",
       "      <th>1</th>\n",
       "      <td>R2_55_3</td>\n",
       "      <td>279</td>\n",
       "      <td>0.047117</td>\n",
       "      <td>NaN</td>\n",
       "      <td>NaN</td>\n",
       "      <td>0.047117</td>\n",
       "      <td>NaN</td>\n",
       "      <td>1</td>\n",
       "    </tr>\n",
       "    <tr>\n",
       "      <th>2</th>\n",
       "      <td>R2_55_3</td>\n",
       "      <td>291</td>\n",
       "      <td>0.016828</td>\n",
       "      <td>NaN</td>\n",
       "      <td>NaN</td>\n",
       "      <td>0.016828</td>\n",
       "      <td>NaN</td>\n",
       "      <td>1</td>\n",
       "    </tr>\n",
       "    <tr>\n",
       "      <th>3</th>\n",
       "      <td>R2_55_3</td>\n",
       "      <td>300</td>\n",
       "      <td>0.033934</td>\n",
       "      <td>NaN</td>\n",
       "      <td>NaN</td>\n",
       "      <td>0.033934</td>\n",
       "      <td>NaN</td>\n",
       "      <td>1</td>\n",
       "    </tr>\n",
       "    <tr>\n",
       "      <th>4</th>\n",
       "      <td>R2_55_3</td>\n",
       "      <td>628</td>\n",
       "      <td>0.018963</td>\n",
       "      <td>NaN</td>\n",
       "      <td>NaN</td>\n",
       "      <td>0.018963</td>\n",
       "      <td>NaN</td>\n",
       "      <td>1</td>\n",
       "    </tr>\n",
       "    <tr>\n",
       "      <th>...</th>\n",
       "      <td>...</td>\n",
       "      <td>...</td>\n",
       "      <td>...</td>\n",
       "      <td>...</td>\n",
       "      <td>...</td>\n",
       "      <td>...</td>\n",
       "      <td>...</td>\n",
       "      <td>...</td>\n",
       "    </tr>\n",
       "    <tr>\n",
       "      <th>232354</th>\n",
       "      <td>ENST00000413293</td>\n",
       "      <td>560</td>\n",
       "      <td>NaN</td>\n",
       "      <td>NaN</td>\n",
       "      <td>0.008453</td>\n",
       "      <td>0.008453</td>\n",
       "      <td>NaN</td>\n",
       "      <td>1</td>\n",
       "    </tr>\n",
       "    <tr>\n",
       "      <th>232355</th>\n",
       "      <td>ENST00000414273</td>\n",
       "      <td>17</td>\n",
       "      <td>NaN</td>\n",
       "      <td>NaN</td>\n",
       "      <td>0.021282</td>\n",
       "      <td>0.021282</td>\n",
       "      <td>NaN</td>\n",
       "      <td>1</td>\n",
       "    </tr>\n",
       "    <tr>\n",
       "      <th>232356</th>\n",
       "      <td>ENST00000414273</td>\n",
       "      <td>31</td>\n",
       "      <td>NaN</td>\n",
       "      <td>NaN</td>\n",
       "      <td>0.086428</td>\n",
       "      <td>0.086428</td>\n",
       "      <td>NaN</td>\n",
       "      <td>1</td>\n",
       "    </tr>\n",
       "    <tr>\n",
       "      <th>232357</th>\n",
       "      <td>ENST00000414273</td>\n",
       "      <td>40</td>\n",
       "      <td>NaN</td>\n",
       "      <td>NaN</td>\n",
       "      <td>0.139009</td>\n",
       "      <td>0.139009</td>\n",
       "      <td>NaN</td>\n",
       "      <td>1</td>\n",
       "    </tr>\n",
       "    <tr>\n",
       "      <th>232358</th>\n",
       "      <td>ENST00000414273</td>\n",
       "      <td>48</td>\n",
       "      <td>NaN</td>\n",
       "      <td>NaN</td>\n",
       "      <td>0.577688</td>\n",
       "      <td>0.577688</td>\n",
       "      <td>NaN</td>\n",
       "      <td>1</td>\n",
       "    </tr>\n",
       "  </tbody>\n",
       "</table>\n",
       "<p>232359 rows × 8 columns</p>\n",
       "</div>"
      ],
      "text/plain": [
       "          transcript_id  transcript_position  replicate3_run1  \\\n",
       "0               R2_55_3                  262         0.058109   \n",
       "1               R2_55_3                  279         0.047117   \n",
       "2               R2_55_3                  291         0.016828   \n",
       "3               R2_55_3                  300         0.033934   \n",
       "4               R2_55_3                  628         0.018963   \n",
       "...                 ...                  ...              ...   \n",
       "232354  ENST00000413293                  560              NaN   \n",
       "232355  ENST00000414273                   17              NaN   \n",
       "232356  ENST00000414273                   31              NaN   \n",
       "232357  ENST00000414273                   40              NaN   \n",
       "232358  ENST00000414273                   48              NaN   \n",
       "\n",
       "        replicate3_run4  replicate4_run3  mean_score  sdev  n_counts  \n",
       "0                   NaN              NaN    0.058109   NaN         1  \n",
       "1                   NaN              NaN    0.047117   NaN         1  \n",
       "2                   NaN              NaN    0.016828   NaN         1  \n",
       "3                   NaN              NaN    0.033934   NaN         1  \n",
       "4                   NaN              NaN    0.018963   NaN         1  \n",
       "...                 ...              ...         ...   ...       ...  \n",
       "232354              NaN         0.008453    0.008453   NaN         1  \n",
       "232355              NaN         0.021282    0.021282   NaN         1  \n",
       "232356              NaN         0.086428    0.086428   NaN         1  \n",
       "232357              NaN         0.139009    0.139009   NaN         1  \n",
       "232358              NaN         0.577688    0.577688   NaN         1  \n",
       "\n",
       "[232359 rows x 8 columns]"
      ]
     },
     "execution_count": 31,
     "metadata": {},
     "output_type": "execute_result"
    }
   ],
   "source": [
    "df_Hct"
   ]
  },
  {
   "cell_type": "code",
   "execution_count": null,
   "id": "e2c05538",
   "metadata": {},
   "outputs": [],
   "source": []
  }
 ],
 "metadata": {
  "hide_input": false,
  "kernelspec": {
   "display_name": "Python 3 (ipykernel)",
   "language": "python",
   "name": "python3"
  },
  "language_info": {
   "codemirror_mode": {
    "name": "ipython",
    "version": 3
   },
   "file_extension": ".py",
   "mimetype": "text/x-python",
   "name": "python",
   "nbconvert_exporter": "python",
   "pygments_lexer": "ipython3",
   "version": "3.9.12"
  },
  "toc": {
   "base_numbering": 1,
   "nav_menu": {},
   "number_sections": true,
   "sideBar": true,
   "skip_h1_title": false,
   "title_cell": "Table of Contents",
   "title_sidebar": "Contents",
   "toc_cell": false,
   "toc_position": {},
   "toc_section_display": true,
   "toc_window_display": false
  }
 },
 "nbformat": 4,
 "nbformat_minor": 5
}
