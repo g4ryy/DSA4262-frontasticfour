{
 "cells": [
  {
   "cell_type": "code",
   "execution_count": 200,
   "id": "5ccddccb",
   "metadata": {
    "ExecuteTime": {
     "end_time": "2022-10-16T05:43:07.775557Z",
     "start_time": "2022-10-16T05:42:52.086296Z"
    }
   },
   "outputs": [
    {
     "name": "stdout",
     "output_type": "stream",
     "text": [
      "Importing & preparing dataloader for INFERENCE data . . . Done\n",
      "\n",
      "Total of 4 steps\n",
      "\n",
      "Importing & creating instance of neural network . . . Done\n",
      "\n",
      "Total of 1000 entries in inference set, with batchsize : 256\n",
      "\n",
      "Completed run 50/200, Time Taken : 0.0 Mins, 10.16 seconds\n",
      "\n"
     ]
    },
    {
     "ename": "KeyboardInterrupt",
     "evalue": "",
     "output_type": "error",
     "traceback": [
      "\u001b[0;31m---------------------------------------------------------------------------\u001b[0m",
      "\u001b[0;31mKeyboardInterrupt\u001b[0m                         Traceback (most recent call last)",
      "File \u001b[0;32m~/Desktop/School/Modules/DSA4262/Project 2/DSA4262-frontasticfour/scripts/run_inference.py:65\u001b[0m, in \u001b[0;36m<module>\u001b[0;34m\u001b[0m\n\u001b[1;32m     62\u001b[0m             # Store Predicted probabilities\n\u001b[1;32m     63\u001b[0m             all_scores = torch.concat([all_scores, y_predict])\n\u001b[0;32m---> 65\u001b[0m # Reshape scores and compute the average for each read\n\u001b[1;32m     66\u001b[0m all_scores = all_scores.reshape(infer_loops, -1).mean(dim=0)\n\u001b[1;32m     68\u001b[0m # Check that the positions match\n",
      "File \u001b[0;32m~/opt/anaconda3/envs/DS/lib/python3.9/site-packages/torch/utils/data/dataloader.py:681\u001b[0m, in \u001b[0;36m_BaseDataLoaderIter.__next__\u001b[0;34m(self)\u001b[0m\n\u001b[1;32m    678\u001b[0m \u001b[38;5;28;01mif\u001b[39;00m \u001b[38;5;28mself\u001b[39m\u001b[38;5;241m.\u001b[39m_sampler_iter \u001b[38;5;129;01mis\u001b[39;00m \u001b[38;5;28;01mNone\u001b[39;00m:\n\u001b[1;32m    679\u001b[0m     \u001b[38;5;66;03m# TODO(https://github.com/pytorch/pytorch/issues/76750)\u001b[39;00m\n\u001b[1;32m    680\u001b[0m     \u001b[38;5;28mself\u001b[39m\u001b[38;5;241m.\u001b[39m_reset()  \u001b[38;5;66;03m# type: ignore[call-arg]\u001b[39;00m\n\u001b[0;32m--> 681\u001b[0m data \u001b[38;5;241m=\u001b[39m \u001b[38;5;28;43mself\u001b[39;49m\u001b[38;5;241;43m.\u001b[39;49m\u001b[43m_next_data\u001b[49m\u001b[43m(\u001b[49m\u001b[43m)\u001b[49m\n\u001b[1;32m    682\u001b[0m \u001b[38;5;28mself\u001b[39m\u001b[38;5;241m.\u001b[39m_num_yielded \u001b[38;5;241m+\u001b[39m\u001b[38;5;241m=\u001b[39m \u001b[38;5;241m1\u001b[39m\n\u001b[1;32m    683\u001b[0m \u001b[38;5;28;01mif\u001b[39;00m \u001b[38;5;28mself\u001b[39m\u001b[38;5;241m.\u001b[39m_dataset_kind \u001b[38;5;241m==\u001b[39m _DatasetKind\u001b[38;5;241m.\u001b[39mIterable \u001b[38;5;129;01mand\u001b[39;00m \\\n\u001b[1;32m    684\u001b[0m         \u001b[38;5;28mself\u001b[39m\u001b[38;5;241m.\u001b[39m_IterableDataset_len_called \u001b[38;5;129;01mis\u001b[39;00m \u001b[38;5;129;01mnot\u001b[39;00m \u001b[38;5;28;01mNone\u001b[39;00m \u001b[38;5;129;01mand\u001b[39;00m \\\n\u001b[1;32m    685\u001b[0m         \u001b[38;5;28mself\u001b[39m\u001b[38;5;241m.\u001b[39m_num_yielded \u001b[38;5;241m>\u001b[39m \u001b[38;5;28mself\u001b[39m\u001b[38;5;241m.\u001b[39m_IterableDataset_len_called:\n",
      "File \u001b[0;32m~/opt/anaconda3/envs/DS/lib/python3.9/site-packages/torch/utils/data/dataloader.py:721\u001b[0m, in \u001b[0;36m_SingleProcessDataLoaderIter._next_data\u001b[0;34m(self)\u001b[0m\n\u001b[1;32m    719\u001b[0m \u001b[38;5;28;01mdef\u001b[39;00m \u001b[38;5;21m_next_data\u001b[39m(\u001b[38;5;28mself\u001b[39m):\n\u001b[1;32m    720\u001b[0m     index \u001b[38;5;241m=\u001b[39m \u001b[38;5;28mself\u001b[39m\u001b[38;5;241m.\u001b[39m_next_index()  \u001b[38;5;66;03m# may raise StopIteration\u001b[39;00m\n\u001b[0;32m--> 721\u001b[0m     data \u001b[38;5;241m=\u001b[39m \u001b[38;5;28;43mself\u001b[39;49m\u001b[38;5;241;43m.\u001b[39;49m\u001b[43m_dataset_fetcher\u001b[49m\u001b[38;5;241;43m.\u001b[39;49m\u001b[43mfetch\u001b[49m\u001b[43m(\u001b[49m\u001b[43mindex\u001b[49m\u001b[43m)\u001b[49m  \u001b[38;5;66;03m# may raise StopIteration\u001b[39;00m\n\u001b[1;32m    722\u001b[0m     \u001b[38;5;28;01mif\u001b[39;00m \u001b[38;5;28mself\u001b[39m\u001b[38;5;241m.\u001b[39m_pin_memory:\n\u001b[1;32m    723\u001b[0m         data \u001b[38;5;241m=\u001b[39m _utils\u001b[38;5;241m.\u001b[39mpin_memory\u001b[38;5;241m.\u001b[39mpin_memory(data, \u001b[38;5;28mself\u001b[39m\u001b[38;5;241m.\u001b[39m_pin_memory_device)\n",
      "File \u001b[0;32m~/opt/anaconda3/envs/DS/lib/python3.9/site-packages/torch/utils/data/_utils/fetch.py:49\u001b[0m, in \u001b[0;36m_MapDatasetFetcher.fetch\u001b[0;34m(self, possibly_batched_index)\u001b[0m\n\u001b[1;32m     47\u001b[0m \u001b[38;5;28;01mdef\u001b[39;00m \u001b[38;5;21mfetch\u001b[39m(\u001b[38;5;28mself\u001b[39m, possibly_batched_index):\n\u001b[1;32m     48\u001b[0m     \u001b[38;5;28;01mif\u001b[39;00m \u001b[38;5;28mself\u001b[39m\u001b[38;5;241m.\u001b[39mauto_collation:\n\u001b[0;32m---> 49\u001b[0m         data \u001b[38;5;241m=\u001b[39m [\u001b[38;5;28mself\u001b[39m\u001b[38;5;241m.\u001b[39mdataset[idx] \u001b[38;5;28;01mfor\u001b[39;00m idx \u001b[38;5;129;01min\u001b[39;00m possibly_batched_index]\n\u001b[1;32m     50\u001b[0m     \u001b[38;5;28;01melse\u001b[39;00m:\n\u001b[1;32m     51\u001b[0m         data \u001b[38;5;241m=\u001b[39m \u001b[38;5;28mself\u001b[39m\u001b[38;5;241m.\u001b[39mdataset[possibly_batched_index]\n",
      "File \u001b[0;32m~/opt/anaconda3/envs/DS/lib/python3.9/site-packages/torch/utils/data/_utils/fetch.py:49\u001b[0m, in \u001b[0;36m<listcomp>\u001b[0;34m(.0)\u001b[0m\n\u001b[1;32m     47\u001b[0m \u001b[38;5;28;01mdef\u001b[39;00m \u001b[38;5;21mfetch\u001b[39m(\u001b[38;5;28mself\u001b[39m, possibly_batched_index):\n\u001b[1;32m     48\u001b[0m     \u001b[38;5;28;01mif\u001b[39;00m \u001b[38;5;28mself\u001b[39m\u001b[38;5;241m.\u001b[39mauto_collation:\n\u001b[0;32m---> 49\u001b[0m         data \u001b[38;5;241m=\u001b[39m [\u001b[38;5;28;43mself\u001b[39;49m\u001b[38;5;241;43m.\u001b[39;49m\u001b[43mdataset\u001b[49m\u001b[43m[\u001b[49m\u001b[43midx\u001b[49m\u001b[43m]\u001b[49m \u001b[38;5;28;01mfor\u001b[39;00m idx \u001b[38;5;129;01min\u001b[39;00m possibly_batched_index]\n\u001b[1;32m     50\u001b[0m     \u001b[38;5;28;01melse\u001b[39;00m:\n\u001b[1;32m     51\u001b[0m         data \u001b[38;5;241m=\u001b[39m \u001b[38;5;28mself\u001b[39m\u001b[38;5;241m.\u001b[39mdataset[possibly_batched_index]\n",
      "File \u001b[0;32m~/Desktop/School/Modules/DSA4262/Project 2/DSA4262-frontasticfour/scripts/prepData.py:167\u001b[0m, in \u001b[0;36mprepInferData.__getitem__\u001b[0;34m(self, index)\u001b[0m\n\u001b[1;32m    164\u001b[0m y \u001b[38;5;241m=\u001b[39m torch\u001b[38;5;241m.\u001b[39mtensor([y])\n\u001b[1;32m    166\u001b[0m \u001b[38;5;66;03m# Obtain the row\u001b[39;00m\n\u001b[0;32m--> 167\u001b[0m x \u001b[38;5;241m=\u001b[39m \u001b[38;5;28;43mself\u001b[39;49m\u001b[38;5;241;43m.\u001b[39;49m\u001b[43mdf\u001b[49m\u001b[38;5;241;43m.\u001b[39;49m\u001b[43miloc\u001b[49m\u001b[43m[\u001b[49m\u001b[43mindex\u001b[49m\u001b[43m]\u001b[49m\n\u001b[1;32m    168\u001b[0m \u001b[38;5;66;03m# Get that read's values\u001b[39;00m\n\u001b[1;32m    169\u001b[0m x_values \u001b[38;5;241m=\u001b[39m x[\u001b[38;5;124m'\u001b[39m\u001b[38;5;124mvalues\u001b[39m\u001b[38;5;124m'\u001b[39m]\n",
      "File \u001b[0;32m~/opt/anaconda3/envs/DS/lib/python3.9/site-packages/pandas/core/indexing.py:1074\u001b[0m, in \u001b[0;36m_LocationIndexer.__getitem__\u001b[0;34m(self, key)\u001b[0m\n\u001b[1;32m   1071\u001b[0m axis \u001b[38;5;241m=\u001b[39m \u001b[38;5;28mself\u001b[39m\u001b[38;5;241m.\u001b[39maxis \u001b[38;5;129;01mor\u001b[39;00m \u001b[38;5;241m0\u001b[39m\n\u001b[1;32m   1073\u001b[0m maybe_callable \u001b[38;5;241m=\u001b[39m com\u001b[38;5;241m.\u001b[39mapply_if_callable(key, \u001b[38;5;28mself\u001b[39m\u001b[38;5;241m.\u001b[39mobj)\n\u001b[0;32m-> 1074\u001b[0m \u001b[38;5;28;01mreturn\u001b[39;00m \u001b[38;5;28;43mself\u001b[39;49m\u001b[38;5;241;43m.\u001b[39;49m\u001b[43m_getitem_axis\u001b[49m\u001b[43m(\u001b[49m\u001b[43mmaybe_callable\u001b[49m\u001b[43m,\u001b[49m\u001b[43m \u001b[49m\u001b[43maxis\u001b[49m\u001b[38;5;241;43m=\u001b[39;49m\u001b[43maxis\u001b[49m\u001b[43m)\u001b[49m\n",
      "File \u001b[0;32m~/opt/anaconda3/envs/DS/lib/python3.9/site-packages/pandas/core/indexing.py:1628\u001b[0m, in \u001b[0;36m_iLocIndexer._getitem_axis\u001b[0;34m(self, key, axis)\u001b[0m\n\u001b[1;32m   1625\u001b[0m \u001b[38;5;66;03m# validate the location\u001b[39;00m\n\u001b[1;32m   1626\u001b[0m \u001b[38;5;28mself\u001b[39m\u001b[38;5;241m.\u001b[39m_validate_integer(key, axis)\n\u001b[0;32m-> 1628\u001b[0m \u001b[38;5;28;01mreturn\u001b[39;00m \u001b[38;5;28;43mself\u001b[39;49m\u001b[38;5;241;43m.\u001b[39;49m\u001b[43mobj\u001b[49m\u001b[38;5;241;43m.\u001b[39;49m\u001b[43m_ixs\u001b[49m\u001b[43m(\u001b[49m\u001b[43mkey\u001b[49m\u001b[43m,\u001b[49m\u001b[43m \u001b[49m\u001b[43maxis\u001b[49m\u001b[38;5;241;43m=\u001b[39;49m\u001b[43maxis\u001b[49m\u001b[43m)\u001b[49m\n",
      "File \u001b[0;32m~/opt/anaconda3/envs/DS/lib/python3.9/site-packages/pandas/core/frame.py:3714\u001b[0m, in \u001b[0;36mDataFrame._ixs\u001b[0;34m(self, i, axis)\u001b[0m\n\u001b[1;32m   3712\u001b[0m \u001b[38;5;66;03m# irow\u001b[39;00m\n\u001b[1;32m   3713\u001b[0m \u001b[38;5;28;01mif\u001b[39;00m axis \u001b[38;5;241m==\u001b[39m \u001b[38;5;241m0\u001b[39m:\n\u001b[0;32m-> 3714\u001b[0m     new_mgr \u001b[38;5;241m=\u001b[39m \u001b[38;5;28;43mself\u001b[39;49m\u001b[38;5;241;43m.\u001b[39;49m\u001b[43m_mgr\u001b[49m\u001b[38;5;241;43m.\u001b[39;49m\u001b[43mfast_xs\u001b[49m\u001b[43m(\u001b[49m\u001b[43mi\u001b[49m\u001b[43m)\u001b[49m\n\u001b[1;32m   3716\u001b[0m     \u001b[38;5;66;03m# if we are a copy, mark as such\u001b[39;00m\n\u001b[1;32m   3717\u001b[0m     copy \u001b[38;5;241m=\u001b[39m \u001b[38;5;28misinstance\u001b[39m(new_mgr\u001b[38;5;241m.\u001b[39marray, np\u001b[38;5;241m.\u001b[39mndarray) \u001b[38;5;129;01mand\u001b[39;00m new_mgr\u001b[38;5;241m.\u001b[39marray\u001b[38;5;241m.\u001b[39mbase \u001b[38;5;129;01mis\u001b[39;00m \u001b[38;5;28;01mNone\u001b[39;00m\n",
      "File \u001b[0;32m~/opt/anaconda3/envs/DS/lib/python3.9/site-packages/pandas/core/internals/managers.py:1107\u001b[0m, in \u001b[0;36mBlockManager.fast_xs\u001b[0;34m(self, loc)\u001b[0m\n\u001b[1;32m   1102\u001b[0m     result \u001b[38;5;241m=\u001b[39m ensure_wrapped_if_datetimelike(result)\n\u001b[1;32m   1104\u001b[0m \u001b[38;5;28;01mfor\u001b[39;00m blk \u001b[38;5;129;01min\u001b[39;00m \u001b[38;5;28mself\u001b[39m\u001b[38;5;241m.\u001b[39mblocks:\n\u001b[1;32m   1105\u001b[0m     \u001b[38;5;66;03m# Such assignment may incorrectly coerce NaT to None\u001b[39;00m\n\u001b[1;32m   1106\u001b[0m     \u001b[38;5;66;03m# result[blk.mgr_locs] = blk._slice((slice(None), loc))\u001b[39;00m\n\u001b[0;32m-> 1107\u001b[0m     \u001b[38;5;28;01mfor\u001b[39;00m i, rl \u001b[38;5;129;01min\u001b[39;00m \u001b[38;5;28menumerate\u001b[39m(blk\u001b[38;5;241m.\u001b[39mmgr_locs):\n\u001b[1;32m   1108\u001b[0m         result[rl] \u001b[38;5;241m=\u001b[39m blk\u001b[38;5;241m.\u001b[39miget((i, loc))\n\u001b[1;32m   1110\u001b[0m \u001b[38;5;28;01mif\u001b[39;00m immutable_ea:\n",
      "\u001b[0;31mKeyboardInterrupt\u001b[0m: "
     ]
    }
   ],
   "source": [
    "%run -i \"../scripts/run_inference.py\""
   ]
  },
  {
   "cell_type": "code",
   "execution_count": 199,
   "id": "253c7a03",
   "metadata": {
    "ExecuteTime": {
     "end_time": "2022-10-16T05:42:41.710350Z",
     "start_time": "2022-10-16T05:42:28.181465Z"
    }
   },
   "outputs": [
    {
     "name": "stdout",
     "output_type": "stream",
     "text": [
      "Importing & preparing dataloader for INFERENCE data . . . Done\n",
      "\n",
      "Total of 8 steps\n",
      "\n",
      "Importing & creating instance of neural network . . . Done\n",
      "\n",
      "Total of 1000 entries in inference set, with batchsize : 128\n",
      "\n",
      "Completed run 50/200, Time Taken : 0.0 Mins, 9.83 seconds\n",
      "\n"
     ]
    },
    {
     "ename": "KeyboardInterrupt",
     "evalue": "",
     "output_type": "error",
     "traceback": [
      "\u001b[0;31m---------------------------------------------------------------------------\u001b[0m",
      "\u001b[0;31mKeyboardInterrupt\u001b[0m                         Traceback (most recent call last)",
      "File \u001b[0;32m~/Desktop/School/Modules/DSA4262/Project 2/DSA4262-frontasticfour/scripts/run_inference.py:65\u001b[0m, in \u001b[0;36m<module>\u001b[0;34m\u001b[0m\n\u001b[1;32m     62\u001b[0m             # Store Predicted probabilities\n\u001b[1;32m     63\u001b[0m             all_scores = torch.concat([all_scores, y_predict])\n\u001b[0;32m---> 65\u001b[0m # Reshape scores and compute the average for each read\n\u001b[1;32m     66\u001b[0m all_scores = all_scores.reshape(infer_loops, -1).mean(dim=0)\n\u001b[1;32m     68\u001b[0m # Check that the positions match\n",
      "File \u001b[0;32m~/opt/anaconda3/envs/DS/lib/python3.9/site-packages/torch/utils/data/dataloader.py:681\u001b[0m, in \u001b[0;36m_BaseDataLoaderIter.__next__\u001b[0;34m(self)\u001b[0m\n\u001b[1;32m    678\u001b[0m \u001b[38;5;28;01mif\u001b[39;00m \u001b[38;5;28mself\u001b[39m\u001b[38;5;241m.\u001b[39m_sampler_iter \u001b[38;5;129;01mis\u001b[39;00m \u001b[38;5;28;01mNone\u001b[39;00m:\n\u001b[1;32m    679\u001b[0m     \u001b[38;5;66;03m# TODO(https://github.com/pytorch/pytorch/issues/76750)\u001b[39;00m\n\u001b[1;32m    680\u001b[0m     \u001b[38;5;28mself\u001b[39m\u001b[38;5;241m.\u001b[39m_reset()  \u001b[38;5;66;03m# type: ignore[call-arg]\u001b[39;00m\n\u001b[0;32m--> 681\u001b[0m data \u001b[38;5;241m=\u001b[39m \u001b[38;5;28;43mself\u001b[39;49m\u001b[38;5;241;43m.\u001b[39;49m\u001b[43m_next_data\u001b[49m\u001b[43m(\u001b[49m\u001b[43m)\u001b[49m\n\u001b[1;32m    682\u001b[0m \u001b[38;5;28mself\u001b[39m\u001b[38;5;241m.\u001b[39m_num_yielded \u001b[38;5;241m+\u001b[39m\u001b[38;5;241m=\u001b[39m \u001b[38;5;241m1\u001b[39m\n\u001b[1;32m    683\u001b[0m \u001b[38;5;28;01mif\u001b[39;00m \u001b[38;5;28mself\u001b[39m\u001b[38;5;241m.\u001b[39m_dataset_kind \u001b[38;5;241m==\u001b[39m _DatasetKind\u001b[38;5;241m.\u001b[39mIterable \u001b[38;5;129;01mand\u001b[39;00m \\\n\u001b[1;32m    684\u001b[0m         \u001b[38;5;28mself\u001b[39m\u001b[38;5;241m.\u001b[39m_IterableDataset_len_called \u001b[38;5;129;01mis\u001b[39;00m \u001b[38;5;129;01mnot\u001b[39;00m \u001b[38;5;28;01mNone\u001b[39;00m \u001b[38;5;129;01mand\u001b[39;00m \\\n\u001b[1;32m    685\u001b[0m         \u001b[38;5;28mself\u001b[39m\u001b[38;5;241m.\u001b[39m_num_yielded \u001b[38;5;241m>\u001b[39m \u001b[38;5;28mself\u001b[39m\u001b[38;5;241m.\u001b[39m_IterableDataset_len_called:\n",
      "File \u001b[0;32m~/opt/anaconda3/envs/DS/lib/python3.9/site-packages/torch/utils/data/dataloader.py:721\u001b[0m, in \u001b[0;36m_SingleProcessDataLoaderIter._next_data\u001b[0;34m(self)\u001b[0m\n\u001b[1;32m    719\u001b[0m \u001b[38;5;28;01mdef\u001b[39;00m \u001b[38;5;21m_next_data\u001b[39m(\u001b[38;5;28mself\u001b[39m):\n\u001b[1;32m    720\u001b[0m     index \u001b[38;5;241m=\u001b[39m \u001b[38;5;28mself\u001b[39m\u001b[38;5;241m.\u001b[39m_next_index()  \u001b[38;5;66;03m# may raise StopIteration\u001b[39;00m\n\u001b[0;32m--> 721\u001b[0m     data \u001b[38;5;241m=\u001b[39m \u001b[38;5;28;43mself\u001b[39;49m\u001b[38;5;241;43m.\u001b[39;49m\u001b[43m_dataset_fetcher\u001b[49m\u001b[38;5;241;43m.\u001b[39;49m\u001b[43mfetch\u001b[49m\u001b[43m(\u001b[49m\u001b[43mindex\u001b[49m\u001b[43m)\u001b[49m  \u001b[38;5;66;03m# may raise StopIteration\u001b[39;00m\n\u001b[1;32m    722\u001b[0m     \u001b[38;5;28;01mif\u001b[39;00m \u001b[38;5;28mself\u001b[39m\u001b[38;5;241m.\u001b[39m_pin_memory:\n\u001b[1;32m    723\u001b[0m         data \u001b[38;5;241m=\u001b[39m _utils\u001b[38;5;241m.\u001b[39mpin_memory\u001b[38;5;241m.\u001b[39mpin_memory(data, \u001b[38;5;28mself\u001b[39m\u001b[38;5;241m.\u001b[39m_pin_memory_device)\n",
      "File \u001b[0;32m~/opt/anaconda3/envs/DS/lib/python3.9/site-packages/torch/utils/data/_utils/fetch.py:49\u001b[0m, in \u001b[0;36m_MapDatasetFetcher.fetch\u001b[0;34m(self, possibly_batched_index)\u001b[0m\n\u001b[1;32m     47\u001b[0m \u001b[38;5;28;01mdef\u001b[39;00m \u001b[38;5;21mfetch\u001b[39m(\u001b[38;5;28mself\u001b[39m, possibly_batched_index):\n\u001b[1;32m     48\u001b[0m     \u001b[38;5;28;01mif\u001b[39;00m \u001b[38;5;28mself\u001b[39m\u001b[38;5;241m.\u001b[39mauto_collation:\n\u001b[0;32m---> 49\u001b[0m         data \u001b[38;5;241m=\u001b[39m [\u001b[38;5;28mself\u001b[39m\u001b[38;5;241m.\u001b[39mdataset[idx] \u001b[38;5;28;01mfor\u001b[39;00m idx \u001b[38;5;129;01min\u001b[39;00m possibly_batched_index]\n\u001b[1;32m     50\u001b[0m     \u001b[38;5;28;01melse\u001b[39;00m:\n\u001b[1;32m     51\u001b[0m         data \u001b[38;5;241m=\u001b[39m \u001b[38;5;28mself\u001b[39m\u001b[38;5;241m.\u001b[39mdataset[possibly_batched_index]\n",
      "File \u001b[0;32m~/opt/anaconda3/envs/DS/lib/python3.9/site-packages/torch/utils/data/_utils/fetch.py:49\u001b[0m, in \u001b[0;36m<listcomp>\u001b[0;34m(.0)\u001b[0m\n\u001b[1;32m     47\u001b[0m \u001b[38;5;28;01mdef\u001b[39;00m \u001b[38;5;21mfetch\u001b[39m(\u001b[38;5;28mself\u001b[39m, possibly_batched_index):\n\u001b[1;32m     48\u001b[0m     \u001b[38;5;28;01mif\u001b[39;00m \u001b[38;5;28mself\u001b[39m\u001b[38;5;241m.\u001b[39mauto_collation:\n\u001b[0;32m---> 49\u001b[0m         data \u001b[38;5;241m=\u001b[39m [\u001b[38;5;28;43mself\u001b[39;49m\u001b[38;5;241;43m.\u001b[39;49m\u001b[43mdataset\u001b[49m\u001b[43m[\u001b[49m\u001b[43midx\u001b[49m\u001b[43m]\u001b[49m \u001b[38;5;28;01mfor\u001b[39;00m idx \u001b[38;5;129;01min\u001b[39;00m possibly_batched_index]\n\u001b[1;32m     50\u001b[0m     \u001b[38;5;28;01melse\u001b[39;00m:\n\u001b[1;32m     51\u001b[0m         data \u001b[38;5;241m=\u001b[39m \u001b[38;5;28mself\u001b[39m\u001b[38;5;241m.\u001b[39mdataset[possibly_batched_index]\n",
      "File \u001b[0;32m~/Desktop/School/Modules/DSA4262/Project 2/DSA4262-frontasticfour/scripts/prepData.py:167\u001b[0m, in \u001b[0;36mprepInferData.__getitem__\u001b[0;34m(self, index)\u001b[0m\n\u001b[1;32m    164\u001b[0m y \u001b[38;5;241m=\u001b[39m torch\u001b[38;5;241m.\u001b[39mtensor([y])\n\u001b[1;32m    166\u001b[0m \u001b[38;5;66;03m# Obtain the row\u001b[39;00m\n\u001b[0;32m--> 167\u001b[0m x \u001b[38;5;241m=\u001b[39m \u001b[38;5;28;43mself\u001b[39;49m\u001b[38;5;241;43m.\u001b[39;49m\u001b[43mdf\u001b[49m\u001b[38;5;241;43m.\u001b[39;49m\u001b[43miloc\u001b[49m\u001b[43m[\u001b[49m\u001b[43mindex\u001b[49m\u001b[43m]\u001b[49m\n\u001b[1;32m    168\u001b[0m \u001b[38;5;66;03m# Get that read's values\u001b[39;00m\n\u001b[1;32m    169\u001b[0m x_values \u001b[38;5;241m=\u001b[39m x[\u001b[38;5;124m'\u001b[39m\u001b[38;5;124mvalues\u001b[39m\u001b[38;5;124m'\u001b[39m]\n",
      "File \u001b[0;32m~/opt/anaconda3/envs/DS/lib/python3.9/site-packages/pandas/core/indexing.py:1074\u001b[0m, in \u001b[0;36m_LocationIndexer.__getitem__\u001b[0;34m(self, key)\u001b[0m\n\u001b[1;32m   1071\u001b[0m axis \u001b[38;5;241m=\u001b[39m \u001b[38;5;28mself\u001b[39m\u001b[38;5;241m.\u001b[39maxis \u001b[38;5;129;01mor\u001b[39;00m \u001b[38;5;241m0\u001b[39m\n\u001b[1;32m   1073\u001b[0m maybe_callable \u001b[38;5;241m=\u001b[39m com\u001b[38;5;241m.\u001b[39mapply_if_callable(key, \u001b[38;5;28mself\u001b[39m\u001b[38;5;241m.\u001b[39mobj)\n\u001b[0;32m-> 1074\u001b[0m \u001b[38;5;28;01mreturn\u001b[39;00m \u001b[38;5;28;43mself\u001b[39;49m\u001b[38;5;241;43m.\u001b[39;49m\u001b[43m_getitem_axis\u001b[49m\u001b[43m(\u001b[49m\u001b[43mmaybe_callable\u001b[49m\u001b[43m,\u001b[49m\u001b[43m \u001b[49m\u001b[43maxis\u001b[49m\u001b[38;5;241;43m=\u001b[39;49m\u001b[43maxis\u001b[49m\u001b[43m)\u001b[49m\n",
      "File \u001b[0;32m~/opt/anaconda3/envs/DS/lib/python3.9/site-packages/pandas/core/indexing.py:1628\u001b[0m, in \u001b[0;36m_iLocIndexer._getitem_axis\u001b[0;34m(self, key, axis)\u001b[0m\n\u001b[1;32m   1625\u001b[0m \u001b[38;5;66;03m# validate the location\u001b[39;00m\n\u001b[1;32m   1626\u001b[0m \u001b[38;5;28mself\u001b[39m\u001b[38;5;241m.\u001b[39m_validate_integer(key, axis)\n\u001b[0;32m-> 1628\u001b[0m \u001b[38;5;28;01mreturn\u001b[39;00m \u001b[38;5;28;43mself\u001b[39;49m\u001b[38;5;241;43m.\u001b[39;49m\u001b[43mobj\u001b[49m\u001b[38;5;241;43m.\u001b[39;49m\u001b[43m_ixs\u001b[49m\u001b[43m(\u001b[49m\u001b[43mkey\u001b[49m\u001b[43m,\u001b[49m\u001b[43m \u001b[49m\u001b[43maxis\u001b[49m\u001b[38;5;241;43m=\u001b[39;49m\u001b[43maxis\u001b[49m\u001b[43m)\u001b[49m\n",
      "File \u001b[0;32m~/opt/anaconda3/envs/DS/lib/python3.9/site-packages/pandas/core/frame.py:3714\u001b[0m, in \u001b[0;36mDataFrame._ixs\u001b[0;34m(self, i, axis)\u001b[0m\n\u001b[1;32m   3712\u001b[0m \u001b[38;5;66;03m# irow\u001b[39;00m\n\u001b[1;32m   3713\u001b[0m \u001b[38;5;28;01mif\u001b[39;00m axis \u001b[38;5;241m==\u001b[39m \u001b[38;5;241m0\u001b[39m:\n\u001b[0;32m-> 3714\u001b[0m     new_mgr \u001b[38;5;241m=\u001b[39m \u001b[38;5;28;43mself\u001b[39;49m\u001b[38;5;241;43m.\u001b[39;49m\u001b[43m_mgr\u001b[49m\u001b[38;5;241;43m.\u001b[39;49m\u001b[43mfast_xs\u001b[49m\u001b[43m(\u001b[49m\u001b[43mi\u001b[49m\u001b[43m)\u001b[49m\n\u001b[1;32m   3716\u001b[0m     \u001b[38;5;66;03m# if we are a copy, mark as such\u001b[39;00m\n\u001b[1;32m   3717\u001b[0m     copy \u001b[38;5;241m=\u001b[39m \u001b[38;5;28misinstance\u001b[39m(new_mgr\u001b[38;5;241m.\u001b[39marray, np\u001b[38;5;241m.\u001b[39mndarray) \u001b[38;5;129;01mand\u001b[39;00m new_mgr\u001b[38;5;241m.\u001b[39marray\u001b[38;5;241m.\u001b[39mbase \u001b[38;5;129;01mis\u001b[39;00m \u001b[38;5;28;01mNone\u001b[39;00m\n",
      "File \u001b[0;32m~/opt/anaconda3/envs/DS/lib/python3.9/site-packages/pandas/core/internals/managers.py:1108\u001b[0m, in \u001b[0;36mBlockManager.fast_xs\u001b[0;34m(self, loc)\u001b[0m\n\u001b[1;32m   1104\u001b[0m \u001b[38;5;28;01mfor\u001b[39;00m blk \u001b[38;5;129;01min\u001b[39;00m \u001b[38;5;28mself\u001b[39m\u001b[38;5;241m.\u001b[39mblocks:\n\u001b[1;32m   1105\u001b[0m     \u001b[38;5;66;03m# Such assignment may incorrectly coerce NaT to None\u001b[39;00m\n\u001b[1;32m   1106\u001b[0m     \u001b[38;5;66;03m# result[blk.mgr_locs] = blk._slice((slice(None), loc))\u001b[39;00m\n\u001b[1;32m   1107\u001b[0m     \u001b[38;5;28;01mfor\u001b[39;00m i, rl \u001b[38;5;129;01min\u001b[39;00m \u001b[38;5;28menumerate\u001b[39m(blk\u001b[38;5;241m.\u001b[39mmgr_locs):\n\u001b[0;32m-> 1108\u001b[0m         result[rl] \u001b[38;5;241m=\u001b[39m blk\u001b[38;5;241m.\u001b[39miget((i, loc))\n\u001b[1;32m   1110\u001b[0m \u001b[38;5;28;01mif\u001b[39;00m immutable_ea:\n\u001b[1;32m   1111\u001b[0m     dtype \u001b[38;5;241m=\u001b[39m cast(ExtensionDtype, dtype)\n",
      "\u001b[0;31mKeyboardInterrupt\u001b[0m: "
     ]
    }
   ],
   "source": [
    "%run -i \"../scripts/run_inference.py\""
   ]
  },
  {
   "cell_type": "code",
   "execution_count": 28,
   "id": "1ab93e4c",
   "metadata": {
    "ExecuteTime": {
     "end_time": "2022-10-15T07:41:14.306840Z",
     "start_time": "2022-10-15T07:41:14.302170Z"
    }
   },
   "outputs": [],
   "source": [
    "def incremental_avg(old_n, old_avg, value):\n",
    "    return old_avg + (value-old_avg) / (old_n+1)"
   ]
  },
  {
   "cell_type": "code",
   "execution_count": 11,
   "id": "2e3d909e",
   "metadata": {
    "ExecuteTime": {
     "end_time": "2022-10-15T07:06:48.381234Z",
     "start_time": "2022-10-15T07:06:48.376924Z"
    }
   },
   "outputs": [
    {
     "data": {
      "text/plain": [
       "10.0"
      ]
     },
     "execution_count": 11,
     "metadata": {},
     "output_type": "execute_result"
    }
   ],
   "source": [
    "incremental_avg(0, 0, 10)"
   ]
  },
  {
   "cell_type": "code",
   "execution_count": 15,
   "id": "3e221c5f",
   "metadata": {
    "ExecuteTime": {
     "end_time": "2022-10-15T07:07:53.900476Z",
     "start_time": "2022-10-15T07:07:53.896692Z"
    }
   },
   "outputs": [
    {
     "name": "stdout",
     "output_type": "stream",
     "text": [
      "[1, 2, 3, 4, 5, 6, 7, 8, 9, 10]\n",
      "[1.0, 1.5, 2.0, 2.5, 3.0, 3.5, 4.0, 4.5, 5.0, 5.5]\n"
     ]
    }
   ],
   "source": [
    "vals = []\n",
    "res = []\n",
    "for i in range(1, 11):\n",
    "    vals.append(i)\n",
    "    res.append(sum(vals)/len(vals))\n",
    "print(vals)\n",
    "print(res)"
   ]
  },
  {
   "cell_type": "code",
   "execution_count": 16,
   "id": "e31efe70",
   "metadata": {
    "ExecuteTime": {
     "end_time": "2022-10-15T07:09:29.373104Z",
     "start_time": "2022-10-15T07:09:29.368683Z"
    }
   },
   "outputs": [
    {
     "name": "stdout",
     "output_type": "stream",
     "text": [
      "[1.0, 1.5, 2.0, 2.5, 3.0, 3.5, 4.0, 4.5, 5.0, 5.5]\n"
     ]
    }
   ],
   "source": [
    "res = []\n",
    "old_avg = 0\n",
    "old_n = 0\n",
    "for i in range(1, 11):\n",
    "    old_avg = incremental_avg(old_avg=old_avg, old_n=old_n, value=i)\n",
    "    res.append(old_avg)\n",
    "    old_n+=1\n",
    "print(res)   "
   ]
  },
  {
   "cell_type": "code",
   "execution_count": 18,
   "id": "e0c3c2ad",
   "metadata": {
    "ExecuteTime": {
     "end_time": "2022-10-15T07:14:35.761005Z",
     "start_time": "2022-10-15T07:14:35.756490Z"
    }
   },
   "outputs": [
    {
     "data": {
      "text/plain": [
       "2500"
      ]
     },
     "execution_count": 18,
     "metadata": {},
     "output_type": "execute_result"
    }
   ],
   "source": [
    "round(0.25*10000)"
   ]
  },
  {
   "cell_type": "code",
   "execution_count": 22,
   "id": "25eb7489",
   "metadata": {
    "ExecuteTime": {
     "end_time": "2022-10-15T07:20:52.021307Z",
     "start_time": "2022-10-15T07:20:52.018319Z"
    }
   },
   "outputs": [],
   "source": [
    "a = [1]"
   ]
  },
  {
   "cell_type": "code",
   "execution_count": 23,
   "id": "e9f5fe19",
   "metadata": {
    "ExecuteTime": {
     "end_time": "2022-10-15T07:20:54.858749Z",
     "start_time": "2022-10-15T07:20:54.855529Z"
    }
   },
   "outputs": [],
   "source": [
    "a.append(2)"
   ]
  },
  {
   "cell_type": "code",
   "execution_count": 24,
   "id": "ddadff02",
   "metadata": {
    "ExecuteTime": {
     "end_time": "2022-10-15T07:20:55.635694Z",
     "start_time": "2022-10-15T07:20:55.630853Z"
    }
   },
   "outputs": [
    {
     "data": {
      "text/plain": [
       "[1, 2]"
      ]
     },
     "execution_count": 24,
     "metadata": {},
     "output_type": "execute_result"
    }
   ],
   "source": [
    "a"
   ]
  },
  {
   "cell_type": "code",
   "execution_count": 3,
   "id": "4fb5ffc1",
   "metadata": {
    "ExecuteTime": {
     "end_time": "2022-10-16T02:20:34.942194Z",
     "start_time": "2022-10-16T02:20:34.293667Z"
    }
   },
   "outputs": [],
   "source": [
    "from sklearn.metrics import classification_report"
   ]
  },
  {
   "cell_type": "code",
   "execution_count": 4,
   "id": "62236071",
   "metadata": {
    "ExecuteTime": {
     "end_time": "2022-10-16T02:20:35.252294Z",
     "start_time": "2022-10-16T02:20:34.944462Z"
    }
   },
   "outputs": [],
   "source": [
    "import pandas as pd"
   ]
  },
  {
   "cell_type": "code",
   "execution_count": 6,
   "id": "84fd2a86",
   "metadata": {
    "ExecuteTime": {
     "end_time": "2022-10-15T13:53:10.320615Z",
     "start_time": "2022-10-15T13:53:10.287653Z"
    }
   },
   "outputs": [],
   "source": [
    "val_df = pd.read_csv(\"../val_output.csv\")\n",
    "true_labels = val_df['label'].to_list()"
   ]
  },
  {
   "cell_type": "code",
   "execution_count": 8,
   "id": "3c4e3760",
   "metadata": {
    "ExecuteTime": {
     "end_time": "2022-10-15T13:53:17.547260Z",
     "start_time": "2022-10-15T13:53:17.531742Z"
    }
   },
   "outputs": [],
   "source": [
    "threshold = 0.8\n",
    "val_df['pred_label'] = val_df['pred_score'].apply(lambda x : 1 if x >threshold else 0)\n",
    "pred_labels = val_df['pred_label'].to_list()"
   ]
  },
  {
   "cell_type": "code",
   "execution_count": 9,
   "id": "717f1e5d",
   "metadata": {
    "ExecuteTime": {
     "end_time": "2022-10-15T13:53:17.905672Z",
     "start_time": "2022-10-15T13:53:17.848013Z"
    }
   },
   "outputs": [
    {
     "name": "stdout",
     "output_type": "stream",
     "text": [
      "              precision    recall  f1-score   support\n",
      "\n",
      "           0       0.98      0.96      0.97     34665\n",
      "           1       0.47      0.58      0.52      1880\n",
      "\n",
      "    accuracy                           0.94     36545\n",
      "   macro avg       0.72      0.77      0.74     36545\n",
      "weighted avg       0.95      0.94      0.95     36545\n",
      "\n"
     ]
    }
   ],
   "source": [
    "print(classification_report(true_labels, pred_labels))"
   ]
  },
  {
   "cell_type": "code",
   "execution_count": 10,
   "id": "950c2394",
   "metadata": {
    "ExecuteTime": {
     "end_time": "2022-10-15T13:53:26.593185Z",
     "start_time": "2022-10-15T13:53:26.577504Z"
    }
   },
   "outputs": [],
   "source": [
    "threshold = 0.9\n",
    "val_df['pred_label'] = val_df['pred_score'].apply(lambda x : 1 if x >threshold else 0)\n",
    "pred_labels = val_df['pred_label'].to_list()"
   ]
  },
  {
   "cell_type": "code",
   "execution_count": 11,
   "id": "66da5c01",
   "metadata": {
    "ExecuteTime": {
     "end_time": "2022-10-15T13:53:28.906559Z",
     "start_time": "2022-10-15T13:53:28.645158Z"
    }
   },
   "outputs": [
    {
     "name": "stdout",
     "output_type": "stream",
     "text": [
      "              precision    recall  f1-score   support\n",
      "\n",
      "           0       0.97      0.98      0.98     34665\n",
      "           1       0.58      0.44      0.50      1880\n",
      "\n",
      "    accuracy                           0.95     36545\n",
      "   macro avg       0.77      0.71      0.74     36545\n",
      "weighted avg       0.95      0.95      0.95     36545\n",
      "\n"
     ]
    }
   ],
   "source": [
    "print(classification_report(true_labels, pred_labels))"
   ]
  },
  {
   "cell_type": "code",
   "execution_count": 13,
   "id": "4cc3cbac",
   "metadata": {
    "ExecuteTime": {
     "end_time": "2022-10-15T13:54:45.940129Z",
     "start_time": "2022-10-15T13:54:45.898959Z"
    }
   },
   "outputs": [
    {
     "name": "stdout",
     "output_type": "stream",
     "text": [
      "AUC Score : 0.7109833175285636\n",
      "PR Score : 0.28280390208673956\n"
     ]
    }
   ],
   "source": [
    "from sklearn import metrics\n",
    "# Get AUC ROC score\n",
    "fpr, tpr, thresholds = metrics.roc_curve(true_labels, pred_labels, pos_label=1)\n",
    "auc_scorerf = metrics.auc(fpr, tpr)\n",
    "\n",
    "# fpr, tpr, thresholds = metrics.roc_curve(y_test, dummypred, pos_label=1)\n",
    "# auc_scoredummy = metrics.auc(fpr, tpr)\n",
    "\n",
    "# Get PR Score\n",
    "pr_scorerf = metrics.average_precision_score(true_labels, pred_labels, pos_label=1)\n",
    "# pr_scoredummy = average_precision_score(y_test, dummypred, pos_label=1)\n",
    "\n",
    "print(f\"AUC Score : {auc_scorerf}\")\n",
    "print(f\"PR Score : {pr_scorerf}\")"
   ]
  },
  {
   "cell_type": "code",
   "execution_count": 87,
   "id": "0721a816",
   "metadata": {
    "ExecuteTime": {
     "end_time": "2022-10-15T09:18:03.462282Z",
     "start_time": "2022-10-15T09:18:03.408613Z"
    }
   },
   "outputs": [
    {
     "name": "stdout",
     "output_type": "stream",
     "text": [
      "AUC Score : 0.7321564534096873\n",
      "PR Score : 0.28489522602915635\n"
     ]
    }
   ],
   "source": [
    "from sklearn import metrics\n",
    "# Get AUC ROC score\n",
    "fpr, tpr, thresholds = metrics.roc_curve(true_labels, pred_labels, pos_label=1)\n",
    "auc_scorerf = metrics.auc(fpr, tpr)\n",
    "\n",
    "# fpr, tpr, thresholds = metrics.roc_curve(y_test, dummypred, pos_label=1)\n",
    "# auc_scoredummy = metrics.auc(fpr, tpr)\n",
    "\n",
    "# Get PR Score\n",
    "pr_scorerf = metrics.average_precision_score(true_labels, pred_labels, pos_label=1)\n",
    "# pr_scoredummy = average_precision_score(y_test, dummypred, pos_label=1)\n",
    "\n",
    "print(f\"AUC Score : {auc_scorerf}\")\n",
    "print(f\"PR Score : {pr_scorerf}\")"
   ]
  },
  {
   "cell_type": "code",
   "execution_count": 88,
   "id": "9d3b7520",
   "metadata": {
    "ExecuteTime": {
     "end_time": "2022-10-15T09:18:04.052674Z",
     "start_time": "2022-10-15T09:18:04.047903Z"
    }
   },
   "outputs": [
    {
     "data": {
      "text/plain": [
       "0.7321564534096873"
      ]
     },
     "execution_count": 88,
     "metadata": {},
     "output_type": "execute_result"
    }
   ],
   "source": [
    "auc_scorerf"
   ]
  },
  {
   "cell_type": "markdown",
   "id": "0aed10a0",
   "metadata": {},
   "source": [
    "# Plot Epochs"
   ]
  },
  {
   "cell_type": "code",
   "execution_count": 40,
   "id": "8b6a295f",
   "metadata": {
    "ExecuteTime": {
     "end_time": "2022-10-16T07:04:36.450510Z",
     "start_time": "2022-10-16T07:04:36.446163Z"
    }
   },
   "outputs": [],
   "source": [
    "import matplotlib.pyplot as plt"
   ]
  },
  {
   "cell_type": "code",
   "execution_count": 5,
   "id": "bd69c4b0",
   "metadata": {
    "ExecuteTime": {
     "end_time": "2022-10-16T02:20:40.229279Z",
     "start_time": "2022-10-16T02:20:40.221480Z"
    }
   },
   "outputs": [],
   "source": [
    "epoch_df = pd.read_csv(\"../epoch_output.csv\")"
   ]
  },
  {
   "cell_type": "code",
   "execution_count": 6,
   "id": "8f0f9da8",
   "metadata": {
    "ExecuteTime": {
     "end_time": "2022-10-16T02:20:41.529121Z",
     "start_time": "2022-10-16T02:20:41.505255Z"
    }
   },
   "outputs": [
    {
     "data": {
      "text/html": [
       "<div>\n",
       "<style scoped>\n",
       "    .dataframe tbody tr th:only-of-type {\n",
       "        vertical-align: middle;\n",
       "    }\n",
       "\n",
       "    .dataframe tbody tr th {\n",
       "        vertical-align: top;\n",
       "    }\n",
       "\n",
       "    .dataframe thead th {\n",
       "        text-align: right;\n",
       "    }\n",
       "</style>\n",
       "<table border=\"1\" class=\"dataframe\">\n",
       "  <thead>\n",
       "    <tr style=\"text-align: right;\">\n",
       "      <th></th>\n",
       "      <th>epoch_num</th>\n",
       "      <th>avg_training_loss</th>\n",
       "      <th>avg_validation_loss</th>\n",
       "    </tr>\n",
       "  </thead>\n",
       "  <tbody>\n",
       "    <tr>\n",
       "      <th>0</th>\n",
       "      <td>0</td>\n",
       "      <td>0.438443</td>\n",
       "      <td>0.167087</td>\n",
       "    </tr>\n",
       "    <tr>\n",
       "      <th>1</th>\n",
       "      <td>1</td>\n",
       "      <td>0.387412</td>\n",
       "      <td>0.266182</td>\n",
       "    </tr>\n",
       "    <tr>\n",
       "      <th>2</th>\n",
       "      <td>2</td>\n",
       "      <td>0.386066</td>\n",
       "      <td>0.158331</td>\n",
       "    </tr>\n",
       "    <tr>\n",
       "      <th>3</th>\n",
       "      <td>3</td>\n",
       "      <td>0.380652</td>\n",
       "      <td>0.265311</td>\n",
       "    </tr>\n",
       "    <tr>\n",
       "      <th>4</th>\n",
       "      <td>4</td>\n",
       "      <td>0.378843</td>\n",
       "      <td>0.369226</td>\n",
       "    </tr>\n",
       "    <tr>\n",
       "      <th>...</th>\n",
       "      <td>...</td>\n",
       "      <td>...</td>\n",
       "      <td>...</td>\n",
       "    </tr>\n",
       "    <tr>\n",
       "      <th>995</th>\n",
       "      <td>995</td>\n",
       "      <td>0.654599</td>\n",
       "      <td>0.675724</td>\n",
       "    </tr>\n",
       "    <tr>\n",
       "      <th>996</th>\n",
       "      <td>996</td>\n",
       "      <td>0.655218</td>\n",
       "      <td>0.633002</td>\n",
       "    </tr>\n",
       "    <tr>\n",
       "      <th>997</th>\n",
       "      <td>997</td>\n",
       "      <td>0.650903</td>\n",
       "      <td>0.617460</td>\n",
       "    </tr>\n",
       "    <tr>\n",
       "      <th>998</th>\n",
       "      <td>998</td>\n",
       "      <td>0.638382</td>\n",
       "      <td>0.619020</td>\n",
       "    </tr>\n",
       "    <tr>\n",
       "      <th>999</th>\n",
       "      <td>999</td>\n",
       "      <td>0.662712</td>\n",
       "      <td>0.776087</td>\n",
       "    </tr>\n",
       "  </tbody>\n",
       "</table>\n",
       "<p>1000 rows × 3 columns</p>\n",
       "</div>"
      ],
      "text/plain": [
       "     epoch_num  avg_training_loss  avg_validation_loss\n",
       "0            0           0.438443             0.167087\n",
       "1            1           0.387412             0.266182\n",
       "2            2           0.386066             0.158331\n",
       "3            3           0.380652             0.265311\n",
       "4            4           0.378843             0.369226\n",
       "..         ...                ...                  ...\n",
       "995        995           0.654599             0.675724\n",
       "996        996           0.655218             0.633002\n",
       "997        997           0.650903             0.617460\n",
       "998        998           0.638382             0.619020\n",
       "999        999           0.662712             0.776087\n",
       "\n",
       "[1000 rows x 3 columns]"
      ]
     },
     "execution_count": 6,
     "metadata": {},
     "output_type": "execute_result"
    }
   ],
   "source": [
    "epoch_df"
   ]
  },
  {
   "cell_type": "markdown",
   "id": "37290c38",
   "metadata": {},
   "source": [
    "## Entire"
   ]
  },
  {
   "cell_type": "code",
   "execution_count": 17,
   "id": "dae7e92e",
   "metadata": {
    "ExecuteTime": {
     "end_time": "2022-10-16T02:28:55.879911Z",
     "start_time": "2022-10-16T02:28:55.875785Z"
    }
   },
   "outputs": [],
   "source": [
    "# Rolling avg. for validation loss\n",
    "ravg_val = epoch_df['avg_validation_loss'].rolling(window=10).mean()\n",
    "# Rolling avg. for Training loss\n",
    "ravg_train = epoch_df['avg_training_loss'].rolling(window=10).mean()"
   ]
  },
  {
   "cell_type": "code",
   "execution_count": 21,
   "id": "7f7267d4",
   "metadata": {
    "ExecuteTime": {
     "end_time": "2022-10-16T02:33:35.937799Z",
     "start_time": "2022-10-16T02:33:35.746673Z"
    }
   },
   "outputs": [
    {
     "data": {
      "text/plain": [
       "<matplotlib.legend.Legend at 0x7fbb5d5d7e20>"
      ]
     },
     "execution_count": 21,
     "metadata": {},
     "output_type": "execute_result"
    },
    {
     "data": {
      "image/png": "[encoded data removed]",
      "text/plain": [
       "<Figure size 1080x360 with 1 Axes>"
      ]
     },
     "metadata": {
      "needs_background": "light"
     },
     "output_type": "display_data"
    }
   ],
   "source": [
    "fig, ax = plt.subplots(1, 1, figsize = (15, 5))\n",
    "\n",
    "plt.plot(epoch_df['avg_training_loss'], label = \"avg_training_loss\")\n",
    "plt.plot(epoch_df['avg_validation_loss'], label = \"avg_validation_loss\")\n",
    "plt.legend()"
   ]
  },
  {
   "cell_type": "code",
   "execution_count": 20,
   "id": "340445db",
   "metadata": {
    "ExecuteTime": {
     "end_time": "2022-10-16T02:29:57.284948Z",
     "start_time": "2022-10-16T02:29:57.064065Z"
    }
   },
   "outputs": [
    {
     "data": {
      "text/plain": [
       "<matplotlib.legend.Legend at 0x7fbb5dc092e0>"
      ]
     },
     "execution_count": 20,
     "metadata": {},
     "output_type": "execute_result"
    },
    {
     "data": {
      "image/png": "[encoded data removed]",
      "text/plain": [
       "<Figure size 1080x360 with 1 Axes>"
      ]
     },
     "metadata": {
      "needs_background": "light"
     },
     "output_type": "display_data"
    }
   ],
   "source": [
    "fig, ax = plt.subplots(1, 1, figsize = (15, 5))\n",
    "\n",
    "plt.plot(ravg_train, label = \"rolling avg_train_loss\")\n",
    "plt.plot(ravg_val, label = \"rolling avg_validation_loss\")\n",
    "plt.xlabel(\"Epochs\")\n",
    "plt.ylabel(\"Avg. Loss\")\n",
    "plt.legend()"
   ]
  },
  {
   "cell_type": "markdown",
   "id": "e7d87b87",
   "metadata": {},
   "source": [
    "## Sliced"
   ]
  },
  {
   "cell_type": "code",
   "execution_count": 212,
   "id": "e29e58e7",
   "metadata": {
    "ExecuteTime": {
     "end_time": "2022-10-16T05:44:57.284498Z",
     "start_time": "2022-10-16T05:44:57.278889Z"
    }
   },
   "outputs": [],
   "source": [
    "slc = [90,200]\n",
    "w = 10\n",
    "# Rolling avg. for validation loss\n",
    "ravg_val = epoch_df.loc[slc[0]:slc[1], 'avg_validation_loss'].rolling(window=w).mean()\n",
    "# Rolling avg. for Training loss\n",
    "ravg_train = epoch_df.loc[slc[0]:slc[1], 'avg_training_loss'].rolling(window=w).mean()"
   ]
  },
  {
   "cell_type": "code",
   "execution_count": 213,
   "id": "eadf99e4",
   "metadata": {
    "ExecuteTime": {
     "end_time": "2022-10-16T05:44:57.690774Z",
     "start_time": "2022-10-16T05:44:57.470796Z"
    }
   },
   "outputs": [
    {
     "data": {
      "text/plain": [
       "<matplotlib.legend.Legend at 0x7fbb3eb4ca90>"
      ]
     },
     "execution_count": 213,
     "metadata": {},
     "output_type": "execute_result"
    },
    {
     "data": {
      "image/png": "[encoded data removed]",
      "text/plain": [
       "<Figure size 1080x360 with 1 Axes>"
      ]
     },
     "metadata": {
      "needs_background": "light"
     },
     "output_type": "display_data"
    }
   ],
   "source": [
    "fig, ax = plt.subplots(1, 1, figsize = (15, 5))\n",
    "\n",
    "plt.plot(epoch_df.loc[slc[0]:slc[1],'avg_training_loss'], label = \"avg_training_loss\")\n",
    "plt.plot(epoch_df.loc[slc[0]:slc[1],'avg_validation_loss'], label = \"avg_validation_loss\")\n",
    "plt.legend()"
   ]
  },
  {
   "cell_type": "code",
   "execution_count": 214,
   "id": "a646b390",
   "metadata": {
    "ExecuteTime": {
     "end_time": "2022-10-16T05:44:57.913868Z",
     "start_time": "2022-10-16T05:44:57.694857Z"
    }
   },
   "outputs": [
    {
     "data": {
      "text/plain": [
       "<matplotlib.legend.Legend at 0x7fbb3ea3c340>"
      ]
     },
     "execution_count": 214,
     "metadata": {},
     "output_type": "execute_result"
    },
    {
     "data": {
      "image/png": "[encoded data removed]",
      "text/plain": [
       "<Figure size 1080x360 with 1 Axes>"
      ]
     },
     "metadata": {
      "needs_background": "light"
     },
     "output_type": "display_data"
    }
   ],
   "source": [
    "fig, ax = plt.subplots(1, 1, figsize = (15, 5))\n",
    "\n",
    "plt.plot(ravg_train, label = \"rolling avg_train_loss\")\n",
    "plt.plot(ravg_val, label = \"rolling avg_validation_loss\")\n",
    "plt.xlabel(\"Epochs\")\n",
    "plt.ylabel(\"Avg. Loss\")\n",
    "plt.legend()"
   ]
  },
  {
   "cell_type": "code",
   "execution_count": null,
   "id": "6ddac3c0",
   "metadata": {},
   "outputs": [],
   "source": []
  },
  {
   "cell_type": "code",
   "execution_count": null,
   "id": "cf8475a3",
   "metadata": {},
   "outputs": [],
   "source": []
  },
  {
   "cell_type": "code",
   "execution_count": 20,
   "id": "b76e8c55",
   "metadata": {
    "ExecuteTime": {
     "end_time": "2022-10-15T13:59:06.228412Z",
     "start_time": "2022-10-15T13:59:06.219514Z"
    }
   },
   "outputs": [
    {
     "data": {
      "text/html": [
       "<div>\n",
       "<style scoped>\n",
       "    .dataframe tbody tr th:only-of-type {\n",
       "        vertical-align: middle;\n",
       "    }\n",
       "\n",
       "    .dataframe tbody tr th {\n",
       "        vertical-align: top;\n",
       "    }\n",
       "\n",
       "    .dataframe thead th {\n",
       "        text-align: right;\n",
       "    }\n",
       "</style>\n",
       "<table border=\"1\" class=\"dataframe\">\n",
       "  <thead>\n",
       "    <tr style=\"text-align: right;\">\n",
       "      <th></th>\n",
       "      <th>epoch_num</th>\n",
       "      <th>avg_loss</th>\n",
       "    </tr>\n",
       "  </thead>\n",
       "  <tbody>\n",
       "    <tr>\n",
       "      <th>250</th>\n",
       "      <td>250</td>\n",
       "      <td>0.296084</td>\n",
       "    </tr>\n",
       "    <tr>\n",
       "      <th>251</th>\n",
       "      <td>251</td>\n",
       "      <td>0.292606</td>\n",
       "    </tr>\n",
       "    <tr>\n",
       "      <th>252</th>\n",
       "      <td>252</td>\n",
       "      <td>0.297105</td>\n",
       "    </tr>\n",
       "    <tr>\n",
       "      <th>253</th>\n",
       "      <td>253</td>\n",
       "      <td>0.296699</td>\n",
       "    </tr>\n",
       "    <tr>\n",
       "      <th>254</th>\n",
       "      <td>254</td>\n",
       "      <td>0.294594</td>\n",
       "    </tr>\n",
       "    <tr>\n",
       "      <th>...</th>\n",
       "      <td>...</td>\n",
       "      <td>...</td>\n",
       "    </tr>\n",
       "    <tr>\n",
       "      <th>345</th>\n",
       "      <td>345</td>\n",
       "      <td>0.287842</td>\n",
       "    </tr>\n",
       "    <tr>\n",
       "      <th>346</th>\n",
       "      <td>346</td>\n",
       "      <td>0.287937</td>\n",
       "    </tr>\n",
       "    <tr>\n",
       "      <th>347</th>\n",
       "      <td>347</td>\n",
       "      <td>0.282414</td>\n",
       "    </tr>\n",
       "    <tr>\n",
       "      <th>348</th>\n",
       "      <td>348</td>\n",
       "      <td>0.287777</td>\n",
       "    </tr>\n",
       "    <tr>\n",
       "      <th>349</th>\n",
       "      <td>349</td>\n",
       "      <td>0.287363</td>\n",
       "    </tr>\n",
       "  </tbody>\n",
       "</table>\n",
       "<p>100 rows × 2 columns</p>\n",
       "</div>"
      ],
      "text/plain": [
       "     epoch_num  avg_loss\n",
       "250        250  0.296084\n",
       "251        251  0.292606\n",
       "252        252  0.297105\n",
       "253        253  0.296699\n",
       "254        254  0.294594\n",
       "..         ...       ...\n",
       "345        345  0.287842\n",
       "346        346  0.287937\n",
       "347        347  0.282414\n",
       "348        348  0.287777\n",
       "349        349  0.287363\n",
       "\n",
       "[100 rows x 2 columns]"
      ]
     },
     "execution_count": 20,
     "metadata": {},
     "output_type": "execute_result"
    }
   ],
   "source": [
    "epoch_df.iloc[250:350, :]"
   ]
  },
  {
   "cell_type": "code",
   "execution_count": 25,
   "id": "badb72ea",
   "metadata": {
    "ExecuteTime": {
     "end_time": "2022-10-15T14:02:42.149898Z",
     "start_time": "2022-10-15T14:02:42.141398Z"
    }
   },
   "outputs": [
    {
     "data": {
      "text/html": [
       "<div>\n",
       "<style scoped>\n",
       "    .dataframe tbody tr th:only-of-type {\n",
       "        vertical-align: middle;\n",
       "    }\n",
       "\n",
       "    .dataframe tbody tr th {\n",
       "        vertical-align: top;\n",
       "    }\n",
       "\n",
       "    .dataframe thead th {\n",
       "        text-align: right;\n",
       "    }\n",
       "</style>\n",
       "<table border=\"1\" class=\"dataframe\">\n",
       "  <thead>\n",
       "    <tr style=\"text-align: right;\">\n",
       "      <th></th>\n",
       "      <th>epoch_num</th>\n",
       "      <th>avg_loss</th>\n",
       "    </tr>\n",
       "  </thead>\n",
       "  <tbody>\n",
       "    <tr>\n",
       "      <th>347</th>\n",
       "      <td>347</td>\n",
       "      <td>0.282414</td>\n",
       "    </tr>\n",
       "    <tr>\n",
       "      <th>358</th>\n",
       "      <td>358</td>\n",
       "      <td>0.282915</td>\n",
       "    </tr>\n",
       "    <tr>\n",
       "      <th>350</th>\n",
       "      <td>350</td>\n",
       "      <td>0.283049</td>\n",
       "    </tr>\n",
       "    <tr>\n",
       "      <th>355</th>\n",
       "      <td>355</td>\n",
       "      <td>0.283093</td>\n",
       "    </tr>\n",
       "    <tr>\n",
       "      <th>340</th>\n",
       "      <td>340</td>\n",
       "      <td>0.283446</td>\n",
       "    </tr>\n",
       "    <tr>\n",
       "      <th>...</th>\n",
       "      <td>...</td>\n",
       "      <td>...</td>\n",
       "    </tr>\n",
       "    <tr>\n",
       "      <th>364</th>\n",
       "      <td>364</td>\n",
       "      <td>0.537961</td>\n",
       "    </tr>\n",
       "    <tr>\n",
       "      <th>372</th>\n",
       "      <td>372</td>\n",
       "      <td>0.548731</td>\n",
       "    </tr>\n",
       "    <tr>\n",
       "      <th>369</th>\n",
       "      <td>369</td>\n",
       "      <td>0.563755</td>\n",
       "    </tr>\n",
       "    <tr>\n",
       "      <th>371</th>\n",
       "      <td>371</td>\n",
       "      <td>0.579615</td>\n",
       "    </tr>\n",
       "    <tr>\n",
       "      <th>370</th>\n",
       "      <td>370</td>\n",
       "      <td>0.612445</td>\n",
       "    </tr>\n",
       "  </tbody>\n",
       "</table>\n",
       "<p>500 rows × 2 columns</p>\n",
       "</div>"
      ],
      "text/plain": [
       "     epoch_num  avg_loss\n",
       "347        347  0.282414\n",
       "358        358  0.282915\n",
       "350        350  0.283049\n",
       "355        355  0.283093\n",
       "340        340  0.283446\n",
       "..         ...       ...\n",
       "364        364  0.537961\n",
       "372        372  0.548731\n",
       "369        369  0.563755\n",
       "371        371  0.579615\n",
       "370        370  0.612445\n",
       "\n",
       "[500 rows x 2 columns]"
      ]
     },
     "execution_count": 25,
     "metadata": {},
     "output_type": "execute_result"
    }
   ],
   "source": [
    "epoch_df.sort_values(\"avg_loss\", ascending=True)"
   ]
  },
  {
   "cell_type": "code",
   "execution_count": 5,
   "id": "9e5059c7",
   "metadata": {
    "ExecuteTime": {
     "end_time": "2022-10-16T06:40:46.908710Z",
     "start_time": "2022-10-16T06:40:46.905085Z"
    }
   },
   "outputs": [],
   "source": [
    "# To be able to import the file\n",
    "import sys\n",
    "pathname=\"/Users/carelchay/Desktop/School/Modules/DSA4262/Project 2/DSA4262-frontasticfour/scripts\"\n",
    "if pathname not in sys.path:\n",
    "    sys.path.append(pathname)\n",
    "path_to_data = \"/Users/carelchay/Desktop/School/Modules/DSA4262/Project 2/data/data.json\"\n",
    "path_to_labels = \"/Users/carelchay/Desktop/School/Modules/DSA4262/Project 2/data/data.info\""
   ]
  },
  {
   "cell_type": "code",
   "execution_count": 8,
   "id": "1aed3e95",
   "metadata": {
    "ExecuteTime": {
     "end_time": "2022-10-16T06:40:56.892392Z",
     "start_time": "2022-10-16T06:40:56.885941Z"
    }
   },
   "outputs": [
    {
     "data": {
      "text/plain": [
       "<module 'getDataCarel' from '/Users/carelchay/Desktop/School/Modules/DSA4262/Project 2/DSA4262-frontasticfour/scripts/getDataCarel.py'>"
      ]
     },
     "execution_count": 8,
     "metadata": {},
     "output_type": "execute_result"
    }
   ],
   "source": [
    "import getDataCarel as gd\n",
    "import importlib\n",
    "importlib.reload(gd)"
   ]
  },
  {
   "cell_type": "code",
   "execution_count": 9,
   "id": "ff73e41e",
   "metadata": {
    "ExecuteTime": {
     "end_time": "2022-10-16T06:40:57.043314Z",
     "start_time": "2022-10-16T06:40:57.039650Z"
    }
   },
   "outputs": [],
   "source": [
    "getDat = gd.getData(path_to_data=path_to_data, path_to_labels=path_to_labels)"
   ]
  },
  {
   "cell_type": "code",
   "execution_count": 10,
   "id": "db0fb57f",
   "metadata": {
    "ExecuteTime": {
     "end_time": "2022-10-16T06:40:57.527029Z",
     "start_time": "2022-10-16T06:40:57.209188Z"
    }
   },
   "outputs": [],
   "source": [
    "label_df = getDat.get_labels()"
   ]
  },
  {
   "cell_type": "markdown",
   "id": "dfeeb466",
   "metadata": {},
   "source": [
    "# Compare predictions with Truth"
   ]
  },
  {
   "cell_type": "code",
   "execution_count": 47,
   "id": "2fce005c",
   "metadata": {
    "ExecuteTime": {
     "end_time": "2022-10-16T07:10:56.789017Z",
     "start_time": "2022-10-16T07:10:56.722655Z"
    }
   },
   "outputs": [],
   "source": [
    "import pandas as pd\n",
    "import numpy as np\n",
    "df = pd.read_csv(\"../../data/dataset0.csv\")"
   ]
  },
  {
   "cell_type": "code",
   "execution_count": 48,
   "id": "7358b996",
   "metadata": {
    "ExecuteTime": {
     "end_time": "2022-10-16T07:10:56.910940Z",
     "start_time": "2022-10-16T07:10:56.897597Z"
    }
   },
   "outputs": [
    {
     "data": {
      "text/html": [
       "<div>\n",
       "<style scoped>\n",
       "    .dataframe tbody tr th:only-of-type {\n",
       "        vertical-align: middle;\n",
       "    }\n",
       "\n",
       "    .dataframe tbody tr th {\n",
       "        vertical-align: top;\n",
       "    }\n",
       "\n",
       "    .dataframe thead th {\n",
       "        text-align: right;\n",
       "    }\n",
       "</style>\n",
       "<table border=\"1\" class=\"dataframe\">\n",
       "  <thead>\n",
       "    <tr style=\"text-align: right;\">\n",
       "      <th></th>\n",
       "      <th>transcript_id</th>\n",
       "      <th>transcript_position</th>\n",
       "      <th>score</th>\n",
       "      <th>label</th>\n",
       "      <th>pred</th>\n",
       "    </tr>\n",
       "  </thead>\n",
       "  <tbody>\n",
       "    <tr>\n",
       "      <th>0</th>\n",
       "      <td>ENST00000000233</td>\n",
       "      <td>244</td>\n",
       "      <td>0.071954</td>\n",
       "      <td>0</td>\n",
       "      <td>0</td>\n",
       "    </tr>\n",
       "    <tr>\n",
       "      <th>1</th>\n",
       "      <td>ENST00000000233</td>\n",
       "      <td>261</td>\n",
       "      <td>0.039076</td>\n",
       "      <td>0</td>\n",
       "      <td>0</td>\n",
       "    </tr>\n",
       "    <tr>\n",
       "      <th>2</th>\n",
       "      <td>ENST00000000233</td>\n",
       "      <td>316</td>\n",
       "      <td>0.035678</td>\n",
       "      <td>0</td>\n",
       "      <td>0</td>\n",
       "    </tr>\n",
       "    <tr>\n",
       "      <th>3</th>\n",
       "      <td>ENST00000000233</td>\n",
       "      <td>332</td>\n",
       "      <td>0.333933</td>\n",
       "      <td>0</td>\n",
       "      <td>0</td>\n",
       "    </tr>\n",
       "    <tr>\n",
       "      <th>4</th>\n",
       "      <td>ENST00000000233</td>\n",
       "      <td>368</td>\n",
       "      <td>0.407557</td>\n",
       "      <td>0</td>\n",
       "      <td>0</td>\n",
       "    </tr>\n",
       "  </tbody>\n",
       "</table>\n",
       "</div>"
      ],
      "text/plain": [
       "     transcript_id  transcript_position     score  label  pred\n",
       "0  ENST00000000233                  244  0.071954      0     0\n",
       "1  ENST00000000233                  261  0.039076      0     0\n",
       "2  ENST00000000233                  316  0.035678      0     0\n",
       "3  ENST00000000233                  332  0.333933      0     0\n",
       "4  ENST00000000233                  368  0.407557      0     0"
      ]
     },
     "execution_count": 48,
     "metadata": {},
     "output_type": "execute_result"
    }
   ],
   "source": [
    "pred_df.head()"
   ]
  },
  {
   "cell_type": "code",
   "execution_count": 49,
   "id": "648352ad",
   "metadata": {
    "ExecuteTime": {
     "end_time": "2022-10-16T07:10:57.043604Z",
     "start_time": "2022-10-16T07:10:57.030948Z"
    }
   },
   "outputs": [
    {
     "data": {
      "text/html": [
       "<div>\n",
       "<style scoped>\n",
       "    .dataframe tbody tr th:only-of-type {\n",
       "        vertical-align: middle;\n",
       "    }\n",
       "\n",
       "    .dataframe tbody tr th {\n",
       "        vertical-align: top;\n",
       "    }\n",
       "\n",
       "    .dataframe thead th {\n",
       "        text-align: right;\n",
       "    }\n",
       "</style>\n",
       "<table border=\"1\" class=\"dataframe\">\n",
       "  <thead>\n",
       "    <tr style=\"text-align: right;\">\n",
       "      <th></th>\n",
       "      <th>gene_id</th>\n",
       "      <th>transcript_id</th>\n",
       "      <th>transcript_position</th>\n",
       "      <th>label</th>\n",
       "    </tr>\n",
       "  </thead>\n",
       "  <tbody>\n",
       "    <tr>\n",
       "      <th>1</th>\n",
       "      <td>ENSG00000004059</td>\n",
       "      <td>ENST00000000233</td>\n",
       "      <td>244</td>\n",
       "      <td>0</td>\n",
       "    </tr>\n",
       "    <tr>\n",
       "      <th>2</th>\n",
       "      <td>ENSG00000004059</td>\n",
       "      <td>ENST00000000233</td>\n",
       "      <td>261</td>\n",
       "      <td>0</td>\n",
       "    </tr>\n",
       "    <tr>\n",
       "      <th>3</th>\n",
       "      <td>ENSG00000004059</td>\n",
       "      <td>ENST00000000233</td>\n",
       "      <td>316</td>\n",
       "      <td>0</td>\n",
       "    </tr>\n",
       "    <tr>\n",
       "      <th>4</th>\n",
       "      <td>ENSG00000004059</td>\n",
       "      <td>ENST00000000233</td>\n",
       "      <td>332</td>\n",
       "      <td>0</td>\n",
       "    </tr>\n",
       "    <tr>\n",
       "      <th>5</th>\n",
       "      <td>ENSG00000004059</td>\n",
       "      <td>ENST00000000233</td>\n",
       "      <td>368</td>\n",
       "      <td>0</td>\n",
       "    </tr>\n",
       "  </tbody>\n",
       "</table>\n",
       "</div>"
      ],
      "text/plain": [
       "0          gene_id    transcript_id  transcript_position  label\n",
       "1  ENSG00000004059  ENST00000000233                  244      0\n",
       "2  ENSG00000004059  ENST00000000233                  261      0\n",
       "3  ENSG00000004059  ENST00000000233                  316      0\n",
       "4  ENSG00000004059  ENST00000000233                  332      0\n",
       "5  ENSG00000004059  ENST00000000233                  368      0"
      ]
     },
     "execution_count": 49,
     "metadata": {},
     "output_type": "execute_result"
    }
   ],
   "source": [
    "label_df.head()"
   ]
  },
  {
   "cell_type": "code",
   "execution_count": 50,
   "id": "a777ff6a",
   "metadata": {
    "ExecuteTime": {
     "end_time": "2022-10-16T07:10:57.598873Z",
     "start_time": "2022-10-16T07:10:57.515003Z"
    }
   },
   "outputs": [],
   "source": [
    "pred_df = pd.merge(df, label_df[['transcript_id', 'transcript_position', 'label']], \n",
    "                  how = 'left', on = ('transcript_id', 'transcript_position'))"
   ]
  },
  {
   "cell_type": "code",
   "execution_count": 15,
   "id": "8a7efada",
   "metadata": {
    "ExecuteTime": {
     "end_time": "2022-10-16T06:41:02.837614Z",
     "start_time": "2022-10-16T06:41:02.823091Z"
    }
   },
   "outputs": [
    {
     "data": {
      "text/plain": [
       "False"
      ]
     },
     "execution_count": 15,
     "metadata": {},
     "output_type": "execute_result"
    }
   ],
   "source": [
    "any(pred_df['label'].isna())"
   ]
  },
  {
   "cell_type": "code",
   "execution_count": 25,
   "id": "1a9f4b84",
   "metadata": {
    "ExecuteTime": {
     "end_time": "2022-10-16T06:50:59.236400Z",
     "start_time": "2022-10-16T06:50:58.922245Z"
    }
   },
   "outputs": [
    {
     "data": {
      "text/html": [
       "<div>\n",
       "<style scoped>\n",
       "    .dataframe tbody tr th:only-of-type {\n",
       "        vertical-align: middle;\n",
       "    }\n",
       "\n",
       "    .dataframe tbody tr th {\n",
       "        vertical-align: top;\n",
       "    }\n",
       "\n",
       "    .dataframe thead th {\n",
       "        text-align: right;\n",
       "    }\n",
       "</style>\n",
       "<table border=\"1\" class=\"dataframe\">\n",
       "  <thead>\n",
       "    <tr style=\"text-align: right;\">\n",
       "      <th></th>\n",
       "      <th>transcript_id</th>\n",
       "      <th>transcript_position</th>\n",
       "      <th>score</th>\n",
       "      <th>label</th>\n",
       "      <th>pred</th>\n",
       "    </tr>\n",
       "  </thead>\n",
       "  <tbody>\n",
       "    <tr>\n",
       "      <th>0</th>\n",
       "      <td>ENST00000000233</td>\n",
       "      <td>244</td>\n",
       "      <td>0.071954</td>\n",
       "      <td>0</td>\n",
       "      <td>0</td>\n",
       "    </tr>\n",
       "    <tr>\n",
       "      <th>1</th>\n",
       "      <td>ENST00000000233</td>\n",
       "      <td>261</td>\n",
       "      <td>0.039076</td>\n",
       "      <td>0</td>\n",
       "      <td>0</td>\n",
       "    </tr>\n",
       "    <tr>\n",
       "      <th>2</th>\n",
       "      <td>ENST00000000233</td>\n",
       "      <td>316</td>\n",
       "      <td>0.035678</td>\n",
       "      <td>0</td>\n",
       "      <td>0</td>\n",
       "    </tr>\n",
       "    <tr>\n",
       "      <th>3</th>\n",
       "      <td>ENST00000000233</td>\n",
       "      <td>332</td>\n",
       "      <td>0.333933</td>\n",
       "      <td>0</td>\n",
       "      <td>0</td>\n",
       "    </tr>\n",
       "    <tr>\n",
       "      <th>4</th>\n",
       "      <td>ENST00000000233</td>\n",
       "      <td>368</td>\n",
       "      <td>0.407557</td>\n",
       "      <td>0</td>\n",
       "      <td>0</td>\n",
       "    </tr>\n",
       "    <tr>\n",
       "      <th>...</th>\n",
       "      <td>...</td>\n",
       "      <td>...</td>\n",
       "      <td>...</td>\n",
       "      <td>...</td>\n",
       "      <td>...</td>\n",
       "    </tr>\n",
       "    <tr>\n",
       "      <th>121833</th>\n",
       "      <td>ENST00000641834</td>\n",
       "      <td>1348</td>\n",
       "      <td>0.980508</td>\n",
       "      <td>1</td>\n",
       "      <td>1</td>\n",
       "    </tr>\n",
       "    <tr>\n",
       "      <th>121834</th>\n",
       "      <td>ENST00000641834</td>\n",
       "      <td>1429</td>\n",
       "      <td>0.062326</td>\n",
       "      <td>0</td>\n",
       "      <td>0</td>\n",
       "    </tr>\n",
       "    <tr>\n",
       "      <th>121835</th>\n",
       "      <td>ENST00000641834</td>\n",
       "      <td>1531</td>\n",
       "      <td>0.994412</td>\n",
       "      <td>1</td>\n",
       "      <td>1</td>\n",
       "    </tr>\n",
       "    <tr>\n",
       "      <th>121836</th>\n",
       "      <td>ENST00000641834</td>\n",
       "      <td>1537</td>\n",
       "      <td>0.447808</td>\n",
       "      <td>0</td>\n",
       "      <td>0</td>\n",
       "    </tr>\n",
       "    <tr>\n",
       "      <th>121837</th>\n",
       "      <td>ENST00000641834</td>\n",
       "      <td>1693</td>\n",
       "      <td>0.015288</td>\n",
       "      <td>0</td>\n",
       "      <td>0</td>\n",
       "    </tr>\n",
       "  </tbody>\n",
       "</table>\n",
       "<p>121838 rows × 5 columns</p>\n",
       "</div>"
      ],
      "text/plain": [
       "          transcript_id  transcript_position     score  label  pred\n",
       "0       ENST00000000233                  244  0.071954      0     0\n",
       "1       ENST00000000233                  261  0.039076      0     0\n",
       "2       ENST00000000233                  316  0.035678      0     0\n",
       "3       ENST00000000233                  332  0.333933      0     0\n",
       "4       ENST00000000233                  368  0.407557      0     0\n",
       "...                 ...                  ...       ...    ...   ...\n",
       "121833  ENST00000641834                 1348  0.980508      1     1\n",
       "121834  ENST00000641834                 1429  0.062326      0     0\n",
       "121835  ENST00000641834                 1531  0.994412      1     1\n",
       "121836  ENST00000641834                 1537  0.447808      0     0\n",
       "121837  ENST00000641834                 1693  0.015288      0     0\n",
       "\n",
       "[121838 rows x 5 columns]"
      ]
     },
     "execution_count": 25,
     "metadata": {},
     "output_type": "execute_result"
    }
   ],
   "source": [
    "# Threshold\n",
    "thresh = 0.8\n",
    "pred_df['pred'] = pred_df['score'].apply(lambda x : 1 if x>thresh else 0)\n",
    "pred_df"
   ]
  },
  {
   "cell_type": "markdown",
   "id": "1986a123",
   "metadata": {},
   "source": [
    "## Classification report"
   ]
  },
  {
   "cell_type": "code",
   "execution_count": 26,
   "id": "83e5de82",
   "metadata": {
    "ExecuteTime": {
     "end_time": "2022-10-16T06:51:02.294342Z",
     "start_time": "2022-10-16T06:51:02.257792Z"
    }
   },
   "outputs": [],
   "source": [
    "true_labels = pred_df['label'].to_list()\n",
    "pred_labels = pred_df['pred'].to_list()"
   ]
  },
  {
   "cell_type": "code",
   "execution_count": 27,
   "id": "8d20301c",
   "metadata": {
    "ExecuteTime": {
     "end_time": "2022-10-16T06:51:04.207275Z",
     "start_time": "2022-10-16T06:51:03.580191Z"
    }
   },
   "outputs": [
    {
     "name": "stdout",
     "output_type": "stream",
     "text": [
      "AUC Score : 0.7943500603547465\n",
      "PR Score : 0.3213280429630108\n"
     ]
    }
   ],
   "source": [
    "from sklearn import metrics\n",
    "# Get AUC ROC score\n",
    "fpr, tpr, thresholds = metrics.roc_curve(true_labels, pred_labels, pos_label=1)\n",
    "auc_scorerf = metrics.auc(fpr, tpr)\n",
    "\n",
    "# fpr, tpr, thresholds = metrics.roc_curve(y_test, dummypred, pos_label=1)\n",
    "# auc_scoredummy = metrics.auc(fpr, tpr)\n",
    "\n",
    "# Get PR Score\n",
    "pr_scorerf = metrics.average_precision_score(true_labels, pred_labels, pos_label=1)\n",
    "# pr_scoredummy = average_precision_score(y_test, dummypred, pos_label=1)\n",
    "\n",
    "print(f\"AUC Score : {auc_scorerf}\")\n",
    "print(f\"PR Score : {pr_scorerf}\")"
   ]
  },
  {
   "cell_type": "code",
   "execution_count": 24,
   "id": "cc6ed888",
   "metadata": {
    "ExecuteTime": {
     "end_time": "2022-10-16T06:50:53.841194Z",
     "start_time": "2022-10-16T06:50:52.976310Z"
    }
   },
   "outputs": [
    {
     "name": "stdout",
     "output_type": "stream",
     "text": [
      "              precision    recall  f1-score   support\n",
      "\n",
      "           0       0.98      0.98      0.98    116363\n",
      "           1       0.59      0.46      0.52      5475\n",
      "\n",
      "    accuracy                           0.96    121838\n",
      "   macro avg       0.78      0.72      0.75    121838\n",
      "weighted avg       0.96      0.96      0.96    121838\n",
      "\n"
     ]
    }
   ],
   "source": [
    "from sklearn.metrics import classification_report\n",
    "print(classification_report(true_labels, pred_labels))"
   ]
  },
  {
   "cell_type": "code",
   "execution_count": 182,
   "id": "e953914c",
   "metadata": {
    "ExecuteTime": {
     "end_time": "2022-10-16T05:17:38.258192Z",
     "start_time": "2022-10-16T05:17:38.248820Z"
    }
   },
   "outputs": [
    {
     "data": {
      "text/plain": [
       "count    256.000000\n",
       "mean       0.148288\n",
       "std        0.158737\n",
       "min        0.000336\n",
       "25%        0.038633\n",
       "50%        0.077050\n",
       "75%        0.212591\n",
       "max        0.929638\n",
       "Name: score, dtype: float64"
      ]
     },
     "execution_count": 182,
     "metadata": {},
     "output_type": "execute_result"
    }
   ],
   "source": [
    "pred_df['score'].describe()"
   ]
  },
  {
   "cell_type": "code",
   "execution_count": 183,
   "id": "4c0a71ec",
   "metadata": {
    "ExecuteTime": {
     "end_time": "2022-10-16T05:17:38.859821Z",
     "start_time": "2022-10-16T05:17:38.855442Z"
    }
   },
   "outputs": [
    {
     "data": {
      "text/plain": [
       "(205, 45)"
      ]
     },
     "execution_count": 183,
     "metadata": {},
     "output_type": "execute_result"
    }
   ],
   "source": [
    "divmod(12345, 60)"
   ]
  },
  {
   "cell_type": "code",
   "execution_count": 31,
   "id": "bf261f93",
   "metadata": {
    "ExecuteTime": {
     "end_time": "2022-10-16T06:55:35.032117Z",
     "start_time": "2022-10-16T06:55:35.011804Z"
    }
   },
   "outputs": [
    {
     "data": {
      "text/html": [
       "<div>\n",
       "<style scoped>\n",
       "    .dataframe tbody tr th:only-of-type {\n",
       "        vertical-align: middle;\n",
       "    }\n",
       "\n",
       "    .dataframe tbody tr th {\n",
       "        vertical-align: top;\n",
       "    }\n",
       "\n",
       "    .dataframe thead th {\n",
       "        text-align: right;\n",
       "    }\n",
       "</style>\n",
       "<table border=\"1\" class=\"dataframe\">\n",
       "  <thead>\n",
       "    <tr style=\"text-align: right;\">\n",
       "      <th></th>\n",
       "      <th>transcript_id</th>\n",
       "      <th>transcript_position</th>\n",
       "      <th>score</th>\n",
       "      <th>label</th>\n",
       "      <th>pred</th>\n",
       "    </tr>\n",
       "  </thead>\n",
       "  <tbody>\n",
       "    <tr>\n",
       "      <th>0</th>\n",
       "      <td>ENST00000000233</td>\n",
       "      <td>244</td>\n",
       "      <td>0.071954</td>\n",
       "      <td>0</td>\n",
       "      <td>0</td>\n",
       "    </tr>\n",
       "    <tr>\n",
       "      <th>1</th>\n",
       "      <td>ENST00000000233</td>\n",
       "      <td>261</td>\n",
       "      <td>0.039076</td>\n",
       "      <td>0</td>\n",
       "      <td>0</td>\n",
       "    </tr>\n",
       "    <tr>\n",
       "      <th>2</th>\n",
       "      <td>ENST00000000233</td>\n",
       "      <td>316</td>\n",
       "      <td>0.035678</td>\n",
       "      <td>0</td>\n",
       "      <td>0</td>\n",
       "    </tr>\n",
       "    <tr>\n",
       "      <th>3</th>\n",
       "      <td>ENST00000000233</td>\n",
       "      <td>332</td>\n",
       "      <td>0.333933</td>\n",
       "      <td>0</td>\n",
       "      <td>0</td>\n",
       "    </tr>\n",
       "    <tr>\n",
       "      <th>4</th>\n",
       "      <td>ENST00000000233</td>\n",
       "      <td>368</td>\n",
       "      <td>0.407557</td>\n",
       "      <td>0</td>\n",
       "      <td>0</td>\n",
       "    </tr>\n",
       "    <tr>\n",
       "      <th>...</th>\n",
       "      <td>...</td>\n",
       "      <td>...</td>\n",
       "      <td>...</td>\n",
       "      <td>...</td>\n",
       "      <td>...</td>\n",
       "    </tr>\n",
       "    <tr>\n",
       "      <th>121833</th>\n",
       "      <td>ENST00000641834</td>\n",
       "      <td>1348</td>\n",
       "      <td>0.980508</td>\n",
       "      <td>1</td>\n",
       "      <td>1</td>\n",
       "    </tr>\n",
       "    <tr>\n",
       "      <th>121834</th>\n",
       "      <td>ENST00000641834</td>\n",
       "      <td>1429</td>\n",
       "      <td>0.062326</td>\n",
       "      <td>0</td>\n",
       "      <td>0</td>\n",
       "    </tr>\n",
       "    <tr>\n",
       "      <th>121835</th>\n",
       "      <td>ENST00000641834</td>\n",
       "      <td>1531</td>\n",
       "      <td>0.994412</td>\n",
       "      <td>1</td>\n",
       "      <td>1</td>\n",
       "    </tr>\n",
       "    <tr>\n",
       "      <th>121836</th>\n",
       "      <td>ENST00000641834</td>\n",
       "      <td>1537</td>\n",
       "      <td>0.447808</td>\n",
       "      <td>0</td>\n",
       "      <td>0</td>\n",
       "    </tr>\n",
       "    <tr>\n",
       "      <th>121837</th>\n",
       "      <td>ENST00000641834</td>\n",
       "      <td>1693</td>\n",
       "      <td>0.015288</td>\n",
       "      <td>0</td>\n",
       "      <td>0</td>\n",
       "    </tr>\n",
       "  </tbody>\n",
       "</table>\n",
       "<p>121838 rows × 5 columns</p>\n",
       "</div>"
      ],
      "text/plain": [
       "          transcript_id  transcript_position     score  label  pred\n",
       "0       ENST00000000233                  244  0.071954      0     0\n",
       "1       ENST00000000233                  261  0.039076      0     0\n",
       "2       ENST00000000233                  316  0.035678      0     0\n",
       "3       ENST00000000233                  332  0.333933      0     0\n",
       "4       ENST00000000233                  368  0.407557      0     0\n",
       "...                 ...                  ...       ...    ...   ...\n",
       "121833  ENST00000641834                 1348  0.980508      1     1\n",
       "121834  ENST00000641834                 1429  0.062326      0     0\n",
       "121835  ENST00000641834                 1531  0.994412      1     1\n",
       "121836  ENST00000641834                 1537  0.447808      0     0\n",
       "121837  ENST00000641834                 1693  0.015288      0     0\n",
       "\n",
       "[121838 rows x 5 columns]"
      ]
     },
     "execution_count": 31,
     "metadata": {},
     "output_type": "execute_result"
    }
   ],
   "source": [
    "pred_df"
   ]
  },
  {
   "cell_type": "code",
   "execution_count": 188,
   "id": "3cc07f41",
   "metadata": {
    "ExecuteTime": {
     "end_time": "2022-10-16T05:20:02.438126Z",
     "start_time": "2022-10-16T05:20:02.431454Z"
    }
   },
   "outputs": [],
   "source": [
    "q = pd.merge(pred_df, pred_df2, on = (\"transcript_id\", \"transcript_position\"), how='left')"
   ]
  },
  {
   "cell_type": "code",
   "execution_count": 190,
   "id": "87cecd0b",
   "metadata": {
    "ExecuteTime": {
     "end_time": "2022-10-16T05:21:07.412412Z",
     "start_time": "2022-10-16T05:21:07.400182Z"
    }
   },
   "outputs": [
    {
     "data": {
      "text/html": [
       "<div>\n",
       "<style scoped>\n",
       "    .dataframe tbody tr th:only-of-type {\n",
       "        vertical-align: middle;\n",
       "    }\n",
       "\n",
       "    .dataframe tbody tr th {\n",
       "        vertical-align: top;\n",
       "    }\n",
       "\n",
       "    .dataframe thead th {\n",
       "        text-align: right;\n",
       "    }\n",
       "</style>\n",
       "<table border=\"1\" class=\"dataframe\">\n",
       "  <thead>\n",
       "    <tr style=\"text-align: right;\">\n",
       "      <th></th>\n",
       "      <th>transcript_id</th>\n",
       "      <th>transcript_position</th>\n",
       "      <th>score_x</th>\n",
       "      <th>label</th>\n",
       "      <th>pred</th>\n",
       "      <th>score_y</th>\n",
       "    </tr>\n",
       "  </thead>\n",
       "  <tbody>\n",
       "    <tr>\n",
       "      <th>0</th>\n",
       "      <td>ENST00000000233</td>\n",
       "      <td>244</td>\n",
       "      <td>0.001845</td>\n",
       "      <td>0</td>\n",
       "      <td>0</td>\n",
       "      <td>0.001877</td>\n",
       "    </tr>\n",
       "    <tr>\n",
       "      <th>1</th>\n",
       "      <td>ENST00000000233</td>\n",
       "      <td>261</td>\n",
       "      <td>0.605324</td>\n",
       "      <td>0</td>\n",
       "      <td>0</td>\n",
       "      <td>0.593156</td>\n",
       "    </tr>\n",
       "    <tr>\n",
       "      <th>2</th>\n",
       "      <td>ENST00000000233</td>\n",
       "      <td>316</td>\n",
       "      <td>0.005548</td>\n",
       "      <td>0</td>\n",
       "      <td>0</td>\n",
       "      <td>0.005560</td>\n",
       "    </tr>\n",
       "    <tr>\n",
       "      <th>3</th>\n",
       "      <td>ENST00000000233</td>\n",
       "      <td>332</td>\n",
       "      <td>0.257062</td>\n",
       "      <td>0</td>\n",
       "      <td>0</td>\n",
       "      <td>0.243638</td>\n",
       "    </tr>\n",
       "    <tr>\n",
       "      <th>4</th>\n",
       "      <td>ENST00000000233</td>\n",
       "      <td>368</td>\n",
       "      <td>0.062092</td>\n",
       "      <td>0</td>\n",
       "      <td>0</td>\n",
       "      <td>0.058775</td>\n",
       "    </tr>\n",
       "    <tr>\n",
       "      <th>...</th>\n",
       "      <td>...</td>\n",
       "      <td>...</td>\n",
       "      <td>...</td>\n",
       "      <td>...</td>\n",
       "      <td>...</td>\n",
       "      <td>...</td>\n",
       "    </tr>\n",
       "    <tr>\n",
       "      <th>251</th>\n",
       "      <td>ENST00000007264</td>\n",
       "      <td>1061</td>\n",
       "      <td>0.252586</td>\n",
       "      <td>1</td>\n",
       "      <td>0</td>\n",
       "      <td>0.252846</td>\n",
       "    </tr>\n",
       "    <tr>\n",
       "      <th>252</th>\n",
       "      <td>ENST00000007264</td>\n",
       "      <td>1066</td>\n",
       "      <td>0.559602</td>\n",
       "      <td>1</td>\n",
       "      <td>0</td>\n",
       "      <td>0.564825</td>\n",
       "    </tr>\n",
       "    <tr>\n",
       "      <th>253</th>\n",
       "      <td>ENST00000007264</td>\n",
       "      <td>1116</td>\n",
       "      <td>0.573830</td>\n",
       "      <td>1</td>\n",
       "      <td>0</td>\n",
       "      <td>0.573907</td>\n",
       "    </tr>\n",
       "    <tr>\n",
       "      <th>254</th>\n",
       "      <td>ENST00000007264</td>\n",
       "      <td>1293</td>\n",
       "      <td>0.529234</td>\n",
       "      <td>1</td>\n",
       "      <td>0</td>\n",
       "      <td>0.534067</td>\n",
       "    </tr>\n",
       "    <tr>\n",
       "      <th>255</th>\n",
       "      <td>ENST00000007264</td>\n",
       "      <td>1341</td>\n",
       "      <td>0.184012</td>\n",
       "      <td>0</td>\n",
       "      <td>0</td>\n",
       "      <td>0.180073</td>\n",
       "    </tr>\n",
       "  </tbody>\n",
       "</table>\n",
       "<p>256 rows × 6 columns</p>\n",
       "</div>"
      ],
      "text/plain": [
       "       transcript_id  transcript_position   score_x  label  pred   score_y\n",
       "0    ENST00000000233                  244  0.001845      0     0  0.001877\n",
       "1    ENST00000000233                  261  0.605324      0     0  0.593156\n",
       "2    ENST00000000233                  316  0.005548      0     0  0.005560\n",
       "3    ENST00000000233                  332  0.257062      0     0  0.243638\n",
       "4    ENST00000000233                  368  0.062092      0     0  0.058775\n",
       "..               ...                  ...       ...    ...   ...       ...\n",
       "251  ENST00000007264                 1061  0.252586      1     0  0.252846\n",
       "252  ENST00000007264                 1066  0.559602      1     0  0.564825\n",
       "253  ENST00000007264                 1116  0.573830      1     0  0.573907\n",
       "254  ENST00000007264                 1293  0.529234      1     0  0.534067\n",
       "255  ENST00000007264                 1341  0.184012      0     0  0.180073\n",
       "\n",
       "[256 rows x 6 columns]"
      ]
     },
     "execution_count": 190,
     "metadata": {},
     "output_type": "execute_result"
    }
   ],
   "source": [
    "q"
   ]
  },
  {
   "cell_type": "markdown",
   "id": "d06b3b6a",
   "metadata": {},
   "source": [
    "## PLOT ROC & PR"
   ]
  },
  {
   "cell_type": "code",
   "execution_count": 43,
   "id": "ebcf0204",
   "metadata": {
    "ExecuteTime": {
     "end_time": "2022-10-16T07:05:15.340975Z",
     "start_time": "2022-10-16T07:05:15.337465Z"
    }
   },
   "outputs": [],
   "source": [
    "from sklearn.metrics import roc_auc_score\n",
    "from sklearn.metrics import precision_recall_curve\n",
    "from sklearn.metrics import PrecisionRecallDisplay\n",
    "from sklearn.metrics import RocCurveDisplay"
   ]
  },
  {
   "cell_type": "code",
   "execution_count": 59,
   "id": "6b1e8c70",
   "metadata": {
    "ExecuteTime": {
     "end_time": "2022-10-16T07:26:56.026982Z",
     "start_time": "2022-10-16T07:26:55.957093Z"
    }
   },
   "outputs": [
    {
     "data": {
      "text/plain": [
       "0.5279897687646606"
      ]
     },
     "execution_count": 59,
     "metadata": {},
     "output_type": "execute_result"
    }
   ],
   "source": [
    "from sklearn.metrics import precision_recall_curve\n",
    "from sklearn.metrics import auc\n",
    "\n",
    "precision, recall, _ = precision_recall_curve(true_labels, scores)\n",
    "auc_score = auc(recall, precision)\n",
    "auc_score"
   ]
  },
  {
   "cell_type": "code",
   "execution_count": 32,
   "id": "e55fb902",
   "metadata": {
    "ExecuteTime": {
     "end_time": "2022-10-16T06:55:41.594225Z",
     "start_time": "2022-10-16T06:55:41.591703Z"
    }
   },
   "outputs": [],
   "source": [
    "scores= pred_df['score']"
   ]
  },
  {
   "cell_type": "code",
   "execution_count": 33,
   "id": "02c84e8e",
   "metadata": {
    "ExecuteTime": {
     "end_time": "2022-10-16T06:55:46.565625Z",
     "start_time": "2022-10-16T06:55:46.485767Z"
    }
   },
   "outputs": [
    {
     "data": {
      "text/plain": [
       "0.9488521233957805"
      ]
     },
     "execution_count": 33,
     "metadata": {},
     "output_type": "execute_result"
    }
   ],
   "source": [
    "roc_auc_score(true_labels, scores)"
   ]
  },
  {
   "cell_type": "markdown",
   "id": "179a0ee6",
   "metadata": {},
   "source": [
    "### ROC"
   ]
  },
  {
   "cell_type": "code",
   "execution_count": 44,
   "id": "8d6f1421",
   "metadata": {
    "ExecuteTime": {
     "end_time": "2022-10-16T07:05:47.966919Z",
     "start_time": "2022-10-16T07:05:47.714778Z"
    }
   },
   "outputs": [
    {
     "data": {
      "text/plain": [
       "<sklearn.metrics._plot.roc_curve.RocCurveDisplay at 0x7fe2fd491430>"
      ]
     },
     "execution_count": 44,
     "metadata": {},
     "output_type": "execute_result"
    },
    {
     "data": {
      "image/png": "[encoded data removed]",
      "text/plain": [
       "<Figure size 432x288 with 1 Axes>"
      ]
     },
     "metadata": {
      "needs_background": "light"
     },
     "output_type": "display_data"
    }
   ],
   "source": [
    "RocCurveDisplay.from_predictions(true_labels, scores)"
   ]
  },
  {
   "cell_type": "markdown",
   "id": "985bef97",
   "metadata": {},
   "source": [
    "### PR"
   ]
  },
  {
   "cell_type": "code",
   "execution_count": 42,
   "id": "74d683b1",
   "metadata": {
    "ExecuteTime": {
     "end_time": "2022-10-16T07:04:56.463432Z",
     "start_time": "2022-10-16T07:04:56.100545Z"
    }
   },
   "outputs": [
    {
     "data": {
      "text/plain": [
       "<sklearn.metrics._plot.precision_recall_curve.PrecisionRecallDisplay at 0x7fe2fc477160>"
      ]
     },
     "execution_count": 42,
     "metadata": {},
     "output_type": "execute_result"
    },
    {
     "data": {
      "image/png": "[encoded data removed]",
      "text/plain": [
       "<Figure size 432x288 with 1 Axes>"
      ]
     },
     "metadata": {
      "needs_background": "light"
     },
     "output_type": "display_data"
    }
   ],
   "source": [
    "PrecisionRecallDisplay.from_predictions(true_labels, scores)"
   ]
  },
  {
   "cell_type": "code",
   "execution_count": 52,
   "id": "a17b4235",
   "metadata": {
    "ExecuteTime": {
     "end_time": "2022-10-16T07:11:05.538418Z",
     "start_time": "2022-10-16T07:11:05.530311Z"
    }
   },
   "outputs": [
    {
     "data": {
      "text/html": [
       "<div>\n",
       "<style scoped>\n",
       "    .dataframe tbody tr th:only-of-type {\n",
       "        vertical-align: middle;\n",
       "    }\n",
       "\n",
       "    .dataframe tbody tr th {\n",
       "        vertical-align: top;\n",
       "    }\n",
       "\n",
       "    .dataframe thead th {\n",
       "        text-align: right;\n",
       "    }\n",
       "</style>\n",
       "<table border=\"1\" class=\"dataframe\">\n",
       "  <thead>\n",
       "    <tr style=\"text-align: right;\">\n",
       "      <th></th>\n",
       "      <th>transcript_id</th>\n",
       "      <th>transcript_position</th>\n",
       "      <th>score</th>\n",
       "    </tr>\n",
       "  </thead>\n",
       "  <tbody>\n",
       "    <tr>\n",
       "      <th>0</th>\n",
       "      <td>ENST00000000233</td>\n",
       "      <td>244</td>\n",
       "      <td>0.071954</td>\n",
       "    </tr>\n",
       "    <tr>\n",
       "      <th>1</th>\n",
       "      <td>ENST00000000233</td>\n",
       "      <td>261</td>\n",
       "      <td>0.039076</td>\n",
       "    </tr>\n",
       "    <tr>\n",
       "      <th>2</th>\n",
       "      <td>ENST00000000233</td>\n",
       "      <td>316</td>\n",
       "      <td>0.035678</td>\n",
       "    </tr>\n",
       "    <tr>\n",
       "      <th>3</th>\n",
       "      <td>ENST00000000233</td>\n",
       "      <td>332</td>\n",
       "      <td>0.333933</td>\n",
       "    </tr>\n",
       "    <tr>\n",
       "      <th>4</th>\n",
       "      <td>ENST00000000233</td>\n",
       "      <td>368</td>\n",
       "      <td>0.407557</td>\n",
       "    </tr>\n",
       "  </tbody>\n",
       "</table>\n",
       "</div>"
      ],
      "text/plain": [
       "     transcript_id  transcript_position     score\n",
       "0  ENST00000000233                  244  0.071954\n",
       "1  ENST00000000233                  261  0.039076\n",
       "2  ENST00000000233                  316  0.035678\n",
       "3  ENST00000000233                  332  0.333933\n",
       "4  ENST00000000233                  368  0.407557"
      ]
     },
     "execution_count": 52,
     "metadata": {},
     "output_type": "execute_result"
    }
   ],
   "source": [
    "df.head()"
   ]
  },
  {
   "cell_type": "markdown",
   "id": "23b8cacd",
   "metadata": {},
   "source": [
    "## Compared to random"
   ]
  },
  {
   "cell_type": "code",
   "execution_count": 60,
   "id": "c25f730c",
   "metadata": {
    "ExecuteTime": {
     "end_time": "2022-10-16T07:40:14.289822Z",
     "start_time": "2022-10-16T07:40:14.287337Z"
    }
   },
   "outputs": [],
   "source": [
    "import random"
   ]
  },
  {
   "cell_type": "code",
   "execution_count": 72,
   "id": "3541dd2b",
   "metadata": {
    "ExecuteTime": {
     "end_time": "2022-10-16T07:42:35.300129Z",
     "start_time": "2022-10-16T07:42:35.249548Z"
    }
   },
   "outputs": [],
   "source": [
    "size=df.shape[0]\n",
    "rand_score = [random.uniform(0, 1) for i in range(size)]"
   ]
  },
  {
   "cell_type": "code",
   "execution_count": 73,
   "id": "beaac730",
   "metadata": {
    "ExecuteTime": {
     "end_time": "2022-10-16T07:42:35.870567Z",
     "start_time": "2022-10-16T07:42:35.654268Z"
    }
   },
   "outputs": [
    {
     "data": {
      "text/plain": [
       "<sklearn.metrics._plot.roc_curve.RocCurveDisplay at 0x7fe2fed88eb0>"
      ]
     },
     "execution_count": 73,
     "metadata": {},
     "output_type": "execute_result"
    },
    {
     "data": {
      "image/png": "[encoded data removed]",
      "text/plain": [
       "<Figure size 432x288 with 1 Axes>"
      ]
     },
     "metadata": {
      "needs_background": "light"
     },
     "output_type": "display_data"
    }
   ],
   "source": [
    "RocCurveDisplay.from_predictions(true_labels, rand_score)"
   ]
  },
  {
   "cell_type": "code",
   "execution_count": 74,
   "id": "35af4d0f",
   "metadata": {
    "ExecuteTime": {
     "end_time": "2022-10-16T07:42:37.649806Z",
     "start_time": "2022-10-16T07:42:37.322218Z"
    }
   },
   "outputs": [
    {
     "data": {
      "text/plain": [
       "<sklearn.metrics._plot.precision_recall_curve.PrecisionRecallDisplay at 0x7fe2ff19fbb0>"
      ]
     },
     "execution_count": 74,
     "metadata": {},
     "output_type": "execute_result"
    },
    {
     "data": {
      "image/png": "[encoded data removed]",
      "text/plain": [
       "<Figure size 432x288 with 1 Axes>"
      ]
     },
     "metadata": {
      "needs_background": "light"
     },
     "output_type": "display_data"
    }
   ],
   "source": [
    "PrecisionRecallDisplay.from_predictions(true_labels, rand_score)"
   ]
  },
  {
   "cell_type": "code",
   "execution_count": null,
   "id": "e01fe138",
   "metadata": {},
   "outputs": [],
   "source": []
  }
 ],
 "metadata": {
  "kernelspec": {
   "display_name": "Python 3 (ipykernel)",
   "language": "python",
   "name": "python3"
  },
  "language_info": {
   "codemirror_mode": {
    "name": "ipython",
    "version": 3
   },
   "file_extension": ".py",
   "mimetype": "text/x-python",
   "name": "python",
   "nbconvert_exporter": "python",
   "pygments_lexer": "ipython3",
   "version": "3.9.12"
  },
  "toc": {
   "base_numbering": 1,
   "nav_menu": {},
   "number_sections": false,
   "sideBar": true,
   "skip_h1_title": false,
   "title_cell": "Table of Contents",
   "title_sidebar": "Contents",
   "toc_cell": false,
   "toc_position": {},
   "toc_section_display": true,
   "toc_window_display": true
  }
 },
 "nbformat": 4,
 "nbformat_minor": 5
}
