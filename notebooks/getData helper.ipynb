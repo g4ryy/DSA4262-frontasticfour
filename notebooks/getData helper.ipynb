{
 "cells": [
  {
   "cell_type": "markdown",
   "metadata": {},
   "source": [
    "# Testing `getData.py`"
   ]
  },
  {
   "cell_type": "code",
   "execution_count": 1,
   "metadata": {
    "ExecuteTime": {
     "end_time": "2022-10-08T15:05:21.716133Z",
     "start_time": "2022-10-08T15:05:21.712535Z"
    }
   },
   "outputs": [],
   "source": [
    "# To be able to import the file\n",
    "import sys\n",
    "pathname=\"/Users/carelchay/Desktop/School/Modules/DSA4262/Project 2/DSA4262-frontasticfour/scripts\"\n",
    "if pathname not in sys.path:\n",
    "    sys.path.append(pathname)"
   ]
  },
  {
   "cell_type": "code",
   "execution_count": 3,
   "metadata": {
    "ExecuteTime": {
     "end_time": "2022-10-08T15:06:57.700896Z",
     "start_time": "2022-10-08T15:06:57.698238Z"
    }
   },
   "outputs": [],
   "source": [
    "# Set the path the the raw data and data labels. \n",
    "# (might need to change to your local machine settings)\n",
    "path_to_data=\"/Users/carelchay/Desktop/School/Modules/DSA4262/Project 2/data/data.json\"\n",
    "path_to_labels=\"/Users/carelchay/Desktop/School/Modules/DSA4262/Project 2/data/data.info\""
   ]
  },
  {
   "cell_type": "code",
   "execution_count": 4,
   "metadata": {
    "ExecuteTime": {
     "end_time": "2022-10-08T15:06:58.312580Z",
     "start_time": "2022-10-08T15:06:58.002227Z"
    }
   },
   "outputs": [],
   "source": [
    "# Import helper class\n",
    "import getData"
   ]
  },
  {
   "cell_type": "code",
   "execution_count": 7,
   "metadata": {
    "ExecuteTime": {
     "end_time": "2022-10-08T15:07:35.356902Z",
     "start_time": "2022-10-08T15:07:35.352947Z"
    }
   },
   "outputs": [
    {
     "name": "stdout",
     "output_type": "stream",
     "text": [
      "\n",
      "    A class used to obtain the the raw data and label data for the purposes of model training / evaluation\n",
      "\n",
      "    Attributes\n",
      "    ---------\n",
      "    path_to_data : str\n",
      "        The absolute path to where the data.json file (the raw data) is stored\n",
      "    path_to_labels : str\n",
      "        The absolute path to where the data.info file (the labels) is stored\n",
      "    data : Dict\n",
      "        The dictionary used to store the parsed data from the raw json file\n",
      "    label_df : pandas.DataFrame\n",
      "        DataFrame used to store the class labels parsed from the data.info file\n",
      "\n",
      "    Methods\n",
      "    ---------\n",
      "    get_labels : pandas.DataFrame\n",
      "        Parses the data.info file and returns the class labels formatted in a pandas DataFrame\n",
      "    det_data : Dict or pandas.DataFrame\n",
      "        Parses the data.json file and returns the parsed raw data in either a dictionary or pandas DataFrame format\n",
      "\n",
      "    \n"
     ]
    }
   ],
   "source": [
    "# Create new class instance, override default raw data & data label paths. \n",
    "# (the default paths are configured for AWS)\n",
    "get_data = getData.getData(path_to_data=path_to_data, path_to_labels=path_to_labels)\n",
    "\n",
    "# View documentation\n",
    "print(get_data.__doc__)"
   ]
  },
  {
   "cell_type": "code",
   "execution_count": 8,
   "metadata": {
    "ExecuteTime": {
     "end_time": "2022-10-08T15:09:26.160874Z",
     "start_time": "2022-10-08T15:09:25.896289Z"
    }
   },
   "outputs": [],
   "source": [
    "# Get the data labels as a dataframe\n",
    "labels=get_data.get_labels()"
   ]
  },
  {
   "cell_type": "code",
   "execution_count": 9,
   "metadata": {
    "ExecuteTime": {
     "end_time": "2022-10-08T15:09:26.551200Z",
     "start_time": "2022-10-08T15:09:26.534941Z"
    }
   },
   "outputs": [
    {
     "data": {
      "text/html": [
       "<div>\n",
       "<style scoped>\n",
       "    .dataframe tbody tr th:only-of-type {\n",
       "        vertical-align: middle;\n",
       "    }\n",
       "\n",
       "    .dataframe tbody tr th {\n",
       "        vertical-align: top;\n",
       "    }\n",
       "\n",
       "    .dataframe thead th {\n",
       "        text-align: right;\n",
       "    }\n",
       "</style>\n",
       "<table border=\"1\" class=\"dataframe\">\n",
       "  <thead>\n",
       "    <tr style=\"text-align: right;\">\n",
       "      <th></th>\n",
       "      <th>gene_id</th>\n",
       "      <th>transcript_id</th>\n",
       "      <th>transcript_position</th>\n",
       "      <th>label</th>\n",
       "    </tr>\n",
       "  </thead>\n",
       "  <tbody>\n",
       "    <tr>\n",
       "      <th>1</th>\n",
       "      <td>ENSG00000004059</td>\n",
       "      <td>ENST00000000233</td>\n",
       "      <td>244</td>\n",
       "      <td>0</td>\n",
       "    </tr>\n",
       "    <tr>\n",
       "      <th>2</th>\n",
       "      <td>ENSG00000004059</td>\n",
       "      <td>ENST00000000233</td>\n",
       "      <td>261</td>\n",
       "      <td>0</td>\n",
       "    </tr>\n",
       "    <tr>\n",
       "      <th>3</th>\n",
       "      <td>ENSG00000004059</td>\n",
       "      <td>ENST00000000233</td>\n",
       "      <td>316</td>\n",
       "      <td>0</td>\n",
       "    </tr>\n",
       "    <tr>\n",
       "      <th>4</th>\n",
       "      <td>ENSG00000004059</td>\n",
       "      <td>ENST00000000233</td>\n",
       "      <td>332</td>\n",
       "      <td>0</td>\n",
       "    </tr>\n",
       "    <tr>\n",
       "      <th>5</th>\n",
       "      <td>ENSG00000004059</td>\n",
       "      <td>ENST00000000233</td>\n",
       "      <td>368</td>\n",
       "      <td>0</td>\n",
       "    </tr>\n",
       "    <tr>\n",
       "      <th>...</th>\n",
       "      <td>...</td>\n",
       "      <td>...</td>\n",
       "      <td>...</td>\n",
       "      <td>...</td>\n",
       "    </tr>\n",
       "    <tr>\n",
       "      <th>121834</th>\n",
       "      <td>ENSG00000167747</td>\n",
       "      <td>ENST00000641834</td>\n",
       "      <td>1348</td>\n",
       "      <td>1</td>\n",
       "    </tr>\n",
       "    <tr>\n",
       "      <th>121835</th>\n",
       "      <td>ENSG00000167747</td>\n",
       "      <td>ENST00000641834</td>\n",
       "      <td>1429</td>\n",
       "      <td>0</td>\n",
       "    </tr>\n",
       "    <tr>\n",
       "      <th>121836</th>\n",
       "      <td>ENSG00000167747</td>\n",
       "      <td>ENST00000641834</td>\n",
       "      <td>1531</td>\n",
       "      <td>1</td>\n",
       "    </tr>\n",
       "    <tr>\n",
       "      <th>121837</th>\n",
       "      <td>ENSG00000167747</td>\n",
       "      <td>ENST00000641834</td>\n",
       "      <td>1537</td>\n",
       "      <td>0</td>\n",
       "    </tr>\n",
       "    <tr>\n",
       "      <th>121838</th>\n",
       "      <td>ENSG00000167747</td>\n",
       "      <td>ENST00000641834</td>\n",
       "      <td>1693</td>\n",
       "      <td>0</td>\n",
       "    </tr>\n",
       "  </tbody>\n",
       "</table>\n",
       "<p>121838 rows × 4 columns</p>\n",
       "</div>"
      ],
      "text/plain": [
       "0               gene_id    transcript_id  transcript_position label\n",
       "1       ENSG00000004059  ENST00000000233                  244     0\n",
       "2       ENSG00000004059  ENST00000000233                  261     0\n",
       "3       ENSG00000004059  ENST00000000233                  316     0\n",
       "4       ENSG00000004059  ENST00000000233                  332     0\n",
       "5       ENSG00000004059  ENST00000000233                  368     0\n",
       "...                 ...              ...                  ...   ...\n",
       "121834  ENSG00000167747  ENST00000641834                 1348     1\n",
       "121835  ENSG00000167747  ENST00000641834                 1429     0\n",
       "121836  ENSG00000167747  ENST00000641834                 1531     1\n",
       "121837  ENSG00000167747  ENST00000641834                 1537     0\n",
       "121838  ENSG00000167747  ENST00000641834                 1693     0\n",
       "\n",
       "[121838 rows x 4 columns]"
      ]
     },
     "execution_count": 9,
     "metadata": {},
     "output_type": "execute_result"
    }
   ],
   "source": [
    "labels"
   ]
  },
  {
   "cell_type": "code",
   "execution_count": 10,
   "metadata": {
    "ExecuteTime": {
     "end_time": "2022-10-08T15:09:26.938948Z",
     "start_time": "2022-10-08T15:09:26.929875Z"
    }
   },
   "outputs": [],
   "source": [
    "# Get the first 10 entries of all the raw data files. by default returns \n",
    "# a dataframe. The list of list values are stored in the \"values\" column\n",
    "\n",
    "# set num_entries=0 to obtain ALL the data (not recommended if not on AWS)\n",
    "data_df = get_data.get_data(num_entries=10)"
   ]
  },
  {
   "cell_type": "code",
   "execution_count": 12,
   "metadata": {
    "ExecuteTime": {
     "end_time": "2022-10-08T15:09:53.671767Z",
     "start_time": "2022-10-08T15:09:53.650065Z"
    },
    "scrolled": false
   },
   "outputs": [
    {
     "data": {
      "text/plain": [
       "{'transcript': ['ENST00000000233',\n",
       "  'ENST00000000233',\n",
       "  'ENST00000000233',\n",
       "  'ENST00000000233',\n",
       "  'ENST00000000233',\n",
       "  'ENST00000000233',\n",
       "  'ENST00000000233',\n",
       "  'ENST00000000233',\n",
       "  'ENST00000000233',\n",
       "  'ENST00000000233'],\n",
       " 'position': [244, 261, 316, 332, 368, 404, 431, 440, 471, 539],\n",
       " 'k-mer bases': ['AAGACCA',\n",
       "  'CAAACTG',\n",
       "  'GAAACAG',\n",
       "  'AGAACAT',\n",
       "  'AGGACAA',\n",
       "  'AGAACAC',\n",
       "  'TGGACAG',\n",
       "  'ATGACCG',\n",
       "  'TGAACTC',\n",
       "  'AGGACAT'],\n",
       " 'values': [array([[2.99e-03, 2.06e+00, 1.25e+02, ..., 9.30e-03, 1.09e+01, 8.41e+01],\n",
       "         [6.31e-03, 2.53e+00, 1.25e+02, ..., 1.03e-02, 6.30e+00, 8.09e+01],\n",
       "         [4.65e-03, 3.92e+00, 1.09e+02, ..., 4.98e-03, 2.13e+00, 7.96e+01],\n",
       "         ...,\n",
       "         [7.64e-03, 3.90e+00, 1.24e+02, ..., 1.20e-02, 2.69e+00, 8.26e+01],\n",
       "         [8.63e-03, 3.46e+00, 1.21e+02, ..., 5.98e-03, 1.52e+00, 7.86e+01],\n",
       "         [2.70e-03, 4.45e+00, 1.20e+02, ..., 4.98e-03, 2.77e+00, 8.21e+01]]),\n",
       "  array([[1.26e-02, 1.95e+00, 1.11e+02, ..., 9.96e-03, 2.94e+00, 1.01e+02],\n",
       "         [4.32e-03, 2.35e+00, 1.11e+02, ..., 3.32e-03, 1.39e+00, 9.45e+01],\n",
       "         [2.66e-03, 3.81e+00, 1.08e+02, ..., 8.27e-03, 2.12e+00, 9.33e+01],\n",
       "         ...,\n",
       "         [3.98e-03, 3.36e+00, 1.10e+02, ..., 1.53e-02, 2.80e+00, 9.29e+01],\n",
       "         [6.97e-03, 2.94e+00, 1.11e+02, ..., 9.63e-03, 2.32e+00, 9.38e+01],\n",
       "         [4.98e-03, 4.93e+00, 1.05e+02, ..., 7.30e-03, 2.72e+00, 9.54e+01]]),\n",
       "  array([[4.32e-03, 2.02e+00, 1.04e+02, ..., 5.98e-03, 1.44e+00, 8.79e+01],\n",
       "         [2.16e-02, 3.29e+00, 1.07e+02, ..., 1.39e-02, 1.64e+00, 8.92e+01],\n",
       "         [2.99e-03, 2.43e+00, 1.02e+02, ..., 1.49e-02, 2.36e+00, 8.78e+01],\n",
       "         ...,\n",
       "         [4.10e-03, 2.29e+00, 1.04e+02, ..., 6.64e-03, 2.34e+00, 8.87e+01],\n",
       "         [6.03e-03, 2.55e+00, 1.08e+02, ..., 4.32e-03, 1.46e+00, 8.92e+01],\n",
       "         [3.93e-03, 2.67e+00, 1.06e+02, ..., 1.46e-02, 1.90e+00, 8.87e+01]]),\n",
       "  array([[1.34e-02, 4.71e+00, 1.32e+02, ..., 3.13e-03, 1.22e+00, 8.32e+01],\n",
       "         [1.34e-02, 8.18e+00, 1.28e+02, ..., 7.09e-03, 2.23e+00, 8.89e+01],\n",
       "         [9.37e-03, 5.62e+00, 1.30e+02, ..., 2.32e-03, 1.16e+00, 8.30e+01],\n",
       "         ...,\n",
       "         [1.31e-02, 4.53e+00, 1.28e+02, ..., 5.57e-03, 1.79e+00, 8.77e+01],\n",
       "         [7.79e-03, 5.36e+00, 1.28e+02, ..., 5.98e-03, 3.47e+00, 8.96e+01],\n",
       "         [1.06e-02, 3.79e+00, 1.31e+02, ..., 4.98e-03, 1.82e+00, 9.57e+01]]),\n",
       "  array([[1.50e-02, 6.97e+00, 1.18e+02, ..., 1.10e-02, 3.34e+00, 8.18e+01],\n",
       "         [3.65e-03, 4.93e+00, 1.16e+02, ..., 5.20e-03, 4.39e+00, 8.73e+01],\n",
       "         [4.05e-02, 7.74e+00, 1.20e+02, ..., 1.78e-02, 4.21e+00, 8.15e+01],\n",
       "         ...,\n",
       "         [6.31e-03, 4.42e+00, 1.16e+02, ..., 2.06e-02, 5.30e+00, 8.77e+01],\n",
       "         [3.98e-03, 5.74e+00, 1.15e+02, ..., 5.73e-03, 4.26e+00, 8.23e+01],\n",
       "         [3.65e-03, 5.45e+00, 1.16e+02, ..., 8.65e-03, 4.81e+00, 8.56e+01]]),\n",
       "  array([[4.44e-03, 5.40e+00, 1.31e+02, ..., 6.99e-03, 4.11e+00, 8.95e+01],\n",
       "         [4.89e-03, 4.03e+00, 1.30e+02, ..., 4.65e-03, 1.27e+00, 9.35e+01],\n",
       "         [7.31e-03, 3.64e+00, 1.33e+02, ..., 5.05e-03, 1.61e+00, 8.92e+01],\n",
       "         ...,\n",
       "         [5.15e-03, 8.71e+00, 1.28e+02, ..., 3.32e-03, 2.01e+00, 9.34e+01],\n",
       "         [1.24e-02, 7.60e+00, 1.28e+02, ..., 1.03e-02, 2.72e+00, 9.44e+01],\n",
       "         [5.38e-03, 5.27e+00, 1.29e+02, ..., 6.02e-03, 1.55e+00, 8.61e+01]]),\n",
       "  array([[1.02e-02, 2.78e+00, 1.18e+02, ..., 5.19e-03, 2.17e+00, 8.26e+01],\n",
       "         [7.30e-03, 3.27e+00, 1.18e+02, ..., 6.31e-03, 1.46e+00, 8.69e+01],\n",
       "         [1.42e-02, 2.33e+00, 1.18e+02, ..., 3.32e-03, 1.45e+00, 9.02e+01],\n",
       "         ...,\n",
       "         [1.54e-02, 2.96e+00, 1.18e+02, ..., 4.32e-03, 1.41e+00, 8.53e+01],\n",
       "         [2.32e-03, 3.22e+00, 1.18e+02, ..., 4.65e-03, 7.41e+00, 9.17e+01],\n",
       "         [1.06e-02, 2.34e+00, 1.16e+02, ..., 9.67e-03, 3.52e+00, 8.76e+01]]),\n",
       "  array([[4.32e-03, 2.94e+00, 9.75e+01, ..., 4.54e-03, 2.38e+00, 8.10e+01],\n",
       "         [2.74e-03, 2.71e+00, 9.90e+01, ..., 1.45e-02, 2.37e+00, 8.01e+01],\n",
       "         [5.78e-03, 5.24e+00, 9.83e+01, ..., 5.98e-03, 2.27e+00, 7.87e+01],\n",
       "         ...,\n",
       "         [2.26e-02, 4.11e+00, 9.54e+01, ..., 2.66e-03, 6.12e+00, 8.44e+01],\n",
       "         [1.03e-02, 6.54e+00, 9.74e+01, ..., 6.46e-03, 6.96e+00, 8.48e+01],\n",
       "         [7.26e-03, 3.93e+00, 9.46e+01, ..., 8.52e-03, 3.14e+00, 8.22e+01]]),\n",
       "  array([[2.66e-03, 1.06e+01, 1.25e+02, ..., 2.99e-03, 1.34e+00, 9.07e+01],\n",
       "         [4.32e-03, 1.17e+01, 1.20e+02, ..., 6.93e-03, 1.43e+00, 9.17e+01],\n",
       "         [6.15e-03, 7.34e+00, 1.24e+02, ..., 6.97e-03, 3.89e+00, 9.21e+01],\n",
       "         ...,\n",
       "         [3.21e-03, 6.63e+00, 1.20e+02, ..., 4.98e-03, 2.50e+00, 9.28e+01],\n",
       "         [2.16e-02, 8.21e+00, 1.22e+02, ..., 7.29e-03, 1.57e+00, 9.06e+01],\n",
       "         [2.99e-03, 1.10e+01, 1.17e+02, ..., 7.29e-03, 1.40e+00, 9.54e+01]]),\n",
       "  array([[1.70e-02, 6.09e+00, 1.15e+02, ..., 4.13e-03, 1.88e+00, 8.30e+01],\n",
       "         [1.99e-02, 6.16e+00, 1.16e+02, ..., 4.48e-03, 3.55e+00, 8.53e+01],\n",
       "         [7.13e-03, 4.97e+00, 1.16e+02, ..., 1.63e-02, 2.06e+00, 7.69e+01],\n",
       "         ...,\n",
       "         [8.03e-03, 6.46e+00, 1.16e+02, ..., 2.70e-03, 2.93e+00, 8.18e+01],\n",
       "         [2.13e-02, 6.63e+00, 1.15e+02, ..., 7.97e-03, 8.68e+00, 8.56e+01],\n",
       "         [9.64e-03, 5.54e+00, 1.16e+02, ..., 1.69e-02, 3.24e+00, 7.64e+01]])]}"
      ]
     },
     "execution_count": 12,
     "metadata": {},
     "output_type": "execute_result"
    }
   ],
   "source": [
    "# Can also return as a dictionary if it's easier for you\n",
    "data_df = get_data.get_data(num_entries=10, return_df=False)\n",
    "data_df"
   ]
  }
 ],
 "metadata": {
  "kernelspec": {
   "display_name": "Python 3 (ipykernel)",
   "language": "python",
   "name": "python3"
  },
  "language_info": {
   "codemirror_mode": {
    "name": "ipython",
    "version": 3
   },
   "file_extension": ".py",
   "mimetype": "text/x-python",
   "name": "python",
   "nbconvert_exporter": "python",
   "pygments_lexer": "ipython3",
   "version": "3.9.12"
  },
  "toc": {
   "base_numbering": 1,
   "nav_menu": {},
   "number_sections": false,
   "sideBar": true,
   "skip_h1_title": false,
   "title_cell": "Table of Contents",
   "title_sidebar": "Contents",
   "toc_cell": false,
   "toc_position": {},
   "toc_section_display": true,
   "toc_window_display": true
  },
  "vscode": {
   "interpreter": {
    "hash": "bd824e2ddad6d40478d200208cfedf262e28e705a5cad5e713fd0ef5d6b463b3"
   }
  }
 },
 "nbformat": 4,
 "nbformat_minor": 4
}
