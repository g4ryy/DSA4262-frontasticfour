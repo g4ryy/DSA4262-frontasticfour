{
 "cells": [
  {
   "cell_type": "markdown",
   "metadata": {},
   "source": [
    "# Logistic Regression\n"
   ]
  },
  {
   "cell_type": "code",
   "execution_count": 1,
   "metadata": {
    "ExecuteTime": {
     "end_time": "2022-10-08T14:34:47.538714Z",
     "start_time": "2022-10-08T14:34:46.742204Z"
    }
   },
   "outputs": [],
   "source": [
    "import pandas as pd\n",
    "import numpy as np\n",
    "from sklearn.linear_model import LogisticRegression\n",
    "from sklearn.model_selection import train_test_split\n",
    "from sklearn.metrics import classification_report\n",
    "from sklearn.dummy import DummyClassifier\n",
    "import re\n",
    "\n",
    "# To be able to import the file\n",
    "import sys\n",
    "pathname=\"/Users/carelchay/Desktop/School/Modules/DSA4262/Project 2/DSA4262-frontasticfour/scripts\"\n",
    "if pathname not in sys.path:\n",
    "    sys.path.append(pathname)\n",
    "    \n",
    "import getData as gd"
   ]
  },
  {
   "cell_type": "code",
   "execution_count": 2,
   "metadata": {
    "ExecuteTime": {
     "end_time": "2022-10-08T14:34:47.555788Z",
     "start_time": "2022-10-08T14:34:47.541546Z"
    }
   },
   "outputs": [
    {
     "data": {
      "text/plain": [
       "<module 'getData' from '/Users/carelchay/Desktop/School/Modules/DSA4262/Project 2/DSA4262-frontasticfour/scripts/getData.py'>"
      ]
     },
     "execution_count": 2,
     "metadata": {},
     "output_type": "execute_result"
    }
   ],
   "source": [
    "import importlib\n",
    "importlib.reload(gd)"
   ]
  },
  {
   "cell_type": "markdown",
   "metadata": {},
   "source": [
    "## Prepare raw data"
   ]
  },
  {
   "cell_type": "code",
   "execution_count": 3,
   "metadata": {
    "ExecuteTime": {
     "end_time": "2022-10-08T14:34:47.652228Z",
     "start_time": "2022-10-08T14:34:47.561149Z"
    }
   },
   "outputs": [],
   "source": [
    "df = pd.read_pickle(\"./test.pkl\")"
   ]
  },
  {
   "cell_type": "code",
   "execution_count": 4,
   "metadata": {
    "ExecuteTime": {
     "end_time": "2022-10-08T14:34:47.701572Z",
     "start_time": "2022-10-08T14:34:47.656283Z"
    }
   },
   "outputs": [
    {
     "data": {
      "text/html": [
       "<div>\n",
       "<style scoped>\n",
       "    .dataframe tbody tr th:only-of-type {\n",
       "        vertical-align: middle;\n",
       "    }\n",
       "\n",
       "    .dataframe tbody tr th {\n",
       "        vertical-align: top;\n",
       "    }\n",
       "\n",
       "    .dataframe thead th {\n",
       "        text-align: right;\n",
       "    }\n",
       "</style>\n",
       "<table border=\"1\" class=\"dataframe\">\n",
       "  <thead>\n",
       "    <tr style=\"text-align: right;\">\n",
       "      <th></th>\n",
       "      <th>transcript</th>\n",
       "      <th>position</th>\n",
       "      <th>k-mer bases</th>\n",
       "      <th>f1_stats</th>\n",
       "      <th>f2_stats</th>\n",
       "      <th>f3_stats</th>\n",
       "      <th>f4_stats</th>\n",
       "      <th>f5_stats</th>\n",
       "      <th>f6_stats</th>\n",
       "      <th>f7_stats</th>\n",
       "      <th>f8_stats</th>\n",
       "      <th>f9_stats</th>\n",
       "    </tr>\n",
       "  </thead>\n",
       "  <tbody>\n",
       "    <tr>\n",
       "      <th>0</th>\n",
       "      <td>ENST00000000233</td>\n",
       "      <td>244</td>\n",
       "      <td>AAGACCA</td>\n",
       "      <td>[0.008264378378378385, 0.00199, 0.00432, 0.006...</td>\n",
       "      <td>[4.223783783783786, 1.77, 3.07, 3.73, 4.66, 13.4]</td>\n",
       "      <td>[123.70270270270271, 102.0, 123.0, 125.0, 126....</td>\n",
       "      <td>[0.009373243243243247, 0.00232, 0.0054, 0.0079...</td>\n",
       "      <td>[7.382162162162164, 1.04, 4.67, 6.65, 10.2, 15.7]</td>\n",
       "      <td>[125.91351351351351, 111.0, 124.0, 126.0, 128....</td>\n",
       "      <td>[0.007344918918918917, 0.00232, 0.00398, 0.005...</td>\n",
       "      <td>[4.386989189189191, 0.773, 1.95, 3.44, 5.68, 1...</td>\n",
       "      <td>[80.57027027027029, 73.1, 79.0, 80.5, 82.0, 88.3]</td>\n",
       "    </tr>\n",
       "    <tr>\n",
       "      <th>1</th>\n",
       "      <td>ENST00000000233</td>\n",
       "      <td>261</td>\n",
       "      <td>CAAACTG</td>\n",
       "      <td>[0.006609244186046515, 0.00199, 0.00432, 0.005...</td>\n",
       "      <td>[3.2164244186046504, 0.919, 2.4075, 2.88, 3.70...</td>\n",
       "      <td>[109.6813953488372, 98.3, 108.0, 110.0, 112.0,...</td>\n",
       "      <td>[0.006812906976744187, 0.00166, 0.0043025, 0.0...</td>\n",
       "      <td>[3.2265348837209307, 0.789, 2.48, 3.0, 3.67, 1...</td>\n",
       "      <td>[107.88953488372093, 96.1, 106.0, 108.0, 110.0...</td>\n",
       "      <td>[0.007710290697674419, 0.00232, 0.004410000000...</td>\n",
       "      <td>[3.0165988372093038, 0.715, 2.1675, 2.66, 3.49...</td>\n",
       "      <td>[94.29069767441861, 88.6, 92.8, 94.1, 95.725, ...</td>\n",
       "    </tr>\n",
       "  </tbody>\n",
       "</table>\n",
       "</div>"
      ],
      "text/plain": [
       "        transcript  position k-mer bases  \\\n",
       "0  ENST00000000233       244     AAGACCA   \n",
       "1  ENST00000000233       261     CAAACTG   \n",
       "\n",
       "                                            f1_stats  \\\n",
       "0  [0.008264378378378385, 0.00199, 0.00432, 0.006...   \n",
       "1  [0.006609244186046515, 0.00199, 0.00432, 0.005...   \n",
       "\n",
       "                                            f2_stats  \\\n",
       "0  [4.223783783783786, 1.77, 3.07, 3.73, 4.66, 13.4]   \n",
       "1  [3.2164244186046504, 0.919, 2.4075, 2.88, 3.70...   \n",
       "\n",
       "                                            f3_stats  \\\n",
       "0  [123.70270270270271, 102.0, 123.0, 125.0, 126....   \n",
       "1  [109.6813953488372, 98.3, 108.0, 110.0, 112.0,...   \n",
       "\n",
       "                                            f4_stats  \\\n",
       "0  [0.009373243243243247, 0.00232, 0.0054, 0.0079...   \n",
       "1  [0.006812906976744187, 0.00166, 0.0043025, 0.0...   \n",
       "\n",
       "                                            f5_stats  \\\n",
       "0  [7.382162162162164, 1.04, 4.67, 6.65, 10.2, 15.7]   \n",
       "1  [3.2265348837209307, 0.789, 2.48, 3.0, 3.67, 1...   \n",
       "\n",
       "                                            f6_stats  \\\n",
       "0  [125.91351351351351, 111.0, 124.0, 126.0, 128....   \n",
       "1  [107.88953488372093, 96.1, 106.0, 108.0, 110.0...   \n",
       "\n",
       "                                            f7_stats  \\\n",
       "0  [0.007344918918918917, 0.00232, 0.00398, 0.005...   \n",
       "1  [0.007710290697674419, 0.00232, 0.004410000000...   \n",
       "\n",
       "                                            f8_stats  \\\n",
       "0  [4.386989189189191, 0.773, 1.95, 3.44, 5.68, 1...   \n",
       "1  [3.0165988372093038, 0.715, 2.1675, 2.66, 3.49...   \n",
       "\n",
       "                                            f9_stats  \n",
       "0  [80.57027027027029, 73.1, 79.0, 80.5, 82.0, 88.3]  \n",
       "1  [94.29069767441861, 88.6, 92.8, 94.1, 95.725, ...  "
      ]
     },
     "execution_count": 4,
     "metadata": {},
     "output_type": "execute_result"
    }
   ],
   "source": [
    "df.head(2)"
   ]
  },
  {
   "cell_type": "code",
   "execution_count": 5,
   "metadata": {
    "ExecuteTime": {
     "end_time": "2022-10-08T14:34:47.712052Z",
     "start_time": "2022-10-08T14:34:47.704917Z"
    }
   },
   "outputs": [
    {
     "data": {
      "text/plain": [
       "Index(['transcript', 'position', 'k-mer bases', 'f1_stats', 'f2_stats',\n",
       "       'f3_stats', 'f4_stats', 'f5_stats', 'f6_stats', 'f7_stats', 'f8_stats',\n",
       "       'f9_stats'],\n",
       "      dtype='object')"
      ]
     },
     "execution_count": 5,
     "metadata": {},
     "output_type": "execute_result"
    }
   ],
   "source": [
    "df.columns"
   ]
  },
  {
   "cell_type": "code",
   "execution_count": 6,
   "metadata": {
    "ExecuteTime": {
     "end_time": "2022-10-08T14:34:47.739232Z",
     "start_time": "2022-10-08T14:34:47.721054Z"
    }
   },
   "outputs": [],
   "source": [
    "df = df[['transcript', 'position',\n",
    "       'k-mer bases', 'f1_stats', 'f2_stats', 'f3_stats', 'f4_stats',\n",
    "       'f5_stats', 'f6_stats', 'f7_stats', 'f8_stats', 'f9_stats']]"
   ]
  },
  {
   "cell_type": "code",
   "execution_count": 7,
   "metadata": {
    "ExecuteTime": {
     "end_time": "2022-10-08T14:34:47.786044Z",
     "start_time": "2022-10-08T14:34:47.743670Z"
    }
   },
   "outputs": [
    {
     "data": {
      "text/html": [
       "<div>\n",
       "<style scoped>\n",
       "    .dataframe tbody tr th:only-of-type {\n",
       "        vertical-align: middle;\n",
       "    }\n",
       "\n",
       "    .dataframe tbody tr th {\n",
       "        vertical-align: top;\n",
       "    }\n",
       "\n",
       "    .dataframe thead th {\n",
       "        text-align: right;\n",
       "    }\n",
       "</style>\n",
       "<table border=\"1\" class=\"dataframe\">\n",
       "  <thead>\n",
       "    <tr style=\"text-align: right;\">\n",
       "      <th></th>\n",
       "      <th>transcript</th>\n",
       "      <th>position</th>\n",
       "      <th>k-mer bases</th>\n",
       "      <th>f1_stats</th>\n",
       "      <th>f2_stats</th>\n",
       "      <th>f3_stats</th>\n",
       "      <th>f4_stats</th>\n",
       "      <th>f5_stats</th>\n",
       "      <th>f6_stats</th>\n",
       "      <th>f7_stats</th>\n",
       "      <th>f8_stats</th>\n",
       "      <th>f9_stats</th>\n",
       "    </tr>\n",
       "  </thead>\n",
       "  <tbody>\n",
       "    <tr>\n",
       "      <th>0</th>\n",
       "      <td>ENST00000000233</td>\n",
       "      <td>244</td>\n",
       "      <td>AAGACCA</td>\n",
       "      <td>[0.008264378378378385, 0.00199, 0.00432, 0.006...</td>\n",
       "      <td>[4.223783783783786, 1.77, 3.07, 3.73, 4.66, 13.4]</td>\n",
       "      <td>[123.70270270270271, 102.0, 123.0, 125.0, 126....</td>\n",
       "      <td>[0.009373243243243247, 0.00232, 0.0054, 0.0079...</td>\n",
       "      <td>[7.382162162162164, 1.04, 4.67, 6.65, 10.2, 15.7]</td>\n",
       "      <td>[125.91351351351351, 111.0, 124.0, 126.0, 128....</td>\n",
       "      <td>[0.007344918918918917, 0.00232, 0.00398, 0.005...</td>\n",
       "      <td>[4.386989189189191, 0.773, 1.95, 3.44, 5.68, 1...</td>\n",
       "      <td>[80.57027027027029, 73.1, 79.0, 80.5, 82.0, 88.3]</td>\n",
       "    </tr>\n",
       "    <tr>\n",
       "      <th>1</th>\n",
       "      <td>ENST00000000233</td>\n",
       "      <td>261</td>\n",
       "      <td>CAAACTG</td>\n",
       "      <td>[0.006609244186046515, 0.00199, 0.00432, 0.005...</td>\n",
       "      <td>[3.2164244186046504, 0.919, 2.4075, 2.88, 3.70...</td>\n",
       "      <td>[109.6813953488372, 98.3, 108.0, 110.0, 112.0,...</td>\n",
       "      <td>[0.006812906976744187, 0.00166, 0.0043025, 0.0...</td>\n",
       "      <td>[3.2265348837209307, 0.789, 2.48, 3.0, 3.67, 1...</td>\n",
       "      <td>[107.88953488372093, 96.1, 106.0, 108.0, 110.0...</td>\n",
       "      <td>[0.007710290697674419, 0.00232, 0.004410000000...</td>\n",
       "      <td>[3.0165988372093038, 0.715, 2.1675, 2.66, 3.49...</td>\n",
       "      <td>[94.29069767441861, 88.6, 92.8, 94.1, 95.725, ...</td>\n",
       "    </tr>\n",
       "  </tbody>\n",
       "</table>\n",
       "</div>"
      ],
      "text/plain": [
       "        transcript  position k-mer bases  \\\n",
       "0  ENST00000000233       244     AAGACCA   \n",
       "1  ENST00000000233       261     CAAACTG   \n",
       "\n",
       "                                            f1_stats  \\\n",
       "0  [0.008264378378378385, 0.00199, 0.00432, 0.006...   \n",
       "1  [0.006609244186046515, 0.00199, 0.00432, 0.005...   \n",
       "\n",
       "                                            f2_stats  \\\n",
       "0  [4.223783783783786, 1.77, 3.07, 3.73, 4.66, 13.4]   \n",
       "1  [3.2164244186046504, 0.919, 2.4075, 2.88, 3.70...   \n",
       "\n",
       "                                            f3_stats  \\\n",
       "0  [123.70270270270271, 102.0, 123.0, 125.0, 126....   \n",
       "1  [109.6813953488372, 98.3, 108.0, 110.0, 112.0,...   \n",
       "\n",
       "                                            f4_stats  \\\n",
       "0  [0.009373243243243247, 0.00232, 0.0054, 0.0079...   \n",
       "1  [0.006812906976744187, 0.00166, 0.0043025, 0.0...   \n",
       "\n",
       "                                            f5_stats  \\\n",
       "0  [7.382162162162164, 1.04, 4.67, 6.65, 10.2, 15.7]   \n",
       "1  [3.2265348837209307, 0.789, 2.48, 3.0, 3.67, 1...   \n",
       "\n",
       "                                            f6_stats  \\\n",
       "0  [125.91351351351351, 111.0, 124.0, 126.0, 128....   \n",
       "1  [107.88953488372093, 96.1, 106.0, 108.0, 110.0...   \n",
       "\n",
       "                                            f7_stats  \\\n",
       "0  [0.007344918918918917, 0.00232, 0.00398, 0.005...   \n",
       "1  [0.007710290697674419, 0.00232, 0.004410000000...   \n",
       "\n",
       "                                            f8_stats  \\\n",
       "0  [4.386989189189191, 0.773, 1.95, 3.44, 5.68, 1...   \n",
       "1  [3.0165988372093038, 0.715, 2.1675, 2.66, 3.49...   \n",
       "\n",
       "                                            f9_stats  \n",
       "0  [80.57027027027029, 73.1, 79.0, 80.5, 82.0, 88.3]  \n",
       "1  [94.29069767441861, 88.6, 92.8, 94.1, 95.725, ...  "
      ]
     },
     "execution_count": 7,
     "metadata": {},
     "output_type": "execute_result"
    }
   ],
   "source": [
    "df.head(2)"
   ]
  },
  {
   "cell_type": "code",
   "execution_count": 8,
   "metadata": {
    "ExecuteTime": {
     "end_time": "2022-10-08T14:34:48.213822Z",
     "start_time": "2022-10-08T14:34:47.794393Z"
    }
   },
   "outputs": [],
   "source": [
    "# Set the path the the raw data and data labels\n",
    "path_to_data=\"/Users/carelchay/Desktop/School/Modules/DSA4262/Project 2/data/data.json\"\n",
    "path_to_labels=\"/Users/carelchay/Desktop/School/Modules/DSA4262/Project 2/data/data.info\"\n",
    "\n",
    "getData = gd.getData(path_to_data, path_to_labels)\n",
    "label_df = getData.get_labels()"
   ]
  },
  {
   "cell_type": "code",
   "execution_count": 9,
   "metadata": {
    "ExecuteTime": {
     "end_time": "2022-10-08T14:34:48.227924Z",
     "start_time": "2022-10-08T14:34:48.218270Z"
    }
   },
   "outputs": [],
   "source": [
    "tdf = getData.get_data(num_entries=10, return_df=False)"
   ]
  },
  {
   "cell_type": "code",
   "execution_count": 10,
   "metadata": {
    "ExecuteTime": {
     "end_time": "2022-10-08T14:34:48.275875Z",
     "start_time": "2022-10-08T14:34:48.230510Z"
    }
   },
   "outputs": [],
   "source": [
    "# Merge the two sources\n",
    "df = pd.merge(df, label_df, how='left', left_on=(\"transcript\", \"position\"), \n",
    "             right_on=(\"transcript_id\", \"transcript_position\"))"
   ]
  },
  {
   "cell_type": "code",
   "execution_count": 11,
   "metadata": {
    "ExecuteTime": {
     "end_time": "2022-10-08T14:34:48.308758Z",
     "start_time": "2022-10-08T14:34:48.278626Z"
    }
   },
   "outputs": [
    {
     "data": {
      "text/html": [
       "<div>\n",
       "<style scoped>\n",
       "    .dataframe tbody tr th:only-of-type {\n",
       "        vertical-align: middle;\n",
       "    }\n",
       "\n",
       "    .dataframe tbody tr th {\n",
       "        vertical-align: top;\n",
       "    }\n",
       "\n",
       "    .dataframe thead th {\n",
       "        text-align: right;\n",
       "    }\n",
       "</style>\n",
       "<table border=\"1\" class=\"dataframe\">\n",
       "  <thead>\n",
       "    <tr style=\"text-align: right;\">\n",
       "      <th></th>\n",
       "      <th>f1_stats</th>\n",
       "      <th>f2_stats</th>\n",
       "      <th>f3_stats</th>\n",
       "      <th>f4_stats</th>\n",
       "      <th>f5_stats</th>\n",
       "      <th>f6_stats</th>\n",
       "      <th>f7_stats</th>\n",
       "      <th>f8_stats</th>\n",
       "      <th>f9_stats</th>\n",
       "      <th>label</th>\n",
       "    </tr>\n",
       "  </thead>\n",
       "  <tbody>\n",
       "    <tr>\n",
       "      <th>0</th>\n",
       "      <td>[0.008264378378378385, 0.00199, 0.00432, 0.006...</td>\n",
       "      <td>[4.223783783783786, 1.77, 3.07, 3.73, 4.66, 13.4]</td>\n",
       "      <td>[123.70270270270271, 102.0, 123.0, 125.0, 126....</td>\n",
       "      <td>[0.009373243243243247, 0.00232, 0.0054, 0.0079...</td>\n",
       "      <td>[7.382162162162164, 1.04, 4.67, 6.65, 10.2, 15.7]</td>\n",
       "      <td>[125.91351351351351, 111.0, 124.0, 126.0, 128....</td>\n",
       "      <td>[0.007344918918918917, 0.00232, 0.00398, 0.005...</td>\n",
       "      <td>[4.386989189189191, 0.773, 1.95, 3.44, 5.68, 1...</td>\n",
       "      <td>[80.57027027027029, 73.1, 79.0, 80.5, 82.0, 88.3]</td>\n",
       "      <td>0</td>\n",
       "    </tr>\n",
       "    <tr>\n",
       "      <th>1</th>\n",
       "      <td>[0.006609244186046515, 0.00199, 0.00432, 0.005...</td>\n",
       "      <td>[3.2164244186046504, 0.919, 2.4075, 2.88, 3.70...</td>\n",
       "      <td>[109.6813953488372, 98.3, 108.0, 110.0, 112.0,...</td>\n",
       "      <td>[0.006812906976744187, 0.00166, 0.0043025, 0.0...</td>\n",
       "      <td>[3.2265348837209307, 0.789, 2.48, 3.0, 3.67, 1...</td>\n",
       "      <td>[107.88953488372093, 96.1, 106.0, 108.0, 110.0...</td>\n",
       "      <td>[0.007710290697674419, 0.00232, 0.004410000000...</td>\n",
       "      <td>[3.0165988372093038, 0.715, 2.1675, 2.66, 3.49...</td>\n",
       "      <td>[94.29069767441861, 88.6, 92.8, 94.1, 95.725, ...</td>\n",
       "      <td>0</td>\n",
       "    </tr>\n",
       "  </tbody>\n",
       "</table>\n",
       "</div>"
      ],
      "text/plain": [
       "                                            f1_stats  \\\n",
       "0  [0.008264378378378385, 0.00199, 0.00432, 0.006...   \n",
       "1  [0.006609244186046515, 0.00199, 0.00432, 0.005...   \n",
       "\n",
       "                                            f2_stats  \\\n",
       "0  [4.223783783783786, 1.77, 3.07, 3.73, 4.66, 13.4]   \n",
       "1  [3.2164244186046504, 0.919, 2.4075, 2.88, 3.70...   \n",
       "\n",
       "                                            f3_stats  \\\n",
       "0  [123.70270270270271, 102.0, 123.0, 125.0, 126....   \n",
       "1  [109.6813953488372, 98.3, 108.0, 110.0, 112.0,...   \n",
       "\n",
       "                                            f4_stats  \\\n",
       "0  [0.009373243243243247, 0.00232, 0.0054, 0.0079...   \n",
       "1  [0.006812906976744187, 0.00166, 0.0043025, 0.0...   \n",
       "\n",
       "                                            f5_stats  \\\n",
       "0  [7.382162162162164, 1.04, 4.67, 6.65, 10.2, 15.7]   \n",
       "1  [3.2265348837209307, 0.789, 2.48, 3.0, 3.67, 1...   \n",
       "\n",
       "                                            f6_stats  \\\n",
       "0  [125.91351351351351, 111.0, 124.0, 126.0, 128....   \n",
       "1  [107.88953488372093, 96.1, 106.0, 108.0, 110.0...   \n",
       "\n",
       "                                            f7_stats  \\\n",
       "0  [0.007344918918918917, 0.00232, 0.00398, 0.005...   \n",
       "1  [0.007710290697674419, 0.00232, 0.004410000000...   \n",
       "\n",
       "                                            f8_stats  \\\n",
       "0  [4.386989189189191, 0.773, 1.95, 3.44, 5.68, 1...   \n",
       "1  [3.0165988372093038, 0.715, 2.1675, 2.66, 3.49...   \n",
       "\n",
       "                                            f9_stats label  \n",
       "0  [80.57027027027029, 73.1, 79.0, 80.5, 82.0, 88.3]     0  \n",
       "1  [94.29069767441861, 88.6, 92.8, 94.1, 95.725, ...     0  "
      ]
     },
     "execution_count": 11,
     "metadata": {},
     "output_type": "execute_result"
    }
   ],
   "source": [
    "df = df.filter(regex=\".*_stats|label\")\n",
    "df.head(2)"
   ]
  },
  {
   "cell_type": "code",
   "execution_count": 12,
   "metadata": {
    "ExecuteTime": {
     "end_time": "2022-10-08T14:34:48.317053Z",
     "start_time": "2022-10-08T14:34:48.312161Z"
    }
   },
   "outputs": [],
   "source": [
    "feature_cols = list(filter(lambda x : re.search(\"stats\", x) is not None, df.columns))"
   ]
  },
  {
   "cell_type": "code",
   "execution_count": 13,
   "metadata": {
    "ExecuteTime": {
     "end_time": "2022-10-08T14:34:48.671580Z",
     "start_time": "2022-10-08T14:34:48.320078Z"
    }
   },
   "outputs": [],
   "source": [
    "df = df.copy()\n",
    "for idx, col in enumerate(feature_cols):\n",
    "    df[[f\"{idx+1}_{x}\" for x in range(1, 7)]] = df.apply(lambda x : x[col], \n",
    "                                                           result_type=\"expand\", \n",
    "                                                          axis=1)\n",
    "df = df[df.columns.difference(feature_cols)]\n",
    "tdf = df.head(5).copy()"
   ]
  },
  {
   "cell_type": "code",
   "execution_count": 14,
   "metadata": {
    "ExecuteTime": {
     "end_time": "2022-10-08T14:34:48.712173Z",
     "start_time": "2022-10-08T14:34:48.673777Z"
    }
   },
   "outputs": [
    {
     "data": {
      "text/html": [
       "<div>\n",
       "<style scoped>\n",
       "    .dataframe tbody tr th:only-of-type {\n",
       "        vertical-align: middle;\n",
       "    }\n",
       "\n",
       "    .dataframe tbody tr th {\n",
       "        vertical-align: top;\n",
       "    }\n",
       "\n",
       "    .dataframe thead th {\n",
       "        text-align: right;\n",
       "    }\n",
       "</style>\n",
       "<table border=\"1\" class=\"dataframe\">\n",
       "  <thead>\n",
       "    <tr style=\"text-align: right;\">\n",
       "      <th></th>\n",
       "      <th>1_1</th>\n",
       "      <th>1_2</th>\n",
       "      <th>1_3</th>\n",
       "      <th>1_4</th>\n",
       "      <th>1_5</th>\n",
       "      <th>1_6</th>\n",
       "      <th>2_1</th>\n",
       "      <th>2_2</th>\n",
       "      <th>2_3</th>\n",
       "      <th>2_4</th>\n",
       "      <th>...</th>\n",
       "      <th>8_4</th>\n",
       "      <th>8_5</th>\n",
       "      <th>8_6</th>\n",
       "      <th>9_1</th>\n",
       "      <th>9_2</th>\n",
       "      <th>9_3</th>\n",
       "      <th>9_4</th>\n",
       "      <th>9_5</th>\n",
       "      <th>9_6</th>\n",
       "      <th>label</th>\n",
       "    </tr>\n",
       "  </thead>\n",
       "  <tbody>\n",
       "    <tr>\n",
       "      <th>0</th>\n",
       "      <td>0.008264</td>\n",
       "      <td>0.00199</td>\n",
       "      <td>0.004320</td>\n",
       "      <td>0.00697</td>\n",
       "      <td>0.01100</td>\n",
       "      <td>0.0339</td>\n",
       "      <td>4.223784</td>\n",
       "      <td>1.770</td>\n",
       "      <td>3.0700</td>\n",
       "      <td>3.73</td>\n",
       "      <td>...</td>\n",
       "      <td>3.440</td>\n",
       "      <td>5.6800</td>\n",
       "      <td>15.50</td>\n",
       "      <td>80.570270</td>\n",
       "      <td>73.1</td>\n",
       "      <td>79.000</td>\n",
       "      <td>80.5</td>\n",
       "      <td>82.000</td>\n",
       "      <td>88.3</td>\n",
       "      <td>0</td>\n",
       "    </tr>\n",
       "    <tr>\n",
       "      <th>1</th>\n",
       "      <td>0.006609</td>\n",
       "      <td>0.00199</td>\n",
       "      <td>0.004320</td>\n",
       "      <td>0.00564</td>\n",
       "      <td>0.00797</td>\n",
       "      <td>0.0222</td>\n",
       "      <td>3.216424</td>\n",
       "      <td>0.919</td>\n",
       "      <td>2.4075</td>\n",
       "      <td>2.88</td>\n",
       "      <td>...</td>\n",
       "      <td>2.660</td>\n",
       "      <td>3.4900</td>\n",
       "      <td>14.10</td>\n",
       "      <td>94.290698</td>\n",
       "      <td>88.6</td>\n",
       "      <td>92.800</td>\n",
       "      <td>94.1</td>\n",
       "      <td>95.725</td>\n",
       "      <td>103.0</td>\n",
       "      <td>0</td>\n",
       "    </tr>\n",
       "    <tr>\n",
       "      <th>2</th>\n",
       "      <td>0.007570</td>\n",
       "      <td>0.00232</td>\n",
       "      <td>0.004400</td>\n",
       "      <td>0.00631</td>\n",
       "      <td>0.00963</td>\n",
       "      <td>0.0299</td>\n",
       "      <td>2.940541</td>\n",
       "      <td>1.280</td>\n",
       "      <td>2.1900</td>\n",
       "      <td>2.65</td>\n",
       "      <td>...</td>\n",
       "      <td>1.910</td>\n",
       "      <td>2.4400</td>\n",
       "      <td>6.85</td>\n",
       "      <td>89.364324</td>\n",
       "      <td>84.4</td>\n",
       "      <td>88.400</td>\n",
       "      <td>89.2</td>\n",
       "      <td>90.100</td>\n",
       "      <td>96.2</td>\n",
       "      <td>0</td>\n",
       "    </tr>\n",
       "    <tr>\n",
       "      <th>3</th>\n",
       "      <td>0.010620</td>\n",
       "      <td>0.00232</td>\n",
       "      <td>0.006475</td>\n",
       "      <td>0.00902</td>\n",
       "      <td>0.01340</td>\n",
       "      <td>0.0370</td>\n",
       "      <td>6.476350</td>\n",
       "      <td>1.220</td>\n",
       "      <td>4.6275</td>\n",
       "      <td>5.73</td>\n",
       "      <td>...</td>\n",
       "      <td>2.135</td>\n",
       "      <td>2.5525</td>\n",
       "      <td>6.49</td>\n",
       "      <td>89.154000</td>\n",
       "      <td>81.4</td>\n",
       "      <td>86.975</td>\n",
       "      <td>89.9</td>\n",
       "      <td>91.225</td>\n",
       "      <td>95.7</td>\n",
       "      <td>0</td>\n",
       "    </tr>\n",
       "    <tr>\n",
       "      <th>4</th>\n",
       "      <td>0.010701</td>\n",
       "      <td>0.00199</td>\n",
       "      <td>0.005770</td>\n",
       "      <td>0.00896</td>\n",
       "      <td>0.01390</td>\n",
       "      <td>0.0478</td>\n",
       "      <td>6.415051</td>\n",
       "      <td>1.150</td>\n",
       "      <td>5.4650</td>\n",
       "      <td>6.52</td>\n",
       "      <td>...</td>\n",
       "      <td>4.160</td>\n",
       "      <td>4.8975</td>\n",
       "      <td>8.81</td>\n",
       "      <td>85.178788</td>\n",
       "      <td>77.6</td>\n",
       "      <td>83.625</td>\n",
       "      <td>85.4</td>\n",
       "      <td>86.900</td>\n",
       "      <td>90.5</td>\n",
       "      <td>0</td>\n",
       "    </tr>\n",
       "  </tbody>\n",
       "</table>\n",
       "<p>5 rows × 55 columns</p>\n",
       "</div>"
      ],
      "text/plain": [
       "        1_1      1_2       1_3      1_4      1_5     1_6       2_1    2_2  \\\n",
       "0  0.008264  0.00199  0.004320  0.00697  0.01100  0.0339  4.223784  1.770   \n",
       "1  0.006609  0.00199  0.004320  0.00564  0.00797  0.0222  3.216424  0.919   \n",
       "2  0.007570  0.00232  0.004400  0.00631  0.00963  0.0299  2.940541  1.280   \n",
       "3  0.010620  0.00232  0.006475  0.00902  0.01340  0.0370  6.476350  1.220   \n",
       "4  0.010701  0.00199  0.005770  0.00896  0.01390  0.0478  6.415051  1.150   \n",
       "\n",
       "      2_3   2_4  ...    8_4     8_5    8_6        9_1   9_2     9_3   9_4  \\\n",
       "0  3.0700  3.73  ...  3.440  5.6800  15.50  80.570270  73.1  79.000  80.5   \n",
       "1  2.4075  2.88  ...  2.660  3.4900  14.10  94.290698  88.6  92.800  94.1   \n",
       "2  2.1900  2.65  ...  1.910  2.4400   6.85  89.364324  84.4  88.400  89.2   \n",
       "3  4.6275  5.73  ...  2.135  2.5525   6.49  89.154000  81.4  86.975  89.9   \n",
       "4  5.4650  6.52  ...  4.160  4.8975   8.81  85.178788  77.6  83.625  85.4   \n",
       "\n",
       "      9_5    9_6  label  \n",
       "0  82.000   88.3      0  \n",
       "1  95.725  103.0      0  \n",
       "2  90.100   96.2      0  \n",
       "3  91.225   95.7      0  \n",
       "4  86.900   90.5      0  \n",
       "\n",
       "[5 rows x 55 columns]"
      ]
     },
     "execution_count": 14,
     "metadata": {},
     "output_type": "execute_result"
    }
   ],
   "source": [
    "tdf"
   ]
  },
  {
   "cell_type": "markdown",
   "metadata": {},
   "source": [
    "## Obtain Training Data"
   ]
  },
  {
   "cell_type": "code",
   "execution_count": 37,
   "metadata": {
    "ExecuteTime": {
     "end_time": "2022-10-08T14:35:39.125434Z",
     "start_time": "2022-10-08T14:35:39.106104Z"
    }
   },
   "outputs": [
    {
     "data": {
      "text/plain": [
       "0    0.955063\n",
       "1    0.044937\n",
       "Name: label, dtype: float64"
      ]
     },
     "execution_count": 37,
     "metadata": {},
     "output_type": "execute_result"
    }
   ],
   "source": [
    "label_df['label'].value_counts(normalize=True)"
   ]
  },
  {
   "cell_type": "code",
   "execution_count": 15,
   "metadata": {
    "ExecuteTime": {
     "end_time": "2022-10-08T14:34:48.723122Z",
     "start_time": "2022-10-08T14:34:48.715059Z"
    }
   },
   "outputs": [],
   "source": [
    "# data\n",
    "X = np.array(df[df.columns.difference(['label'])])\n",
    "y = np.array(df['label'])"
   ]
  },
  {
   "cell_type": "code",
   "execution_count": 16,
   "metadata": {
    "ExecuteTime": {
     "end_time": "2022-10-08T14:34:48.741594Z",
     "start_time": "2022-10-08T14:34:48.733606Z"
    }
   },
   "outputs": [],
   "source": [
    "# Train Test Split\n",
    "X_train, X_test, y_train, y_test = train_test_split(X, y, stratify=y, random_state=42)"
   ]
  },
  {
   "cell_type": "markdown",
   "metadata": {},
   "source": [
    "## Fitting Logistic Regression Model & Prediction"
   ]
  },
  {
   "cell_type": "code",
   "execution_count": 17,
   "metadata": {
    "ExecuteTime": {
     "end_time": "2022-10-08T14:34:48.780785Z",
     "start_time": "2022-10-08T14:34:48.743939Z"
    }
   },
   "outputs": [
    {
     "data": {
      "text/html": [
       "<style>#sk-container-id-1 {color: black;background-color: white;}#sk-container-id-1 pre{padding: 0;}#sk-container-id-1 div.sk-toggleable {background-color: white;}#sk-container-id-1 label.sk-toggleable__label {cursor: pointer;display: block;width: 100%;margin-bottom: 0;padding: 0.3em;box-sizing: border-box;text-align: center;}#sk-container-id-1 label.sk-toggleable__label-arrow:before {content: \"▸\";float: left;margin-right: 0.25em;color: #696969;}#sk-container-id-1 label.sk-toggleable__label-arrow:hover:before {color: black;}#sk-container-id-1 div.sk-estimator:hover label.sk-toggleable__label-arrow:before {color: black;}#sk-container-id-1 div.sk-toggleable__content {max-height: 0;max-width: 0;overflow: hidden;text-align: left;background-color: #f0f8ff;}#sk-container-id-1 div.sk-toggleable__content pre {margin: 0.2em;color: black;border-radius: 0.25em;background-color: #f0f8ff;}#sk-container-id-1 input.sk-toggleable__control:checked~div.sk-toggleable__content {max-height: 200px;max-width: 100%;overflow: auto;}#sk-container-id-1 input.sk-toggleable__control:checked~label.sk-toggleable__label-arrow:before {content: \"▾\";}#sk-container-id-1 div.sk-estimator input.sk-toggleable__control:checked~label.sk-toggleable__label {background-color: #d4ebff;}#sk-container-id-1 div.sk-label input.sk-toggleable__control:checked~label.sk-toggleable__label {background-color: #d4ebff;}#sk-container-id-1 input.sk-hidden--visually {border: 0;clip: rect(1px 1px 1px 1px);clip: rect(1px, 1px, 1px, 1px);height: 1px;margin: -1px;overflow: hidden;padding: 0;position: absolute;width: 1px;}#sk-container-id-1 div.sk-estimator {font-family: monospace;background-color: #f0f8ff;border: 1px dotted black;border-radius: 0.25em;box-sizing: border-box;margin-bottom: 0.5em;}#sk-container-id-1 div.sk-estimator:hover {background-color: #d4ebff;}#sk-container-id-1 div.sk-parallel-item::after {content: \"\";width: 100%;border-bottom: 1px solid gray;flex-grow: 1;}#sk-container-id-1 div.sk-label:hover label.sk-toggleable__label {background-color: #d4ebff;}#sk-container-id-1 div.sk-serial::before {content: \"\";position: absolute;border-left: 1px solid gray;box-sizing: border-box;top: 0;bottom: 0;left: 50%;z-index: 0;}#sk-container-id-1 div.sk-serial {display: flex;flex-direction: column;align-items: center;background-color: white;padding-right: 0.2em;padding-left: 0.2em;position: relative;}#sk-container-id-1 div.sk-item {position: relative;z-index: 1;}#sk-container-id-1 div.sk-parallel {display: flex;align-items: stretch;justify-content: center;background-color: white;position: relative;}#sk-container-id-1 div.sk-item::before, #sk-container-id-1 div.sk-parallel-item::before {content: \"\";position: absolute;border-left: 1px solid gray;box-sizing: border-box;top: 0;bottom: 0;left: 50%;z-index: -1;}#sk-container-id-1 div.sk-parallel-item {display: flex;flex-direction: column;z-index: 1;position: relative;background-color: white;}#sk-container-id-1 div.sk-parallel-item:first-child::after {align-self: flex-end;width: 50%;}#sk-container-id-1 div.sk-parallel-item:last-child::after {align-self: flex-start;width: 50%;}#sk-container-id-1 div.sk-parallel-item:only-child::after {width: 0;}#sk-container-id-1 div.sk-dashed-wrapped {border: 1px dashed gray;margin: 0 0.4em 0.5em 0.4em;box-sizing: border-box;padding-bottom: 0.4em;background-color: white;}#sk-container-id-1 div.sk-label label {font-family: monospace;font-weight: bold;display: inline-block;line-height: 1.2em;}#sk-container-id-1 div.sk-label-container {text-align: center;}#sk-container-id-1 div.sk-container {/* jupyter's `normalize.less` sets `[hidden] { display: none; }` but bootstrap.min.css set `[hidden] { display: none !important; }` so we also need the `!important` here to be able to override the default hidden behavior on the sphinx rendered scikit-learn.org. See: https://github.com/scikit-learn/scikit-learn/issues/21755 */display: inline-block !important;position: relative;}#sk-container-id-1 div.sk-text-repr-fallback {display: none;}</style><div id=\"sk-container-id-1\" class=\"sk-top-container\"><div class=\"sk-text-repr-fallback\"><pre>LogisticRegression(solver=&#x27;liblinear&#x27;)</pre><b>In a Jupyter environment, please rerun this cell to show the HTML representation or trust the notebook. <br />On GitHub, the HTML representation is unable to render, please try loading this page with nbviewer.org.</b></div><div class=\"sk-container\" hidden><div class=\"sk-item\"><div class=\"sk-estimator sk-toggleable\"><input class=\"sk-toggleable__control sk-hidden--visually\" id=\"sk-estimator-id-1\" type=\"checkbox\" checked><label for=\"sk-estimator-id-1\" class=\"sk-toggleable__label sk-toggleable__label-arrow\">LogisticRegression</label><div class=\"sk-toggleable__content\"><pre>LogisticRegression(solver=&#x27;liblinear&#x27;)</pre></div></div></div></div></div>"
      ],
      "text/plain": [
       "LogisticRegression(solver='liblinear')"
      ]
     },
     "execution_count": 17,
     "metadata": {},
     "output_type": "execute_result"
    }
   ],
   "source": [
    "LogReg = LogisticRegression(solver=\"liblinear\", penalty=\"l2\")\n",
    "LogReg.fit(X_train, y_train)"
   ]
  },
  {
   "cell_type": "markdown",
   "metadata": {},
   "source": [
    "## Evaluation"
   ]
  },
  {
   "cell_type": "code",
   "execution_count": 18,
   "metadata": {
    "ExecuteTime": {
     "end_time": "2022-10-08T14:34:48.811862Z",
     "start_time": "2022-10-08T14:34:48.784554Z"
    },
    "scrolled": true
   },
   "outputs": [
    {
     "name": "stdout",
     "output_type": "stream",
     "text": [
      "              precision    recall  f1-score   support\n",
      "\n",
      "           0       0.96      0.98      0.97       240\n",
      "           1       0.20      0.09      0.13        11\n",
      "\n",
      "    accuracy                           0.94       251\n",
      "   macro avg       0.58      0.54      0.55       251\n",
      "weighted avg       0.93      0.94      0.93       251\n",
      "\n"
     ]
    }
   ],
   "source": [
    "y_pred = LogReg.predict(X_test)\n",
    "ridge_LogReg_report = classification_report(y_test, y_pred)\n",
    "print(ridge_LogReg_report)"
   ]
  },
  {
   "cell_type": "code",
   "execution_count": 19,
   "metadata": {
    "ExecuteTime": {
     "end_time": "2022-10-08T14:34:48.826105Z",
     "start_time": "2022-10-08T14:34:48.817804Z"
    }
   },
   "outputs": [
    {
     "data": {
      "text/plain": [
       "array([0.94113856, 0.05886144])"
      ]
     },
     "execution_count": 19,
     "metadata": {},
     "output_type": "execute_result"
    }
   ],
   "source": [
    "res = LogReg.predict_proba(X_test)\n",
    "# Prediction scores for each class [0,1]\n",
    "res[1,]"
   ]
  },
  {
   "cell_type": "markdown",
   "metadata": {},
   "source": [
    "# Comparison wiht dummy classifier"
   ]
  },
  {
   "cell_type": "code",
   "execution_count": 20,
   "metadata": {
    "ExecuteTime": {
     "end_time": "2022-10-08T14:34:48.837857Z",
     "start_time": "2022-10-08T14:34:48.830787Z"
    }
   },
   "outputs": [],
   "source": [
    "# Predict everything as the majority class\n",
    "dummy_clf = DummyClassifier(strategy=\"most_frequent\")\n",
    "dummy_clf.fit(X_train, y_train)\n",
    "y_pred_dummy=dummy_clf.predict(X_test)"
   ]
  },
  {
   "cell_type": "code",
   "execution_count": 21,
   "metadata": {
    "ExecuteTime": {
     "end_time": "2022-10-08T14:34:48.869095Z",
     "start_time": "2022-10-08T14:34:48.842264Z"
    }
   },
   "outputs": [
    {
     "name": "stderr",
     "output_type": "stream",
     "text": [
      "/Library/Frameworks/Python.framework/Versions/3.8/lib/python3.8/site-packages/sklearn/metrics/_classification.py:1334: UndefinedMetricWarning: Precision and F-score are ill-defined and being set to 0.0 in labels with no predicted samples. Use `zero_division` parameter to control this behavior.\n",
      "  _warn_prf(average, modifier, msg_start, len(result))\n",
      "/Library/Frameworks/Python.framework/Versions/3.8/lib/python3.8/site-packages/sklearn/metrics/_classification.py:1334: UndefinedMetricWarning: Precision and F-score are ill-defined and being set to 0.0 in labels with no predicted samples. Use `zero_division` parameter to control this behavior.\n",
      "  _warn_prf(average, modifier, msg_start, len(result))\n",
      "/Library/Frameworks/Python.framework/Versions/3.8/lib/python3.8/site-packages/sklearn/metrics/_classification.py:1334: UndefinedMetricWarning: Precision and F-score are ill-defined and being set to 0.0 in labels with no predicted samples. Use `zero_division` parameter to control this behavior.\n",
      "  _warn_prf(average, modifier, msg_start, len(result))\n"
     ]
    }
   ],
   "source": [
    "dummy_report = classification_report(y_test, y_pred_dummy)"
   ]
  },
  {
   "cell_type": "markdown",
   "metadata": {},
   "source": [
    "## Summarize report"
   ]
  },
  {
   "cell_type": "code",
   "execution_count": 22,
   "metadata": {
    "ExecuteTime": {
     "end_time": "2022-10-08T14:34:48.881670Z",
     "start_time": "2022-10-08T14:34:48.873868Z"
    }
   },
   "outputs": [],
   "source": [
    "with open(\"test_report.txt\", \"w\") as f:\n",
    "    f.write(f\"Logistic Ridge Regression summary report : \\n\\n{ridge_LogReg_report}\\n\\n\")\n",
    "    f.write(f\"Dummy Classifier (Majority class) summary report : \\n\\n{dummy_report}\")\n",
    "    "
   ]
  },
  {
   "cell_type": "markdown",
   "metadata": {},
   "source": [
    "## Make Predictions"
   ]
  },
  {
   "cell_type": "code",
   "execution_count": 23,
   "metadata": {
    "ExecuteTime": {
     "end_time": "2022-10-08T14:34:49.007721Z",
     "start_time": "2022-10-08T14:34:48.900960Z"
    }
   },
   "outputs": [],
   "source": [
    "df_orig = pd.read_pickle(\"./test.pkl\")\n",
    "df = df_orig.copy()"
   ]
  },
  {
   "cell_type": "code",
   "execution_count": 24,
   "metadata": {
    "ExecuteTime": {
     "end_time": "2022-10-08T14:34:49.460980Z",
     "start_time": "2022-10-08T14:34:49.020877Z"
    }
   },
   "outputs": [],
   "source": [
    "feature_cols = list(filter(lambda x : re.search(\"stats\", x) is not None, df.columns))\n",
    "for idx, col in enumerate(feature_cols):\n",
    "    df[[f\"{idx+1}_{x}\" for x in range(1, 7)]] = df.apply(lambda x : x[col], \n",
    "                                                           result_type=\"expand\", \n",
    "                                                          axis=1)\n",
    "df = df[df.columns.difference(feature_cols)]"
   ]
  },
  {
   "cell_type": "code",
   "execution_count": 25,
   "metadata": {
    "ExecuteTime": {
     "end_time": "2022-10-08T14:34:49.496723Z",
     "start_time": "2022-10-08T14:34:49.463014Z"
    }
   },
   "outputs": [
    {
     "data": {
      "text/html": [
       "<div>\n",
       "<style scoped>\n",
       "    .dataframe tbody tr th:only-of-type {\n",
       "        vertical-align: middle;\n",
       "    }\n",
       "\n",
       "    .dataframe tbody tr th {\n",
       "        vertical-align: top;\n",
       "    }\n",
       "\n",
       "    .dataframe thead th {\n",
       "        text-align: right;\n",
       "    }\n",
       "</style>\n",
       "<table border=\"1\" class=\"dataframe\">\n",
       "  <thead>\n",
       "    <tr style=\"text-align: right;\">\n",
       "      <th></th>\n",
       "      <th>1_1</th>\n",
       "      <th>1_2</th>\n",
       "      <th>1_3</th>\n",
       "      <th>1_4</th>\n",
       "      <th>1_5</th>\n",
       "      <th>1_6</th>\n",
       "      <th>2_1</th>\n",
       "      <th>2_2</th>\n",
       "      <th>2_3</th>\n",
       "      <th>2_4</th>\n",
       "      <th>...</th>\n",
       "      <th>8_6</th>\n",
       "      <th>9_1</th>\n",
       "      <th>9_2</th>\n",
       "      <th>9_3</th>\n",
       "      <th>9_4</th>\n",
       "      <th>9_5</th>\n",
       "      <th>9_6</th>\n",
       "      <th>k-mer bases</th>\n",
       "      <th>position</th>\n",
       "      <th>transcript</th>\n",
       "    </tr>\n",
       "  </thead>\n",
       "  <tbody>\n",
       "    <tr>\n",
       "      <th>0</th>\n",
       "      <td>0.008264</td>\n",
       "      <td>0.00199</td>\n",
       "      <td>0.004320</td>\n",
       "      <td>0.00697</td>\n",
       "      <td>0.011000</td>\n",
       "      <td>0.0339</td>\n",
       "      <td>4.223784</td>\n",
       "      <td>1.770</td>\n",
       "      <td>3.0700</td>\n",
       "      <td>3.73</td>\n",
       "      <td>...</td>\n",
       "      <td>15.50</td>\n",
       "      <td>80.570270</td>\n",
       "      <td>73.1</td>\n",
       "      <td>79.000</td>\n",
       "      <td>80.5</td>\n",
       "      <td>82.000</td>\n",
       "      <td>88.3</td>\n",
       "      <td>AAGACCA</td>\n",
       "      <td>244</td>\n",
       "      <td>ENST00000000233</td>\n",
       "    </tr>\n",
       "    <tr>\n",
       "      <th>1</th>\n",
       "      <td>0.006609</td>\n",
       "      <td>0.00199</td>\n",
       "      <td>0.004320</td>\n",
       "      <td>0.00564</td>\n",
       "      <td>0.007970</td>\n",
       "      <td>0.0222</td>\n",
       "      <td>3.216424</td>\n",
       "      <td>0.919</td>\n",
       "      <td>2.4075</td>\n",
       "      <td>2.88</td>\n",
       "      <td>...</td>\n",
       "      <td>14.10</td>\n",
       "      <td>94.290698</td>\n",
       "      <td>88.6</td>\n",
       "      <td>92.800</td>\n",
       "      <td>94.1</td>\n",
       "      <td>95.725</td>\n",
       "      <td>103.0</td>\n",
       "      <td>CAAACTG</td>\n",
       "      <td>261</td>\n",
       "      <td>ENST00000000233</td>\n",
       "    </tr>\n",
       "    <tr>\n",
       "      <th>2</th>\n",
       "      <td>0.007570</td>\n",
       "      <td>0.00232</td>\n",
       "      <td>0.004400</td>\n",
       "      <td>0.00631</td>\n",
       "      <td>0.009630</td>\n",
       "      <td>0.0299</td>\n",
       "      <td>2.940541</td>\n",
       "      <td>1.280</td>\n",
       "      <td>2.1900</td>\n",
       "      <td>2.65</td>\n",
       "      <td>...</td>\n",
       "      <td>6.85</td>\n",
       "      <td>89.364324</td>\n",
       "      <td>84.4</td>\n",
       "      <td>88.400</td>\n",
       "      <td>89.2</td>\n",
       "      <td>90.100</td>\n",
       "      <td>96.2</td>\n",
       "      <td>GAAACAG</td>\n",
       "      <td>316</td>\n",
       "      <td>ENST00000000233</td>\n",
       "    </tr>\n",
       "    <tr>\n",
       "      <th>3</th>\n",
       "      <td>0.010620</td>\n",
       "      <td>0.00232</td>\n",
       "      <td>0.006475</td>\n",
       "      <td>0.00902</td>\n",
       "      <td>0.013400</td>\n",
       "      <td>0.0370</td>\n",
       "      <td>6.476350</td>\n",
       "      <td>1.220</td>\n",
       "      <td>4.6275</td>\n",
       "      <td>5.73</td>\n",
       "      <td>...</td>\n",
       "      <td>6.49</td>\n",
       "      <td>89.154000</td>\n",
       "      <td>81.4</td>\n",
       "      <td>86.975</td>\n",
       "      <td>89.9</td>\n",
       "      <td>91.225</td>\n",
       "      <td>95.7</td>\n",
       "      <td>AGAACAT</td>\n",
       "      <td>332</td>\n",
       "      <td>ENST00000000233</td>\n",
       "    </tr>\n",
       "    <tr>\n",
       "      <th>4</th>\n",
       "      <td>0.010701</td>\n",
       "      <td>0.00199</td>\n",
       "      <td>0.005770</td>\n",
       "      <td>0.00896</td>\n",
       "      <td>0.013900</td>\n",
       "      <td>0.0478</td>\n",
       "      <td>6.415051</td>\n",
       "      <td>1.150</td>\n",
       "      <td>5.4650</td>\n",
       "      <td>6.52</td>\n",
       "      <td>...</td>\n",
       "      <td>8.81</td>\n",
       "      <td>85.178788</td>\n",
       "      <td>77.6</td>\n",
       "      <td>83.625</td>\n",
       "      <td>85.4</td>\n",
       "      <td>86.900</td>\n",
       "      <td>90.5</td>\n",
       "      <td>AGGACAA</td>\n",
       "      <td>368</td>\n",
       "      <td>ENST00000000233</td>\n",
       "    </tr>\n",
       "    <tr>\n",
       "      <th>...</th>\n",
       "      <td>...</td>\n",
       "      <td>...</td>\n",
       "      <td>...</td>\n",
       "      <td>...</td>\n",
       "      <td>...</td>\n",
       "      <td>...</td>\n",
       "      <td>...</td>\n",
       "      <td>...</td>\n",
       "      <td>...</td>\n",
       "      <td>...</td>\n",
       "      <td>...</td>\n",
       "      <td>...</td>\n",
       "      <td>...</td>\n",
       "      <td>...</td>\n",
       "      <td>...</td>\n",
       "      <td>...</td>\n",
       "      <td>...</td>\n",
       "      <td>...</td>\n",
       "      <td>...</td>\n",
       "      <td>...</td>\n",
       "      <td>...</td>\n",
       "    </tr>\n",
       "    <tr>\n",
       "      <th>996</th>\n",
       "      <td>0.009711</td>\n",
       "      <td>0.00232</td>\n",
       "      <td>0.005380</td>\n",
       "      <td>0.00856</td>\n",
       "      <td>0.013325</td>\n",
       "      <td>0.0292</td>\n",
       "      <td>8.399429</td>\n",
       "      <td>2.370</td>\n",
       "      <td>6.4725</td>\n",
       "      <td>8.20</td>\n",
       "      <td>...</td>\n",
       "      <td>8.57</td>\n",
       "      <td>91.417143</td>\n",
       "      <td>85.4</td>\n",
       "      <td>90.025</td>\n",
       "      <td>91.5</td>\n",
       "      <td>92.675</td>\n",
       "      <td>99.4</td>\n",
       "      <td>AGAACTA</td>\n",
       "      <td>1758</td>\n",
       "      <td>ENST00000081029</td>\n",
       "    </tr>\n",
       "    <tr>\n",
       "      <th>997</th>\n",
       "      <td>0.009670</td>\n",
       "      <td>0.00232</td>\n",
       "      <td>0.006000</td>\n",
       "      <td>0.00831</td>\n",
       "      <td>0.012300</td>\n",
       "      <td>0.0256</td>\n",
       "      <td>3.508592</td>\n",
       "      <td>1.480</td>\n",
       "      <td>2.4300</td>\n",
       "      <td>2.86</td>\n",
       "      <td>...</td>\n",
       "      <td>3.46</td>\n",
       "      <td>86.121127</td>\n",
       "      <td>83.2</td>\n",
       "      <td>84.850</td>\n",
       "      <td>85.7</td>\n",
       "      <td>87.300</td>\n",
       "      <td>90.1</td>\n",
       "      <td>GAAACCC</td>\n",
       "      <td>1771</td>\n",
       "      <td>ENST00000081029</td>\n",
       "    </tr>\n",
       "    <tr>\n",
       "      <th>998</th>\n",
       "      <td>0.008702</td>\n",
       "      <td>0.00232</td>\n",
       "      <td>0.004980</td>\n",
       "      <td>0.00697</td>\n",
       "      <td>0.009980</td>\n",
       "      <td>0.0292</td>\n",
       "      <td>8.563488</td>\n",
       "      <td>3.260</td>\n",
       "      <td>6.9150</td>\n",
       "      <td>8.72</td>\n",
       "      <td>...</td>\n",
       "      <td>3.22</td>\n",
       "      <td>84.869767</td>\n",
       "      <td>79.3</td>\n",
       "      <td>83.550</td>\n",
       "      <td>84.8</td>\n",
       "      <td>86.550</td>\n",
       "      <td>89.6</td>\n",
       "      <td>AGAACCA</td>\n",
       "      <td>118</td>\n",
       "      <td>ENST00000084795</td>\n",
       "    </tr>\n",
       "    <tr>\n",
       "      <th>999</th>\n",
       "      <td>0.008231</td>\n",
       "      <td>0.00232</td>\n",
       "      <td>0.005640</td>\n",
       "      <td>0.00762</td>\n",
       "      <td>0.010500</td>\n",
       "      <td>0.0242</td>\n",
       "      <td>2.855965</td>\n",
       "      <td>1.770</td>\n",
       "      <td>2.3000</td>\n",
       "      <td>2.57</td>\n",
       "      <td>...</td>\n",
       "      <td>5.46</td>\n",
       "      <td>88.084211</td>\n",
       "      <td>80.5</td>\n",
       "      <td>85.400</td>\n",
       "      <td>87.4</td>\n",
       "      <td>90.600</td>\n",
       "      <td>95.7</td>\n",
       "      <td>AAAACAA</td>\n",
       "      <td>233</td>\n",
       "      <td>ENST00000084795</td>\n",
       "    </tr>\n",
       "    <tr>\n",
       "      <th>1000</th>\n",
       "      <td>0.010744</td>\n",
       "      <td>0.00166</td>\n",
       "      <td>0.006310</td>\n",
       "      <td>0.00858</td>\n",
       "      <td>0.014100</td>\n",
       "      <td>0.0418</td>\n",
       "      <td>3.714717</td>\n",
       "      <td>1.430</td>\n",
       "      <td>2.9600</td>\n",
       "      <td>3.24</td>\n",
       "      <td>...</td>\n",
       "      <td>11.70</td>\n",
       "      <td>81.498113</td>\n",
       "      <td>69.3</td>\n",
       "      <td>80.300</td>\n",
       "      <td>81.8</td>\n",
       "      <td>82.800</td>\n",
       "      <td>86.1</td>\n",
       "      <td>GGGACCA</td>\n",
       "      <td>256</td>\n",
       "      <td>ENST00000084795</td>\n",
       "    </tr>\n",
       "  </tbody>\n",
       "</table>\n",
       "<p>1001 rows × 57 columns</p>\n",
       "</div>"
      ],
      "text/plain": [
       "           1_1      1_2       1_3      1_4       1_5     1_6       2_1    2_2  \\\n",
       "0     0.008264  0.00199  0.004320  0.00697  0.011000  0.0339  4.223784  1.770   \n",
       "1     0.006609  0.00199  0.004320  0.00564  0.007970  0.0222  3.216424  0.919   \n",
       "2     0.007570  0.00232  0.004400  0.00631  0.009630  0.0299  2.940541  1.280   \n",
       "3     0.010620  0.00232  0.006475  0.00902  0.013400  0.0370  6.476350  1.220   \n",
       "4     0.010701  0.00199  0.005770  0.00896  0.013900  0.0478  6.415051  1.150   \n",
       "...        ...      ...       ...      ...       ...     ...       ...    ...   \n",
       "996   0.009711  0.00232  0.005380  0.00856  0.013325  0.0292  8.399429  2.370   \n",
       "997   0.009670  0.00232  0.006000  0.00831  0.012300  0.0256  3.508592  1.480   \n",
       "998   0.008702  0.00232  0.004980  0.00697  0.009980  0.0292  8.563488  3.260   \n",
       "999   0.008231  0.00232  0.005640  0.00762  0.010500  0.0242  2.855965  1.770   \n",
       "1000  0.010744  0.00166  0.006310  0.00858  0.014100  0.0418  3.714717  1.430   \n",
       "\n",
       "         2_3   2_4  ...    8_6        9_1   9_2     9_3   9_4     9_5    9_6  \\\n",
       "0     3.0700  3.73  ...  15.50  80.570270  73.1  79.000  80.5  82.000   88.3   \n",
       "1     2.4075  2.88  ...  14.10  94.290698  88.6  92.800  94.1  95.725  103.0   \n",
       "2     2.1900  2.65  ...   6.85  89.364324  84.4  88.400  89.2  90.100   96.2   \n",
       "3     4.6275  5.73  ...   6.49  89.154000  81.4  86.975  89.9  91.225   95.7   \n",
       "4     5.4650  6.52  ...   8.81  85.178788  77.6  83.625  85.4  86.900   90.5   \n",
       "...      ...   ...  ...    ...        ...   ...     ...   ...     ...    ...   \n",
       "996   6.4725  8.20  ...   8.57  91.417143  85.4  90.025  91.5  92.675   99.4   \n",
       "997   2.4300  2.86  ...   3.46  86.121127  83.2  84.850  85.7  87.300   90.1   \n",
       "998   6.9150  8.72  ...   3.22  84.869767  79.3  83.550  84.8  86.550   89.6   \n",
       "999   2.3000  2.57  ...   5.46  88.084211  80.5  85.400  87.4  90.600   95.7   \n",
       "1000  2.9600  3.24  ...  11.70  81.498113  69.3  80.300  81.8  82.800   86.1   \n",
       "\n",
       "      k-mer bases  position       transcript  \n",
       "0         AAGACCA       244  ENST00000000233  \n",
       "1         CAAACTG       261  ENST00000000233  \n",
       "2         GAAACAG       316  ENST00000000233  \n",
       "3         AGAACAT       332  ENST00000000233  \n",
       "4         AGGACAA       368  ENST00000000233  \n",
       "...           ...       ...              ...  \n",
       "996       AGAACTA      1758  ENST00000081029  \n",
       "997       GAAACCC      1771  ENST00000081029  \n",
       "998       AGAACCA       118  ENST00000084795  \n",
       "999       AAAACAA       233  ENST00000084795  \n",
       "1000      GGGACCA       256  ENST00000084795  \n",
       "\n",
       "[1001 rows x 57 columns]"
      ]
     },
     "execution_count": 25,
     "metadata": {},
     "output_type": "execute_result"
    }
   ],
   "source": [
    "df"
   ]
  },
  {
   "cell_type": "code",
   "execution_count": 26,
   "metadata": {
    "ExecuteTime": {
     "end_time": "2022-10-08T14:34:49.501850Z",
     "start_time": "2022-10-08T14:34:49.499074Z"
    }
   },
   "outputs": [],
   "source": [
    "idx_cols = [\"transcript\", \"position\", \"k-mer bases\"]"
   ]
  },
  {
   "cell_type": "code",
   "execution_count": 27,
   "metadata": {
    "ExecuteTime": {
     "end_time": "2022-10-08T14:34:49.509226Z",
     "start_time": "2022-10-08T14:34:49.504274Z"
    }
   },
   "outputs": [],
   "source": [
    "X = np.array(df[df.columns.difference(idx_cols)])"
   ]
  },
  {
   "cell_type": "code",
   "execution_count": 28,
   "metadata": {
    "ExecuteTime": {
     "end_time": "2022-10-08T14:34:49.516797Z",
     "start_time": "2022-10-08T14:34:49.511988Z"
    }
   },
   "outputs": [
    {
     "data": {
      "text/plain": [
       "(1001, 54)"
      ]
     },
     "execution_count": 28,
     "metadata": {},
     "output_type": "execute_result"
    }
   ],
   "source": [
    "X.shape"
   ]
  },
  {
   "cell_type": "code",
   "execution_count": 29,
   "metadata": {
    "ExecuteTime": {
     "end_time": "2022-10-08T14:34:49.524260Z",
     "start_time": "2022-10-08T14:34:49.518944Z"
    }
   },
   "outputs": [],
   "source": [
    "pred = LogReg.predict_proba(X)"
   ]
  },
  {
   "cell_type": "code",
   "execution_count": 30,
   "metadata": {
    "ExecuteTime": {
     "end_time": "2022-10-08T14:34:49.540901Z",
     "start_time": "2022-10-08T14:34:49.537271Z"
    }
   },
   "outputs": [],
   "source": [
    "pred = pred[:, 1]"
   ]
  },
  {
   "cell_type": "code",
   "execution_count": 31,
   "metadata": {
    "ExecuteTime": {
     "end_time": "2022-10-08T14:34:49.551936Z",
     "start_time": "2022-10-08T14:34:49.545406Z"
    }
   },
   "outputs": [],
   "source": [
    "df = df[idx_cols].copy()"
   ]
  },
  {
   "cell_type": "code",
   "execution_count": 32,
   "metadata": {
    "ExecuteTime": {
     "end_time": "2022-10-08T14:34:49.560113Z",
     "start_time": "2022-10-08T14:34:49.555002Z"
    }
   },
   "outputs": [],
   "source": [
    "df['scores'] = pred"
   ]
  },
  {
   "cell_type": "code",
   "execution_count": 33,
   "metadata": {
    "ExecuteTime": {
     "end_time": "2022-10-08T14:34:49.585288Z",
     "start_time": "2022-10-08T14:34:49.563341Z"
    }
   },
   "outputs": [
    {
     "data": {
      "text/html": [
       "<div>\n",
       "<style scoped>\n",
       "    .dataframe tbody tr th:only-of-type {\n",
       "        vertical-align: middle;\n",
       "    }\n",
       "\n",
       "    .dataframe tbody tr th {\n",
       "        vertical-align: top;\n",
       "    }\n",
       "\n",
       "    .dataframe thead th {\n",
       "        text-align: right;\n",
       "    }\n",
       "</style>\n",
       "<table border=\"1\" class=\"dataframe\">\n",
       "  <thead>\n",
       "    <tr style=\"text-align: right;\">\n",
       "      <th></th>\n",
       "      <th>transcript</th>\n",
       "      <th>position</th>\n",
       "      <th>k-mer bases</th>\n",
       "      <th>scores</th>\n",
       "    </tr>\n",
       "  </thead>\n",
       "  <tbody>\n",
       "    <tr>\n",
       "      <th>0</th>\n",
       "      <td>ENST00000000233</td>\n",
       "      <td>244</td>\n",
       "      <td>AAGACCA</td>\n",
       "      <td>0.001449</td>\n",
       "    </tr>\n",
       "    <tr>\n",
       "      <th>1</th>\n",
       "      <td>ENST00000000233</td>\n",
       "      <td>261</td>\n",
       "      <td>CAAACTG</td>\n",
       "      <td>0.001387</td>\n",
       "    </tr>\n",
       "    <tr>\n",
       "      <th>2</th>\n",
       "      <td>ENST00000000233</td>\n",
       "      <td>316</td>\n",
       "      <td>GAAACAG</td>\n",
       "      <td>0.003650</td>\n",
       "    </tr>\n",
       "    <tr>\n",
       "      <th>3</th>\n",
       "      <td>ENST00000000233</td>\n",
       "      <td>332</td>\n",
       "      <td>AGAACAT</td>\n",
       "      <td>0.030765</td>\n",
       "    </tr>\n",
       "    <tr>\n",
       "      <th>4</th>\n",
       "      <td>ENST00000000233</td>\n",
       "      <td>368</td>\n",
       "      <td>AGGACAA</td>\n",
       "      <td>0.000004</td>\n",
       "    </tr>\n",
       "    <tr>\n",
       "      <th>...</th>\n",
       "      <td>...</td>\n",
       "      <td>...</td>\n",
       "      <td>...</td>\n",
       "      <td>...</td>\n",
       "    </tr>\n",
       "    <tr>\n",
       "      <th>996</th>\n",
       "      <td>ENST00000081029</td>\n",
       "      <td>1758</td>\n",
       "      <td>AGAACTA</td>\n",
       "      <td>0.002717</td>\n",
       "    </tr>\n",
       "    <tr>\n",
       "      <th>997</th>\n",
       "      <td>ENST00000081029</td>\n",
       "      <td>1771</td>\n",
       "      <td>GAAACCC</td>\n",
       "      <td>0.003245</td>\n",
       "    </tr>\n",
       "    <tr>\n",
       "      <th>998</th>\n",
       "      <td>ENST00000084795</td>\n",
       "      <td>118</td>\n",
       "      <td>AGAACCA</td>\n",
       "      <td>0.001678</td>\n",
       "    </tr>\n",
       "    <tr>\n",
       "      <th>999</th>\n",
       "      <td>ENST00000084795</td>\n",
       "      <td>233</td>\n",
       "      <td>AAAACAA</td>\n",
       "      <td>0.002264</td>\n",
       "    </tr>\n",
       "    <tr>\n",
       "      <th>1000</th>\n",
       "      <td>ENST00000084795</td>\n",
       "      <td>256</td>\n",
       "      <td>GGGACCA</td>\n",
       "      <td>0.000891</td>\n",
       "    </tr>\n",
       "  </tbody>\n",
       "</table>\n",
       "<p>1001 rows × 4 columns</p>\n",
       "</div>"
      ],
      "text/plain": [
       "           transcript  position k-mer bases    scores\n",
       "0     ENST00000000233       244     AAGACCA  0.001449\n",
       "1     ENST00000000233       261     CAAACTG  0.001387\n",
       "2     ENST00000000233       316     GAAACAG  0.003650\n",
       "3     ENST00000000233       332     AGAACAT  0.030765\n",
       "4     ENST00000000233       368     AGGACAA  0.000004\n",
       "...               ...       ...         ...       ...\n",
       "996   ENST00000081029      1758     AGAACTA  0.002717\n",
       "997   ENST00000081029      1771     GAAACCC  0.003245\n",
       "998   ENST00000084795       118     AGAACCA  0.001678\n",
       "999   ENST00000084795       233     AAAACAA  0.002264\n",
       "1000  ENST00000084795       256     GGGACCA  0.000891\n",
       "\n",
       "[1001 rows x 4 columns]"
      ]
     },
     "execution_count": 33,
     "metadata": {},
     "output_type": "execute_result"
    }
   ],
   "source": [
    "df"
   ]
  },
  {
   "cell_type": "code",
   "execution_count": 34,
   "metadata": {
    "ExecuteTime": {
     "end_time": "2022-10-08T14:34:49.595288Z",
     "start_time": "2022-10-08T14:34:49.589334Z"
    }
   },
   "outputs": [],
   "source": [
    "df = df.drop(\"k-mer bases\", axis = 1)"
   ]
  },
  {
   "cell_type": "code",
   "execution_count": 35,
   "metadata": {
    "ExecuteTime": {
     "end_time": "2022-10-08T14:34:49.605203Z",
     "start_time": "2022-10-08T14:34:49.599444Z"
    }
   },
   "outputs": [],
   "source": [
    "df.columns = [\"transcript_id\", \"transcript_position\", \"score\"]"
   ]
  },
  {
   "cell_type": "code",
   "execution_count": 36,
   "metadata": {
    "ExecuteTime": {
     "end_time": "2022-10-08T14:34:49.626896Z",
     "start_time": "2022-10-08T14:34:49.609593Z"
    }
   },
   "outputs": [],
   "source": [
    "df.to_csv(\"some.csv\", index=False)"
   ]
  },
  {
   "cell_type": "code",
   "execution_count": null,
   "metadata": {},
   "outputs": [],
   "source": []
  }
 ],
 "metadata": {
  "kernelspec": {
   "display_name": "Python 3.7.2 64-bit",
   "language": "python",
   "name": "python3"
  },
  "language_info": {
   "codemirror_mode": {
    "name": "ipython",
    "version": 3
   },
   "file_extension": ".py",
   "mimetype": "text/x-python",
   "name": "python",
   "nbconvert_exporter": "python",
   "pygments_lexer": "ipython3",
   "version": "3.7.2"
  },
  "toc": {
   "base_numbering": 1,
   "nav_menu": {},
   "number_sections": false,
   "sideBar": true,
   "skip_h1_title": false,
   "title_cell": "Table of Contents",
   "title_sidebar": "Contents",
   "toc_cell": false,
   "toc_position": {},
   "toc_section_display": true,
   "toc_window_display": true
  },
  "vscode": {
   "interpreter": {
    "hash": "bd824e2ddad6d40478d200208cfedf262e28e705a5cad5e713fd0ef5d6b463b3"
   }
  }
 },
 "nbformat": 4,
 "nbformat_minor": 4
}
