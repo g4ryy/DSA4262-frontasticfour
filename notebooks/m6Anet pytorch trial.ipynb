{
 "cells": [
  {
   "cell_type": "markdown",
   "metadata": {},
   "source": [
    "# Setup"
   ]
  },
  {
   "cell_type": "code",
   "execution_count": 2,
   "metadata": {
    "ExecuteTime": {
     "end_time": "2022-10-13T05:06:14.373777Z",
     "start_time": "2022-10-13T05:05:58.952801Z"
    }
   },
   "outputs": [],
   "source": [
    "import pandas as pd\n",
    "import numpy as np"
   ]
  },
  {
   "cell_type": "code",
   "execution_count": 4,
   "metadata": {
    "ExecuteTime": {
     "end_time": "2022-10-13T05:06:47.240747Z",
     "start_time": "2022-10-13T05:06:47.237877Z"
    }
   },
   "outputs": [],
   "source": [
    "import torch\n",
    "import torch.nn as nn\n",
    "import torch.nn.functional as F\n",
    "import torch.optim as optim"
   ]
  },
  {
   "cell_type": "code",
   "execution_count": 5,
   "metadata": {
    "ExecuteTime": {
     "end_time": "2022-10-13T05:06:58.661269Z",
     "start_time": "2022-10-13T05:06:58.658628Z"
    }
   },
   "outputs": [],
   "source": [
    "data = {\"AAGGA\" : 0,\n",
    "        \"AAGGA\" : 1,\n",
    "        \"AAGGA\" : 2, \n",
    "        \"AAGGT\" : 3, \n",
    "        \"ATGGA\" : 4, }\n",
    "        # . . . 66"
   ]
  },
  {
   "cell_type": "code",
   "execution_count": 7,
   "metadata": {
    "ExecuteTime": {
     "end_time": "2022-10-13T05:07:10.880984Z",
     "start_time": "2022-10-13T05:07:10.875352Z"
    }
   },
   "outputs": [
    {
     "data": {
      "text/plain": [
       "tensor([0, 1, 2])"
      ]
     },
     "execution_count": 7,
     "metadata": {},
     "output_type": "execute_result"
    }
   ],
   "source": [
    "input=torch.tensor([0, 1, 2])\n",
    "input"
   ]
  },
  {
   "cell_type": "code",
   "execution_count": 9,
   "metadata": {
    "ExecuteTime": {
     "end_time": "2022-10-13T05:07:37.887853Z",
     "start_time": "2022-10-13T05:07:37.863868Z"
    }
   },
   "outputs": [
    {
     "data": {
      "text/plain": [
       "tensor([[-0.0235, -1.2632],\n",
       "        [ 0.4791,  0.8433],\n",
       "        [ 2.8003,  2.0574]], grad_fn=<EmbeddingBackward0>)"
      ]
     },
     "execution_count": 9,
     "metadata": {},
     "output_type": "execute_result"
    }
   ],
   "source": [
    "embeddings = nn.Embedding(66, 2)\n",
    "embeddings(input)"
   ]
  },
  {
   "cell_type": "markdown",
   "metadata": {},
   "source": [
    "# Linear Regression Trial"
   ]
  },
  {
   "cell_type": "code",
   "execution_count": 10,
   "metadata": {
    "ExecuteTime": {
     "end_time": "2022-10-13T05:08:43.817150Z",
     "start_time": "2022-10-13T05:08:43.811454Z"
    }
   },
   "outputs": [
    {
     "name": "stdout",
     "output_type": "stream",
     "text": [
      "n_samples = 8, n_features = 1\n"
     ]
    }
   ],
   "source": [
    "import torch\n",
    "# Import the neural network module from pytorch\n",
    "import torch.nn as nn\n",
    "\n",
    "# Linear regression\n",
    "# f = w * x \n",
    "# here : f = 2 * x\n",
    "\n",
    "# 0) Training samples, watch the shape!. Here we have (8, 1) for 8 observations of 1 feature each\n",
    "X = torch.tensor([[1], [2], [3], [4], [5], [6], [7], [8]], dtype=torch.float32)\n",
    "Y = torch.tensor([[2], [4], [6], [8], [10], [12], [14], [16]], dtype=torch.float32)\n",
    "\n",
    "n_samples, n_features = X.shape\n",
    "print(f'n_samples = {n_samples}, n_features = {n_features}')\n",
    "\n",
    "# 0) create a test sample\n",
    "X_test = torch.tensor([5], dtype=torch.float32)"
   ]
  },
  {
   "cell_type": "code",
   "execution_count": 11,
   "metadata": {
    "ExecuteTime": {
     "end_time": "2022-10-13T05:08:53.808204Z",
     "start_time": "2022-10-13T05:08:53.745533Z"
    }
   },
   "outputs": [
    {
     "name": "stdout",
     "output_type": "stream",
     "text": [
      "Prediction before training: f(5.0) = -2.208\n",
      "epoch  10 : w =  1.9433797597885132  loss =  0.020263902842998505\n",
      "epoch  20 : w =  1.9468997716903687  loss =  0.018501583486795425\n",
      "epoch  30 : w =  1.9489827156066895  loss =  0.017078982666134834\n",
      "epoch  40 : w =  1.9509832859039307  loss =  0.015765808522701263\n",
      "epoch  50 : w =  1.9529054164886475  loss =  0.014553562738001347\n",
      "epoch  60 : w =  1.9547522068023682  loss =  0.013434533029794693\n",
      "epoch  70 : w =  1.956526517868042  loss =  0.012401577085256577\n",
      "epoch  80 : w =  1.9582313299179077  loss =  0.011448007076978683\n",
      "epoch  90 : w =  1.959869146347046  loss =  0.010567796416580677\n",
      "epoch  100 : w =  1.9614428281784058  loss =  0.009755214676260948\n",
      "Prediction after training: f(5.0) = 10.024\n"
     ]
    }
   ],
   "source": [
    "# 1) Design Model, the model has to implement the forward pass!\n",
    "\n",
    "# Here we could simply use a built-in model from PyTorch\n",
    "# model = nn.Linear(input_size, output_size)\n",
    "\n",
    "# Pytorch model class must ALWYAS inherit from nn.module\n",
    "class LinearRegression(nn.Module):\n",
    "    # Must always init the pytorch model class\n",
    "    def __init__(self, input_dim, output_dim):\n",
    "        # Need to super init\n",
    "        super(LinearRegression, self).__init__()\n",
    "        # define different layers. Here there is only one linear for the linear regression\n",
    "        # nn.Linear performs the linear regression operation w*x + b\n",
    "        self.lin = nn.Linear(input_dim, output_dim)\n",
    "\n",
    "    # Apply the layers. Need to include x in function signature so model has input\n",
    "    def forward(self, x):\n",
    "        return self.lin(x)\n",
    "\n",
    "# Specifying the input and output dimensions\n",
    "input_size, output_size = n_features, n_features\n",
    "# Insantiate Linear Regression Neural Network Model\n",
    "model = LinearRegression(input_size, output_size)\n",
    "\n",
    "print(f'Prediction before training: f({X_test.item()}) = {model(X_test).item():.3f}')\n",
    "\n",
    "# 2) Define loss and optimizer\n",
    "learning_rate = 0.01\n",
    "n_epochs = 100\n",
    "# Automatically implements the MSE formula\n",
    "loss = nn.MSELoss()\n",
    "# Use Stochastic Gradient Descent. Need to supply the model parameters \n",
    "# and a selected learning rate\n",
    "optimizer = torch.optim.SGD(model.parameters(), lr=learning_rate)\n",
    "\n",
    "# 3) Training loop\n",
    "for epoch in range(n_epochs):\n",
    "    # predict = forward pass with our model\n",
    "    # Internally this calls model.forward(x), performing the linear regression\n",
    "    # and returning the predicted y_values\n",
    "    y_predicted = model(X)\n",
    "\n",
    "    # loss\n",
    "    l = loss(Y, y_predicted)\n",
    "\n",
    "    # calculate gradients = backward pass\n",
    "    l.backward()\n",
    "\n",
    "    # update weights. This updates model.parameters()\n",
    "    optimizer.step()\n",
    "\n",
    "    # zero the gradients after updating\n",
    "    optimizer.zero_grad()\n",
    "\n",
    "    if (epoch+1) % 10 == 0:\n",
    "        w, b = model.parameters() # unpack parameters. In this instance the weight & the bias\n",
    "        print('epoch ', epoch+1, ': w = ', w[0][0].item(), ' loss = ', l.item())\n",
    "        \n",
    "\n",
    "print(f'Prediction after training: f({X_test.item()}) = {model(X_test).item():.3f}')"
   ]
  },
  {
   "cell_type": "markdown",
   "metadata": {},
   "source": [
    "# Trial"
   ]
  },
  {
   "cell_type": "markdown",
   "metadata": {},
   "source": [
    "## Get Data Helpers"
   ]
  },
  {
   "cell_type": "code",
   "execution_count": 7,
   "metadata": {
    "ExecuteTime": {
     "end_time": "2022-10-14T03:50:56.428239Z",
     "start_time": "2022-10-14T03:50:56.425352Z"
    }
   },
   "outputs": [],
   "source": [
    "# To be able to import the file\n",
    "import sys\n",
    "pathname=\"/Users/carelchay/Desktop/School/Modules/DSA4262/Project 2/DSA4262-frontasticfour/scripts\"\n",
    "if pathname not in sys.path:\n",
    "    sys.path.append(pathname)\n",
    "path_to_data = \"/Users/carelchay/Desktop/School/Modules/DSA4262/Project 2/data/data.json\""
   ]
  },
  {
   "cell_type": "code",
   "execution_count": 6,
   "metadata": {
    "ExecuteTime": {
     "end_time": "2022-10-14T03:50:14.318880Z",
     "start_time": "2022-10-14T03:50:14.059912Z"
    }
   },
   "outputs": [],
   "source": [
    "import getData as gd"
   ]
  },
  {
   "cell_type": "code",
   "execution_count": 8,
   "metadata": {
    "ExecuteTime": {
     "end_time": "2022-10-14T03:51:03.214737Z",
     "start_time": "2022-10-14T03:51:03.211371Z"
    }
   },
   "outputs": [],
   "source": [
    "getDat = gd.getData(path_to_data=path_to_data)"
   ]
  },
  {
   "cell_type": "code",
   "execution_count": 9,
   "metadata": {
    "ExecuteTime": {
     "end_time": "2022-10-14T03:51:33.721581Z",
     "start_time": "2022-10-14T03:51:20.083104Z"
    }
   },
   "outputs": [],
   "source": [
    "# Get K-mer dictionary\n",
    "kmer_dct = getDat.get_unique_kmers()"
   ]
  },
  {
   "cell_type": "markdown",
   "metadata": {},
   "source": [
    "# Build Neural Network"
   ]
  },
  {
   "cell_type": "code",
   "execution_count": 2,
   "metadata": {
    "ExecuteTime": {
     "end_time": "2022-10-13T09:08:53.984300Z",
     "start_time": "2022-10-13T09:08:53.389793Z"
    }
   },
   "outputs": [],
   "source": [
    "import torch\n",
    "import torch.nn as nn"
   ]
  },
  {
   "cell_type": "code",
   "execution_count": null,
   "metadata": {},
   "outputs": [],
   "source": [
    "class m6aNet(nn.Module):\n",
    "    def __init__(self, input_size, hidden_size, num_classes):\n",
    "        super(m6aNet, self).__init__()\n",
    "        # Embedding Layer\n",
    "        self.embed = nn.Embedding(66, 2)\n",
    "        #### Read Level modification Probability p_ij Layer  ####\n",
    "        #### Comprised of 2 hidden layers of size 150 and 64 ####\n",
    "        \n",
    "        # First Main Layer\n",
    "        self.read_level_prob_1 = nn.Linear(15, 150)\n",
    "        # First Hidden Layer\n",
    "        self.read_level_prob_2 = nn.Linear(150, 32)\n",
    "        # Second Hidden Layer\n",
    "        self.read_level_prob_3 = nn.Linear(64, 64)\n",
    "        \n",
    "        "
   ]
  },
  {
   "cell_type": "code",
   "execution_count": 18,
   "metadata": {
    "ExecuteTime": {
     "end_time": "2022-10-13T09:34:58.887571Z",
     "start_time": "2022-10-13T09:34:58.883471Z"
    }
   },
   "outputs": [],
   "source": [
    "a = nn.Linear(15, 150)\n",
    "b = nn.Linear(150, 32)\n",
    "c = nn.Linear(32, 1)"
   ]
  },
  {
   "cell_type": "code",
   "execution_count": 19,
   "metadata": {
    "ExecuteTime": {
     "end_time": "2022-10-13T09:35:00.732288Z",
     "start_time": "2022-10-13T09:35:00.728757Z"
    }
   },
   "outputs": [],
   "source": [
    "q = torch.rand(4,15)\n",
    "q = a(q)\n",
    "q = b(q)\n",
    "q = c(q)"
   ]
  },
  {
   "cell_type": "code",
   "execution_count": 21,
   "metadata": {
    "ExecuteTime": {
     "end_time": "2022-10-13T09:35:05.222174Z",
     "start_time": "2022-10-13T09:35:05.217524Z"
    }
   },
   "outputs": [
    {
     "data": {
      "text/plain": [
       "tensor([[0.2039],\n",
       "        [0.0735],\n",
       "        [0.0901],\n",
       "        [0.1247]], grad_fn=<AddmmBackward0>)"
      ]
     },
     "execution_count": 21,
     "metadata": {},
     "output_type": "execute_result"
    }
   ],
   "source": [
    "q"
   ]
  },
  {
   "cell_type": "code",
   "execution_count": 2,
   "metadata": {
    "ExecuteTime": {
     "end_time": "2022-10-14T03:39:11.460150Z",
     "start_time": "2022-10-14T03:39:11.455445Z"
    }
   },
   "outputs": [
    {
     "name": "stdout",
     "output_type": "stream",
     "text": [
      "Help on built-in function fromkeys:\n",
      "\n",
      "fromkeys(iterable, value=None, /) method of builtins.type instance\n",
      "    Create a new dictionary with keys from iterable and values set to value.\n",
      "\n"
     ]
    }
   ],
   "source": [
    "help(dict.fromkeys)"
   ]
  },
  {
   "cell_type": "code",
   "execution_count": 5,
   "metadata": {
    "ExecuteTime": {
     "end_time": "2022-10-14T03:41:38.830525Z",
     "start_time": "2022-10-14T03:41:38.810687Z"
    }
   },
   "outputs": [
    {
     "ename": "NameError",
     "evalue": "name 'data' is not defined",
     "output_type": "error",
     "traceback": [
      "\u001b[0;31m---------------------------------------------------------------------------\u001b[0m",
      "\u001b[0;31mNameError\u001b[0m                                 Traceback (most recent call last)",
      "Input \u001b[0;32mIn [5]\u001b[0m, in \u001b[0;36m<cell line: 1>\u001b[0;34m()\u001b[0m\n\u001b[0;32m----> 1\u001b[0m {item : idx \u001b[38;5;28;01mfor\u001b[39;00m item, idx \u001b[38;5;129;01min\u001b[39;00m \u001b[38;5;28menumerate\u001b[39m(\u001b[43mdata\u001b[49m)}\n",
      "\u001b[0;31mNameError\u001b[0m: name 'data' is not defined"
     ]
    }
   ],
   "source": [
    "{item : idx for item, idx in enumerate(data)}"
   ]
  },
  {
   "cell_type": "code",
   "execution_count": null,
   "metadata": {},
   "outputs": [],
   "source": []
  }
 ],
 "metadata": {
  "kernelspec": {
   "display_name": "Python 3 (ipykernel)",
   "language": "python",
   "name": "python3"
  },
  "language_info": {
   "codemirror_mode": {
    "name": "ipython",
    "version": 3
   },
   "file_extension": ".py",
   "mimetype": "text/x-python",
   "name": "python",
   "nbconvert_exporter": "python",
   "pygments_lexer": "ipython3",
   "version": "3.9.12"
  },
  "toc": {
   "base_numbering": 1,
   "nav_menu": {},
   "number_sections": false,
   "sideBar": true,
   "skip_h1_title": false,
   "title_cell": "Table of Contents",
   "title_sidebar": "Contents",
   "toc_cell": false,
   "toc_position": {},
   "toc_section_display": true,
   "toc_window_display": true
  }
 },
 "nbformat": 4,
 "nbformat_minor": 4
}
