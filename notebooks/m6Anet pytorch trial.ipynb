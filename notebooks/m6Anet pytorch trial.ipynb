{
 "cells": [
  {
   "cell_type": "markdown",
   "metadata": {},
   "source": [
    "# Setup"
   ]
  },
  {
   "cell_type": "code",
   "execution_count": 30,
   "metadata": {
    "ExecuteTime": {
     "end_time": "2022-10-15T05:41:59.933501Z",
     "start_time": "2022-10-15T05:41:59.930455Z"
    }
   },
   "outputs": [],
   "source": [
    "import pandas as pd\n",
    "import numpy as np\n",
    "import random"
   ]
  },
  {
   "cell_type": "code",
   "execution_count": 4,
   "metadata": {
    "ExecuteTime": {
     "end_time": "2022-10-13T05:06:47.240747Z",
     "start_time": "2022-10-13T05:06:47.237877Z"
    }
   },
   "outputs": [],
   "source": [
    "import torch\n",
    "import torch.nn as nn\n",
    "import torch.nn.functional as F\n",
    "import torch.optim as optim"
   ]
  },
  {
   "cell_type": "code",
   "execution_count": 5,
   "metadata": {
    "ExecuteTime": {
     "end_time": "2022-10-13T05:06:58.661269Z",
     "start_time": "2022-10-13T05:06:58.658628Z"
    }
   },
   "outputs": [],
   "source": [
    "data = {\"AAGGA\" : 0,\n",
    "        \"AAGGA\" : 1,\n",
    "        \"AAGGA\" : 2, \n",
    "        \"AAGGT\" : 3, \n",
    "        \"ATGGA\" : 4, }\n",
    "        # . . . 66"
   ]
  },
  {
   "cell_type": "code",
   "execution_count": 7,
   "metadata": {
    "ExecuteTime": {
     "end_time": "2022-10-13T05:07:10.880984Z",
     "start_time": "2022-10-13T05:07:10.875352Z"
    }
   },
   "outputs": [
    {
     "data": {
      "text/plain": [
       "tensor([0, 1, 2])"
      ]
     },
     "execution_count": 7,
     "metadata": {},
     "output_type": "execute_result"
    }
   ],
   "source": [
    "input=torch.tensor([0, 1, 2])\n",
    "input"
   ]
  },
  {
   "cell_type": "code",
   "execution_count": 9,
   "metadata": {
    "ExecuteTime": {
     "end_time": "2022-10-13T05:07:37.887853Z",
     "start_time": "2022-10-13T05:07:37.863868Z"
    }
   },
   "outputs": [
    {
     "data": {
      "text/plain": [
       "tensor([[-0.0235, -1.2632],\n",
       "        [ 0.4791,  0.8433],\n",
       "        [ 2.8003,  2.0574]], grad_fn=<EmbeddingBackward0>)"
      ]
     },
     "execution_count": 9,
     "metadata": {},
     "output_type": "execute_result"
    }
   ],
   "source": [
    "embeddings = nn.Embedding(66, 2)\n",
    "embeddings(input)"
   ]
  },
  {
   "cell_type": "markdown",
   "metadata": {},
   "source": [
    "# Linear Regression Trial"
   ]
  },
  {
   "cell_type": "code",
   "execution_count": 10,
   "metadata": {
    "ExecuteTime": {
     "end_time": "2022-10-13T05:08:43.817150Z",
     "start_time": "2022-10-13T05:08:43.811454Z"
    }
   },
   "outputs": [
    {
     "name": "stdout",
     "output_type": "stream",
     "text": [
      "n_samples = 8, n_features = 1\n"
     ]
    }
   ],
   "source": [
    "import torch\n",
    "# Import the neural network module from pytorch\n",
    "import torch.nn as nn\n",
    "\n",
    "# Linear regression\n",
    "# f = w * x \n",
    "# here : f = 2 * x\n",
    "\n",
    "# 0) Training samples, watch the shape!. Here we have (8, 1) for 8 observations of 1 feature each\n",
    "X = torch.tensor([[1], [2], [3], [4], [5], [6], [7], [8]], dtype=torch.float32)\n",
    "Y = torch.tensor([[2], [4], [6], [8], [10], [12], [14], [16]], dtype=torch.float32)\n",
    "\n",
    "n_samples, n_features = X.shape\n",
    "print(f'n_samples = {n_samples}, n_features = {n_features}')\n",
    "\n",
    "# 0) create a test sample\n",
    "X_test = torch.tensor([5], dtype=torch.float32)"
   ]
  },
  {
   "cell_type": "code",
   "execution_count": 11,
   "metadata": {
    "ExecuteTime": {
     "end_time": "2022-10-13T05:08:53.808204Z",
     "start_time": "2022-10-13T05:08:53.745533Z"
    }
   },
   "outputs": [
    {
     "name": "stdout",
     "output_type": "stream",
     "text": [
      "Prediction before training: f(5.0) = -2.208\n",
      "epoch  10 : w =  1.9433797597885132  loss =  0.020263902842998505\n",
      "epoch  20 : w =  1.9468997716903687  loss =  0.018501583486795425\n",
      "epoch  30 : w =  1.9489827156066895  loss =  0.017078982666134834\n",
      "epoch  40 : w =  1.9509832859039307  loss =  0.015765808522701263\n",
      "epoch  50 : w =  1.9529054164886475  loss =  0.014553562738001347\n",
      "epoch  60 : w =  1.9547522068023682  loss =  0.013434533029794693\n",
      "epoch  70 : w =  1.956526517868042  loss =  0.012401577085256577\n",
      "epoch  80 : w =  1.9582313299179077  loss =  0.011448007076978683\n",
      "epoch  90 : w =  1.959869146347046  loss =  0.010567796416580677\n",
      "epoch  100 : w =  1.9614428281784058  loss =  0.009755214676260948\n",
      "Prediction after training: f(5.0) = 10.024\n"
     ]
    }
   ],
   "source": [
    "# 1) Design Model, the model has to implement the forward pass!\n",
    "\n",
    "# Here we could simply use a built-in model from PyTorch\n",
    "# model = nn.Linear(input_size, output_size)\n",
    "\n",
    "# Pytorch model class must ALWYAS inherit from nn.module\n",
    "class LinearRegression(nn.Module):\n",
    "    # Must always init the pytorch model class\n",
    "    def __init__(self, input_dim, output_dim):\n",
    "        # Need to super init\n",
    "        super(LinearRegression, self).__init__()\n",
    "        # define different layers. Here there is only one linear for the linear regression\n",
    "        # nn.Linear performs the linear regression operation w*x + b\n",
    "        self.lin = nn.Linear(input_dim, output_dim)\n",
    "\n",
    "    # Apply the layers. Need to include x in function signature so model has input\n",
    "    def forward(self, x):\n",
    "        return self.lin(x)\n",
    "\n",
    "# Specifying the input and output dimensions\n",
    "input_size, output_size = n_features, n_features\n",
    "# Insantiate Linear Regression Neural Network Model\n",
    "model = LinearRegression(input_size, output_size)\n",
    "\n",
    "print(f'Prediction before training: f({X_test.item()}) = {model(X_test).item():.3f}')\n",
    "\n",
    "# 2) Define loss and optimizer\n",
    "learning_rate = 0.01\n",
    "n_epochs = 100\n",
    "# Automatically implements the MSE formula\n",
    "loss = nn.MSELoss()\n",
    "# Use Stochastic Gradient Descent. Need to supply the model parameters \n",
    "# and a selected learning rate\n",
    "optimizer = torch.optim.SGD(model.parameters(), lr=learning_rate)\n",
    "\n",
    "# 3) Training loop\n",
    "for epoch in range(n_epochs):\n",
    "    # predict = forward pass with our model\n",
    "    # Internally this calls model.forward(x), performing the linear regression\n",
    "    # and returning the predicted y_values\n",
    "    y_predicted = model(X)\n",
    "\n",
    "    # loss\n",
    "    l = loss(Y, y_predicted)\n",
    "\n",
    "    # calculate gradients = backward pass\n",
    "    l.backward()\n",
    "\n",
    "    # update weights. This updates model.parameters()\n",
    "    optimizer.step()\n",
    "\n",
    "    # zero the gradients after updating\n",
    "    optimizer.zero_grad()\n",
    "\n",
    "    if (epoch+1) % 10 == 0:\n",
    "        w, b = model.parameters() # unpack parameters. In this instance the weight & the bias\n",
    "        print('epoch ', epoch+1, ': w = ', w[0][0].item(), ' loss = ', l.item())\n",
    "        \n",
    "\n",
    "print(f'Prediction after training: f({X_test.item()}) = {model(X_test).item():.3f}')"
   ]
  },
  {
   "cell_type": "markdown",
   "metadata": {},
   "source": [
    "# Trial"
   ]
  },
  {
   "cell_type": "markdown",
   "metadata": {},
   "source": [
    "## Data Loaders"
   ]
  },
  {
   "cell_type": "code",
   "execution_count": 1,
   "metadata": {
    "ExecuteTime": {
     "end_time": "2022-10-16T03:17:37.342703Z",
     "start_time": "2022-10-16T03:17:37.328315Z"
    }
   },
   "outputs": [],
   "source": [
    "# To be able to import the file\n",
    "import sys\n",
    "pathname=\"/Users/carelchay/Desktop/School/Modules/DSA4262/Project 2/DSA4262-frontasticfour/scripts\"\n",
    "if pathname not in sys.path:\n",
    "    sys.path.append(pathname)\n",
    "path_to_data = \"/Users/carelchay/Desktop/School/Modules/DSA4262/Project 2/data/data.json\"\n",
    "path_to_labels = \"/Users/carelchay/Desktop/School/Modules/DSA4262/Project 2/data/data.info\""
   ]
  },
  {
   "cell_type": "code",
   "execution_count": 24,
   "metadata": {
    "ExecuteTime": {
     "end_time": "2022-10-15T05:40:48.271449Z",
     "start_time": "2022-10-15T05:40:48.266332Z"
    }
   },
   "outputs": [
    {
     "data": {
      "text/plain": [
       "<module 'prepData' from '/Users/carelchay/Desktop/School/Modules/DSA4262/Project 2/DSA4262-frontasticfour/scripts/prepData.py'>"
      ]
     },
     "execution_count": 24,
     "metadata": {},
     "output_type": "execute_result"
    }
   ],
   "source": [
    "import prepData as prepD\n",
    "import importlib\n",
    "importlib.reload(prepD)"
   ]
  },
  {
   "cell_type": "code",
   "execution_count": 3,
   "metadata": {
    "ExecuteTime": {
     "end_time": "2022-10-15T05:33:04.789432Z",
     "start_time": "2022-10-15T05:33:04.464692Z"
    }
   },
   "outputs": [],
   "source": [
    "import getData as gd\n",
    "getData = gd.getData(path_to_data=path_to_data, path_to_labels=path_to_labels)\n",
    "label_df = getData.get_labels()"
   ]
  },
  {
   "cell_type": "code",
   "execution_count": 4,
   "metadata": {
    "ExecuteTime": {
     "end_time": "2022-10-15T05:33:08.286763Z",
     "start_time": "2022-10-15T05:33:08.108298Z"
    }
   },
   "outputs": [],
   "source": [
    "# With train - test split\n",
    "train_genes = prepD.splitdata(label_df = label_df)"
   ]
  },
  {
   "cell_type": "code",
   "execution_count": 15,
   "metadata": {
    "ExecuteTime": {
     "end_time": "2022-10-15T05:38:02.616923Z",
     "start_time": "2022-10-15T05:37:59.870432Z"
    }
   },
   "outputs": [],
   "source": [
    "trainData = prepD.prepData(train_genes=train_genes, train_set=True, \n",
    "                          path_to_data=path_to_data, path_to_labels=path_to_labels, \n",
    "                          num_entries=10000)"
   ]
  },
  {
   "cell_type": "code",
   "execution_count": 20,
   "metadata": {
    "ExecuteTime": {
     "end_time": "2022-10-15T05:39:37.630758Z",
     "start_time": "2022-10-15T05:39:37.625482Z"
    }
   },
   "outputs": [],
   "source": [
    "train_dataLoader = trainData.get_data_loader(batchsize=256)"
   ]
  },
  {
   "cell_type": "code",
   "execution_count": 25,
   "metadata": {
    "ExecuteTime": {
     "end_time": "2022-10-15T05:40:54.323606Z",
     "start_time": "2022-10-15T05:40:51.901951Z"
    }
   },
   "outputs": [],
   "source": [
    "testData = prepD.prepData(train_genes=train_genes, train_set=False, \n",
    "                          path_to_data=path_to_data, path_to_labels=path_to_labels, \n",
    "                         num_entries=10000)"
   ]
  },
  {
   "cell_type": "code",
   "execution_count": 26,
   "metadata": {
    "ExecuteTime": {
     "end_time": "2022-10-15T05:40:58.260258Z",
     "start_time": "2022-10-15T05:40:58.223166Z"
    }
   },
   "outputs": [],
   "source": [
    "test_dataLoader = testData.get_data_loader(batchsize=256, oversample=False, shuffle=False)"
   ]
  },
  {
   "cell_type": "markdown",
   "metadata": {},
   "source": [
    "# Build Neural Network"
   ]
  },
  {
   "cell_type": "code",
   "execution_count": 36,
   "metadata": {
    "ExecuteTime": {
     "end_time": "2022-10-15T05:42:41.141420Z",
     "start_time": "2022-10-15T05:42:41.138945Z"
    }
   },
   "outputs": [],
   "source": [
    "import torch\n",
    "import torch.nn as nn"
   ]
  },
  {
   "cell_type": "code",
   "execution_count": 40,
   "metadata": {
    "ExecuteTime": {
     "end_time": "2022-10-15T05:43:54.639279Z",
     "start_time": "2022-10-15T05:43:54.630112Z"
    }
   },
   "outputs": [],
   "source": [
    "class m6aNet(nn.Module):\n",
    "    def __init__(self, batchsize, readsize):\n",
    "        self.batchsize = batchsize\n",
    "        self.readsize = readsize\n",
    "        super(m6aNet, self).__init__()\n",
    "        # Embedding Layer\n",
    "        self.embed = nn.Embedding(66, 2)\n",
    "\n",
    "        ## First Layer ##\n",
    "        self.read_level_prob_1 = nn.Linear(15, 150)\n",
    "        # First Batch Norm Layer\n",
    "        self.norm_1 = nn.BatchNorm1d(num_features=150)\n",
    "        # First Activation Layer\n",
    "        self.activ_1=nn.ReLU()\n",
    "        # First Dropout Layer\n",
    "        self.drop_1 = nn.Dropout(p=0.00)\n",
    "\n",
    "        ## Second Layer ##\n",
    "        self.read_level_prob_2 = nn.Linear(150, 32)\n",
    "        # Second Activation Layer\n",
    "        self.activ_2=nn.ReLU()\n",
    "        # Second Dropout Layer\n",
    "        self.drop_2 = nn.Dropout(p=0.00)\n",
    "\n",
    "        ## Third Layer ##\n",
    "        self.read_level_prob_3 = nn.Linear(32, 1)\n",
    "        # Sigmoid Activation\n",
    "        self.sig_1 = nn.Sigmoid()\n",
    "\n",
    "    \n",
    "    \n",
    "    def forward(self, x):\n",
    "        ### X is a tensor of shape (batchsize, readsize=20, 12) ###\n",
    "        \n",
    "        # Extract numeric features        \n",
    "        numerics = x[:, :, :9]\n",
    "        # # Extract Bases\n",
    "        bases = x[:, :, 9:].type(torch.int64)\n",
    "        # # Feed to embedding layer\n",
    "        bases = self.embed(bases)\n",
    "\n",
    "        # Reshape\n",
    "        bases = bases.reshape(-1, self.readsize, 3*2)\n",
    "        # Combine embedded output with numeric features\n",
    "        x = torch.concat((numerics, bases), 2).type(torch.float)\n",
    "\n",
    "        #### Feed Forward  ####\n",
    "\n",
    "        ## First Layer ##\n",
    "        x = self.read_level_prob_1(x)\n",
    "        # First Batch Norm Layer\n",
    "        x = x.transpose(dim0=1, dim1=2) # Need to transpose first\n",
    "        x = self.norm_1(x)\n",
    "        x = x.transpose(dim0=1, dim1=2) # Then transpose back\n",
    "        # First Activation Layer\n",
    "        x= self.activ_1(x)\n",
    "        # First Dropout Layer\n",
    "        x = self.drop_1(x)\n",
    "\n",
    "        ## Second Layer ##\n",
    "        x = self.read_level_prob_2(x)\n",
    "        # Second Activation Layer\n",
    "        x = self.activ_2(x)\n",
    "        # Second Dropout Layer\n",
    "        x = self.drop_2(x)\n",
    "\n",
    "        ## Third Layer ##\n",
    "        x = self.read_level_prob_3(x)\n",
    "        # Sigmoid Activation\n",
    "        x = self.sig_1(x)\n",
    "        x = x.reshape(-1, self.readsize)\n",
    "        \n",
    "        # Final Output\n",
    "        r = 1 - torch.prod(1 - x, axis=1)\n",
    "        return r\n",
    "\n",
    "            \n",
    "        \n",
    "        \n",
    "        \n",
    "        \n",
    "        "
   ]
  },
  {
   "cell_type": "code",
   "execution_count": 29,
   "metadata": {
    "ExecuteTime": {
     "end_time": "2022-10-15T03:44:58.313342Z",
     "start_time": "2022-10-15T03:44:58.304517Z"
    }
   },
   "outputs": [],
   "source": [
    "model=m6aNet(batchsize=50, readsize=20)\n",
    "results = model.forward(X)"
   ]
  },
  {
   "cell_type": "markdown",
   "metadata": {},
   "source": [
    "## Training Parameters"
   ]
  },
  {
   "cell_type": "code",
   "execution_count": 51,
   "metadata": {
    "ExecuteTime": {
     "end_time": "2022-10-15T05:49:01.122483Z",
     "start_time": "2022-10-15T05:49:01.117261Z"
    }
   },
   "outputs": [],
   "source": [
    "batchsize = 256\n",
    "\n",
    "# Instantiate model\n",
    "model = m6aNet(batchsize=batchsize, readsize=20)\n",
    "\n",
    "# Training Parameters\n",
    "learning_rate = 0.01\n",
    "num_epochs = 10\n",
    "n_steps = len(train_dataLoader)\n",
    "\n",
    "\n",
    "# Automatically implements the MSE formula\n",
    "criterion = nn.BCELoss()\n",
    "# Use Stochastic Gradient Descent. Need to supply the model parameters \n",
    "# and a selected learning rate\n",
    "optimizer = torch.optim.Adam(model.parameters(), lr=learning_rate, weight_decay=0)"
   ]
  },
  {
   "cell_type": "markdown",
   "metadata": {},
   "source": [
    "## Training Loop"
   ]
  },
  {
   "cell_type": "code",
   "execution_count": 46,
   "metadata": {
    "ExecuteTime": {
     "end_time": "2022-10-15T05:47:40.795378Z",
     "start_time": "2022-10-15T05:47:40.790836Z"
    }
   },
   "outputs": [
    {
     "data": {
      "text/plain": [
       "85286.59999999999"
      ]
     },
     "execution_count": 46,
     "metadata": {},
     "output_type": "execute_result"
    }
   ],
   "source": [
    "0.7*121838"
   ]
  },
  {
   "cell_type": "code",
   "execution_count": 47,
   "metadata": {
    "ExecuteTime": {
     "end_time": "2022-10-15T05:47:57.850432Z",
     "start_time": "2022-10-15T05:47:57.846383Z"
    }
   },
   "outputs": [
    {
     "data": {
      "text/plain": [
       "333.1484375"
      ]
     },
     "execution_count": 47,
     "metadata": {},
     "output_type": "execute_result"
    }
   ],
   "source": [
    "85286/256"
   ]
  },
  {
   "cell_type": "code",
   "execution_count": 48,
   "metadata": {
    "ExecuteTime": {
     "end_time": "2022-10-15T05:48:22.353804Z",
     "start_time": "2022-10-15T05:48:22.349857Z"
    }
   },
   "outputs": [
    {
     "data": {
      "text/plain": [
       "39"
      ]
     },
     "execution_count": 48,
     "metadata": {},
     "output_type": "execute_result"
    }
   ],
   "source": [
    "n_steps"
   ]
  },
  {
   "cell_type": "code",
   "execution_count": 52,
   "metadata": {
    "ExecuteTime": {
     "end_time": "2022-10-15T05:49:28.595584Z",
     "start_time": "2022-10-15T05:49:04.549365Z"
    }
   },
   "outputs": [
    {
     "name": "stdout",
     "output_type": "stream",
     "text": [
      "Epoch [1/10], Step [10/39], Loss: 1.1977\n",
      "Epoch [1/10], Step [20/39], Loss: 0.5566\n",
      "Epoch [1/10], Step [30/39], Loss: 0.5282\n",
      "Epoch [2/10], Step [10/39], Loss: 0.4948\n",
      "Epoch [2/10], Step [20/39], Loss: 0.4731\n",
      "Epoch [2/10], Step [30/39], Loss: 0.4765\n",
      "Epoch [3/10], Step [10/39], Loss: 0.3961\n",
      "Epoch [3/10], Step [20/39], Loss: 0.4059\n",
      "Epoch [3/10], Step [30/39], Loss: 0.4316\n",
      "Epoch [4/10], Step [10/39], Loss: 0.4236\n",
      "Epoch [4/10], Step [20/39], Loss: 0.4024\n",
      "Epoch [4/10], Step [30/39], Loss: 0.3569\n",
      "Epoch [5/10], Step [10/39], Loss: 0.3071\n",
      "Epoch [5/10], Step [20/39], Loss: 0.3190\n",
      "Epoch [5/10], Step [30/39], Loss: 0.3566\n",
      "Epoch [6/10], Step [10/39], Loss: 0.3329\n",
      "Epoch [6/10], Step [20/39], Loss: 0.3434\n",
      "Epoch [6/10], Step [30/39], Loss: 0.3486\n",
      "Epoch [7/10], Step [10/39], Loss: 0.3564\n",
      "Epoch [7/10], Step [20/39], Loss: 0.4210\n",
      "Epoch [7/10], Step [30/39], Loss: 0.3429\n",
      "Epoch [8/10], Step [10/39], Loss: 0.4517\n",
      "Epoch [8/10], Step [20/39], Loss: 0.3986\n",
      "Epoch [8/10], Step [30/39], Loss: 0.3586\n",
      "Epoch [9/10], Step [10/39], Loss: 0.3989\n",
      "Epoch [9/10], Step [20/39], Loss: 0.3672\n",
      "Epoch [9/10], Step [30/39], Loss: 0.4139\n",
      "Epoch [10/10], Step [10/39], Loss: 0.3659\n",
      "Epoch [10/10], Step [20/39], Loss: 0.3038\n",
      "Epoch [10/10], Step [30/39], Loss: 0.3098\n"
     ]
    }
   ],
   "source": [
    "for epoch in range(num_epochs):\n",
    "    for i, (features, labels) in enumerate(train_dataLoader):\n",
    "        # Flatten labels\n",
    "        labels = labels.flatten().float()\n",
    "        \n",
    "        # Forward pass and loss calculation\n",
    "        outputs = model(features)\n",
    "        loss = criterion(outputs, labels)\n",
    "        \n",
    "        # Backward & Optimize\n",
    "        loss.backward()\n",
    "        optimizer.step()\n",
    "        optimizer.zero_grad()\n",
    "        \n",
    "        if (i+1) % 10 == 0:\n",
    "            print (f'Epoch [{epoch+1}/{num_epochs}], Step [{i+1}/{n_steps}], Loss: {loss.item():.4f}')"
   ]
  },
  {
   "cell_type": "code",
   "execution_count": 53,
   "metadata": {
    "ExecuteTime": {
     "end_time": "2022-10-15T05:49:34.326219Z",
     "start_time": "2022-10-15T05:49:34.272458Z"
    }
   },
   "outputs": [
    {
     "name": "stdout",
     "output_type": "stream",
     "text": [
      "Accuracy of the network on the 171 test images: 91.81286549707602 %\n"
     ]
    }
   ],
   "source": [
    "# Probability Threshold for M6A modification\n",
    "threshold = 0.8\n",
    "\n",
    "# Test the model: we don't need to compute gradients\n",
    "with torch.no_grad():\n",
    "    n_correct = 0\n",
    "    n_samples = 0\n",
    "    \n",
    "    for features, labels in test_dataLoader:\n",
    "        # Flatten labels\n",
    "        labels = labels.flatten().float()\n",
    "        \n",
    "        # Obtain prediction probabilities\n",
    "        y_predict = model(features)\n",
    "        # Convert to classification based on threshold\n",
    "        y_predict = (y_predict>threshold).float()\n",
    "        \n",
    "        # No. of correct predictions\n",
    "        n_correct += (y_predict==labels).sum().item()\n",
    "        n_samples += len(labels)\n",
    "        \n",
    "    acc = n_correct / n_samples\n",
    "    print(f'Accuracy of the network on the {n_samples} test images: {100*acc} %')"
   ]
  },
  {
   "cell_type": "code",
   "execution_count": 146,
   "metadata": {
    "ExecuteTime": {
     "end_time": "2022-10-15T08:53:11.673689Z",
     "start_time": "2022-10-15T08:53:11.607044Z"
    }
   },
   "outputs": [
    {
     "name": "stdout",
     "output_type": "stream",
     "text": [
      "Accuracy of the network on the 171 test images: 94.73684210526315 %\n"
     ]
    }
   ],
   "source": [
    "# Probability Threshold for M6A modification\n",
    "threshold = 0.8\n",
    "\n",
    "# Store prediction scores\n",
    "results_scores = torch.tensor([])\n",
    "# Store Prediction Classes\n",
    "results_class = torch.tensor([])\n",
    "\n",
    "# Test the model: we don't need to compute gradients\n",
    "with torch.no_grad():\n",
    "    n_correct = 0\n",
    "    n_samples = 0\n",
    "    \n",
    "    for features, labels in test_dataLoader:\n",
    "        # Flatten labels\n",
    "        labels = labels.flatten().float()\n",
    "        \n",
    "        # Obtain prediction probabilities\n",
    "        y_predict = model(features)\n",
    "        # Store Predicted probabilities\n",
    "        results_scores = torch.concat([results_scores, y_predict])\n",
    "        # Convert to classification based on threshold\n",
    "        y_predict = (y_predict>threshold).float()\n",
    "        # Store Predicted classes\n",
    "        results_class = torch.concat([results_class, y_predict])\n",
    "        \n",
    "        # No. of correct predictions\n",
    "        n_correct += (y_predict==labels).sum().item()\n",
    "        n_samples += len(labels)\n",
    "        \n",
    "    acc = n_correct / n_samples\n",
    "    print(f'Accuracy of the network on the {n_samples} test images: {100*acc} %')"
   ]
  },
  {
   "cell_type": "code",
   "execution_count": 134,
   "metadata": {
    "ExecuteTime": {
     "end_time": "2022-10-15T07:55:53.129112Z",
     "start_time": "2022-10-15T07:55:53.117504Z"
    }
   },
   "outputs": [
    {
     "data": {
      "text/html": [
       "<div>\n",
       "<style scoped>\n",
       "    .dataframe tbody tr th:only-of-type {\n",
       "        vertical-align: middle;\n",
       "    }\n",
       "\n",
       "    .dataframe tbody tr th {\n",
       "        vertical-align: top;\n",
       "    }\n",
       "\n",
       "    .dataframe thead th {\n",
       "        text-align: right;\n",
       "    }\n",
       "</style>\n",
       "<table border=\"1\" class=\"dataframe\">\n",
       "  <thead>\n",
       "    <tr style=\"text-align: right;\">\n",
       "      <th></th>\n",
       "      <th>gene_id</th>\n",
       "      <th>transcript</th>\n",
       "      <th>position</th>\n",
       "      <th>label</th>\n",
       "    </tr>\n",
       "  </thead>\n",
       "  <tbody>\n",
       "    <tr>\n",
       "      <th>2393</th>\n",
       "      <td>ENSG00000240972</td>\n",
       "      <td>ENST00000215754</td>\n",
       "      <td>490</td>\n",
       "      <td>0</td>\n",
       "    </tr>\n",
       "    <tr>\n",
       "      <th>2394</th>\n",
       "      <td>ENSG00000240972</td>\n",
       "      <td>ENST00000215754</td>\n",
       "      <td>604</td>\n",
       "      <td>0</td>\n",
       "    </tr>\n",
       "    <tr>\n",
       "      <th>2395</th>\n",
       "      <td>ENSG00000240972</td>\n",
       "      <td>ENST00000215754</td>\n",
       "      <td>688</td>\n",
       "      <td>0</td>\n",
       "    </tr>\n",
       "    <tr>\n",
       "      <th>2396</th>\n",
       "      <td>ENSG00000240972</td>\n",
       "      <td>ENST00000215754</td>\n",
       "      <td>748</td>\n",
       "      <td>0</td>\n",
       "    </tr>\n",
       "    <tr>\n",
       "      <th>2397</th>\n",
       "      <td>ENSG00000240972</td>\n",
       "      <td>ENST00000215754</td>\n",
       "      <td>799</td>\n",
       "      <td>0</td>\n",
       "    </tr>\n",
       "    <tr>\n",
       "      <th>...</th>\n",
       "      <td>...</td>\n",
       "      <td>...</td>\n",
       "      <td>...</td>\n",
       "      <td>...</td>\n",
       "    </tr>\n",
       "    <tr>\n",
       "      <th>9277</th>\n",
       "      <td>ENSG00000260027</td>\n",
       "      <td>ENST00000239165</td>\n",
       "      <td>921</td>\n",
       "      <td>0</td>\n",
       "    </tr>\n",
       "    <tr>\n",
       "      <th>9278</th>\n",
       "      <td>ENSG00000260027</td>\n",
       "      <td>ENST00000239165</td>\n",
       "      <td>1147</td>\n",
       "      <td>1</td>\n",
       "    </tr>\n",
       "    <tr>\n",
       "      <th>9279</th>\n",
       "      <td>ENSG00000260027</td>\n",
       "      <td>ENST00000239165</td>\n",
       "      <td>1160</td>\n",
       "      <td>0</td>\n",
       "    </tr>\n",
       "    <tr>\n",
       "      <th>9280</th>\n",
       "      <td>ENSG00000260027</td>\n",
       "      <td>ENST00000239165</td>\n",
       "      <td>1164</td>\n",
       "      <td>0</td>\n",
       "    </tr>\n",
       "    <tr>\n",
       "      <th>9281</th>\n",
       "      <td>ENSG00000260027</td>\n",
       "      <td>ENST00000239165</td>\n",
       "      <td>1238</td>\n",
       "      <td>0</td>\n",
       "    </tr>\n",
       "  </tbody>\n",
       "</table>\n",
       "<p>171 rows × 4 columns</p>\n",
       "</div>"
      ],
      "text/plain": [
       "              gene_id       transcript  position  label\n",
       "2393  ENSG00000240972  ENST00000215754       490      0\n",
       "2394  ENSG00000240972  ENST00000215754       604      0\n",
       "2395  ENSG00000240972  ENST00000215754       688      0\n",
       "2396  ENSG00000240972  ENST00000215754       748      0\n",
       "2397  ENSG00000240972  ENST00000215754       799      0\n",
       "...               ...              ...       ...    ...\n",
       "9277  ENSG00000260027  ENST00000239165       921      0\n",
       "9278  ENSG00000260027  ENST00000239165      1147      1\n",
       "9279  ENSG00000260027  ENST00000239165      1160      0\n",
       "9280  ENSG00000260027  ENST00000239165      1164      0\n",
       "9281  ENSG00000260027  ENST00000239165      1238      0\n",
       "\n",
       "[171 rows x 4 columns]"
      ]
     },
     "execution_count": 134,
     "metadata": {},
     "output_type": "execute_result"
    }
   ],
   "source": [
    "q = testData.df[['gene_id', 'transcript', 'position', 'label']].copy()\n",
    "q"
   ]
  },
  {
   "cell_type": "code",
   "execution_count": 130,
   "metadata": {
    "ExecuteTime": {
     "end_time": "2022-10-15T07:46:11.094991Z",
     "start_time": "2022-10-15T07:46:11.085772Z"
    }
   },
   "outputs": [],
   "source": [
    "q['pred_class'] = np.array(results_class)\n",
    "q['pred_class'] = q['pred_class'].astype(int)"
   ]
  },
  {
   "cell_type": "code",
   "execution_count": 131,
   "metadata": {
    "ExecuteTime": {
     "end_time": "2022-10-15T07:46:11.984816Z",
     "start_time": "2022-10-15T07:46:11.770848Z"
    }
   },
   "outputs": [
    {
     "data": {
      "text/html": [
       "<div>\n",
       "<style scoped>\n",
       "    .dataframe tbody tr th:only-of-type {\n",
       "        vertical-align: middle;\n",
       "    }\n",
       "\n",
       "    .dataframe tbody tr th {\n",
       "        vertical-align: top;\n",
       "    }\n",
       "\n",
       "    .dataframe thead th {\n",
       "        text-align: right;\n",
       "    }\n",
       "</style>\n",
       "<table border=\"1\" class=\"dataframe\">\n",
       "  <thead>\n",
       "    <tr style=\"text-align: right;\">\n",
       "      <th></th>\n",
       "      <th>gene_id</th>\n",
       "      <th>transcript</th>\n",
       "      <th>position</th>\n",
       "      <th>k-mer bases</th>\n",
       "      <th>values</th>\n",
       "      <th>label</th>\n",
       "      <th>pred_class</th>\n",
       "    </tr>\n",
       "  </thead>\n",
       "  <tbody>\n",
       "    <tr>\n",
       "      <th>2393</th>\n",
       "      <td>ENSG00000240972</td>\n",
       "      <td>ENST00000215754</td>\n",
       "      <td>490</td>\n",
       "      <td>TAAACAC</td>\n",
       "      <td>[[0.0131, 2.27, 103.0, 0.00498, 2.93, 97.6, 0....</td>\n",
       "      <td>0</td>\n",
       "      <td>0</td>\n",
       "    </tr>\n",
       "    <tr>\n",
       "      <th>2394</th>\n",
       "      <td>ENSG00000240972</td>\n",
       "      <td>ENST00000215754</td>\n",
       "      <td>604</td>\n",
       "      <td>CGGACCA</td>\n",
       "      <td>[[0.00631, 4.64, 113.0, 0.00963, 10.7, 120.0, ...</td>\n",
       "      <td>0</td>\n",
       "      <td>0</td>\n",
       "    </tr>\n",
       "    <tr>\n",
       "      <th>2395</th>\n",
       "      <td>ENSG00000240972</td>\n",
       "      <td>ENST00000215754</td>\n",
       "      <td>688</td>\n",
       "      <td>AGAACCG</td>\n",
       "      <td>[[0.0102, 6.85, 131.0, 0.00638, 3.74, 95.9, 0....</td>\n",
       "      <td>0</td>\n",
       "      <td>0</td>\n",
       "    </tr>\n",
       "    <tr>\n",
       "      <th>2396</th>\n",
       "      <td>ENSG00000240972</td>\n",
       "      <td>ENST00000215754</td>\n",
       "      <td>748</td>\n",
       "      <td>CGGACAG</td>\n",
       "      <td>[[0.00498, 2.45, 119.0, 0.00332, 5.41, 120.0, ...</td>\n",
       "      <td>0</td>\n",
       "      <td>0</td>\n",
       "    </tr>\n",
       "    <tr>\n",
       "      <th>2397</th>\n",
       "      <td>ENSG00000240972</td>\n",
       "      <td>ENST00000215754</td>\n",
       "      <td>799</td>\n",
       "      <td>GGAACAA</td>\n",
       "      <td>[[0.0083, 9.35, 123.0, 0.00799, 2.17, 95.2, 0....</td>\n",
       "      <td>0</td>\n",
       "      <td>0</td>\n",
       "    </tr>\n",
       "    <tr>\n",
       "      <th>...</th>\n",
       "      <td>...</td>\n",
       "      <td>...</td>\n",
       "      <td>...</td>\n",
       "      <td>...</td>\n",
       "      <td>...</td>\n",
       "      <td>...</td>\n",
       "      <td>...</td>\n",
       "    </tr>\n",
       "    <tr>\n",
       "      <th>9277</th>\n",
       "      <td>ENSG00000260027</td>\n",
       "      <td>ENST00000239165</td>\n",
       "      <td>921</td>\n",
       "      <td>AAAACAT</td>\n",
       "      <td>[[0.00256, 3.52, 105.0, 0.00835, 3.85, 100.0, ...</td>\n",
       "      <td>0</td>\n",
       "      <td>0</td>\n",
       "    </tr>\n",
       "    <tr>\n",
       "      <th>9278</th>\n",
       "      <td>ENSG00000260027</td>\n",
       "      <td>ENST00000239165</td>\n",
       "      <td>1147</td>\n",
       "      <td>TGGACTG</td>\n",
       "      <td>[[0.00879, 3.71, 115.0, 0.00564, 5.64, 117.0, ...</td>\n",
       "      <td>1</td>\n",
       "      <td>1</td>\n",
       "    </tr>\n",
       "    <tr>\n",
       "      <th>9279</th>\n",
       "      <td>ENSG00000260027</td>\n",
       "      <td>ENST00000239165</td>\n",
       "      <td>1160</td>\n",
       "      <td>TGGACTA</td>\n",
       "      <td>[[0.0105, 2.97, 120.0, 0.00855, 10.4, 116.0, 0...</td>\n",
       "      <td>0</td>\n",
       "      <td>0</td>\n",
       "    </tr>\n",
       "    <tr>\n",
       "      <th>9280</th>\n",
       "      <td>ENSG00000260027</td>\n",
       "      <td>ENST00000239165</td>\n",
       "      <td>1164</td>\n",
       "      <td>CTAACCC</td>\n",
       "      <td>[[0.00518, 2.28, 92.3, 0.0155, 3.89, 96.8, 0.0...</td>\n",
       "      <td>0</td>\n",
       "      <td>0</td>\n",
       "    </tr>\n",
       "    <tr>\n",
       "      <th>9281</th>\n",
       "      <td>ENSG00000260027</td>\n",
       "      <td>ENST00000239165</td>\n",
       "      <td>1238</td>\n",
       "      <td>AAAACCT</td>\n",
       "      <td>[[0.0116, 2.79, 111.0, 0.00896, 4.82, 102.0, 0...</td>\n",
       "      <td>0</td>\n",
       "      <td>0</td>\n",
       "    </tr>\n",
       "  </tbody>\n",
       "</table>\n",
       "<p>171 rows × 7 columns</p>\n",
       "</div>"
      ],
      "text/plain": [
       "              gene_id       transcript  position k-mer bases  \\\n",
       "2393  ENSG00000240972  ENST00000215754       490     TAAACAC   \n",
       "2394  ENSG00000240972  ENST00000215754       604     CGGACCA   \n",
       "2395  ENSG00000240972  ENST00000215754       688     AGAACCG   \n",
       "2396  ENSG00000240972  ENST00000215754       748     CGGACAG   \n",
       "2397  ENSG00000240972  ENST00000215754       799     GGAACAA   \n",
       "...               ...              ...       ...         ...   \n",
       "9277  ENSG00000260027  ENST00000239165       921     AAAACAT   \n",
       "9278  ENSG00000260027  ENST00000239165      1147     TGGACTG   \n",
       "9279  ENSG00000260027  ENST00000239165      1160     TGGACTA   \n",
       "9280  ENSG00000260027  ENST00000239165      1164     CTAACCC   \n",
       "9281  ENSG00000260027  ENST00000239165      1238     AAAACCT   \n",
       "\n",
       "                                                 values  label  pred_class  \n",
       "2393  [[0.0131, 2.27, 103.0, 0.00498, 2.93, 97.6, 0....      0           0  \n",
       "2394  [[0.00631, 4.64, 113.0, 0.00963, 10.7, 120.0, ...      0           0  \n",
       "2395  [[0.0102, 6.85, 131.0, 0.00638, 3.74, 95.9, 0....      0           0  \n",
       "2396  [[0.00498, 2.45, 119.0, 0.00332, 5.41, 120.0, ...      0           0  \n",
       "2397  [[0.0083, 9.35, 123.0, 0.00799, 2.17, 95.2, 0....      0           0  \n",
       "...                                                 ...    ...         ...  \n",
       "9277  [[0.00256, 3.52, 105.0, 0.00835, 3.85, 100.0, ...      0           0  \n",
       "9278  [[0.00879, 3.71, 115.0, 0.00564, 5.64, 117.0, ...      1           1  \n",
       "9279  [[0.0105, 2.97, 120.0, 0.00855, 10.4, 116.0, 0...      0           0  \n",
       "9280  [[0.00518, 2.28, 92.3, 0.0155, 3.89, 96.8, 0.0...      0           0  \n",
       "9281  [[0.0116, 2.79, 111.0, 0.00896, 4.82, 102.0, 0...      0           0  \n",
       "\n",
       "[171 rows x 7 columns]"
      ]
     },
     "execution_count": 131,
     "metadata": {},
     "output_type": "execute_result"
    }
   ],
   "source": [
    "q"
   ]
  },
  {
   "cell_type": "code",
   "execution_count": 150,
   "metadata": {
    "ExecuteTime": {
     "end_time": "2022-10-15T08:54:43.419757Z",
     "start_time": "2022-10-15T08:54:43.409285Z"
    }
   },
   "outputs": [
    {
     "data": {
      "text/plain": [
       "18"
      ]
     },
     "execution_count": 150,
     "metadata": {},
     "output_type": "execute_result"
    }
   ],
   "source": [
    "np.argmax(np.array(results_class))"
   ]
  },
  {
   "cell_type": "code",
   "execution_count": 136,
   "metadata": {
    "ExecuteTime": {
     "end_time": "2022-10-15T08:11:08.904353Z",
     "start_time": "2022-10-15T08:11:08.897367Z"
    }
   },
   "outputs": [
    {
     "data": {
      "text/plain": [
       "(121838, 4)"
      ]
     },
     "execution_count": 136,
     "metadata": {},
     "output_type": "execute_result"
    }
   ],
   "source": [
    "label_df.shape"
   ]
  },
  {
   "cell_type": "code",
   "execution_count": 137,
   "metadata": {
    "ExecuteTime": {
     "end_time": "2022-10-15T08:11:24.172672Z",
     "start_time": "2022-10-15T08:11:24.163121Z"
    }
   },
   "outputs": [
    {
     "data": {
      "text/plain": [
       "85287"
      ]
     },
     "execution_count": 137,
     "metadata": {},
     "output_type": "execute_result"
    }
   ],
   "source": [
    "round(0.7*121838)"
   ]
  },
  {
   "cell_type": "code",
   "execution_count": 139,
   "metadata": {
    "ExecuteTime": {
     "end_time": "2022-10-15T08:11:46.777188Z",
     "start_time": "2022-10-15T08:11:46.773741Z"
    }
   },
   "outputs": [
    {
     "data": {
      "text/plain": [
       "666.3046875"
      ]
     },
     "execution_count": 139,
     "metadata": {},
     "output_type": "execute_result"
    }
   ],
   "source": [
    "85287/128"
   ]
  },
  {
   "cell_type": "code",
   "execution_count": 106,
   "metadata": {
    "ExecuteTime": {
     "end_time": "2022-10-15T06:00:34.870638Z",
     "start_time": "2022-10-15T06:00:34.866295Z"
    }
   },
   "outputs": [
    {
     "data": {
      "text/plain": [
       "torch.Size([171])"
      ]
     },
     "execution_count": 106,
     "metadata": {},
     "output_type": "execute_result"
    }
   ],
   "source": [
    "results_class.shape"
   ]
  },
  {
   "cell_type": "code",
   "execution_count": 105,
   "metadata": {
    "ExecuteTime": {
     "end_time": "2022-10-15T05:59:57.630394Z",
     "start_time": "2022-10-15T05:59:57.616844Z"
    }
   },
   "outputs": [
    {
     "data": {
      "text/plain": [
       "tensor(0.9357)"
      ]
     },
     "execution_count": 105,
     "metadata": {},
     "output_type": "execute_result"
    }
   ],
   "source": [
    "q = np.array(testData.df['label'].to_list())\n",
    "\n",
    "torch.mean((torch.from_numpy(q)==results_class).float())"
   ]
  },
  {
   "cell_type": "code",
   "execution_count": 54,
   "metadata": {
    "ExecuteTime": {
     "end_time": "2022-10-15T05:50:26.594731Z",
     "start_time": "2022-10-15T05:50:26.563796Z"
    }
   },
   "outputs": [],
   "source": [
    "# Save model parameters\n",
    "\n",
    "path = \"./m6a.pth\"\n",
    "torch.save(model.state_dict(), path)"
   ]
  },
  {
   "cell_type": "code",
   "execution_count": 65,
   "metadata": {
    "ExecuteTime": {
     "end_time": "2022-10-15T05:51:54.615839Z",
     "start_time": "2022-10-15T05:51:54.608838Z"
    }
   },
   "outputs": [
    {
     "data": {
      "text/plain": [
       "<All keys matched successfully>"
      ]
     },
     "execution_count": 65,
     "metadata": {},
     "output_type": "execute_result"
    }
   ],
   "source": [
    "# Load model paramaters\n",
    "model = m6aNet(batchsize=batchsize, readsize=20)\n",
    "model.load_state_dict(torch.load(path)) \n",
    "# model.eval()"
   ]
  },
  {
   "cell_type": "code",
   "execution_count": 66,
   "metadata": {
    "ExecuteTime": {
     "end_time": "2022-10-15T05:51:59.112301Z",
     "start_time": "2022-10-15T05:51:59.107746Z"
    }
   },
   "outputs": [
    {
     "data": {
      "text/plain": [
       "m6aNet(\n",
       "  (embed): Embedding(66, 2)\n",
       "  (read_level_prob_1): Linear(in_features=15, out_features=150, bias=True)\n",
       "  (norm_1): BatchNorm1d(150, eps=1e-05, momentum=0.1, affine=True, track_running_stats=True)\n",
       "  (activ_1): ReLU()\n",
       "  (drop_1): Dropout(p=0.0, inplace=False)\n",
       "  (read_level_prob_2): Linear(in_features=150, out_features=32, bias=True)\n",
       "  (activ_2): ReLU()\n",
       "  (drop_2): Dropout(p=0.0, inplace=False)\n",
       "  (read_level_prob_3): Linear(in_features=32, out_features=1, bias=True)\n",
       "  (sig_1): Sigmoid()\n",
       ")"
      ]
     },
     "execution_count": 66,
     "metadata": {},
     "output_type": "execute_result"
    }
   ],
   "source": [
    "model.eval()"
   ]
  },
  {
   "cell_type": "code",
   "execution_count": 91,
   "metadata": {
    "ExecuteTime": {
     "end_time": "2022-10-15T05:56:19.206935Z",
     "start_time": "2022-10-15T05:56:19.203622Z"
    }
   },
   "outputs": [],
   "source": [
    "a = torch.tensor([1,2,3])\n",
    "b = torch.tensor([4, 5])"
   ]
  },
  {
   "cell_type": "code",
   "execution_count": 82,
   "metadata": {
    "ExecuteTime": {
     "end_time": "2022-10-15T05:55:01.007943Z",
     "start_time": "2022-10-15T05:55:01.003524Z"
    }
   },
   "outputs": [],
   "source": [
    "c = torch.concat([a, b])"
   ]
  },
  {
   "cell_type": "code",
   "execution_count": 85,
   "metadata": {
    "ExecuteTime": {
     "end_time": "2022-10-15T05:55:25.599856Z",
     "start_time": "2022-10-15T05:55:25.594755Z"
    }
   },
   "outputs": [
    {
     "data": {
      "text/plain": [
       "torch.Size([171])"
      ]
     },
     "execution_count": 85,
     "metadata": {},
     "output_type": "execute_result"
    }
   ],
   "source": [
    "y_predict.shape"
   ]
  },
  {
   "cell_type": "code",
   "execution_count": 86,
   "metadata": {
    "ExecuteTime": {
     "end_time": "2022-10-15T05:55:29.086920Z",
     "start_time": "2022-10-15T05:55:29.083723Z"
    }
   },
   "outputs": [],
   "source": [
    "a[1]=100"
   ]
  },
  {
   "cell_type": "code",
   "execution_count": 87,
   "metadata": {
    "ExecuteTime": {
     "end_time": "2022-10-15T05:55:31.045926Z",
     "start_time": "2022-10-15T05:55:31.041585Z"
    }
   },
   "outputs": [
    {
     "data": {
      "text/plain": [
       "tensor([1, 2, 3, 4, 5])"
      ]
     },
     "execution_count": 87,
     "metadata": {},
     "output_type": "execute_result"
    }
   ],
   "source": [
    "c"
   ]
  },
  {
   "cell_type": "code",
   "execution_count": 88,
   "metadata": {
    "ExecuteTime": {
     "end_time": "2022-10-15T05:55:59.744213Z",
     "start_time": "2022-10-15T05:55:59.741113Z"
    }
   },
   "outputs": [],
   "source": [
    "q = torch.tensor([])"
   ]
  },
  {
   "cell_type": "code",
   "execution_count": 92,
   "metadata": {
    "ExecuteTime": {
     "end_time": "2022-10-15T05:56:21.931795Z",
     "start_time": "2022-10-15T05:56:21.926180Z"
    }
   },
   "outputs": [
    {
     "data": {
      "text/plain": [
       "tensor([1., 2., 3., 4., 5.])"
      ]
     },
     "execution_count": 92,
     "metadata": {},
     "output_type": "execute_result"
    }
   ],
   "source": [
    "torch.concat((q, a, b))"
   ]
  },
  {
   "cell_type": "code",
   "execution_count": 109,
   "metadata": {
    "ExecuteTime": {
     "end_time": "2022-10-15T06:07:36.352297Z",
     "start_time": "2022-10-15T06:07:36.346988Z"
    }
   },
   "outputs": [
    {
     "name": "stdout",
     "output_type": "stream",
     "text": [
      "This is a test\n",
      "['/Users/carelchay/Desktop/School/Modules/DSA4262/Project 2/DSA4262-frontasticfour/notebooks', '/Users/carelchay/opt/anaconda3/envs/DS/lib/python39.zip', '/Users/carelchay/opt/anaconda3/envs/DS/lib/python3.9', '/Users/carelchay/opt/anaconda3/envs/DS/lib/python3.9/lib-dynload', '', '/Users/carelchay/opt/anaconda3/envs/DS/lib/python3.9/site-packages', '/Users/carelchay/Desktop/School/Modules/DSA4262/Project 2/DSA4262-frontasticfour/scripts']\n",
      "/Users/carelchay/Desktop/School/Modules/DSA4262/Project 2/DSA4262-frontasticfour/notebooks\n"
     ]
    }
   ],
   "source": [
    "%run -i \"../scripts/run_learner.py\""
   ]
  },
  {
   "cell_type": "code",
   "execution_count": 110,
   "metadata": {
    "ExecuteTime": {
     "end_time": "2022-10-15T06:36:21.101235Z",
     "start_time": "2022-10-15T06:36:21.098567Z"
    }
   },
   "outputs": [],
   "source": [
    "from m6aNet import m6aNet"
   ]
  },
  {
   "cell_type": "code",
   "execution_count": 113,
   "metadata": {
    "ExecuteTime": {
     "end_time": "2022-10-15T06:52:24.167069Z",
     "start_time": "2022-10-15T06:52:24.163829Z"
    }
   },
   "outputs": [],
   "source": [
    "import math"
   ]
  },
  {
   "cell_type": "code",
   "execution_count": 115,
   "metadata": {
    "ExecuteTime": {
     "end_time": "2022-10-15T06:52:31.751370Z",
     "start_time": "2022-10-15T06:52:31.746958Z"
    }
   },
   "outputs": [
    {
     "data": {
      "text/plain": [
       "int"
      ]
     },
     "execution_count": 115,
     "metadata": {},
     "output_type": "execute_result"
    }
   ],
   "source": [
    "type(math.ceil(123/2))"
   ]
  },
  {
   "cell_type": "code",
   "execution_count": 116,
   "metadata": {
    "ExecuteTime": {
     "end_time": "2022-10-15T06:58:06.108858Z",
     "start_time": "2022-10-15T06:58:06.105926Z"
    }
   },
   "outputs": [],
   "source": [
    "import numpy as np"
   ]
  },
  {
   "cell_type": "code",
   "execution_count": 118,
   "metadata": {
    "ExecuteTime": {
     "end_time": "2022-10-15T06:58:17.100492Z",
     "start_time": "2022-10-15T06:58:17.097314Z"
    }
   },
   "outputs": [],
   "source": [
    "q = np.array([])"
   ]
  },
  {
   "cell_type": "code",
   "execution_count": 119,
   "metadata": {
    "ExecuteTime": {
     "end_time": "2022-10-15T06:58:18.440609Z",
     "start_time": "2022-10-15T06:58:18.436423Z"
    }
   },
   "outputs": [
    {
     "data": {
      "text/plain": [
       "array([], dtype=float64)"
      ]
     },
     "execution_count": 119,
     "metadata": {},
     "output_type": "execute_result"
    }
   ],
   "source": [
    "np.concat([])"
   ]
  },
  {
   "cell_type": "code",
   "execution_count": 132,
   "metadata": {
    "ExecuteTime": {
     "end_time": "2022-10-15T07:53:13.451960Z",
     "start_time": "2022-10-15T07:53:13.206297Z"
    }
   },
   "outputs": [
    {
     "data": {
      "text/html": [
       "<div>\n",
       "<style scoped>\n",
       "    .dataframe tbody tr th:only-of-type {\n",
       "        vertical-align: middle;\n",
       "    }\n",
       "\n",
       "    .dataframe tbody tr th {\n",
       "        vertical-align: top;\n",
       "    }\n",
       "\n",
       "    .dataframe thead th {\n",
       "        text-align: right;\n",
       "    }\n",
       "</style>\n",
       "<table border=\"1\" class=\"dataframe\">\n",
       "  <thead>\n",
       "    <tr style=\"text-align: right;\">\n",
       "      <th></th>\n",
       "      <th>gene_id</th>\n",
       "      <th>transcript</th>\n",
       "      <th>position</th>\n",
       "      <th>k-mer bases</th>\n",
       "      <th>values</th>\n",
       "      <th>label</th>\n",
       "      <th>pred_class</th>\n",
       "    </tr>\n",
       "  </thead>\n",
       "  <tbody>\n",
       "    <tr>\n",
       "      <th>2393</th>\n",
       "      <td>ENSG00000240972</td>\n",
       "      <td>ENST00000215754</td>\n",
       "      <td>490</td>\n",
       "      <td>TAAACAC</td>\n",
       "      <td>[[0.0131, 2.27, 103.0, 0.00498, 2.93, 97.6, 0....</td>\n",
       "      <td>0</td>\n",
       "      <td>0</td>\n",
       "    </tr>\n",
       "    <tr>\n",
       "      <th>2394</th>\n",
       "      <td>ENSG00000240972</td>\n",
       "      <td>ENST00000215754</td>\n",
       "      <td>604</td>\n",
       "      <td>CGGACCA</td>\n",
       "      <td>[[0.00631, 4.64, 113.0, 0.00963, 10.7, 120.0, ...</td>\n",
       "      <td>0</td>\n",
       "      <td>0</td>\n",
       "    </tr>\n",
       "    <tr>\n",
       "      <th>2395</th>\n",
       "      <td>ENSG00000240972</td>\n",
       "      <td>ENST00000215754</td>\n",
       "      <td>688</td>\n",
       "      <td>AGAACCG</td>\n",
       "      <td>[[0.0102, 6.85, 131.0, 0.00638, 3.74, 95.9, 0....</td>\n",
       "      <td>0</td>\n",
       "      <td>0</td>\n",
       "    </tr>\n",
       "    <tr>\n",
       "      <th>2396</th>\n",
       "      <td>ENSG00000240972</td>\n",
       "      <td>ENST00000215754</td>\n",
       "      <td>748</td>\n",
       "      <td>CGGACAG</td>\n",
       "      <td>[[0.00498, 2.45, 119.0, 0.00332, 5.41, 120.0, ...</td>\n",
       "      <td>0</td>\n",
       "      <td>0</td>\n",
       "    </tr>\n",
       "    <tr>\n",
       "      <th>2397</th>\n",
       "      <td>ENSG00000240972</td>\n",
       "      <td>ENST00000215754</td>\n",
       "      <td>799</td>\n",
       "      <td>GGAACAA</td>\n",
       "      <td>[[0.0083, 9.35, 123.0, 0.00799, 2.17, 95.2, 0....</td>\n",
       "      <td>0</td>\n",
       "      <td>0</td>\n",
       "    </tr>\n",
       "    <tr>\n",
       "      <th>...</th>\n",
       "      <td>...</td>\n",
       "      <td>...</td>\n",
       "      <td>...</td>\n",
       "      <td>...</td>\n",
       "      <td>...</td>\n",
       "      <td>...</td>\n",
       "      <td>...</td>\n",
       "    </tr>\n",
       "    <tr>\n",
       "      <th>9277</th>\n",
       "      <td>ENSG00000260027</td>\n",
       "      <td>ENST00000239165</td>\n",
       "      <td>921</td>\n",
       "      <td>AAAACAT</td>\n",
       "      <td>[[0.00256, 3.52, 105.0, 0.00835, 3.85, 100.0, ...</td>\n",
       "      <td>0</td>\n",
       "      <td>0</td>\n",
       "    </tr>\n",
       "    <tr>\n",
       "      <th>9278</th>\n",
       "      <td>ENSG00000260027</td>\n",
       "      <td>ENST00000239165</td>\n",
       "      <td>1147</td>\n",
       "      <td>TGGACTG</td>\n",
       "      <td>[[0.00879, 3.71, 115.0, 0.00564, 5.64, 117.0, ...</td>\n",
       "      <td>1</td>\n",
       "      <td>1</td>\n",
       "    </tr>\n",
       "    <tr>\n",
       "      <th>9279</th>\n",
       "      <td>ENSG00000260027</td>\n",
       "      <td>ENST00000239165</td>\n",
       "      <td>1160</td>\n",
       "      <td>TGGACTA</td>\n",
       "      <td>[[0.0105, 2.97, 120.0, 0.00855, 10.4, 116.0, 0...</td>\n",
       "      <td>0</td>\n",
       "      <td>0</td>\n",
       "    </tr>\n",
       "    <tr>\n",
       "      <th>9280</th>\n",
       "      <td>ENSG00000260027</td>\n",
       "      <td>ENST00000239165</td>\n",
       "      <td>1164</td>\n",
       "      <td>CTAACCC</td>\n",
       "      <td>[[0.00518, 2.28, 92.3, 0.0155, 3.89, 96.8, 0.0...</td>\n",
       "      <td>0</td>\n",
       "      <td>0</td>\n",
       "    </tr>\n",
       "    <tr>\n",
       "      <th>9281</th>\n",
       "      <td>ENSG00000260027</td>\n",
       "      <td>ENST00000239165</td>\n",
       "      <td>1238</td>\n",
       "      <td>AAAACCT</td>\n",
       "      <td>[[0.0116, 2.79, 111.0, 0.00896, 4.82, 102.0, 0...</td>\n",
       "      <td>0</td>\n",
       "      <td>0</td>\n",
       "    </tr>\n",
       "  </tbody>\n",
       "</table>\n",
       "<p>171 rows × 7 columns</p>\n",
       "</div>"
      ],
      "text/plain": [
       "              gene_id       transcript  position k-mer bases  \\\n",
       "2393  ENSG00000240972  ENST00000215754       490     TAAACAC   \n",
       "2394  ENSG00000240972  ENST00000215754       604     CGGACCA   \n",
       "2395  ENSG00000240972  ENST00000215754       688     AGAACCG   \n",
       "2396  ENSG00000240972  ENST00000215754       748     CGGACAG   \n",
       "2397  ENSG00000240972  ENST00000215754       799     GGAACAA   \n",
       "...               ...              ...       ...         ...   \n",
       "9277  ENSG00000260027  ENST00000239165       921     AAAACAT   \n",
       "9278  ENSG00000260027  ENST00000239165      1147     TGGACTG   \n",
       "9279  ENSG00000260027  ENST00000239165      1160     TGGACTA   \n",
       "9280  ENSG00000260027  ENST00000239165      1164     CTAACCC   \n",
       "9281  ENSG00000260027  ENST00000239165      1238     AAAACCT   \n",
       "\n",
       "                                                 values  label  pred_class  \n",
       "2393  [[0.0131, 2.27, 103.0, 0.00498, 2.93, 97.6, 0....      0           0  \n",
       "2394  [[0.00631, 4.64, 113.0, 0.00963, 10.7, 120.0, ...      0           0  \n",
       "2395  [[0.0102, 6.85, 131.0, 0.00638, 3.74, 95.9, 0....      0           0  \n",
       "2396  [[0.00498, 2.45, 119.0, 0.00332, 5.41, 120.0, ...      0           0  \n",
       "2397  [[0.0083, 9.35, 123.0, 0.00799, 2.17, 95.2, 0....      0           0  \n",
       "...                                                 ...    ...         ...  \n",
       "9277  [[0.00256, 3.52, 105.0, 0.00835, 3.85, 100.0, ...      0           0  \n",
       "9278  [[0.00879, 3.71, 115.0, 0.00564, 5.64, 117.0, ...      1           1  \n",
       "9279  [[0.0105, 2.97, 120.0, 0.00855, 10.4, 116.0, 0...      0           0  \n",
       "9280  [[0.00518, 2.28, 92.3, 0.0155, 3.89, 96.8, 0.0...      0           0  \n",
       "9281  [[0.0116, 2.79, 111.0, 0.00896, 4.82, 102.0, 0...      0           0  \n",
       "\n",
       "[171 rows x 7 columns]"
      ]
     },
     "execution_count": 132,
     "metadata": {},
     "output_type": "execute_result"
    }
   ],
   "source": [
    "q"
   ]
  },
  {
   "cell_type": "code",
   "execution_count": 135,
   "metadata": {
    "ExecuteTime": {
     "end_time": "2022-10-15T08:05:29.136705Z",
     "start_time": "2022-10-15T08:05:29.126590Z"
    }
   },
   "outputs": [
    {
     "data": {
      "text/html": [
       "<div>\n",
       "<style scoped>\n",
       "    .dataframe tbody tr th:only-of-type {\n",
       "        vertical-align: middle;\n",
       "    }\n",
       "\n",
       "    .dataframe tbody tr th {\n",
       "        vertical-align: top;\n",
       "    }\n",
       "\n",
       "    .dataframe thead th {\n",
       "        text-align: right;\n",
       "    }\n",
       "</style>\n",
       "<table border=\"1\" class=\"dataframe\">\n",
       "  <thead>\n",
       "    <tr style=\"text-align: right;\">\n",
       "      <th></th>\n",
       "      <th>gene_id</th>\n",
       "      <th>transcript</th>\n",
       "      <th>position</th>\n",
       "      <th>label</th>\n",
       "    </tr>\n",
       "  </thead>\n",
       "  <tbody>\n",
       "    <tr>\n",
       "      <th>2393</th>\n",
       "      <td>ENSG00000240972</td>\n",
       "      <td>ENST00000215754</td>\n",
       "      <td>490</td>\n",
       "      <td>0</td>\n",
       "    </tr>\n",
       "    <tr>\n",
       "      <th>2394</th>\n",
       "      <td>ENSG00000240972</td>\n",
       "      <td>ENST00000215754</td>\n",
       "      <td>604</td>\n",
       "      <td>0</td>\n",
       "    </tr>\n",
       "    <tr>\n",
       "      <th>2395</th>\n",
       "      <td>ENSG00000240972</td>\n",
       "      <td>ENST00000215754</td>\n",
       "      <td>688</td>\n",
       "      <td>0</td>\n",
       "    </tr>\n",
       "    <tr>\n",
       "      <th>2396</th>\n",
       "      <td>ENSG00000240972</td>\n",
       "      <td>ENST00000215754</td>\n",
       "      <td>748</td>\n",
       "      <td>0</td>\n",
       "    </tr>\n",
       "    <tr>\n",
       "      <th>2397</th>\n",
       "      <td>ENSG00000240972</td>\n",
       "      <td>ENST00000215754</td>\n",
       "      <td>799</td>\n",
       "      <td>0</td>\n",
       "    </tr>\n",
       "    <tr>\n",
       "      <th>...</th>\n",
       "      <td>...</td>\n",
       "      <td>...</td>\n",
       "      <td>...</td>\n",
       "      <td>...</td>\n",
       "    </tr>\n",
       "    <tr>\n",
       "      <th>9277</th>\n",
       "      <td>ENSG00000260027</td>\n",
       "      <td>ENST00000239165</td>\n",
       "      <td>921</td>\n",
       "      <td>0</td>\n",
       "    </tr>\n",
       "    <tr>\n",
       "      <th>9278</th>\n",
       "      <td>ENSG00000260027</td>\n",
       "      <td>ENST00000239165</td>\n",
       "      <td>1147</td>\n",
       "      <td>1</td>\n",
       "    </tr>\n",
       "    <tr>\n",
       "      <th>9279</th>\n",
       "      <td>ENSG00000260027</td>\n",
       "      <td>ENST00000239165</td>\n",
       "      <td>1160</td>\n",
       "      <td>0</td>\n",
       "    </tr>\n",
       "    <tr>\n",
       "      <th>9280</th>\n",
       "      <td>ENSG00000260027</td>\n",
       "      <td>ENST00000239165</td>\n",
       "      <td>1164</td>\n",
       "      <td>0</td>\n",
       "    </tr>\n",
       "    <tr>\n",
       "      <th>9281</th>\n",
       "      <td>ENSG00000260027</td>\n",
       "      <td>ENST00000239165</td>\n",
       "      <td>1238</td>\n",
       "      <td>0</td>\n",
       "    </tr>\n",
       "  </tbody>\n",
       "</table>\n",
       "<p>171 rows × 4 columns</p>\n",
       "</div>"
      ],
      "text/plain": [
       "              gene_id       transcript  position  label\n",
       "2393  ENSG00000240972  ENST00000215754       490      0\n",
       "2394  ENSG00000240972  ENST00000215754       604      0\n",
       "2395  ENSG00000240972  ENST00000215754       688      0\n",
       "2396  ENSG00000240972  ENST00000215754       748      0\n",
       "2397  ENSG00000240972  ENST00000215754       799      0\n",
       "...               ...              ...       ...    ...\n",
       "9277  ENSG00000260027  ENST00000239165       921      0\n",
       "9278  ENSG00000260027  ENST00000239165      1147      1\n",
       "9279  ENSG00000260027  ENST00000239165      1160      0\n",
       "9280  ENSG00000260027  ENST00000239165      1164      0\n",
       "9281  ENSG00000260027  ENST00000239165      1238      0\n",
       "\n",
       "[171 rows x 4 columns]"
      ]
     },
     "execution_count": 135,
     "metadata": {},
     "output_type": "execute_result"
    }
   ],
   "source": [
    "q"
   ]
  },
  {
   "cell_type": "code",
   "execution_count": null,
   "metadata": {},
   "outputs": [],
   "source": [
    "pd.DataFrame({\n",
    "    \"epoch_num\" = [i for i in range(1, 10+1)],\n",
    "    \n",
    "    \n",
    "})"
   ]
  }
 ],
 "metadata": {
  "kernelspec": {
   "display_name": "Python 3 (ipykernel)",
   "language": "python",
   "name": "python3"
  },
  "language_info": {
   "codemirror_mode": {
    "name": "ipython",
    "version": 3
   },
   "file_extension": ".py",
   "mimetype": "text/x-python",
   "name": "python",
   "nbconvert_exporter": "python",
   "pygments_lexer": "ipython3",
   "version": "3.9.12"
  },
  "toc": {
   "base_numbering": 1,
   "nav_menu": {},
   "number_sections": false,
   "sideBar": false,
   "skip_h1_title": false,
   "title_cell": "Table of Contents",
   "title_sidebar": "Contents",
   "toc_cell": false,
   "toc_position": {
    "height": "293.292px",
    "left": "0px",
    "top": "111.125px",
    "width": "165px"
   },
   "toc_section_display": true,
   "toc_window_display": true
  }
 },
 "nbformat": 4,
 "nbformat_minor": 4
}
