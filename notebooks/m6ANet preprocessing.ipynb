{
 "cells": [
  {
   "cell_type": "code",
   "execution_count": 1,
   "metadata": {
    "ExecuteTime": {
     "end_time": "2022-10-15T02:31:42.081610Z",
     "start_time": "2022-10-15T02:31:41.313277Z"
    }
   },
   "outputs": [],
   "source": [
    "import json\n",
    "import numpy as np\n",
    "import pandas as pd\n",
    "import math\n",
    "import torch"
   ]
  },
  {
   "cell_type": "code",
   "execution_count": 2,
   "metadata": {
    "ExecuteTime": {
     "end_time": "2022-10-15T02:31:42.087299Z",
     "start_time": "2022-10-15T02:31:42.083874Z"
    }
   },
   "outputs": [],
   "source": [
    "path_to_data=\"/Users/carelchay/Desktop/School/Modules/DSA4262/Project 2/data/data.json\"\n",
    "path_to_labels = \"/Users/carelchay/Desktop/School/Modules/DSA4262/Project 2/data/data.info\""
   ]
  },
  {
   "cell_type": "code",
   "execution_count": 3,
   "metadata": {
    "ExecuteTime": {
     "end_time": "2022-10-15T02:31:42.092851Z",
     "start_time": "2022-10-15T02:31:42.089858Z"
    }
   },
   "outputs": [],
   "source": [
    "# To be able to import the file\n",
    "import sys\n",
    "pathname=\"/Users/carelchay/Desktop/School/Modules/DSA4262/Project 2/DSA4262-frontasticfour/scripts\"\n",
    "if pathname not in sys.path:\n",
    "    sys.path.append(pathname)"
   ]
  },
  {
   "cell_type": "code",
   "execution_count": 4,
   "metadata": {
    "ExecuteTime": {
     "end_time": "2022-10-15T02:31:44.527149Z",
     "start_time": "2022-10-15T02:31:44.508748Z"
    }
   },
   "outputs": [
    {
     "data": {
      "text/plain": [
       "<module 'getData' from '/Users/carelchay/Desktop/School/Modules/DSA4262/Project 2/DSA4262-frontasticfour/scripts/getData.py'>"
      ]
     },
     "execution_count": 4,
     "metadata": {},
     "output_type": "execute_result"
    }
   ],
   "source": [
    "import getData as gd\n",
    "import importlib\n",
    "importlib.reload(gd)"
   ]
  },
  {
   "cell_type": "code",
   "execution_count": 5,
   "metadata": {
    "ExecuteTime": {
     "end_time": "2022-10-15T02:31:48.899768Z",
     "start_time": "2022-10-15T02:31:48.896625Z"
    }
   },
   "outputs": [],
   "source": [
    "getDat = gd.getData(path_to_data=path_to_data, path_to_labels=path_to_labels)"
   ]
  },
  {
   "cell_type": "code",
   "execution_count": 6,
   "metadata": {
    "ExecuteTime": {
     "end_time": "2022-10-15T02:32:57.414859Z",
     "start_time": "2022-10-15T02:32:44.754916Z"
    }
   },
   "outputs": [],
   "source": [
    "k_mers = getDat.get_unique_kmers()\n",
    "labels = getDat.get_labels()\n",
    "df = getDat.get_data(num_entries=10)\n",
    "df = pd.merge(df, labels, how=\"left\", left_on = (\"transcript\", \"position\"), \n",
    "              right_on = (\"transcript_id\", \"transcript_position\"))\n",
    "df = df[['gene_id', 'transcript', 'position', \"k-mer bases\", \"values\", \"label\"]]\n",
    "# df[['k-1', 'k', 'k+1']]=df.apply(lambda x : [x['k-mer bases'][i:i+5] for i in range(3)], axis=1, result_type=\"expand\")"
   ]
  },
  {
   "cell_type": "code",
   "execution_count": 7,
   "metadata": {
    "ExecuteTime": {
     "end_time": "2022-10-15T02:33:01.859882Z",
     "start_time": "2022-10-15T02:33:01.549972Z"
    }
   },
   "outputs": [
    {
     "data": {
      "text/html": [
       "<div>\n",
       "<style scoped>\n",
       "    .dataframe tbody tr th:only-of-type {\n",
       "        vertical-align: middle;\n",
       "    }\n",
       "\n",
       "    .dataframe tbody tr th {\n",
       "        vertical-align: top;\n",
       "    }\n",
       "\n",
       "    .dataframe thead th {\n",
       "        text-align: right;\n",
       "    }\n",
       "</style>\n",
       "<table border=\"1\" class=\"dataframe\">\n",
       "  <thead>\n",
       "    <tr style=\"text-align: right;\">\n",
       "      <th></th>\n",
       "      <th>gene_id</th>\n",
       "      <th>transcript</th>\n",
       "      <th>position</th>\n",
       "      <th>k-mer bases</th>\n",
       "      <th>values</th>\n",
       "      <th>label</th>\n",
       "    </tr>\n",
       "  </thead>\n",
       "  <tbody>\n",
       "    <tr>\n",
       "      <th>0</th>\n",
       "      <td>ENSG00000004059</td>\n",
       "      <td>ENST00000000233</td>\n",
       "      <td>244</td>\n",
       "      <td>AAGACCA</td>\n",
       "      <td>[[0.00299, 2.06, 125.0, 0.0177, 10.4, 122.0, 0...</td>\n",
       "      <td>0</td>\n",
       "    </tr>\n",
       "    <tr>\n",
       "      <th>1</th>\n",
       "      <td>ENSG00000004059</td>\n",
       "      <td>ENST00000000233</td>\n",
       "      <td>261</td>\n",
       "      <td>CAAACTG</td>\n",
       "      <td>[[0.0126, 1.95, 111.0, 0.0125, 1.27, 108.0, 0....</td>\n",
       "      <td>0</td>\n",
       "    </tr>\n",
       "    <tr>\n",
       "      <th>2</th>\n",
       "      <td>ENSG00000004059</td>\n",
       "      <td>ENST00000000233</td>\n",
       "      <td>316</td>\n",
       "      <td>GAAACAG</td>\n",
       "      <td>[[0.00432, 2.02, 104.0, 0.00299, 3.56, 99.3, 0...</td>\n",
       "      <td>0</td>\n",
       "    </tr>\n",
       "    <tr>\n",
       "      <th>3</th>\n",
       "      <td>ENSG00000004059</td>\n",
       "      <td>ENST00000000233</td>\n",
       "      <td>332</td>\n",
       "      <td>AGAACAT</td>\n",
       "      <td>[[0.0134, 4.71, 132.0, 0.00447, 4.24, 98.8, 0....</td>\n",
       "      <td>0</td>\n",
       "    </tr>\n",
       "    <tr>\n",
       "      <th>4</th>\n",
       "      <td>ENSG00000004059</td>\n",
       "      <td>ENST00000000233</td>\n",
       "      <td>368</td>\n",
       "      <td>AGGACAA</td>\n",
       "      <td>[[0.015, 6.97, 118.0, 0.0106, 3.04, 123.0, 0.0...</td>\n",
       "      <td>0</td>\n",
       "    </tr>\n",
       "    <tr>\n",
       "      <th>5</th>\n",
       "      <td>ENSG00000004059</td>\n",
       "      <td>ENST00000000233</td>\n",
       "      <td>404</td>\n",
       "      <td>AGAACAC</td>\n",
       "      <td>[[0.00444, 5.4, 131.0, 0.00664, 7.26, 102.0, 0...</td>\n",
       "      <td>0</td>\n",
       "    </tr>\n",
       "    <tr>\n",
       "      <th>6</th>\n",
       "      <td>ENSG00000004059</td>\n",
       "      <td>ENST00000000233</td>\n",
       "      <td>431</td>\n",
       "      <td>TGGACAG</td>\n",
       "      <td>[[0.0102, 2.78, 118.0, 0.00697, 6.35, 119.0, 0...</td>\n",
       "      <td>0</td>\n",
       "    </tr>\n",
       "    <tr>\n",
       "      <th>7</th>\n",
       "      <td>ENSG00000004059</td>\n",
       "      <td>ENST00000000233</td>\n",
       "      <td>440</td>\n",
       "      <td>ATGACCG</td>\n",
       "      <td>[[0.00432, 2.94, 97.5, 0.00531, 11.0, 120.0, 0...</td>\n",
       "      <td>0</td>\n",
       "    </tr>\n",
       "    <tr>\n",
       "      <th>8</th>\n",
       "      <td>ENSG00000004059</td>\n",
       "      <td>ENST00000000233</td>\n",
       "      <td>471</td>\n",
       "      <td>TGAACTC</td>\n",
       "      <td>[[0.00266, 10.6, 125.0, 0.00681, 2.87, 104.0, ...</td>\n",
       "      <td>0</td>\n",
       "    </tr>\n",
       "    <tr>\n",
       "      <th>9</th>\n",
       "      <td>ENSG00000004059</td>\n",
       "      <td>ENST00000000233</td>\n",
       "      <td>539</td>\n",
       "      <td>AGGACAT</td>\n",
       "      <td>[[0.017, 6.09, 115.0, 0.00864, 5.81, 120.0, 0....</td>\n",
       "      <td>0</td>\n",
       "    </tr>\n",
       "  </tbody>\n",
       "</table>\n",
       "</div>"
      ],
      "text/plain": [
       "           gene_id       transcript  position k-mer bases  \\\n",
       "0  ENSG00000004059  ENST00000000233       244     AAGACCA   \n",
       "1  ENSG00000004059  ENST00000000233       261     CAAACTG   \n",
       "2  ENSG00000004059  ENST00000000233       316     GAAACAG   \n",
       "3  ENSG00000004059  ENST00000000233       332     AGAACAT   \n",
       "4  ENSG00000004059  ENST00000000233       368     AGGACAA   \n",
       "5  ENSG00000004059  ENST00000000233       404     AGAACAC   \n",
       "6  ENSG00000004059  ENST00000000233       431     TGGACAG   \n",
       "7  ENSG00000004059  ENST00000000233       440     ATGACCG   \n",
       "8  ENSG00000004059  ENST00000000233       471     TGAACTC   \n",
       "9  ENSG00000004059  ENST00000000233       539     AGGACAT   \n",
       "\n",
       "                                              values  label  \n",
       "0  [[0.00299, 2.06, 125.0, 0.0177, 10.4, 122.0, 0...      0  \n",
       "1  [[0.0126, 1.95, 111.0, 0.0125, 1.27, 108.0, 0....      0  \n",
       "2  [[0.00432, 2.02, 104.0, 0.00299, 3.56, 99.3, 0...      0  \n",
       "3  [[0.0134, 4.71, 132.0, 0.00447, 4.24, 98.8, 0....      0  \n",
       "4  [[0.015, 6.97, 118.0, 0.0106, 3.04, 123.0, 0.0...      0  \n",
       "5  [[0.00444, 5.4, 131.0, 0.00664, 7.26, 102.0, 0...      0  \n",
       "6  [[0.0102, 2.78, 118.0, 0.00697, 6.35, 119.0, 0...      0  \n",
       "7  [[0.00432, 2.94, 97.5, 0.00531, 11.0, 120.0, 0...      0  \n",
       "8  [[0.00266, 10.6, 125.0, 0.00681, 2.87, 104.0, ...      0  \n",
       "9  [[0.017, 6.09, 115.0, 0.00864, 5.81, 120.0, 0....      0  "
      ]
     },
     "execution_count": 7,
     "metadata": {},
     "output_type": "execute_result"
    }
   ],
   "source": [
    "df"
   ]
  },
  {
   "cell_type": "code",
   "execution_count": 14,
   "metadata": {
    "ExecuteTime": {
     "end_time": "2022-10-15T01:51:44.954956Z",
     "start_time": "2022-10-15T01:51:44.801012Z"
    }
   },
   "outputs": [],
   "source": [
    "train_genes = prepD.splitdata(label_df=labels)"
   ]
  },
  {
   "cell_type": "code",
   "execution_count": 15,
   "metadata": {
    "ExecuteTime": {
     "end_time": "2022-10-15T01:51:47.099841Z",
     "start_time": "2022-10-15T01:51:47.095834Z"
    }
   },
   "outputs": [
    {
     "data": {
      "text/plain": [
       "2602"
      ]
     },
     "execution_count": 15,
     "metadata": {},
     "output_type": "execute_result"
    }
   ],
   "source": [
    "len(train_genes)"
   ]
  },
  {
   "cell_type": "markdown",
   "metadata": {},
   "source": [
    "# Data Loader"
   ]
  },
  {
   "cell_type": "code",
   "execution_count": 92,
   "metadata": {
    "ExecuteTime": {
     "end_time": "2022-10-15T03:20:20.414171Z",
     "start_time": "2022-10-15T03:20:20.400782Z"
    }
   },
   "outputs": [
    {
     "data": {
      "text/plain": [
       "<module 'prepData' from '/Users/carelchay/Desktop/School/Modules/DSA4262/Project 2/DSA4262-frontasticfour/scripts/prepData.py'>"
      ]
     },
     "execution_count": 92,
     "metadata": {},
     "output_type": "execute_result"
    }
   ],
   "source": [
    "import prepData as prepD\n",
    "import importlib\n",
    "importlib.reload(prepD)"
   ]
  },
  {
   "cell_type": "code",
   "execution_count": 93,
   "metadata": {
    "ExecuteTime": {
     "end_time": "2022-10-15T03:20:22.928249Z",
     "start_time": "2022-10-15T03:20:21.806906Z"
    }
   },
   "outputs": [],
   "source": [
    "prepData = prepD.prepData(train_genes=None, path_to_data=path_to_data, path_to_labels=path_to_labels)"
   ]
  },
  {
   "cell_type": "code",
   "execution_count": 94,
   "metadata": {
    "ExecuteTime": {
     "end_time": "2022-10-15T03:20:22.937580Z",
     "start_time": "2022-10-15T03:20:22.931488Z"
    }
   },
   "outputs": [
    {
     "name": "stdout",
     "output_type": "stream",
     "text": [
      "[1, 21]\n"
     ]
    }
   ],
   "source": [
    "dataloader = prepData.get_data_loader()"
   ]
  },
  {
   "cell_type": "code",
   "execution_count": 95,
   "metadata": {
    "ExecuteTime": {
     "end_time": "2022-10-15T03:20:26.402106Z",
     "start_time": "2022-10-15T03:20:26.397347Z"
    }
   },
   "outputs": [
    {
     "data": {
      "text/plain": [
       "1.0"
      ]
     },
     "execution_count": 95,
     "metadata": {},
     "output_type": "execute_result"
    }
   ],
   "source": [
    "np.min([1.0, 20])"
   ]
  },
  {
   "cell_type": "code",
   "execution_count": 99,
   "metadata": {
    "ExecuteTime": {
     "end_time": "2022-10-15T03:26:41.370593Z",
     "start_time": "2022-10-15T03:26:40.549651Z"
    }
   },
   "outputs": [
    {
     "name": "stdout",
     "output_type": "stream",
     "text": [
      "50 50\n"
     ]
    }
   ],
   "source": [
    "x"
   ]
  },
  {
   "cell_type": "code",
   "execution_count": 63,
   "metadata": {
    "ExecuteTime": {
     "end_time": "2022-10-15T03:08:13.518969Z",
     "start_time": "2022-10-15T03:08:13.513507Z"
    }
   },
   "outputs": [],
   "source": [
    "sample_weights = prepData.get_data_loader()"
   ]
  },
  {
   "cell_type": "code",
   "execution_count": 68,
   "metadata": {
    "ExecuteTime": {
     "end_time": "2022-10-15T03:09:00.536527Z",
     "start_time": "2022-10-15T03:09:00.531166Z"
    }
   },
   "outputs": [
    {
     "data": {
      "text/plain": [
       "204"
      ]
     },
     "execution_count": 68,
     "metadata": {},
     "output_type": "execute_result"
    }
   ],
   "source": [
    "q = np.array(sample_weights)\n",
    "len(q[q==23])"
   ]
  },
  {
   "cell_type": "code",
   "execution_count": 67,
   "metadata": {
    "ExecuteTime": {
     "end_time": "2022-10-15T03:08:57.598706Z",
     "start_time": "2022-10-15T03:08:57.593932Z"
    }
   },
   "outputs": [
    {
     "data": {
      "text/plain": [
       "[4796, 204]"
      ]
     },
     "execution_count": 67,
     "metadata": {},
     "output_type": "execute_result"
    }
   ],
   "source": [
    "sizes"
   ]
  },
  {
   "cell_type": "code",
   "execution_count": 72,
   "metadata": {
    "ExecuteTime": {
     "end_time": "2022-10-15T02:20:56.960804Z",
     "start_time": "2022-10-15T02:20:56.938994Z"
    }
   },
   "outputs": [],
   "source": [
    "dataloader = torch.utils.data.DataLoader(dataset= prepData, batch_size=5)\n",
    "dataiter = iter(dataloader)\n",
    "data= dataiter.next()"
   ]
  },
  {
   "cell_type": "code",
   "execution_count": 73,
   "metadata": {
    "ExecuteTime": {
     "end_time": "2022-10-15T02:20:57.684479Z",
     "start_time": "2022-10-15T02:20:57.681457Z"
    }
   },
   "outputs": [],
   "source": [
    "features, label = data"
   ]
  },
  {
   "cell_type": "code",
   "execution_count": 74,
   "metadata": {
    "ExecuteTime": {
     "end_time": "2022-10-15T02:20:58.247574Z",
     "start_time": "2022-10-15T02:20:58.244185Z"
    }
   },
   "outputs": [],
   "source": [
    "q=nn.BCELoss()"
   ]
  },
  {
   "cell_type": "code",
   "execution_count": 31,
   "metadata": {
    "ExecuteTime": {
     "end_time": "2022-10-15T01:55:58.668026Z",
     "start_time": "2022-10-15T01:55:58.660234Z"
    }
   },
   "outputs": [],
   "source": [
    "net = m6aNet(5, 20)\n",
    "res = net.forward(features)"
   ]
  },
  {
   "cell_type": "code",
   "execution_count": 56,
   "metadata": {
    "ExecuteTime": {
     "end_time": "2022-10-15T03:06:28.295964Z",
     "start_time": "2022-10-15T03:06:28.291984Z"
    }
   },
   "outputs": [],
   "source": [
    "q = np.array(prepData.df['label'])\n",
    "q = np.array([1, 2, 3, 4])"
   ]
  },
  {
   "cell_type": "code",
   "execution_count": 57,
   "metadata": {
    "ExecuteTime": {
     "end_time": "2022-10-15T03:06:43.112193Z",
     "start_time": "2022-10-15T03:06:43.107512Z"
    }
   },
   "outputs": [
    {
     "data": {
      "text/plain": [
       "[2, 3, 4, 5]"
      ]
     },
     "execution_count": 57,
     "metadata": {},
     "output_type": "execute_result"
    }
   ],
   "source": [
    "list(map(lambda x : x+1, q))"
   ]
  },
  {
   "cell_type": "code",
   "execution_count": null,
   "metadata": {},
   "outputs": [],
   "source": []
  },
  {
   "cell_type": "code",
   "execution_count": null,
   "metadata": {},
   "outputs": [],
   "source": []
  },
  {
   "cell_type": "code",
   "execution_count": null,
   "metadata": {},
   "outputs": [],
   "source": []
  },
  {
   "cell_type": "code",
   "execution_count": null,
   "metadata": {},
   "outputs": [],
   "source": []
  },
  {
   "cell_type": "code",
   "execution_count": 26,
   "metadata": {
    "ExecuteTime": {
     "end_time": "2022-10-15T01:54:37.546828Z",
     "start_time": "2022-10-15T01:54:37.544394Z"
    }
   },
   "outputs": [],
   "source": [
    "import torch\n",
    "import torch\n",
    "import torch.nn as nn"
   ]
  },
  {
   "cell_type": "code",
   "execution_count": 30,
   "metadata": {
    "ExecuteTime": {
     "end_time": "2022-10-15T01:55:52.605317Z",
     "start_time": "2022-10-15T01:55:52.594871Z"
    }
   },
   "outputs": [],
   "source": [
    "class m6aNet(nn.Module):\n",
    "    def __init__(self, batchsize, readsize):\n",
    "        self.batchsize = batchsize\n",
    "        self.readsize = readsize\n",
    "        super(m6aNet, self).__init__()\n",
    "        # Embedding Layer\n",
    "        self.embed = nn.Embedding(66, 2)\n",
    "\n",
    "        ## First Layer ##\n",
    "        self.read_level_prob_1 = nn.Linear(15, 150)\n",
    "        # First Batch Norm Layer\n",
    "        self.norm_1 = nn.BatchNorm1d(num_features=150)\n",
    "        # First Activation Layer\n",
    "        self.activ_1=nn.ReLU()\n",
    "        # First Dropout Layer\n",
    "        self.drop_1 = nn.Dropout(p=0.00)\n",
    "\n",
    "        ## Second Layer ##\n",
    "        self.read_level_prob_2 = nn.Linear(150, 32)\n",
    "        # Second Activation Layer\n",
    "        self.activ_2=nn.ReLU()\n",
    "        # Second Dropout Layer\n",
    "        self.drop_2 = nn.Dropout(p=0.00)\n",
    "\n",
    "        ## Third Layer ##\n",
    "        self.read_level_prob_3 = nn.Linear(32, 1)\n",
    "        # Sigmoid Activation\n",
    "        self.sig_1 = nn.Sigmoid()\n",
    "\n",
    "    \n",
    "    \n",
    "    def forward(self, x):\n",
    "        ### X is a tensor of shape (batchsize, readsize=20, 12) ###\n",
    "        \n",
    "        # Extract numeric features        \n",
    "        numerics = x[:, :, :9]\n",
    "        # # Extract Bases\n",
    "        bases = x[:, :, 9:].type(torch.int64)\n",
    "        # # Feed to embedding layer\n",
    "        bases = self.embed(bases)\n",
    "\n",
    "        # Reshape\n",
    "        bases = bases.reshape(self.batchsize, self.readsize, 3*2)\n",
    "        # Combine embedded output with numeric features\n",
    "        x = torch.concat((numerics, bases), 2).type(torch.float)\n",
    "\n",
    "        #### Feed Forward  ####\n",
    "\n",
    "        ## First Layer ##\n",
    "        x = self.read_level_prob_1(x)\n",
    "        # First Batch Norm Layer\n",
    "        x = x.transpose(dim0=1, dim1=2) # Need to transpose first\n",
    "        x = self.norm_1(x)\n",
    "        x = x.transpose(dim0=1, dim1=2) # Then transpose back\n",
    "        # First Activation Layer\n",
    "        x= self.activ_1(x)\n",
    "        # First Dropout Layer\n",
    "        x = self.drop_1(x)\n",
    "\n",
    "        ## Second Layer ##\n",
    "        x = self.read_level_prob_2(x)\n",
    "        # Second Activation Layer\n",
    "        x = self.activ_2(x)\n",
    "        # Second Dropout Layer\n",
    "        x = self.drop_2(x)\n",
    "\n",
    "        ## Third Layer ##\n",
    "        x = self.read_level_prob_3(x)\n",
    "        # Sigmoid Activation\n",
    "        x = self.sig_1(x)\n",
    "        x = x.reshape(-1, self.readsize)\n",
    "        \n",
    "        # Final Output\n",
    "        r = 1 - torch.prod(1 - x, axis=1)\n",
    "        return r\n",
    "\n",
    "            \n",
    "        \n",
    "        \n",
    "        \n",
    "        \n",
    "        "
   ]
  },
  {
   "cell_type": "code",
   "execution_count": 204,
   "metadata": {
    "ExecuteTime": {
     "end_time": "2022-10-14T15:14:40.377951Z",
     "start_time": "2022-10-14T15:14:40.372250Z"
    }
   },
   "outputs": [
    {
     "data": {
      "text/plain": [
       "tensor(0)"
      ]
     },
     "execution_count": 204,
     "metadata": {},
     "output_type": "execute_result"
    }
   ],
   "source": [
    "torch.from_numpy(np.array(int(df.iloc[0, -1])))"
   ]
  },
  {
   "cell_type": "code",
   "execution_count": 201,
   "metadata": {
    "ExecuteTime": {
     "end_time": "2022-10-14T15:13:37.982686Z",
     "start_time": "2022-10-14T15:13:37.978208Z"
    }
   },
   "outputs": [
    {
     "data": {
      "text/plain": [
       "gene_id        object\n",
       "transcript     object\n",
       "position        int64\n",
       "k-mer bases    object\n",
       "values         object\n",
       "label          object\n",
       "dtype: object"
      ]
     },
     "execution_count": 201,
     "metadata": {},
     "output_type": "execute_result"
    }
   ],
   "source": [
    "df.dtypes"
   ]
  },
  {
   "cell_type": "code",
   "execution_count": 34,
   "metadata": {
    "ExecuteTime": {
     "end_time": "2022-10-15T02:12:26.413510Z",
     "start_time": "2022-10-15T02:12:26.410295Z"
    }
   },
   "outputs": [],
   "source": [
    "import pickle"
   ]
  },
  {
   "cell_type": "code",
   "execution_count": 99,
   "metadata": {
    "ExecuteTime": {
     "end_time": "2022-10-15T02:30:46.157340Z",
     "start_time": "2022-10-15T02:30:46.152060Z"
    }
   },
   "outputs": [
    {
     "data": {
      "text/plain": [
       "0\n",
       "gene_id                object\n",
       "transcript_id          object\n",
       "transcript_position     int64\n",
       "label                   int64\n",
       "dtype: object"
      ]
     },
     "execution_count": 99,
     "metadata": {},
     "output_type": "execute_result"
    }
   ],
   "source": [
    "labels.dtypes"
   ]
  },
  {
   "cell_type": "code",
   "execution_count": 98,
   "metadata": {
    "ExecuteTime": {
     "end_time": "2022-10-15T02:30:44.860903Z",
     "start_time": "2022-10-15T02:30:44.836955Z"
    }
   },
   "outputs": [],
   "source": [
    "labels['label'] = labels['label'].astype(int)"
   ]
  },
  {
   "cell_type": "code",
   "execution_count": 13,
   "metadata": {
    "ExecuteTime": {
     "end_time": "2022-10-15T02:42:17.326088Z",
     "start_time": "2022-10-15T02:42:17.323476Z"
    }
   },
   "outputs": [],
   "source": [
    "from torch.utils.data import dataloader"
   ]
  },
  {
   "cell_type": "code",
   "execution_count": null,
   "metadata": {},
   "outputs": [],
   "source": []
  }
 ],
 "metadata": {
  "kernelspec": {
   "display_name": "Python 3 (ipykernel)",
   "language": "python",
   "name": "python3"
  },
  "language_info": {
   "codemirror_mode": {
    "name": "ipython",
    "version": 3
   },
   "file_extension": ".py",
   "mimetype": "text/x-python",
   "name": "python",
   "nbconvert_exporter": "python",
   "pygments_lexer": "ipython3",
   "version": "3.9.12"
  },
  "toc": {
   "base_numbering": 1,
   "nav_menu": {},
   "number_sections": false,
   "sideBar": true,
   "skip_h1_title": false,
   "title_cell": "Table of Contents",
   "title_sidebar": "Contents",
   "toc_cell": false,
   "toc_position": {},
   "toc_section_display": true,
   "toc_window_display": true
  }
 },
 "nbformat": 4,
 "nbformat_minor": 4
}
