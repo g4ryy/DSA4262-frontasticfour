{
 "cells": [
  {
   "cell_type": "code",
   "execution_count": 1,
   "metadata": {
    "ExecuteTime": {
     "end_time": "2022-10-14T03:34:29.229114Z",
     "start_time": "2022-10-14T03:34:28.717362Z"
    }
   },
   "outputs": [],
   "source": [
    "import json\n",
    "import numpy as np\n",
    "import pandas as pd"
   ]
  },
  {
   "cell_type": "code",
   "execution_count": 2,
   "metadata": {
    "ExecuteTime": {
     "end_time": "2022-10-14T03:34:31.127012Z",
     "start_time": "2022-10-14T03:34:31.123979Z"
    }
   },
   "outputs": [],
   "source": [
    "path_to_data=\"/Users/carelchay/Desktop/School/Modules/DSA4262/Project 2/data/data.json\""
   ]
  },
  {
   "cell_type": "code",
   "execution_count": 48,
   "metadata": {
    "ExecuteTime": {
     "end_time": "2022-10-12T08:10:50.380392Z",
     "start_time": "2022-10-12T08:10:50.377530Z"
    }
   },
   "outputs": [],
   "source": [
    "bases=\"GGACTGG\""
   ]
  },
  {
   "cell_type": "code",
   "execution_count": 49,
   "metadata": {
    "ExecuteTime": {
     "end_time": "2022-10-12T08:10:50.852614Z",
     "start_time": "2022-10-12T08:10:50.849357Z"
    }
   },
   "outputs": [],
   "source": [
    "base1 = base[:6]\n",
    "base2 = base[1:7]\n",
    "base3 = base[2:8]"
   ]
  },
  {
   "cell_type": "code",
   "execution_count": 50,
   "metadata": {
    "ExecuteTime": {
     "end_time": "2022-10-12T08:10:52.089370Z",
     "start_time": "2022-10-12T08:10:52.086051Z"
    }
   },
   "outputs": [],
   "source": [
    "indiv_bases=[bases[i:i+5] for i in range(3)]"
   ]
  },
  {
   "cell_type": "code",
   "execution_count": 51,
   "metadata": {
    "ExecuteTime": {
     "end_time": "2022-10-12T08:10:55.172632Z",
     "start_time": "2022-10-12T08:10:55.169721Z"
    }
   },
   "outputs": [],
   "source": [
    "data=set()"
   ]
  },
  {
   "cell_type": "code",
   "execution_count": 52,
   "metadata": {
    "ExecuteTime": {
     "end_time": "2022-10-12T08:10:55.531986Z",
     "start_time": "2022-10-12T08:10:55.528910Z"
    }
   },
   "outputs": [],
   "source": [
    "for tmp in indiv_bases:\n",
    "    data.add(tmp)"
   ]
  },
  {
   "cell_type": "code",
   "execution_count": 53,
   "metadata": {
    "ExecuteTime": {
     "end_time": "2022-10-12T08:10:56.546314Z",
     "start_time": "2022-10-12T08:10:56.542185Z"
    }
   },
   "outputs": [
    {
     "data": {
      "text/plain": [
       "{'ACTGG', 'GACTG', 'GGACT'}"
      ]
     },
     "execution_count": 53,
     "metadata": {},
     "output_type": "execute_result"
    }
   ],
   "source": [
    "data"
   ]
  },
  {
   "cell_type": "code",
   "execution_count": 22,
   "metadata": {
    "ExecuteTime": {
     "end_time": "2022-10-12T08:04:36.964975Z",
     "start_time": "2022-10-12T08:04:36.962428Z"
    }
   },
   "outputs": [],
   "source": [
    "data.add(\"ACTGG\")"
   ]
  },
  {
   "cell_type": "code",
   "execution_count": 3,
   "metadata": {
    "ExecuteTime": {
     "end_time": "2022-10-14T03:34:52.705227Z",
     "start_time": "2022-10-14T03:34:39.235379Z"
    }
   },
   "outputs": [],
   "source": [
    "data = set()\n",
    "with open(path_to_data, 'r') as f:\n",
    "    # Check that the number of desired entries hasn't been reached\n",
    "    for idx, line in enumerate(f):\n",
    "        # Read in just that line. Cannot read in all lines at once as the data is too large\n",
    "        line = json.loads(line)\n",
    "        # Obtain transcript and sub-dictionary\n",
    "        for transcript, sub1 in line.items():\n",
    "            for position, sub2 in sub1.items():\n",
    "                for bases, values in sub2.items():\n",
    "                    indiv_bases=[bases[i:i+5] for i in range(3)]\n",
    "                    for tmp in indiv_bases:\n",
    "                        data.add(tmp)\n"
   ]
  },
  {
   "cell_type": "code",
   "execution_count": 5,
   "metadata": {
    "ExecuteTime": {
     "end_time": "2022-10-14T03:37:46.127168Z",
     "start_time": "2022-10-14T03:37:46.121613Z"
    }
   },
   "outputs": [
    {
     "data": {
      "text/plain": [
       "{'AAAAC',\n",
       " 'AAACA',\n",
       " 'AAACC',\n",
       " 'AAACT',\n",
       " 'AACAA',\n",
       " 'AACAC',\n",
       " 'AACAG',\n",
       " 'AACAT',\n",
       " 'AACCA',\n",
       " 'AACCC',\n",
       " 'AACCG',\n",
       " 'AACCT',\n",
       " 'AACTA',\n",
       " 'AACTC',\n",
       " 'AACTG',\n",
       " 'AACTT',\n",
       " 'AAGAC',\n",
       " 'AGAAC',\n",
       " 'AGACA',\n",
       " 'AGACC',\n",
       " 'AGACT',\n",
       " 'AGGAC',\n",
       " 'ATAAC',\n",
       " 'ATGAC',\n",
       " 'CAAAC',\n",
       " 'CAGAC',\n",
       " 'CGAAC',\n",
       " 'CGGAC',\n",
       " 'CTAAC',\n",
       " 'CTGAC',\n",
       " 'GAAAC',\n",
       " 'GAACA',\n",
       " 'GAACC',\n",
       " 'GAACT',\n",
       " 'GACAA',\n",
       " 'GACAC',\n",
       " 'GACAG',\n",
       " 'GACAT',\n",
       " 'GACCA',\n",
       " 'GACCC',\n",
       " 'GACCG',\n",
       " 'GACCT',\n",
       " 'GACTA',\n",
       " 'GACTC',\n",
       " 'GACTG',\n",
       " 'GACTT',\n",
       " 'GAGAC',\n",
       " 'GGAAC',\n",
       " 'GGACA',\n",
       " 'GGACC',\n",
       " 'GGACT',\n",
       " 'GGGAC',\n",
       " 'GTAAC',\n",
       " 'GTGAC',\n",
       " 'TAAAC',\n",
       " 'TAACA',\n",
       " 'TAACC',\n",
       " 'TAACT',\n",
       " 'TAGAC',\n",
       " 'TGAAC',\n",
       " 'TGACA',\n",
       " 'TGACC',\n",
       " 'TGACT',\n",
       " 'TGGAC',\n",
       " 'TTAAC',\n",
       " 'TTGAC'}"
      ]
     },
     "execution_count": 5,
     "metadata": {},
     "output_type": "execute_result"
    }
   ],
   "source": [
    "data"
   ]
  },
  {
   "cell_type": "code",
   "execution_count": 11,
   "metadata": {
    "ExecuteTime": {
     "end_time": "2022-10-14T03:41:57.627599Z",
     "start_time": "2022-10-14T03:41:57.620352Z"
    }
   },
   "outputs": [
    {
     "data": {
      "text/plain": [
       "{'ATAAC': 0,\n",
       " 'GTGAC': 1,\n",
       " 'GACAT': 2,\n",
       " 'AAACC': 3,\n",
       " 'TAACA': 4,\n",
       " 'AAAAC': 5,\n",
       " 'TTAAC': 6,\n",
       " 'AAACA': 7,\n",
       " 'AGGAC': 8,\n",
       " 'GAGAC': 9,\n",
       " 'TGACA': 10,\n",
       " 'CTGAC': 11,\n",
       " 'GACCC': 12,\n",
       " 'GACCA': 13,\n",
       " 'CGGAC': 14,\n",
       " 'AACTT': 15,\n",
       " 'GACAC': 16,\n",
       " 'AAACT': 17,\n",
       " 'TGAAC': 18,\n",
       " 'AGACA': 19,\n",
       " 'GACAA': 20,\n",
       " 'AGAAC': 21,\n",
       " 'AACCT': 22,\n",
       " 'AACAC': 23,\n",
       " 'TAACC': 24,\n",
       " 'TAGAC': 25,\n",
       " 'GAACC': 26,\n",
       " 'TAACT': 27,\n",
       " 'AACAA': 28,\n",
       " 'AACAG': 29,\n",
       " 'GAAAC': 30,\n",
       " 'TGACT': 31,\n",
       " 'AACCA': 32,\n",
       " 'CAAAC': 33,\n",
       " 'AACTA': 34,\n",
       " 'AACCC': 35,\n",
       " 'AGACC': 36,\n",
       " 'CAGAC': 37,\n",
       " 'GGACT': 38,\n",
       " 'GGACC': 39,\n",
       " 'TTGAC': 40,\n",
       " 'TGGAC': 41,\n",
       " 'GACCG': 42,\n",
       " 'CGAAC': 43,\n",
       " 'AACCG': 44,\n",
       " 'GACTA': 45,\n",
       " 'GAACA': 46,\n",
       " 'AACTC': 47,\n",
       " 'GGGAC': 48,\n",
       " 'TAAAC': 49,\n",
       " 'AACTG': 50,\n",
       " 'TGACC': 51,\n",
       " 'AGACT': 52,\n",
       " 'GACTT': 53,\n",
       " 'GTAAC': 54,\n",
       " 'GAACT': 55,\n",
       " 'GACCT': 56,\n",
       " 'GACTG': 57,\n",
       " 'AACAT': 58,\n",
       " 'CTAAC': 59,\n",
       " 'GACTC': 60,\n",
       " 'GGAAC': 61,\n",
       " 'ATGAC': 62,\n",
       " 'GGACA': 63,\n",
       " 'GACAG': 64,\n",
       " 'AAGAC': 65}"
      ]
     },
     "execution_count": 11,
     "metadata": {},
     "output_type": "execute_result"
    }
   ],
   "source": [
    "{item : idx for idx, item in enumerate(data)}"
   ]
  },
  {
   "cell_type": "code",
   "execution_count": null,
   "metadata": {},
   "outputs": [],
   "source": []
  }
 ],
 "metadata": {
  "kernelspec": {
   "display_name": "Python 3 (ipykernel)",
   "language": "python",
   "name": "python3"
  },
  "language_info": {
   "codemirror_mode": {
    "name": "ipython",
    "version": 3
   },
   "file_extension": ".py",
   "mimetype": "text/x-python",
   "name": "python",
   "nbconvert_exporter": "python",
   "pygments_lexer": "ipython3",
   "version": "3.9.12"
  },
  "toc": {
   "base_numbering": 1,
   "nav_menu": {},
   "number_sections": true,
   "sideBar": true,
   "skip_h1_title": false,
   "title_cell": "Table of Contents",
   "title_sidebar": "Contents",
   "toc_cell": false,
   "toc_position": {},
   "toc_section_display": true,
   "toc_window_display": false
  }
 },
 "nbformat": 4,
 "nbformat_minor": 4
}
