{
 "cells": [
  {
   "cell_type": "code",
   "execution_count": 55,
   "metadata": {
    "ExecuteTime": {
     "end_time": "2022-10-14T13:54:55.227864Z",
     "start_time": "2022-10-14T13:54:55.225017Z"
    }
   },
   "outputs": [],
   "source": [
    "import json\n",
    "import numpy as np\n",
    "import pandas as pd\n",
    "import math"
   ]
  },
  {
   "cell_type": "code",
   "execution_count": 108,
   "metadata": {
    "ExecuteTime": {
     "end_time": "2022-10-14T14:45:49.995303Z",
     "start_time": "2022-10-14T14:45:49.992615Z"
    }
   },
   "outputs": [],
   "source": [
    "path_to_data=\"/Users/carelchay/Desktop/School/Modules/DSA4262/Project 2/data/data.json\"\n",
    "path_to_labels = \"/Users/carelchay/Desktop/School/Modules/DSA4262/Project 2/data/data.info\""
   ]
  },
  {
   "cell_type": "code",
   "execution_count": 3,
   "metadata": {
    "ExecuteTime": {
     "end_time": "2022-10-14T13:26:19.012721Z",
     "start_time": "2022-10-14T13:26:19.008367Z"
    }
   },
   "outputs": [],
   "source": [
    "# To be able to import the file\n",
    "import sys\n",
    "pathname=\"/Users/carelchay/Desktop/School/Modules/DSA4262/Project 2/DSA4262-frontasticfour/scripts\"\n",
    "if pathname not in sys.path:\n",
    "    sys.path.append(pathname)"
   ]
  },
  {
   "cell_type": "code",
   "execution_count": 221,
   "metadata": {
    "ExecuteTime": {
     "end_time": "2022-10-14T15:21:18.687513Z",
     "start_time": "2022-10-14T15:21:18.680159Z"
    }
   },
   "outputs": [
    {
     "data": {
      "text/plain": [
       "<module 'getData' from '/Users/carelchay/Desktop/School/Modules/DSA4262/Project 2/DSA4262-frontasticfour/scripts/getData.py'>"
      ]
     },
     "execution_count": 221,
     "metadata": {},
     "output_type": "execute_result"
    }
   ],
   "source": [
    "import getData as gd\n",
    "import importlib\n",
    "importlib.reload(gd)"
   ]
  },
  {
   "cell_type": "code",
   "execution_count": 69,
   "metadata": {
    "ExecuteTime": {
     "end_time": "2022-10-14T14:06:49.667311Z",
     "start_time": "2022-10-14T14:06:49.664188Z"
    }
   },
   "outputs": [],
   "source": [
    "getDat = gd.getData(path_to_data=path_to_data, path_to_labels=path_to_labels)"
   ]
  },
  {
   "cell_type": "code",
   "execution_count": 117,
   "metadata": {
    "ExecuteTime": {
     "end_time": "2022-10-14T14:49:38.320617Z",
     "start_time": "2022-10-14T14:49:38.283826Z"
    }
   },
   "outputs": [],
   "source": [
    "k_mers = getDat.get_unique_kmers()\n",
    "labels = getDat.get_labels()\n",
    "df = getDat.get_data(num_entries=10)\n",
    "df = pd.merge(df, labels, how=\"left\", left_on = (\"transcript\", \"position\"), \n",
    "              right_on = (\"transcript_id\", \"transcript_position\"))\n",
    "df = df[['gene_id', 'transcript', 'position', \"k-mer bases\", \"values\", \"label\"]]\n",
    "# df[['k-1', 'k', 'k+1']]=df.apply(lambda x : [x['k-mer bases'][i:i+5] for i in range(3)], axis=1, result_type=\"expand\")"
   ]
  },
  {
   "cell_type": "code",
   "execution_count": 95,
   "metadata": {
    "ExecuteTime": {
     "end_time": "2022-10-14T14:36:36.487382Z",
     "start_time": "2022-10-14T14:36:36.244280Z"
    }
   },
   "outputs": [
    {
     "data": {
      "text/html": [
       "<div>\n",
       "<style scoped>\n",
       "    .dataframe tbody tr th:only-of-type {\n",
       "        vertical-align: middle;\n",
       "    }\n",
       "\n",
       "    .dataframe tbody tr th {\n",
       "        vertical-align: top;\n",
       "    }\n",
       "\n",
       "    .dataframe thead th {\n",
       "        text-align: right;\n",
       "    }\n",
       "</style>\n",
       "<table border=\"1\" class=\"dataframe\">\n",
       "  <thead>\n",
       "    <tr style=\"text-align: right;\">\n",
       "      <th></th>\n",
       "      <th>gene_id</th>\n",
       "      <th>transcript</th>\n",
       "      <th>position</th>\n",
       "      <th>k-mer bases</th>\n",
       "      <th>values</th>\n",
       "      <th>label</th>\n",
       "    </tr>\n",
       "  </thead>\n",
       "  <tbody>\n",
       "    <tr>\n",
       "      <th>0</th>\n",
       "      <td>ENSG00000004059</td>\n",
       "      <td>ENST00000000233</td>\n",
       "      <td>244</td>\n",
       "      <td>AAGACCA</td>\n",
       "      <td>[[0.00299, 2.06, 125.0, 0.0177, 10.4, 122.0, 0...</td>\n",
       "      <td>0</td>\n",
       "    </tr>\n",
       "    <tr>\n",
       "      <th>1</th>\n",
       "      <td>ENSG00000004059</td>\n",
       "      <td>ENST00000000233</td>\n",
       "      <td>261</td>\n",
       "      <td>CAAACTG</td>\n",
       "      <td>[[0.0126, 1.95, 111.0, 0.0125, 1.27, 108.0, 0....</td>\n",
       "      <td>0</td>\n",
       "    </tr>\n",
       "    <tr>\n",
       "      <th>2</th>\n",
       "      <td>ENSG00000004059</td>\n",
       "      <td>ENST00000000233</td>\n",
       "      <td>316</td>\n",
       "      <td>GAAACAG</td>\n",
       "      <td>[[0.00432, 2.02, 104.0, 0.00299, 3.56, 99.3, 0...</td>\n",
       "      <td>0</td>\n",
       "    </tr>\n",
       "    <tr>\n",
       "      <th>3</th>\n",
       "      <td>ENSG00000004059</td>\n",
       "      <td>ENST00000000233</td>\n",
       "      <td>332</td>\n",
       "      <td>AGAACAT</td>\n",
       "      <td>[[0.0134, 4.71, 132.0, 0.00447, 4.24, 98.8, 0....</td>\n",
       "      <td>0</td>\n",
       "    </tr>\n",
       "    <tr>\n",
       "      <th>4</th>\n",
       "      <td>ENSG00000004059</td>\n",
       "      <td>ENST00000000233</td>\n",
       "      <td>368</td>\n",
       "      <td>AGGACAA</td>\n",
       "      <td>[[0.015, 6.97, 118.0, 0.0106, 3.04, 123.0, 0.0...</td>\n",
       "      <td>0</td>\n",
       "    </tr>\n",
       "    <tr>\n",
       "      <th>...</th>\n",
       "      <td>...</td>\n",
       "      <td>...</td>\n",
       "      <td>...</td>\n",
       "      <td>...</td>\n",
       "      <td>...</td>\n",
       "      <td>...</td>\n",
       "    </tr>\n",
       "    <tr>\n",
       "      <th>995</th>\n",
       "      <td>ENSG00000061794</td>\n",
       "      <td>ENST00000081029</td>\n",
       "      <td>1747</td>\n",
       "      <td>GTGACAA</td>\n",
       "      <td>[[0.0027, 1.89, 102.0, 0.00782, 6.69, 116.0, 0...</td>\n",
       "      <td>0</td>\n",
       "    </tr>\n",
       "    <tr>\n",
       "      <th>996</th>\n",
       "      <td>ENSG00000061794</td>\n",
       "      <td>ENST00000081029</td>\n",
       "      <td>1758</td>\n",
       "      <td>AGAACTA</td>\n",
       "      <td>[[0.0094, 5.34, 132.0, 0.00232, 3.2, 102.0, 0....</td>\n",
       "      <td>0</td>\n",
       "    </tr>\n",
       "    <tr>\n",
       "      <th>997</th>\n",
       "      <td>ENSG00000061794</td>\n",
       "      <td>ENST00000081029</td>\n",
       "      <td>1771</td>\n",
       "      <td>GAAACCC</td>\n",
       "      <td>[[0.0189, 5.46, 108.0, 0.00266, 0.712, 108.0, ...</td>\n",
       "      <td>0</td>\n",
       "    </tr>\n",
       "    <tr>\n",
       "      <th>998</th>\n",
       "      <td>ENSG00000063177</td>\n",
       "      <td>ENST00000084795</td>\n",
       "      <td>118</td>\n",
       "      <td>AGAACCA</td>\n",
       "      <td>[[0.00498, 10.6, 132.0, 0.0139, 5.17, 92.5, 0....</td>\n",
       "      <td>0</td>\n",
       "    </tr>\n",
       "    <tr>\n",
       "      <th>999</th>\n",
       "      <td>ENSG00000063177</td>\n",
       "      <td>ENST00000084795</td>\n",
       "      <td>233</td>\n",
       "      <td>AAAACAA</td>\n",
       "      <td>[[0.00562, 1.93, 109.0, 0.00417, 3.05, 98.3, 0...</td>\n",
       "      <td>0</td>\n",
       "    </tr>\n",
       "  </tbody>\n",
       "</table>\n",
       "<p>1000 rows × 6 columns</p>\n",
       "</div>"
      ],
      "text/plain": [
       "             gene_id       transcript  position k-mer bases  \\\n",
       "0    ENSG00000004059  ENST00000000233       244     AAGACCA   \n",
       "1    ENSG00000004059  ENST00000000233       261     CAAACTG   \n",
       "2    ENSG00000004059  ENST00000000233       316     GAAACAG   \n",
       "3    ENSG00000004059  ENST00000000233       332     AGAACAT   \n",
       "4    ENSG00000004059  ENST00000000233       368     AGGACAA   \n",
       "..               ...              ...       ...         ...   \n",
       "995  ENSG00000061794  ENST00000081029      1747     GTGACAA   \n",
       "996  ENSG00000061794  ENST00000081029      1758     AGAACTA   \n",
       "997  ENSG00000061794  ENST00000081029      1771     GAAACCC   \n",
       "998  ENSG00000063177  ENST00000084795       118     AGAACCA   \n",
       "999  ENSG00000063177  ENST00000084795       233     AAAACAA   \n",
       "\n",
       "                                                values label  \n",
       "0    [[0.00299, 2.06, 125.0, 0.0177, 10.4, 122.0, 0...     0  \n",
       "1    [[0.0126, 1.95, 111.0, 0.0125, 1.27, 108.0, 0....     0  \n",
       "2    [[0.00432, 2.02, 104.0, 0.00299, 3.56, 99.3, 0...     0  \n",
       "3    [[0.0134, 4.71, 132.0, 0.00447, 4.24, 98.8, 0....     0  \n",
       "4    [[0.015, 6.97, 118.0, 0.0106, 3.04, 123.0, 0.0...     0  \n",
       "..                                                 ...   ...  \n",
       "995  [[0.0027, 1.89, 102.0, 0.00782, 6.69, 116.0, 0...     0  \n",
       "996  [[0.0094, 5.34, 132.0, 0.00232, 3.2, 102.0, 0....     0  \n",
       "997  [[0.0189, 5.46, 108.0, 0.00266, 0.712, 108.0, ...     0  \n",
       "998  [[0.00498, 10.6, 132.0, 0.0139, 5.17, 92.5, 0....     0  \n",
       "999  [[0.00562, 1.93, 109.0, 0.00417, 3.05, 98.3, 0...     0  \n",
       "\n",
       "[1000 rows x 6 columns]"
      ]
     },
     "execution_count": 95,
     "metadata": {},
     "output_type": "execute_result"
    }
   ],
   "source": [
    "df"
   ]
  },
  {
   "cell_type": "code",
   "execution_count": 75,
   "metadata": {
    "ExecuteTime": {
     "end_time": "2022-10-14T14:09:40.285812Z",
     "start_time": "2022-10-14T14:09:40.237482Z"
    }
   },
   "outputs": [],
   "source": [
    "q = labels.groupby(\"gene_id\")['label'].count().reset_index()"
   ]
  },
  {
   "cell_type": "code",
   "execution_count": 76,
   "metadata": {
    "ExecuteTime": {
     "end_time": "2022-10-14T14:09:40.852965Z",
     "start_time": "2022-10-14T14:09:40.848182Z"
    }
   },
   "outputs": [
    {
     "data": {
      "text/plain": [
       "121838"
      ]
     },
     "execution_count": 76,
     "metadata": {},
     "output_type": "execute_result"
    }
   ],
   "source": [
    "q['label'].sum()"
   ]
  },
  {
   "cell_type": "code",
   "execution_count": 88,
   "metadata": {
    "ExecuteTime": {
     "end_time": "2022-10-14T14:25:04.233141Z",
     "start_time": "2022-10-14T14:25:04.230081Z"
    }
   },
   "outputs": [],
   "source": [
    "thresh=round(0.7*121838)"
   ]
  },
  {
   "cell_type": "code",
   "execution_count": 78,
   "metadata": {
    "ExecuteTime": {
     "end_time": "2022-10-14T14:09:41.582702Z",
     "start_time": "2022-10-14T14:09:41.498443Z"
    }
   },
   "outputs": [],
   "source": [
    "total = 0\n",
    "dct = []\n",
    "for idx, row in q.iterrows():\n",
    "    total += row['label']\n",
    "    dct.append(row['gene_id'])\n",
    "    if total >=thresh:\n",
    "        break"
   ]
  },
  {
   "cell_type": "code",
   "execution_count": 249,
   "metadata": {
    "ExecuteTime": {
     "end_time": "2022-10-14T15:28:08.870803Z",
     "start_time": "2022-10-14T15:28:08.863182Z"
    }
   },
   "outputs": [
    {
     "data": {
      "text/plain": [
       "<module 'prepData' from '/Users/carelchay/Desktop/School/Modules/DSA4262/Project 2/DSA4262-frontasticfour/scripts/prepData.py'>"
      ]
     },
     "execution_count": 249,
     "metadata": {},
     "output_type": "execute_result"
    }
   ],
   "source": [
    "import prepData as prepD\n",
    "import importlib\n",
    "importlib.reload(prepD)"
   ]
  },
  {
   "cell_type": "code",
   "execution_count": 101,
   "metadata": {
    "ExecuteTime": {
     "end_time": "2022-10-14T14:41:57.754585Z",
     "start_time": "2022-10-14T14:41:57.585474Z"
    }
   },
   "outputs": [],
   "source": [
    "train_genes = prepD.splitdata(label_df=labels)"
   ]
  },
  {
   "cell_type": "code",
   "execution_count": 103,
   "metadata": {
    "ExecuteTime": {
     "end_time": "2022-10-14T14:42:08.109445Z",
     "start_time": "2022-10-14T14:42:08.105080Z"
    }
   },
   "outputs": [
    {
     "data": {
      "text/plain": [
       "2602"
      ]
     },
     "execution_count": 103,
     "metadata": {},
     "output_type": "execute_result"
    }
   ],
   "source": [
    "len(train_genes)"
   ]
  },
  {
   "cell_type": "code",
   "execution_count": 104,
   "metadata": {
    "ExecuteTime": {
     "end_time": "2022-10-14T14:43:32.605794Z",
     "start_time": "2022-10-14T14:43:32.571751Z"
    }
   },
   "outputs": [
    {
     "data": {
      "text/html": [
       "<div>\n",
       "<style scoped>\n",
       "    .dataframe tbody tr th:only-of-type {\n",
       "        vertical-align: middle;\n",
       "    }\n",
       "\n",
       "    .dataframe tbody tr th {\n",
       "        vertical-align: top;\n",
       "    }\n",
       "\n",
       "    .dataframe thead th {\n",
       "        text-align: right;\n",
       "    }\n",
       "</style>\n",
       "<table border=\"1\" class=\"dataframe\">\n",
       "  <thead>\n",
       "    <tr style=\"text-align: right;\">\n",
       "      <th></th>\n",
       "      <th>gene_id</th>\n",
       "      <th>transcript_id</th>\n",
       "      <th>transcript_position</th>\n",
       "      <th>label</th>\n",
       "    </tr>\n",
       "  </thead>\n",
       "  <tbody>\n",
       "    <tr>\n",
       "      <th>1</th>\n",
       "      <td>ENSG00000004059</td>\n",
       "      <td>ENST00000000233</td>\n",
       "      <td>244</td>\n",
       "      <td>0</td>\n",
       "    </tr>\n",
       "    <tr>\n",
       "      <th>2</th>\n",
       "      <td>ENSG00000004059</td>\n",
       "      <td>ENST00000000233</td>\n",
       "      <td>261</td>\n",
       "      <td>0</td>\n",
       "    </tr>\n",
       "    <tr>\n",
       "      <th>3</th>\n",
       "      <td>ENSG00000004059</td>\n",
       "      <td>ENST00000000233</td>\n",
       "      <td>316</td>\n",
       "      <td>0</td>\n",
       "    </tr>\n",
       "    <tr>\n",
       "      <th>4</th>\n",
       "      <td>ENSG00000004059</td>\n",
       "      <td>ENST00000000233</td>\n",
       "      <td>332</td>\n",
       "      <td>0</td>\n",
       "    </tr>\n",
       "    <tr>\n",
       "      <th>5</th>\n",
       "      <td>ENSG00000004059</td>\n",
       "      <td>ENST00000000233</td>\n",
       "      <td>368</td>\n",
       "      <td>0</td>\n",
       "    </tr>\n",
       "    <tr>\n",
       "      <th>...</th>\n",
       "      <td>...</td>\n",
       "      <td>...</td>\n",
       "      <td>...</td>\n",
       "      <td>...</td>\n",
       "    </tr>\n",
       "    <tr>\n",
       "      <th>121733</th>\n",
       "      <td>ENSG00000092621</td>\n",
       "      <td>ENST00000641375</td>\n",
       "      <td>1523</td>\n",
       "      <td>0</td>\n",
       "    </tr>\n",
       "    <tr>\n",
       "      <th>121734</th>\n",
       "      <td>ENSG00000092621</td>\n",
       "      <td>ENST00000641375</td>\n",
       "      <td>1586</td>\n",
       "      <td>0</td>\n",
       "    </tr>\n",
       "    <tr>\n",
       "      <th>121735</th>\n",
       "      <td>ENSG00000092621</td>\n",
       "      <td>ENST00000641375</td>\n",
       "      <td>1996</td>\n",
       "      <td>0</td>\n",
       "    </tr>\n",
       "    <tr>\n",
       "      <th>121736</th>\n",
       "      <td>ENSG00000092621</td>\n",
       "      <td>ENST00000641375</td>\n",
       "      <td>2022</td>\n",
       "      <td>0</td>\n",
       "    </tr>\n",
       "    <tr>\n",
       "      <th>121737</th>\n",
       "      <td>ENSG00000092621</td>\n",
       "      <td>ENST00000641375</td>\n",
       "      <td>2171</td>\n",
       "      <td>0</td>\n",
       "    </tr>\n",
       "  </tbody>\n",
       "</table>\n",
       "<p>85293 rows × 4 columns</p>\n",
       "</div>"
      ],
      "text/plain": [
       "0               gene_id    transcript_id  transcript_position label\n",
       "1       ENSG00000004059  ENST00000000233                  244     0\n",
       "2       ENSG00000004059  ENST00000000233                  261     0\n",
       "3       ENSG00000004059  ENST00000000233                  316     0\n",
       "4       ENSG00000004059  ENST00000000233                  332     0\n",
       "5       ENSG00000004059  ENST00000000233                  368     0\n",
       "...                 ...              ...                  ...   ...\n",
       "121733  ENSG00000092621  ENST00000641375                 1523     0\n",
       "121734  ENSG00000092621  ENST00000641375                 1586     0\n",
       "121735  ENSG00000092621  ENST00000641375                 1996     0\n",
       "121736  ENSG00000092621  ENST00000641375                 2022     0\n",
       "121737  ENSG00000092621  ENST00000641375                 2171     0\n",
       "\n",
       "[85293 rows x 4 columns]"
      ]
     },
     "execution_count": 104,
     "metadata": {},
     "output_type": "execute_result"
    }
   ],
   "source": [
    "labels.loc[labels['gene_id'].isin(train_genes), :]"
   ]
  },
  {
   "cell_type": "code",
   "execution_count": 105,
   "metadata": {
    "ExecuteTime": {
     "end_time": "2022-10-14T14:43:41.642942Z",
     "start_time": "2022-10-14T14:43:41.638592Z"
    }
   },
   "outputs": [
    {
     "data": {
      "text/plain": [
       "(121838, 4)"
      ]
     },
     "execution_count": 105,
     "metadata": {},
     "output_type": "execute_result"
    }
   ],
   "source": [
    "labels.shape"
   ]
  },
  {
   "cell_type": "code",
   "execution_count": 250,
   "metadata": {
    "ExecuteTime": {
     "end_time": "2022-10-14T15:28:28.193411Z",
     "start_time": "2022-10-14T15:28:12.384523Z"
    }
   },
   "outputs": [],
   "source": [
    "prepData = prepD.prepData(train_genes=train_genes, path_to_data=path_to_data, path_to_labels=path_to_labels)"
   ]
  },
  {
   "cell_type": "code",
   "execution_count": 251,
   "metadata": {
    "ExecuteTime": {
     "end_time": "2022-10-14T15:28:28.504496Z",
     "start_time": "2022-10-14T15:28:28.197390Z"
    }
   },
   "outputs": [
    {
     "data": {
      "text/html": [
       "<div>\n",
       "<style scoped>\n",
       "    .dataframe tbody tr th:only-of-type {\n",
       "        vertical-align: middle;\n",
       "    }\n",
       "\n",
       "    .dataframe tbody tr th {\n",
       "        vertical-align: top;\n",
       "    }\n",
       "\n",
       "    .dataframe thead th {\n",
       "        text-align: right;\n",
       "    }\n",
       "</style>\n",
       "<table border=\"1\" class=\"dataframe\">\n",
       "  <thead>\n",
       "    <tr style=\"text-align: right;\">\n",
       "      <th></th>\n",
       "      <th>gene_id</th>\n",
       "      <th>transcript</th>\n",
       "      <th>position</th>\n",
       "      <th>k-mer bases</th>\n",
       "      <th>values</th>\n",
       "      <th>label</th>\n",
       "    </tr>\n",
       "  </thead>\n",
       "  <tbody>\n",
       "    <tr>\n",
       "      <th>0</th>\n",
       "      <td>ENSG00000004059</td>\n",
       "      <td>ENST00000000233</td>\n",
       "      <td>244</td>\n",
       "      <td>AAGACCA</td>\n",
       "      <td>[[0.00299, 2.06, 125.0, 0.0177, 10.4, 122.0, 0...</td>\n",
       "      <td>0</td>\n",
       "    </tr>\n",
       "    <tr>\n",
       "      <th>1</th>\n",
       "      <td>ENSG00000004059</td>\n",
       "      <td>ENST00000000233</td>\n",
       "      <td>261</td>\n",
       "      <td>CAAACTG</td>\n",
       "      <td>[[0.0126, 1.95, 111.0, 0.0125, 1.27, 108.0, 0....</td>\n",
       "      <td>0</td>\n",
       "    </tr>\n",
       "    <tr>\n",
       "      <th>2</th>\n",
       "      <td>ENSG00000004059</td>\n",
       "      <td>ENST00000000233</td>\n",
       "      <td>316</td>\n",
       "      <td>GAAACAG</td>\n",
       "      <td>[[0.00432, 2.02, 104.0, 0.00299, 3.56, 99.3, 0...</td>\n",
       "      <td>0</td>\n",
       "    </tr>\n",
       "    <tr>\n",
       "      <th>3</th>\n",
       "      <td>ENSG00000004059</td>\n",
       "      <td>ENST00000000233</td>\n",
       "      <td>332</td>\n",
       "      <td>AGAACAT</td>\n",
       "      <td>[[0.0134, 4.71, 132.0, 0.00447, 4.24, 98.8, 0....</td>\n",
       "      <td>0</td>\n",
       "    </tr>\n",
       "    <tr>\n",
       "      <th>4</th>\n",
       "      <td>ENSG00000004059</td>\n",
       "      <td>ENST00000000233</td>\n",
       "      <td>368</td>\n",
       "      <td>AGGACAA</td>\n",
       "      <td>[[0.015, 6.97, 118.0, 0.0106, 3.04, 123.0, 0.0...</td>\n",
       "      <td>0</td>\n",
       "    </tr>\n",
       "    <tr>\n",
       "      <th>5</th>\n",
       "      <td>ENSG00000004059</td>\n",
       "      <td>ENST00000000233</td>\n",
       "      <td>404</td>\n",
       "      <td>AGAACAC</td>\n",
       "      <td>[[0.00444, 5.4, 131.0, 0.00664, 7.26, 102.0, 0...</td>\n",
       "      <td>0</td>\n",
       "    </tr>\n",
       "    <tr>\n",
       "      <th>6</th>\n",
       "      <td>ENSG00000004059</td>\n",
       "      <td>ENST00000000233</td>\n",
       "      <td>431</td>\n",
       "      <td>TGGACAG</td>\n",
       "      <td>[[0.0102, 2.78, 118.0, 0.00697, 6.35, 119.0, 0...</td>\n",
       "      <td>0</td>\n",
       "    </tr>\n",
       "    <tr>\n",
       "      <th>7</th>\n",
       "      <td>ENSG00000004059</td>\n",
       "      <td>ENST00000000233</td>\n",
       "      <td>440</td>\n",
       "      <td>ATGACCG</td>\n",
       "      <td>[[0.00432, 2.94, 97.5, 0.00531, 11.0, 120.0, 0...</td>\n",
       "      <td>0</td>\n",
       "    </tr>\n",
       "    <tr>\n",
       "      <th>8</th>\n",
       "      <td>ENSG00000004059</td>\n",
       "      <td>ENST00000000233</td>\n",
       "      <td>471</td>\n",
       "      <td>TGAACTC</td>\n",
       "      <td>[[0.00266, 10.6, 125.0, 0.00681, 2.87, 104.0, ...</td>\n",
       "      <td>0</td>\n",
       "    </tr>\n",
       "    <tr>\n",
       "      <th>9</th>\n",
       "      <td>ENSG00000004059</td>\n",
       "      <td>ENST00000000233</td>\n",
       "      <td>539</td>\n",
       "      <td>AGGACAT</td>\n",
       "      <td>[[0.017, 6.09, 115.0, 0.00864, 5.81, 120.0, 0....</td>\n",
       "      <td>0</td>\n",
       "    </tr>\n",
       "  </tbody>\n",
       "</table>\n",
       "</div>"
      ],
      "text/plain": [
       "           gene_id       transcript  position k-mer bases  \\\n",
       "0  ENSG00000004059  ENST00000000233       244     AAGACCA   \n",
       "1  ENSG00000004059  ENST00000000233       261     CAAACTG   \n",
       "2  ENSG00000004059  ENST00000000233       316     GAAACAG   \n",
       "3  ENSG00000004059  ENST00000000233       332     AGAACAT   \n",
       "4  ENSG00000004059  ENST00000000233       368     AGGACAA   \n",
       "5  ENSG00000004059  ENST00000000233       404     AGAACAC   \n",
       "6  ENSG00000004059  ENST00000000233       431     TGGACAG   \n",
       "7  ENSG00000004059  ENST00000000233       440     ATGACCG   \n",
       "8  ENSG00000004059  ENST00000000233       471     TGAACTC   \n",
       "9  ENSG00000004059  ENST00000000233       539     AGGACAT   \n",
       "\n",
       "                                              values label  \n",
       "0  [[0.00299, 2.06, 125.0, 0.0177, 10.4, 122.0, 0...     0  \n",
       "1  [[0.0126, 1.95, 111.0, 0.0125, 1.27, 108.0, 0....     0  \n",
       "2  [[0.00432, 2.02, 104.0, 0.00299, 3.56, 99.3, 0...     0  \n",
       "3  [[0.0134, 4.71, 132.0, 0.00447, 4.24, 98.8, 0....     0  \n",
       "4  [[0.015, 6.97, 118.0, 0.0106, 3.04, 123.0, 0.0...     0  \n",
       "5  [[0.00444, 5.4, 131.0, 0.00664, 7.26, 102.0, 0...     0  \n",
       "6  [[0.0102, 2.78, 118.0, 0.00697, 6.35, 119.0, 0...     0  \n",
       "7  [[0.00432, 2.94, 97.5, 0.00531, 11.0, 120.0, 0...     0  \n",
       "8  [[0.00266, 10.6, 125.0, 0.00681, 2.87, 104.0, ...     0  \n",
       "9  [[0.017, 6.09, 115.0, 0.00864, 5.81, 120.0, 0....     0  "
      ]
     },
     "execution_count": 251,
     "metadata": {},
     "output_type": "execute_result"
    }
   ],
   "source": [
    "prepData.df"
   ]
  },
  {
   "cell_type": "code",
   "execution_count": 252,
   "metadata": {
    "ExecuteTime": {
     "end_time": "2022-10-14T15:28:28.510261Z",
     "start_time": "2022-10-14T15:28:28.507200Z"
    }
   },
   "outputs": [],
   "source": [
    "X, Y = prepData[0]"
   ]
  },
  {
   "cell_type": "code",
   "execution_count": 253,
   "metadata": {
    "ExecuteTime": {
     "end_time": "2022-10-14T15:28:34.702896Z",
     "start_time": "2022-10-14T15:28:34.695966Z"
    }
   },
   "outputs": [
    {
     "data": {
      "text/plain": [
       "tensor([[1.2300e-02, 6.6800e+00, 1.2600e+02, 8.5400e-03, 1.1900e+01, 1.2300e+02,\n",
       "         2.3200e-03, 1.3700e+00, 7.8400e+01, 4.3000e+01, 5.8000e+01, 4.2000e+01],\n",
       "        [1.2000e-02, 3.3700e+00, 1.2800e+02, 4.6500e-03, 1.5200e+01, 1.2400e+02,\n",
       "         1.0700e-02, 4.8700e+00, 8.2300e+01, 4.3000e+01, 5.8000e+01, 4.2000e+01],\n",
       "        [1.2000e-02, 3.4400e+00, 1.2700e+02, 1.6300e-02, 8.8000e+00, 1.2800e+02,\n",
       "         5.9800e-03, 6.5800e+00, 8.3600e+01, 4.3000e+01, 5.8000e+01, 4.2000e+01],\n",
       "        [9.9600e-03, 2.9600e+00, 1.3000e+02, 7.5500e-03, 1.2200e+01, 1.2300e+02,\n",
       "         1.0300e-02, 5.5000e+00, 8.3100e+01, 4.3000e+01, 5.8000e+01, 4.2000e+01],\n",
       "        [4.9800e-03, 2.1200e+00, 1.2800e+02, 1.1500e-02, 5.3400e+00, 1.2600e+02,\n",
       "         4.9800e-03, 6.8500e+00, 8.2000e+01, 4.3000e+01, 5.8000e+01, 4.2000e+01],\n",
       "        [2.5200e-02, 3.5800e+00, 1.2600e+02, 6.4400e-03, 9.3100e+00, 1.2600e+02,\n",
       "         6.3100e-03, 7.6900e+00, 8.2400e+01, 4.3000e+01, 5.8000e+01, 4.2000e+01],\n",
       "        [2.5900e-02, 6.9200e+00, 1.2700e+02, 3.6500e-03, 6.8200e+00, 1.2300e+02,\n",
       "         4.3200e-03, 2.3500e+00, 7.9100e+01, 4.3000e+01, 5.8000e+01, 4.2000e+01],\n",
       "        [8.9600e-03, 4.5400e+00, 1.2700e+02, 2.3200e-03, 1.1600e+01, 1.2100e+02,\n",
       "         5.9800e-03, 5.6300e+00, 7.8300e+01, 4.3000e+01, 5.8000e+01, 4.2000e+01],\n",
       "        [4.9800e-03, 4.6300e+00, 1.2600e+02, 6.2000e-03, 5.2900e+00, 1.2800e+02,\n",
       "         3.9800e-03, 9.0000e+00, 8.3100e+01, 4.3000e+01, 5.8000e+01, 4.2000e+01],\n",
       "        [7.6400e-03, 3.8800e+00, 1.0800e+02, 9.3000e-03, 1.1900e+01, 1.2400e+02,\n",
       "         9.7500e-03, 4.6500e+00, 8.1400e+01, 4.3000e+01, 5.8000e+01, 4.2000e+01],\n",
       "        [1.0300e-02, 3.8300e+00, 1.2300e+02, 5.9800e-03, 6.4500e+00, 1.2600e+02,\n",
       "         1.5300e-02, 1.0900e+00, 7.4800e+01, 4.3000e+01, 5.8000e+01, 4.2000e+01],\n",
       "        [9.3000e-03, 3.1200e+00, 1.2500e+02, 3.9800e-03, 8.8400e+00, 1.2900e+02,\n",
       "         3.6100e-03, 1.8600e+00, 8.2000e+01, 4.3000e+01, 5.8000e+01, 4.2000e+01],\n",
       "        [1.2000e-02, 2.8000e+00, 1.2500e+02, 8.8200e-03, 7.6100e+00, 1.2600e+02,\n",
       "         7.9700e-03, 8.7500e+00, 8.2700e+01, 4.3000e+01, 5.8000e+01, 4.2000e+01],\n",
       "        [2.6600e-03, 2.6600e+00, 1.2500e+02, 5.3600e-03, 1.0300e+01, 1.2300e+02,\n",
       "         4.7800e-03, 2.9500e+00, 7.8200e+01, 4.3000e+01, 5.8000e+01, 4.2000e+01],\n",
       "        [3.3200e-03, 2.5900e+00, 1.2700e+02, 6.0300e-03, 6.2100e+00, 1.2500e+02,\n",
       "         6.3100e-03, 1.5600e+00, 8.0600e+01, 4.3000e+01, 5.8000e+01, 4.2000e+01],\n",
       "        [1.4900e-02, 4.0900e+00, 1.2500e+02, 1.4100e-02, 9.4400e+00, 1.2600e+02,\n",
       "         6.3100e-03, 1.5200e+00, 7.9300e+01, 4.3000e+01, 5.8000e+01, 4.2000e+01],\n",
       "        [4.3200e-03, 3.0800e+00, 1.2600e+02, 6.4000e-03, 4.5000e+00, 1.2800e+02,\n",
       "         5.6400e-03, 1.0800e+01, 8.1700e+01, 4.3000e+01, 5.8000e+01, 4.2000e+01],\n",
       "        [5.3100e-03, 3.4700e+00, 1.2600e+02, 5.7800e-03, 1.0200e+01, 1.2300e+02,\n",
       "         6.3100e-03, 9.7500e+00, 8.4900e+01, 4.3000e+01, 5.8000e+01, 4.2000e+01],\n",
       "        [7.1800e-03, 4.8200e+00, 1.2200e+02, 2.3200e-03, 6.1900e+00, 1.2400e+02,\n",
       "         3.0900e-03, 1.9500e+00, 8.0600e+01, 4.3000e+01, 5.8000e+01, 4.2000e+01],\n",
       "        [4.3200e-03, 4.3300e+00, 1.2600e+02, 9.8400e-03, 7.4400e+00, 1.2500e+02,\n",
       "         6.6400e-03, 6.4700e+00, 8.2100e+01, 4.3000e+01, 5.8000e+01, 4.2000e+01]],\n",
       "       dtype=torch.float64)"
      ]
     },
     "execution_count": 253,
     "metadata": {},
     "output_type": "execute_result"
    }
   ],
   "source": [
    "X"
   ]
  },
  {
   "cell_type": "code",
   "execution_count": 263,
   "metadata": {
    "ExecuteTime": {
     "end_time": "2022-10-14T15:38:13.421073Z",
     "start_time": "2022-10-14T15:38:13.417295Z"
    }
   },
   "outputs": [],
   "source": [
    "dataloader = torch.utils.data.DataLoader(dataset= prepData, batch_size=5)"
   ]
  },
  {
   "cell_type": "code",
   "execution_count": 264,
   "metadata": {
    "ExecuteTime": {
     "end_time": "2022-10-14T15:38:14.571854Z",
     "start_time": "2022-10-14T15:38:14.565415Z"
    }
   },
   "outputs": [],
   "source": [
    "dataiter = iter(dataloader)\n",
    "data= dataiter.next()"
   ]
  },
  {
   "cell_type": "code",
   "execution_count": 265,
   "metadata": {
    "ExecuteTime": {
     "end_time": "2022-10-14T15:38:17.435932Z",
     "start_time": "2022-10-14T15:38:17.433097Z"
    }
   },
   "outputs": [],
   "source": [
    "features, label = data"
   ]
  },
  {
   "cell_type": "code",
   "execution_count": 280,
   "metadata": {
    "ExecuteTime": {
     "end_time": "2022-10-14T15:43:01.583608Z",
     "start_time": "2022-10-14T15:43:01.566891Z"
    }
   },
   "outputs": [],
   "source": [
    "net = m6aNet(5, 20)\n",
    "res = net.forward(features)"
   ]
  },
  {
   "cell_type": "code",
   "execution_count": 281,
   "metadata": {
    "ExecuteTime": {
     "end_time": "2022-10-14T15:43:01.737264Z",
     "start_time": "2022-10-14T15:43:01.716181Z"
    }
   },
   "outputs": [
    {
     "data": {
      "text/plain": [
       "tensor([[0.4214, 0.4168, 0.4286, 0.4306, 0.4238, 0.4205, 0.4224, 0.4001, 0.4130,\n",
       "         0.4278, 0.4066, 0.4280, 0.4803, 0.4108, 0.4073, 0.4251, 0.4180, 0.4295,\n",
       "         0.4276, 0.4310],\n",
       "        [0.4413, 0.4539, 0.4542, 0.4495, 0.4445, 0.4493, 0.4479, 0.4505, 0.4454,\n",
       "         0.4568, 0.4415, 0.4458, 0.4490, 0.4467, 0.4469, 0.4544, 0.4510, 0.4551,\n",
       "         0.4487, 0.4424],\n",
       "        [0.4740, 0.4645, 0.4561, 0.4571, 0.4691, 0.4669, 0.4558, 0.4614, 0.4633,\n",
       "         0.4590, 0.4694, 0.4735, 0.4713, 0.4571, 0.4686, 0.4659, 0.4613, 0.4636,\n",
       "         0.4554, 0.4578],\n",
       "        [0.4664, 0.4756, 0.4814, 0.4710, 0.4836, 0.4487, 0.4792, 0.4669, 0.4736,\n",
       "         0.4738, 0.4695, 0.4732, 0.4633, 0.4850, 0.4848, 0.4680, 0.4738, 0.4713,\n",
       "         0.4815, 0.4685],\n",
       "        [0.4610, 0.4564, 0.4523, 0.4615, 0.4772, 0.4635, 0.4506, 0.4648, 0.4690,\n",
       "         0.4604, 0.4614, 0.4561, 0.4650, 0.4529, 0.4517, 0.4658, 0.4609, 0.4640,\n",
       "         0.4520, 0.4573]], grad_fn=<ReshapeAliasBackward0>)"
      ]
     },
     "execution_count": 281,
     "metadata": {},
     "output_type": "execute_result"
    }
   ],
   "source": [
    "res"
   ]
  },
  {
   "cell_type": "code",
   "execution_count": 162,
   "metadata": {
    "ExecuteTime": {
     "end_time": "2022-10-14T15:02:12.916345Z",
     "start_time": "2022-10-14T15:02:12.913380Z"
    }
   },
   "outputs": [],
   "source": [
    "import torch\n",
    "import torch\n",
    "import torch.nn as nn"
   ]
  },
  {
   "cell_type": "code",
   "execution_count": 279,
   "metadata": {
    "ExecuteTime": {
     "end_time": "2022-10-14T15:42:45.390929Z",
     "start_time": "2022-10-14T15:42:45.379982Z"
    }
   },
   "outputs": [],
   "source": [
    "class m6aNet(nn.Module):\n",
    "    def __init__(self, batchsize, readsize):\n",
    "        self.batchsize = batchsize\n",
    "        self.readsize = readsize\n",
    "        super(m6aNet, self).__init__()\n",
    "        # Embedding Layer\n",
    "        self.embed = nn.Embedding(66, 2)\n",
    "\n",
    "        ## First Layer ##\n",
    "        self.read_level_prob_1 = nn.Linear(15, 150)\n",
    "        # First Batch Norm Layer\n",
    "        self.norm_1 = nn.BatchNorm1d(num_features=150)\n",
    "        # First Activation Layer\n",
    "        self.activ_1=nn.ReLU()\n",
    "\n",
    "        ## Second Layer ##\n",
    "        self.read_level_prob_2 = nn.Linear(150, 32)\n",
    "        # Second Activation Layer\n",
    "        self.activ_2=nn.ReLU()\n",
    "\n",
    "        ## Third Layer ##\n",
    "        self.read_level_prob_3 = nn.Linear(32, 1)\n",
    "        # Sigmoid Activation\n",
    "        self.sig_1 = nn.Sigmoid()\n",
    "\n",
    "    \n",
    "    \n",
    "    def forward(self, x):\n",
    "        ### X is a numpy array of shape (batchsize, readsize=20, 12) ###\n",
    "        \n",
    "#         # Convert to tensor\n",
    "#         x = torch.tensor(x)\n",
    "        # Extract numeric features        \n",
    "        numerics = x[:, :, :9]\n",
    "        # # Extract Bases\n",
    "        bases = x[:, :, 9:].type(torch.int64)\n",
    "        # # Feed to embedding layer\n",
    "        bases = self.embed(bases)\n",
    "\n",
    "        # Reshape\n",
    "        bases = bases.reshape(self.batchsize, self.readsize, 3*2)\n",
    "        # Combine embedded output with numeric features\n",
    "        x = torch.concat((numerics, bases), 2).type(torch.float)\n",
    "\n",
    "        #### Feed Forward  ####\n",
    "\n",
    "        ## First Layer ##\n",
    "        x = self.read_level_prob_1(x)\n",
    "        # First Batch Norm Layer\n",
    "        x = x.transpose(dim0=1, dim1=2) # Need to transpose first\n",
    "        x = self.norm_1(x)\n",
    "        x = x.transpose(dim0=1, dim1=2) # Then transpose back\n",
    "        # First Activation Layer\n",
    "        x= self.activ_1(x)\n",
    "\n",
    "        ## Second Layer ##\n",
    "        x = self.read_level_prob_2(x)\n",
    "        # Second Activation Layer\n",
    "        x = self.activ_2(x)\n",
    "\n",
    "        ## Third Layer ##\n",
    "        x = self.read_level_prob_3(x)\n",
    "        # Sigmoid Activation\n",
    "        x = self.sig_1(x)\n",
    "        x = x.reshape(-1, self.readsize)\n",
    "        return x\n",
    "        # Final Output\n",
    "        r = 1 - torch.prod(1 - x, axis=1)\n",
    "        return r\n",
    "\n",
    "            \n",
    "        \n",
    "        \n",
    "        \n",
    "        \n",
    "        "
   ]
  },
  {
   "cell_type": "code",
   "execution_count": 204,
   "metadata": {
    "ExecuteTime": {
     "end_time": "2022-10-14T15:14:40.377951Z",
     "start_time": "2022-10-14T15:14:40.372250Z"
    }
   },
   "outputs": [
    {
     "data": {
      "text/plain": [
       "tensor(0)"
      ]
     },
     "execution_count": 204,
     "metadata": {},
     "output_type": "execute_result"
    }
   ],
   "source": [
    "torch.from_numpy(np.array(int(df.iloc[0, -1])))"
   ]
  },
  {
   "cell_type": "code",
   "execution_count": 201,
   "metadata": {
    "ExecuteTime": {
     "end_time": "2022-10-14T15:13:37.982686Z",
     "start_time": "2022-10-14T15:13:37.978208Z"
    }
   },
   "outputs": [
    {
     "data": {
      "text/plain": [
       "gene_id        object\n",
       "transcript     object\n",
       "position        int64\n",
       "k-mer bases    object\n",
       "values         object\n",
       "label          object\n",
       "dtype: object"
      ]
     },
     "execution_count": 201,
     "metadata": {},
     "output_type": "execute_result"
    }
   ],
   "source": [
    "df.dtypes"
   ]
  },
  {
   "cell_type": "code",
   "execution_count": null,
   "metadata": {},
   "outputs": [],
   "source": []
  }
 ],
 "metadata": {
  "kernelspec": {
   "display_name": "Python 3 (ipykernel)",
   "language": "python",
   "name": "python3"
  },
  "language_info": {
   "codemirror_mode": {
    "name": "ipython",
    "version": 3
   },
   "file_extension": ".py",
   "mimetype": "text/x-python",
   "name": "python",
   "nbconvert_exporter": "python",
   "pygments_lexer": "ipython3",
   "version": "3.9.12"
  },
  "toc": {
   "base_numbering": 1,
   "nav_menu": {},
   "number_sections": true,
   "sideBar": true,
   "skip_h1_title": false,
   "title_cell": "Table of Contents",
   "title_sidebar": "Contents",
   "toc_cell": false,
   "toc_position": {},
   "toc_section_display": true,
   "toc_window_display": false
  }
 },
 "nbformat": 4,
 "nbformat_minor": 4
}
