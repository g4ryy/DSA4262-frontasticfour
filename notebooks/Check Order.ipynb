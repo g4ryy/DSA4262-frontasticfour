{
 "cells": [
  {
   "cell_type": "code",
   "execution_count": 1,
   "id": "e986b759",
   "metadata": {
    "ExecuteTime": {
     "end_time": "2022-10-16T08:37:08.172629Z",
     "start_time": "2022-10-16T08:37:07.865017Z"
    }
   },
   "outputs": [],
   "source": [
    "import pandas as pd\n",
    "import json"
   ]
  },
  {
   "cell_type": "code",
   "execution_count": 23,
   "id": "fb41be73",
   "metadata": {
    "ExecuteTime": {
     "end_time": "2022-10-16T08:28:40.010053Z",
     "start_time": "2022-10-16T08:28:39.957259Z"
    }
   },
   "outputs": [],
   "source": [
    "df = pd.read_csv(\"../../data/submission/dataset2.csv\")"
   ]
  },
  {
   "cell_type": "code",
   "execution_count": 24,
   "id": "2f61d4bd",
   "metadata": {
    "ExecuteTime": {
     "end_time": "2022-10-16T08:28:40.122350Z",
     "start_time": "2022-10-16T08:28:40.117454Z"
    }
   },
   "outputs": [
    {
     "data": {
      "text/plain": [
       "(98830, 3)"
      ]
     },
     "execution_count": 24,
     "metadata": {},
     "output_type": "execute_result"
    }
   ],
   "source": [
    "df.shape"
   ]
  },
  {
   "cell_type": "markdown",
   "id": "3f8e5f3a",
   "metadata": {},
   "source": [
    "# Reference Data"
   ]
  },
  {
   "cell_type": "code",
   "execution_count": 5,
   "id": "d8ae2023",
   "metadata": {
    "ExecuteTime": {
     "end_time": "2022-10-16T08:37:47.911346Z",
     "start_time": "2022-10-16T08:37:34.897964Z"
    }
   },
   "outputs": [],
   "source": [
    "path_to_ref_data = \"/Users/carelchay/Desktop/School/Modules/DSA4262/Project 2/data/data.json\"\n",
    "# Reset the ref_data dictionary tracker\n",
    "ref_data = {\"transcript_id\" : [],\n",
    "           'transcript_position' : []}\n",
    "# Open the ref_data.json file\n",
    "with open(path_to_ref_data, 'r') as f:\n",
    "    # Check that the number of desired entries hasn't been reached\n",
    "    for idx, line in enumerate(f):\n",
    "        # Read in just that line. Cannot read in all lines at once as the ref_data is too large\n",
    "        line = json.loads(line)\n",
    "        # Obtain transcript and sub-dictionary\n",
    "        for transcript, sub1 in line.items():\n",
    "            # Add transcript to dictionary\n",
    "            ref_data['transcript_id'].append(transcript)\n",
    "            # Obtain position number and sub-dict\n",
    "            for position, sub2 in sub1.items():\n",
    "                # Add position as an integer to the dictionary\n",
    "                ref_data['transcript_position'].append(int(position))\n",
    "                "
   ]
  },
  {
   "cell_type": "code",
   "execution_count": 3,
   "id": "840cf1de",
   "metadata": {
    "ExecuteTime": {
     "end_time": "2022-10-16T08:37:22.024297Z",
     "start_time": "2022-10-16T08:37:21.982112Z"
    }
   },
   "outputs": [],
   "source": [
    "df1 = pd.DataFrame(ref_data)"
   ]
  },
  {
   "cell_type": "code",
   "execution_count": 6,
   "id": "9cd6409a",
   "metadata": {
    "ExecuteTime": {
     "end_time": "2022-10-16T08:37:47.965373Z",
     "start_time": "2022-10-16T08:37:47.914459Z"
    }
   },
   "outputs": [],
   "source": [
    "df = pd.DataFrame(ref_data)"
   ]
  },
  {
   "cell_type": "code",
   "execution_count": 10,
   "id": "cf5358fe",
   "metadata": {
    "ExecuteTime": {
     "end_time": "2022-10-16T08:38:47.217286Z",
     "start_time": "2022-10-16T08:38:47.213628Z"
    }
   },
   "outputs": [
    {
     "data": {
      "text/plain": [
       "(121838, 2)"
      ]
     },
     "execution_count": 10,
     "metadata": {},
     "output_type": "execute_result"
    }
   ],
   "source": [
    "df.shape"
   ]
  },
  {
   "cell_type": "code",
   "execution_count": 16,
   "id": "465f6e2e",
   "metadata": {
    "ExecuteTime": {
     "end_time": "2022-10-16T08:39:52.168114Z",
     "start_time": "2022-10-16T08:39:52.163691Z"
    }
   },
   "outputs": [],
   "source": [
    "df['b'] = 'b'\n",
    "df1['a'] = \"a\""
   ]
  },
  {
   "cell_type": "code",
   "execution_count": 17,
   "id": "d2b5e2b7",
   "metadata": {
    "ExecuteTime": {
     "end_time": "2022-10-16T08:39:56.741650Z",
     "start_time": "2022-10-16T08:39:56.674585Z"
    }
   },
   "outputs": [],
   "source": [
    "q = pd.merge(df, df1, on=(\"transcript_id\", \"transcript_position\"), how=\n",
    "            \"right\")"
   ]
  },
  {
   "cell_type": "code",
   "execution_count": 19,
   "id": "fa7b3ee8",
   "metadata": {
    "ExecuteTime": {
     "end_time": "2022-10-16T08:40:02.663752Z",
     "start_time": "2022-10-16T08:40:02.646864Z"
    }
   },
   "outputs": [
    {
     "data": {
      "text/html": [
       "<div>\n",
       "<style scoped>\n",
       "    .dataframe tbody tr th:only-of-type {\n",
       "        vertical-align: middle;\n",
       "    }\n",
       "\n",
       "    .dataframe tbody tr th {\n",
       "        vertical-align: top;\n",
       "    }\n",
       "\n",
       "    .dataframe thead th {\n",
       "        text-align: right;\n",
       "    }\n",
       "</style>\n",
       "<table border=\"1\" class=\"dataframe\">\n",
       "  <thead>\n",
       "    <tr style=\"text-align: right;\">\n",
       "      <th></th>\n",
       "      <th>transcript_id</th>\n",
       "      <th>transcript_position</th>\n",
       "      <th>b</th>\n",
       "      <th>a</th>\n",
       "    </tr>\n",
       "  </thead>\n",
       "  <tbody>\n",
       "    <tr>\n",
       "      <th>232</th>\n",
       "      <td>ENST00000023939</td>\n",
       "      <td>99</td>\n",
       "      <td>NaN</td>\n",
       "      <td>a</td>\n",
       "    </tr>\n",
       "    <tr>\n",
       "      <th>282</th>\n",
       "      <td>ENST00000009041</td>\n",
       "      <td>1458</td>\n",
       "      <td>NaN</td>\n",
       "      <td>a</td>\n",
       "    </tr>\n",
       "    <tr>\n",
       "      <th>283</th>\n",
       "      <td>ENST00000009041</td>\n",
       "      <td>1573</td>\n",
       "      <td>NaN</td>\n",
       "      <td>a</td>\n",
       "    </tr>\n",
       "    <tr>\n",
       "      <th>284</th>\n",
       "      <td>ENST00000009041</td>\n",
       "      <td>1667</td>\n",
       "      <td>NaN</td>\n",
       "      <td>a</td>\n",
       "    </tr>\n",
       "    <tr>\n",
       "      <th>285</th>\n",
       "      <td>ENST00000005340</td>\n",
       "      <td>609</td>\n",
       "      <td>NaN</td>\n",
       "      <td>a</td>\n",
       "    </tr>\n",
       "    <tr>\n",
       "      <th>...</th>\n",
       "      <td>...</td>\n",
       "      <td>...</td>\n",
       "      <td>...</td>\n",
       "      <td>...</td>\n",
       "    </tr>\n",
       "    <tr>\n",
       "      <th>90748</th>\n",
       "      <td>ENST00000641756</td>\n",
       "      <td>1953</td>\n",
       "      <td>NaN</td>\n",
       "      <td>a</td>\n",
       "    </tr>\n",
       "    <tr>\n",
       "      <th>90749</th>\n",
       "      <td>ENST00000641756</td>\n",
       "      <td>1998</td>\n",
       "      <td>NaN</td>\n",
       "      <td>a</td>\n",
       "    </tr>\n",
       "    <tr>\n",
       "      <th>90750</th>\n",
       "      <td>ENST00000641756</td>\n",
       "      <td>2061</td>\n",
       "      <td>NaN</td>\n",
       "      <td>a</td>\n",
       "    </tr>\n",
       "    <tr>\n",
       "      <th>90751</th>\n",
       "      <td>ENST00000641756</td>\n",
       "      <td>2083</td>\n",
       "      <td>NaN</td>\n",
       "      <td>a</td>\n",
       "    </tr>\n",
       "    <tr>\n",
       "      <th>90752</th>\n",
       "      <td>ENST00000641756</td>\n",
       "      <td>2102</td>\n",
       "      <td>NaN</td>\n",
       "      <td>a</td>\n",
       "    </tr>\n",
       "  </tbody>\n",
       "</table>\n",
       "<p>23490 rows × 4 columns</p>\n",
       "</div>"
      ],
      "text/plain": [
       "         transcript_id  transcript_position    b  a\n",
       "232    ENST00000023939                   99  NaN  a\n",
       "282    ENST00000009041                 1458  NaN  a\n",
       "283    ENST00000009041                 1573  NaN  a\n",
       "284    ENST00000009041                 1667  NaN  a\n",
       "285    ENST00000005340                  609  NaN  a\n",
       "...                ...                  ...  ... ..\n",
       "90748  ENST00000641756                 1953  NaN  a\n",
       "90749  ENST00000641756                 1998  NaN  a\n",
       "90750  ENST00000641756                 2061  NaN  a\n",
       "90751  ENST00000641756                 2083  NaN  a\n",
       "90752  ENST00000641756                 2102  NaN  a\n",
       "\n",
       "[23490 rows x 4 columns]"
      ]
     },
     "execution_count": 19,
     "metadata": {},
     "output_type": "execute_result"
    }
   ],
   "source": [
    "q.loc[q['b'].isna()]"
   ]
  },
  {
   "cell_type": "code",
   "execution_count": null,
   "id": "f52d8c57",
   "metadata": {},
   "outputs": [],
   "source": []
  },
  {
   "cell_type": "code",
   "execution_count": 28,
   "id": "7cf2b785",
   "metadata": {
    "ExecuteTime": {
     "end_time": "2022-10-16T08:28:55.785325Z",
     "start_time": "2022-10-16T08:28:55.776943Z"
    }
   },
   "outputs": [
    {
     "data": {
      "text/html": [
       "<div>\n",
       "<style scoped>\n",
       "    .dataframe tbody tr th:only-of-type {\n",
       "        vertical-align: middle;\n",
       "    }\n",
       "\n",
       "    .dataframe tbody tr th {\n",
       "        vertical-align: top;\n",
       "    }\n",
       "\n",
       "    .dataframe thead th {\n",
       "        text-align: right;\n",
       "    }\n",
       "</style>\n",
       "<table border=\"1\" class=\"dataframe\">\n",
       "  <thead>\n",
       "    <tr style=\"text-align: right;\">\n",
       "      <th></th>\n",
       "      <th>transcript_id</th>\n",
       "      <th>transcript_position</th>\n",
       "    </tr>\n",
       "  </thead>\n",
       "  <tbody>\n",
       "    <tr>\n",
       "      <th>0</th>\n",
       "      <td>AT1G01050.1</td>\n",
       "      <td>155</td>\n",
       "    </tr>\n",
       "    <tr>\n",
       "      <th>1</th>\n",
       "      <td>AT1G01050.1</td>\n",
       "      <td>165</td>\n",
       "    </tr>\n",
       "    <tr>\n",
       "      <th>2</th>\n",
       "      <td>AT1G01050.1</td>\n",
       "      <td>347</td>\n",
       "    </tr>\n",
       "    <tr>\n",
       "      <th>3</th>\n",
       "      <td>AT1G01050.1</td>\n",
       "      <td>435</td>\n",
       "    </tr>\n",
       "    <tr>\n",
       "      <th>4</th>\n",
       "      <td>AT1G01050.2</td>\n",
       "      <td>463</td>\n",
       "    </tr>\n",
       "    <tr>\n",
       "      <th>...</th>\n",
       "      <td>...</td>\n",
       "      <td>...</td>\n",
       "    </tr>\n",
       "    <tr>\n",
       "      <th>98825</th>\n",
       "      <td>AT5G67590.1</td>\n",
       "      <td>367</td>\n",
       "    </tr>\n",
       "    <tr>\n",
       "      <th>98826</th>\n",
       "      <td>AT5G67590.1</td>\n",
       "      <td>444</td>\n",
       "    </tr>\n",
       "    <tr>\n",
       "      <th>98827</th>\n",
       "      <td>AT5G67590.1</td>\n",
       "      <td>465</td>\n",
       "    </tr>\n",
       "    <tr>\n",
       "      <th>98828</th>\n",
       "      <td>AT5G67590.1</td>\n",
       "      <td>663</td>\n",
       "    </tr>\n",
       "    <tr>\n",
       "      <th>98829</th>\n",
       "      <td>AT5G67600.1</td>\n",
       "      <td>154</td>\n",
       "    </tr>\n",
       "  </tbody>\n",
       "</table>\n",
       "<p>98830 rows × 2 columns</p>\n",
       "</div>"
      ],
      "text/plain": [
       "      transcript_id  transcript_position\n",
       "0       AT1G01050.1                  155\n",
       "1       AT1G01050.1                  165\n",
       "2       AT1G01050.1                  347\n",
       "3       AT1G01050.1                  435\n",
       "4       AT1G01050.2                  463\n",
       "...             ...                  ...\n",
       "98825   AT5G67590.1                  367\n",
       "98826   AT5G67590.1                  444\n",
       "98827   AT5G67590.1                  465\n",
       "98828   AT5G67590.1                  663\n",
       "98829   AT5G67600.1                  154\n",
       "\n",
       "[98830 rows x 2 columns]"
      ]
     },
     "execution_count": 28,
     "metadata": {},
     "output_type": "execute_result"
    }
   ],
   "source": [
    "ref_data"
   ]
  },
  {
   "cell_type": "code",
   "execution_count": 29,
   "id": "2612026a",
   "metadata": {
    "ExecuteTime": {
     "end_time": "2022-10-16T08:28:55.808059Z",
     "start_time": "2022-10-16T08:28:55.787993Z"
    }
   },
   "outputs": [
    {
     "data": {
      "text/plain": [
       "True"
      ]
     },
     "execution_count": 29,
     "metadata": {},
     "output_type": "execute_result"
    }
   ],
   "source": [
    "all(ref_data['transcript_id'] == df['transcript_id'])"
   ]
  },
  {
   "cell_type": "code",
   "execution_count": 30,
   "id": "b60c2bda",
   "metadata": {
    "ExecuteTime": {
     "end_time": "2022-10-16T08:28:55.821599Z",
     "start_time": "2022-10-16T08:28:55.809964Z"
    }
   },
   "outputs": [
    {
     "data": {
      "text/plain": [
       "True"
      ]
     },
     "execution_count": 30,
     "metadata": {},
     "output_type": "execute_result"
    }
   ],
   "source": [
    "all(ref_data['transcript_position'] == df['transcript_position'])"
   ]
  },
  {
   "cell_type": "code",
   "execution_count": null,
   "id": "042b1f04",
   "metadata": {},
   "outputs": [],
   "source": []
  }
 ],
 "metadata": {
  "kernelspec": {
   "display_name": "Python 3 (ipykernel)",
   "language": "python",
   "name": "python3"
  },
  "language_info": {
   "codemirror_mode": {
    "name": "ipython",
    "version": 3
   },
   "file_extension": ".py",
   "mimetype": "text/x-python",
   "name": "python",
   "nbconvert_exporter": "python",
   "pygments_lexer": "ipython3",
   "version": "3.9.12"
  },
  "toc": {
   "base_numbering": 1,
   "nav_menu": {},
   "number_sections": false,
   "sideBar": true,
   "skip_h1_title": false,
   "title_cell": "Table of Contents",
   "title_sidebar": "Contents",
   "toc_cell": false,
   "toc_position": {},
   "toc_section_display": true,
   "toc_window_display": true
  }
 },
 "nbformat": 4,
 "nbformat_minor": 5
}
