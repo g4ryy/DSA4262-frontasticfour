{
 "cells": [
  {
   "cell_type": "code",
   "execution_count": 1,
   "metadata": {
    "ExecuteTime": {
     "end_time": "2022-10-07T15:02:39.897466Z",
     "start_time": "2022-10-07T15:02:39.627213Z"
    }
   },
   "outputs": [],
   "source": [
    "import json\n",
    "import zipfile\n",
    "import numpy as np\n",
    "import pandas as pd"
   ]
  },
  {
   "cell_type": "code",
   "execution_count": 2,
   "metadata": {
    "ExecuteTime": {
     "end_time": "2022-10-04T09:32:31.401050Z",
     "start_time": "2022-10-04T09:32:31.397811Z"
    }
   },
   "outputs": [],
   "source": [
    "r = {\n",
    "    \"transcript\" : [],\n",
    "    \"position\" : [],\n",
    "    \"k-mer bases\": [],\n",
    "    \"values\" : [] \n",
    "}"
   ]
  },
  {
   "cell_type": "code",
   "execution_count": 3,
   "metadata": {
    "ExecuteTime": {
     "end_time": "2022-10-04T09:32:31.510324Z",
     "start_time": "2022-10-04T09:32:31.497798Z"
    }
   },
   "outputs": [
    {
     "data": {
      "text/plain": [
       "{'transcript': [],\n",
       " 'position': [],\n",
       " 'k-mer bases': [],\n",
       " 'values': [],\n",
       " 'f1_stats': [],\n",
       " 'f2_stats': [],\n",
       " 'f3_stats': [],\n",
       " 'f4_stats': [],\n",
       " 'f5_stats': [],\n",
       " 'f6_stats': [],\n",
       " 'f7_stats': [],\n",
       " 'f8_stats': [],\n",
       " 'f9_stats': [],\n",
       " 'f10_stats': []}"
      ]
     },
     "execution_count": 3,
     "metadata": {},
     "output_type": "execute_result"
    }
   ],
   "source": [
    "tmp = {f\"f{i+1}_stats\" : [] for i in range(10)}\n",
    "r.update(tmp)\n",
    "r"
   ]
  },
  {
   "cell_type": "code",
   "execution_count": 14,
   "metadata": {
    "ExecuteTime": {
     "end_time": "2022-10-04T09:35:43.859589Z",
     "start_time": "2022-10-04T09:35:43.855253Z"
    }
   },
   "outputs": [
    {
     "data": {
      "text/plain": [
       "(172, 9)"
      ]
     },
     "execution_count": 14,
     "metadata": {},
     "output_type": "execute_result"
    }
   ],
   "source": [
    "values.shape"
   ]
  },
  {
   "cell_type": "code",
   "execution_count": 2,
   "metadata": {
    "ExecuteTime": {
     "end_time": "2022-10-07T15:03:05.320523Z",
     "start_time": "2022-10-07T15:03:04.759610Z"
    }
   },
   "outputs": [],
   "source": [
    "import json\n",
    "\n",
    "r = {\n",
    "    \"transcript\" : [],\n",
    "    \"position\" : [],\n",
    "    \"k-mer bases\": [],\n",
    "#     \"values\" : []\n",
    "}\n",
    "tmp = {f\"f{i+1}_stats\" : [] for i in range(9)}\n",
    "r.update(tmp)\n",
    "\n",
    "fname = \"../data/data.json\"\n",
    "with open(fname, 'r') as f:\n",
    "    for idx, line in enumerate(f):\n",
    "        if idx >1000 :\n",
    "            break\n",
    "        line=json.loads(line)\n",
    "        for transcript, sub1 in line.items():\n",
    "            r['transcript'].append(transcript)\n",
    "            for position, sub2 in sub1.items():\n",
    "                r['position'].append(int(position))\n",
    "                for bases, values in sub2.items():\n",
    "                    r['k-mer bases'].append(bases)\n",
    "                    values = np.array(values)\n",
    "#                     r['values'].append(values)\n",
    "                    \n",
    "                    # Computing summary statistics\n",
    "                    mean = np.mean(values, axis=0).reshape(1, -1)\n",
    "                    quantiles = np.quantile(values, [0.25, 0.5, 0.75], axis = 0)\n",
    "                    mini = np.min(values, axis=0).reshape(1, -1)\n",
    "                    maxi = np.max(values, axis=0).reshape(1, -1)\n",
    "                    combined=np.concatenate((mean, mini, quantiles, maxi), axis=0)\n",
    "                    \n",
    "                    for i in range(9):\n",
    "                        tmp_i=list(combined[:, i].reshape(-1,))\n",
    "                        r[f\"f{i+1}_stats\"].append(tmp_i)\n",
    "                        \n",
    "        \n",
    "r = pd.DataFrame(r)\n",
    "\n",
    "r.to_pickle(\"./test.pkl\")"
   ]
  },
  {
   "cell_type": "code",
   "execution_count": 16,
   "metadata": {
    "ExecuteTime": {
     "end_time": "2022-10-04T09:35:57.224762Z",
     "start_time": "2022-10-04T09:35:57.220219Z"
    }
   },
   "outputs": [
    {
     "data": {
      "text/plain": [
       "(6, 9)"
      ]
     },
     "execution_count": 16,
     "metadata": {},
     "output_type": "execute_result"
    }
   ],
   "source": [
    "combined.shape\n",
    "fname = \"/home/ubuntu/studies/ProjectStorage/data/data.json\"\n",
    "# Where to place the output file\n",
    "resname = \"/home/ubuntu/studies/ProjectStorage/data/parsed_data_carel.pkl\""
   ]
  },
  {
   "cell_type": "code",
   "execution_count": 17,
   "metadata": {
    "ExecuteTime": {
     "end_time": "2022-10-04T09:35:59.033478Z",
     "start_time": "2022-10-04T09:35:59.030979Z"
    }
   },
   "outputs": [],
   "source": [
    "# q=pd.read_pickle(\"./test.pkl\")"
   ]
  },
  {
   "cell_type": "code",
   "execution_count": 21,
   "metadata": {
    "ExecuteTime": {
     "end_time": "2022-10-04T09:36:32.978388Z",
     "start_time": "2022-10-04T09:36:32.974159Z"
    }
   },
   "outputs": [
    {
     "data": {
      "text/plain": [
       "[0.008264378378378385, 0.00199, 0.00432, 0.00697, 0.011, 0.0339]"
      ]
     },
     "execution_count": 21,
     "metadata": {},
     "output_type": "execute_result"
    }
   ],
   "source": [
    "r['f1_stats'][0]"
   ]
  },
  {
   "cell_type": "code",
   "execution_count": 24,
   "metadata": {
    "ExecuteTime": {
     "end_time": "2022-10-04T09:50:00.985450Z",
     "start_time": "2022-10-04T09:50:00.980732Z"
    }
   },
   "outputs": [
    {
     "data": {
      "text/plain": [
       "('transcript', 'position', 'k-mer bases')"
      ]
     },
     "execution_count": 24,
     "metadata": {},
     "output_type": "execute_result"
    }
   ],
   "source": [
    "tuple(r.columns[:3])"
   ]
  },
  {
   "cell_type": "code",
   "execution_count": 2,
   "metadata": {
    "ExecuteTime": {
     "end_time": "2022-10-06T09:20:25.406161Z",
     "start_time": "2022-10-06T09:20:25.394639Z"
    }
   },
   "outputs": [],
   "source": [
    "label_path = \"../data/data.info\""
   ]
  },
  {
   "cell_type": "code",
   "execution_count": 3,
   "metadata": {
    "ExecuteTime": {
     "end_time": "2022-10-06T09:21:11.810224Z",
     "start_time": "2022-10-06T09:21:11.779037Z"
    }
   },
   "outputs": [],
   "source": [
    "with open(label_path, \"r\") as file:\n",
    "    lines=file.readlines()"
   ]
  },
  {
   "cell_type": "code",
   "execution_count": 10,
   "metadata": {
    "ExecuteTime": {
     "end_time": "2022-10-06T09:26:24.121500Z",
     "start_time": "2022-10-06T09:26:23.879712Z"
    }
   },
   "outputs": [],
   "source": [
    "q=list(map(lambda x : x.replace(\"\\n\", \"\"), lines))\n",
    "q=list(map(lambda x : x.split(\",\"), q))"
   ]
  },
  {
   "cell_type": "code",
   "execution_count": 13,
   "metadata": {
    "ExecuteTime": {
     "end_time": "2022-10-06T09:28:20.745536Z",
     "start_time": "2022-10-06T09:28:20.706773Z"
    }
   },
   "outputs": [],
   "source": [
    "df = pd.DataFrame(q)\n",
    "new_header = df.iloc[0] #grab the first row for the header\n",
    "df = df[1:] #take the data less the header row\n",
    "df.columns = new_header #set the header row as the df header"
   ]
  },
  {
   "cell_type": "code",
   "execution_count": 14,
   "metadata": {
    "ExecuteTime": {
     "end_time": "2022-10-06T09:28:22.232209Z",
     "start_time": "2022-10-06T09:28:22.213234Z"
    }
   },
   "outputs": [
    {
     "data": {
      "text/html": [
       "<div>\n",
       "<style scoped>\n",
       "    .dataframe tbody tr th:only-of-type {\n",
       "        vertical-align: middle;\n",
       "    }\n",
       "\n",
       "    .dataframe tbody tr th {\n",
       "        vertical-align: top;\n",
       "    }\n",
       "\n",
       "    .dataframe thead th {\n",
       "        text-align: right;\n",
       "    }\n",
       "</style>\n",
       "<table border=\"1\" class=\"dataframe\">\n",
       "  <thead>\n",
       "    <tr style=\"text-align: right;\">\n",
       "      <th></th>\n",
       "      <th>gene_id</th>\n",
       "      <th>transcript_id</th>\n",
       "      <th>transcript_position</th>\n",
       "      <th>label</th>\n",
       "    </tr>\n",
       "  </thead>\n",
       "  <tbody>\n",
       "    <tr>\n",
       "      <th>1</th>\n",
       "      <td>ENSG00000004059</td>\n",
       "      <td>ENST00000000233</td>\n",
       "      <td>244</td>\n",
       "      <td>0</td>\n",
       "    </tr>\n",
       "    <tr>\n",
       "      <th>2</th>\n",
       "      <td>ENSG00000004059</td>\n",
       "      <td>ENST00000000233</td>\n",
       "      <td>261</td>\n",
       "      <td>0</td>\n",
       "    </tr>\n",
       "    <tr>\n",
       "      <th>3</th>\n",
       "      <td>ENSG00000004059</td>\n",
       "      <td>ENST00000000233</td>\n",
       "      <td>316</td>\n",
       "      <td>0</td>\n",
       "    </tr>\n",
       "    <tr>\n",
       "      <th>4</th>\n",
       "      <td>ENSG00000004059</td>\n",
       "      <td>ENST00000000233</td>\n",
       "      <td>332</td>\n",
       "      <td>0</td>\n",
       "    </tr>\n",
       "    <tr>\n",
       "      <th>5</th>\n",
       "      <td>ENSG00000004059</td>\n",
       "      <td>ENST00000000233</td>\n",
       "      <td>368</td>\n",
       "      <td>0</td>\n",
       "    </tr>\n",
       "    <tr>\n",
       "      <th>...</th>\n",
       "      <td>...</td>\n",
       "      <td>...</td>\n",
       "      <td>...</td>\n",
       "      <td>...</td>\n",
       "    </tr>\n",
       "    <tr>\n",
       "      <th>121834</th>\n",
       "      <td>ENSG00000167747</td>\n",
       "      <td>ENST00000641834</td>\n",
       "      <td>1348</td>\n",
       "      <td>1</td>\n",
       "    </tr>\n",
       "    <tr>\n",
       "      <th>121835</th>\n",
       "      <td>ENSG00000167747</td>\n",
       "      <td>ENST00000641834</td>\n",
       "      <td>1429</td>\n",
       "      <td>0</td>\n",
       "    </tr>\n",
       "    <tr>\n",
       "      <th>121836</th>\n",
       "      <td>ENSG00000167747</td>\n",
       "      <td>ENST00000641834</td>\n",
       "      <td>1531</td>\n",
       "      <td>1</td>\n",
       "    </tr>\n",
       "    <tr>\n",
       "      <th>121837</th>\n",
       "      <td>ENSG00000167747</td>\n",
       "      <td>ENST00000641834</td>\n",
       "      <td>1537</td>\n",
       "      <td>0</td>\n",
       "    </tr>\n",
       "    <tr>\n",
       "      <th>121838</th>\n",
       "      <td>ENSG00000167747</td>\n",
       "      <td>ENST00000641834</td>\n",
       "      <td>1693</td>\n",
       "      <td>0</td>\n",
       "    </tr>\n",
       "  </tbody>\n",
       "</table>\n",
       "<p>121838 rows × 4 columns</p>\n",
       "</div>"
      ],
      "text/plain": [
       "0               gene_id    transcript_id transcript_position label\n",
       "1       ENSG00000004059  ENST00000000233                 244     0\n",
       "2       ENSG00000004059  ENST00000000233                 261     0\n",
       "3       ENSG00000004059  ENST00000000233                 316     0\n",
       "4       ENSG00000004059  ENST00000000233                 332     0\n",
       "5       ENSG00000004059  ENST00000000233                 368     0\n",
       "...                 ...              ...                 ...   ...\n",
       "121834  ENSG00000167747  ENST00000641834                1348     1\n",
       "121835  ENSG00000167747  ENST00000641834                1429     0\n",
       "121836  ENSG00000167747  ENST00000641834                1531     1\n",
       "121837  ENSG00000167747  ENST00000641834                1537     0\n",
       "121838  ENSG00000167747  ENST00000641834                1693     0\n",
       "\n",
       "[121838 rows x 4 columns]"
      ]
     },
     "execution_count": 14,
     "metadata": {},
     "output_type": "execute_result"
    }
   ],
   "source": [
    "df"
   ]
  },
  {
   "cell_type": "code",
   "execution_count": 18,
   "metadata": {
    "ExecuteTime": {
     "end_time": "2022-10-06T09:33:28.728696Z",
     "start_time": "2022-10-06T09:33:28.725061Z"
    }
   },
   "outputs": [],
   "source": [
    "import sys\n",
    "tmp = \"/Users/carelchay/Desktop/School/Modules/DSA4262/Project 2/scripts\"\n",
    "if tmp not in sys.path:\n",
    "    sys.path.append(tmp)"
   ]
  },
  {
   "cell_type": "code",
   "execution_count": 19,
   "metadata": {
    "ExecuteTime": {
     "end_time": "2022-10-06T09:33:30.033281Z",
     "start_time": "2022-10-06T09:33:30.029096Z"
    }
   },
   "outputs": [
    {
     "data": {
      "text/plain": [
       "['/Users/carelchay/Desktop/School/Modules/DSA4262/Project 2/notebooks',\n",
       " '/Library/Frameworks/Python.framework/Versions/3.8/lib/python38.zip',\n",
       " '/Library/Frameworks/Python.framework/Versions/3.8/lib/python3.8',\n",
       " '/Library/Frameworks/Python.framework/Versions/3.8/lib/python3.8/lib-dynload',\n",
       " '',\n",
       " '/Users/carelchay/Library/Python/3.8/lib/python/site-packages',\n",
       " '/Library/Frameworks/Python.framework/Versions/3.8/lib/python3.8/site-packages',\n",
       " '/Library/Frameworks/Python.framework/Versions/3.8/lib/python3.8/site-packages/IPython/extensions',\n",
       " '/Users/carelchay/.ipython',\n",
       " '/Users/carelchay/Desktop/School/Modules/DSA4262/Project 2/scripts']"
      ]
     },
     "execution_count": 19,
     "metadata": {},
     "output_type": "execute_result"
    }
   ],
   "source": [
    "sys.path"
   ]
  },
  {
   "cell_type": "code",
   "execution_count": 23,
   "metadata": {
    "ExecuteTime": {
     "end_time": "2022-10-06T09:34:24.607030Z",
     "start_time": "2022-10-06T09:34:24.604175Z"
    }
   },
   "outputs": [],
   "source": [
    "from getData import getData"
   ]
  },
  {
   "cell_type": "code",
   "execution_count": 24,
   "metadata": {
    "ExecuteTime": {
     "end_time": "2022-10-06T09:34:25.055568Z",
     "start_time": "2022-10-06T09:34:25.052932Z"
    }
   },
   "outputs": [],
   "source": [
    "new = getData()"
   ]
  },
  {
   "cell_type": "code",
   "execution_count": null,
   "metadata": {},
   "outputs": [],
   "source": []
  }
 ],
 "metadata": {
  "kernelspec": {
   "display_name": "Python 3.7.2 64-bit",
   "language": "python",
   "name": "python3"
  },
  "language_info": {
   "codemirror_mode": {
    "name": "ipython",
    "version": 3
   },
   "file_extension": ".py",
   "mimetype": "text/x-python",
   "name": "python",
   "nbconvert_exporter": "python",
   "pygments_lexer": "ipython3",
   "version": "3.7.2"
  },
  "toc": {
   "base_numbering": 1,
   "nav_menu": {},
   "number_sections": true,
   "sideBar": true,
   "skip_h1_title": false,
   "title_cell": "Table of Contents",
   "title_sidebar": "Contents",
   "toc_cell": false,
   "toc_position": {},
   "toc_section_display": true,
   "toc_window_display": false
  },
  "vscode": {
   "interpreter": {
    "hash": "bd824e2ddad6d40478d200208cfedf262e28e705a5cad5e713fd0ef5d6b463b3"
   }
  }
 },
 "nbformat": 4,
 "nbformat_minor": 4
}
